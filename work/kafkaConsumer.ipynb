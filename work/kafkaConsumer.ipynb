{
 "cells": [
  {
   "cell_type": "code",
   "execution_count": 58,
   "id": "universal-surveillance",
   "metadata": {},
   "outputs": [
    {
     "name": "stdout",
     "output_type": "stream",
     "text": [
      "Requirement already satisfied: kafka-python in /opt/conda/lib/python3.8/site-packages (2.0.2)\r\n"
     ]
    }
   ],
   "source": [
    "!pip install kafka-python\n",
    "import json\n",
    "from pyspark.sql import SparkSession\n",
    "import pandas as pd\n",
    "from kafka import KafkaConsumer\n",
    "import csv"
   ]
  },
  {
   "cell_type": "code",
   "execution_count": 59,
   "id": "closed-cause",
   "metadata": {},
   "outputs": [],
   "source": [
    "spark = SparkSession.builder.getOrCreate()"
   ]
  },
  {
   "cell_type": "code",
   "execution_count": 60,
   "id": "signed-belize",
   "metadata": {},
   "outputs": [],
   "source": [
    "c = KafkaConsumer(\"netflix_movies\", bootstrap_servers=['kafka:9093'], api_version=(2,6,0))"
   ]
  },
  {
   "cell_type": "code",
   "execution_count": 61,
   "id": "adequate-virgin",
   "metadata": {},
   "outputs": [],
   "source": [
    "cheminn = \"./data/Movies/movies\""
   ]
  },
  {
   "cell_type": "code",
   "execution_count": 62,
   "id": "brief-virus",
   "metadata": {},
   "outputs": [],
   "source": [
    "columns = ['show_id', 'type', 'title', 'director', 'cast', 'country', 'date_added', 'release_year', 'rating', 'duration', 'listed_in', 'description']"
   ]
  },
  {
   "cell_type": "code",
   "execution_count": 63,
   "id": "frank-romance",
   "metadata": {},
   "outputs": [],
   "source": [
    "def dict_to_csv(dicti, colones, chemin):\n",
    "    with open(chemin+\".csv\", 'a') as csvfile: \n",
    "        writer = csv.DictWriter(csvfile, fieldnames=colones) \n",
    "        writer.writerows([dicti])\n",
    "def process_msg(msg):\n",
    "    dict_to_csv(json.loads(msg.value), columns, cheminn)\n",
    "    update_chemin(cheminn+\".csv\", iterationn)"
   ]
  },
  {
   "cell_type": "code",
   "execution_count": null,
   "id": "retired-newcastle",
   "metadata": {},
   "outputs": [],
   "source": [
    "for msg in c:\n",
    "    process_msg(msg)"
   ]
  },
  {
   "cell_type": "code",
   "execution_count": null,
   "id": "brazilian-layer",
   "metadata": {},
   "outputs": [],
   "source": []
  }
 ],
 "metadata": {
  "kernelspec": {
   "display_name": "Python 3",
   "language": "python",
   "name": "python3"
  },
  "language_info": {
   "codemirror_mode": {
    "name": "ipython",
    "version": 3
   },
   "file_extension": ".py",
   "mimetype": "text/x-python",
   "name": "python",
   "nbconvert_exporter": "python",
   "pygments_lexer": "ipython3",
   "version": "3.8.6"
  }
 },
 "nbformat": 4,
 "nbformat_minor": 5
}
