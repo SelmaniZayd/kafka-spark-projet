{
 "cells": [
  {
   "cell_type": "code",
   "execution_count": null,
   "id": "universal-surveillance",
   "metadata": {},
   "outputs": [],
   "source": [
    "import json\n",
    "from pyspark.sql import SparkSession\n",
    "import pandas as pd\n",
    "from kafka import KafkaConsumer\n",
    "import csv"
   ]
  },
  {
   "cell_type": "code",
   "execution_count": null,
   "id": "closed-cause",
   "metadata": {},
   "outputs": [],
   "source": [
    "spark = SparkSession.builder.getOrCreate()"
   ]
  },
  {
   "cell_type": "code",
   "execution_count": null,
   "id": "signed-belize",
   "metadata": {},
   "outputs": [],
   "source": [
    "c = KafkaConsumer(\"netflix_movies\", bootstrap_servers=['kafka:9093'], api_version=(2,6,0))"
   ]
  },
  {
   "cell_type": "code",
   "execution_count": null,
   "id": "adequate-virgin",
   "metadata": {},
   "outputs": [],
   "source": [
    "cheminn = \"./data/Movies/movies\""
   ]
  },
  {
   "cell_type": "code",
   "execution_count": null,
   "id": "brief-virus",
   "metadata": {},
   "outputs": [],
   "source": [
    "columns = ['show_id', 'type', 'title', 'director', 'cast', 'country', 'date_added', 'release_year', 'rating', 'duration', 'listed_in', 'description']"
   ]
  },
  {
   "cell_type": "code",
   "execution_count": null,
   "id": "frank-romance",
   "metadata": {},
   "outputs": [],
   "source": [
    "def dict_to_csv(dicti, colones, chemin):\n",
    "    with open(chemin+\".csv\", 'a') as csvfile: \n",
    "        writer = csv.DictWriter(csvfile, fieldnames=colones) \n",
    "        writer.writerows([dicti])\n",
    "def process_msg(msg):\n",
    "    print(\"loaded\")\n",
    "    dict_to_csv(json.loads(msg.value), columns, cheminn)"
   ]
  },
  {
   "cell_type": "code",
   "execution_count": null,
   "id": "retired-newcastle",
   "metadata": {},
   "outputs": [],
   "source": [
    "for msg in c:\n",
    "    process_msg(msg)"
   ]
  }
 ],
 "metadata": {
  "kernelspec": {
   "display_name": "Python 3",
   "language": "python",
   "name": "python3"
  },
  "language_info": {
   "codemirror_mode": {
    "name": "ipython",
    "version": 3
   },
   "file_extension": ".py",
   "mimetype": "text/x-python",
   "name": "python",
   "nbconvert_exporter": "python",
   "pygments_lexer": "ipython3",
   "version": "3.8.6"
  }
 },
 "nbformat": 4,
 "nbformat_minor": 5
}
