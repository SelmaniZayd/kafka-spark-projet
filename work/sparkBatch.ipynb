{
 "cells": [
  {
   "cell_type": "code",
   "execution_count": 152,
   "id": "upper-christopher",
   "metadata": {},
   "outputs": [],
   "source": [
    "from pyspark.sql import SparkSession\n",
    "import pandas as pd\n",
    "from pyspark.sql.types import StructType, StructField, StringType\n",
    "import pyspark.sql.functions as F\n",
    "import seaborn as sns\n",
    "import matplotlib.pyplot as plt\n",
    "%matplotlib inline\n",
    "plt.rcParams[\"figure.figsize\"] = (20,8)"
   ]
  },
  {
   "cell_type": "code",
   "execution_count": 93,
   "id": "roman-kennedy",
   "metadata": {},
   "outputs": [],
   "source": [
    "spark = SparkSession.builder.getOrCreate()\n",
    "imdb_titles = spark.read.option(\"sep\", \"\\t\").option(\"header\",\"true\").csv(\"hdfs://namenode:9000/data/imdb/akas.tsv\")\n",
    "imdb_rating = spark.read.option(\"sep\", \"\\t\").option(\"header\",\"true\").csv(\"hdfs://namenode:9000/data/imdb/data.tsv\")\n",
    "imdb_basics = spark.read.option(\"sep\", \"\\t\").option(\"header\",\"true\").csv(\"hdfs://namenode:9000/data/imdb/basics.tsv\")\n",
    "\n",
    "imdb = imdb_rating.select(F.col(\"tconst\").alias(\"rat_tconst\"), F.col(\"averageRating\")) \\\n",
    ".join(imdb_titles.select(F.col(\"titleId\"), F.col(\"title\").alias(\"t_title\")), F.col(\"rat_tconst\") == F.col(\"titleId\")) \\\n",
    ".join(imdb_basics.select(F.col(\"tconst\").alias(\"bas_tconst\"), F.col(\"startYear\"), F.col(\"genres\")), F.col(\"rat_tconst\") == F.col(\"bas_tconst\"))"
   ]
  },
  {
   "cell_type": "code",
   "execution_count": 31,
   "id": "eleven-stephen",
   "metadata": {},
   "outputs": [],
   "source": [
    "chemin_movies = \"./data/Movies/\""
   ]
  },
  {
   "cell_type": "code",
   "execution_count": 32,
   "id": "racial-tsunami",
   "metadata": {},
   "outputs": [],
   "source": [
    "schema = StructType([\n",
    "    StructField(\"show_id\", StringType(), True),\n",
    "    StructField(\"type\", StringType(), True),\n",
    "    StructField(\"title\", StringType(), True),\n",
    "    StructField(\"director\", StringType(), True),\n",
    "    StructField(\"cast\", StringType(), True),\n",
    "    StructField(\"country\", StringType(), True),\n",
    "    StructField(\"date_added\", StringType(), True),\n",
    "    StructField(\"release_year\", StringType(), True),\n",
    "    StructField(\"rating\", StringType(), True),\n",
    "    StructField(\"duration\", StringType(), True),\n",
    "    StructField(\"listed_in\", StringType(), True),\n",
    "    StructField(\"description\", StringType(), True)])"
   ]
  },
  {
   "cell_type": "markdown",
   "id": "altered-electricity",
   "metadata": {},
   "source": [
    "## Début du Batch"
   ]
  },
  {
   "cell_type": "code",
   "execution_count": 166,
   "id": "large-universe",
   "metadata": {},
   "outputs": [],
   "source": [
    "movies = spark.read.csv(chemin_movies, header=False, schema=schema)"
   ]
  },
  {
   "cell_type": "code",
   "execution_count": 167,
   "id": "fifteen-bottom",
   "metadata": {},
   "outputs": [
    {
     "data": {
      "text/plain": [
       "1918"
      ]
     },
     "execution_count": 167,
     "metadata": {},
     "output_type": "execute_result"
    }
   ],
   "source": [
    "movies.count()"
   ]
  },
  {
   "cell_type": "code",
   "execution_count": 164,
   "id": "single-engineering",
   "metadata": {},
   "outputs": [
    {
     "data": {
      "text/plain": [
       "19549634"
      ]
     },
     "execution_count": 164,
     "metadata": {},
     "output_type": "execute_result"
    }
   ],
   "source": [
    "imdb_titles.count()"
   ]
  },
  {
   "cell_type": "code",
   "execution_count": 165,
   "id": "remarkable-guyana",
   "metadata": {},
   "outputs": [
    {
     "data": {
      "text/plain": [
       "993821"
      ]
     },
     "execution_count": 165,
     "metadata": {},
     "output_type": "execute_result"
    }
   ],
   "source": [
    "imdb_rating.count()"
   ]
  },
  {
   "cell_type": "code",
   "execution_count": 94,
   "id": "brazilian-jerusalem",
   "metadata": {},
   "outputs": [
    {
     "name": "stdout",
     "output_type": "stream",
     "text": [
      "root\n",
      " |-- rat_tconst: string (nullable = true)\n",
      " |-- averageRating: string (nullable = true)\n",
      " |-- titleId: string (nullable = true)\n",
      " |-- t_title: string (nullable = true)\n",
      " |-- bas_tconst: string (nullable = true)\n",
      " |-- startYear: string (nullable = true)\n",
      " |-- genres: string (nullable = true)\n",
      "\n"
     ]
    }
   ],
   "source": [
    "imdb.printSchema()"
   ]
  },
  {
   "cell_type": "code",
   "execution_count": 102,
   "id": "married-cleaners",
   "metadata": {},
   "outputs": [],
   "source": [
    "movies_imdb = movies.join(imdb, (movies.title == imdb.t_title) & (movies.release_year == imdb.startYear), how=\"inner\")"
   ]
  },
  {
   "cell_type": "code",
   "execution_count": 96,
   "id": "martial-retailer",
   "metadata": {},
   "outputs": [
    {
     "data": {
      "text/plain": [
       "3080"
      ]
     },
     "execution_count": 96,
     "metadata": {},
     "output_type": "execute_result"
    }
   ],
   "source": [
    "movies_imdb.count()"
   ]
  },
  {
   "cell_type": "code",
   "execution_count": 168,
   "id": "suspended-justice",
   "metadata": {},
   "outputs": [
    {
     "name": "stdout",
     "output_type": "stream",
     "text": [
      "-RECORD 0----------------------------\n",
      " show_id      | s1                   \n",
      " type         | TV Show              \n",
      " title        | 3%                   \n",
      " director     | null                 \n",
      " cast         | João Miguel, Bian... \n",
      " country      | Brazil               \n",
      " date_added   | August 14, 2020      \n",
      " release_year | 2020                 \n",
      " rating       | TV-MA                \n",
      " duration     | 4 Seasons            \n",
      " listed_in    | International TV ... \n",
      " description  | In a future where... \n",
      "-RECORD 1----------------------------\n",
      " show_id      | s2                   \n",
      " type         | Movie                \n",
      " title        | 7:19                 \n",
      " director     | Jorge Michel Grau    \n",
      " cast         | Demián Bichir, Hé... \n",
      " country      | Mexico               \n",
      " date_added   | December 23, 2016    \n",
      " release_year | 2016                 \n",
      " rating       | TV-MA                \n",
      " duration     | 93 min               \n",
      " listed_in    | Dramas, Internati... \n",
      " description  | After a devastati... \n",
      "-RECORD 2----------------------------\n",
      " show_id      | s3                   \n",
      " type         | Movie                \n",
      " title        | 23:59                \n",
      " director     | Gilbert Chan         \n",
      " cast         | Tedd Chan, Stella... \n",
      " country      | Singapore            \n",
      " date_added   | December 20, 2018    \n",
      " release_year | 2011                 \n",
      " rating       | R                    \n",
      " duration     | 78 min               \n",
      " listed_in    | Horror Movies, In... \n",
      " description  | When an army recr... \n",
      "-RECORD 3----------------------------\n",
      " show_id      | s4                   \n",
      " type         | Movie                \n",
      " title        | 9                    \n",
      " director     | Shane Acker          \n",
      " cast         | Elijah Wood, John... \n",
      " country      | United States        \n",
      " date_added   | November 16, 2017    \n",
      " release_year | 2009                 \n",
      " rating       | PG-13                \n",
      " duration     | 80 min               \n",
      " listed_in    | Action & Adventur... \n",
      " description  | In a postapocalyp... \n",
      "-RECORD 4----------------------------\n",
      " show_id      | s5                   \n",
      " type         | Movie                \n",
      " title        | 21                   \n",
      " director     | Robert Luketic       \n",
      " cast         | Jim Sturgess, Kev... \n",
      " country      | United States        \n",
      " date_added   | January 1, 2020      \n",
      " release_year | 2008                 \n",
      " rating       | PG-13                \n",
      " duration     | 123 min              \n",
      " listed_in    | Dramas               \n",
      " description  | A brilliant group... \n",
      "-RECORD 5----------------------------\n",
      " show_id      | s6                   \n",
      " type         | TV Show              \n",
      " title        | 46                   \n",
      " director     | Serdar Akar          \n",
      " cast         | Erdal Beşikçioğlu... \n",
      " country      | Turkey               \n",
      " date_added   | July 1, 2017         \n",
      " release_year | 2016                 \n",
      " rating       | TV-MA                \n",
      " duration     | 1 Season             \n",
      " listed_in    | International TV ... \n",
      " description  | A genetics profes... \n",
      "-RECORD 6----------------------------\n",
      " show_id      | s7                   \n",
      " type         | Movie                \n",
      " title        | 122                  \n",
      " director     | Yasir Al Yasiri      \n",
      " cast         | Amina Khalil, Ahm... \n",
      " country      | Egypt                \n",
      " date_added   | June 1, 2020         \n",
      " release_year | 2019                 \n",
      " rating       | TV-MA                \n",
      " duration     | 95 min               \n",
      " listed_in    | Horror Movies, In... \n",
      " description  | After an awful ac... \n",
      "-RECORD 7----------------------------\n",
      " show_id      | s8                   \n",
      " type         | Movie                \n",
      " title        | 187                  \n",
      " director     | Kevin Reynolds       \n",
      " cast         | Samuel L. Jackson... \n",
      " country      | United States        \n",
      " date_added   | November 1, 2019     \n",
      " release_year | 1997                 \n",
      " rating       | R                    \n",
      " duration     | 119 min              \n",
      " listed_in    | Dramas               \n",
      " description  | After one of his ... \n",
      "-RECORD 8----------------------------\n",
      " show_id      | s9                   \n",
      " type         | Movie                \n",
      " title        | 706                  \n",
      " director     | Shravan Kumar        \n",
      " cast         | Divya Dutta, Atul... \n",
      " country      | India                \n",
      " date_added   | April 1, 2019        \n",
      " release_year | 2019                 \n",
      " rating       | TV-14                \n",
      " duration     | 118 min              \n",
      " listed_in    | Horror Movies, In... \n",
      " description  | When a doctor goe... \n",
      "-RECORD 9----------------------------\n",
      " show_id      | s10                  \n",
      " type         | Movie                \n",
      " title        | 1920                 \n",
      " director     | Vikram Bhatt         \n",
      " cast         | Rajneesh Duggal, ... \n",
      " country      | India                \n",
      " date_added   | December 15, 2017    \n",
      " release_year | 2008                 \n",
      " rating       | TV-MA                \n",
      " duration     | 143 min              \n",
      " listed_in    | Horror Movies, In... \n",
      " description  | An architect and ... \n",
      "-RECORD 10---------------------------\n",
      " show_id      | s11                  \n",
      " type         | Movie                \n",
      " title        | 1922                 \n",
      " director     | Zak Hilditch         \n",
      " cast         | Thomas Jane, Moll... \n",
      " country      | United States        \n",
      " date_added   | October 20, 2017     \n",
      " release_year | 2017                 \n",
      " rating       | TV-MA                \n",
      " duration     | 103 min              \n",
      " listed_in    | Dramas, Thrillers    \n",
      " description  | A farmer pens a c... \n",
      "-RECORD 11---------------------------\n",
      " show_id      | s12                  \n",
      " type         | TV Show              \n",
      " title        | 1983                 \n",
      " director     | null                 \n",
      " cast         | Robert Więckiewic... \n",
      " country      | Poland, United St... \n",
      " date_added   | November 30, 2018    \n",
      " release_year | 2018                 \n",
      " rating       | TV-MA                \n",
      " duration     | 1 Season             \n",
      " listed_in    | Crime TV Shows, I... \n",
      " description  | In this dark alt-... \n",
      "-RECORD 12---------------------------\n",
      " show_id      | s13                  \n",
      " type         | TV Show              \n",
      " title        | 1994                 \n",
      " director     | Diego Enrique Osorno \n",
      " cast         | null                 \n",
      " country      | Mexico               \n",
      " date_added   | May 17, 2019         \n",
      " release_year | 2019                 \n",
      " rating       | TV-MA                \n",
      " duration     | 1 Season             \n",
      " listed_in    | Crime TV Shows, D... \n",
      " description  | Archival video an... \n",
      "-RECORD 13---------------------------\n",
      " show_id      | s14                  \n",
      " type         | Movie                \n",
      " title        | 2,215                \n",
      " director     | Nottapon Boonprakob  \n",
      " cast         | Artiwara Kongmalai   \n",
      " country      | Thailand             \n",
      " date_added   | March 1, 2019        \n",
      " release_year | 2018                 \n",
      " rating       | TV-MA                \n",
      " duration     | 89 min               \n",
      " listed_in    | Documentaries, In... \n",
      " description  | This intimate doc... \n",
      "-RECORD 14---------------------------\n",
      " show_id      | s15                  \n",
      " type         | Movie                \n",
      " title        | 3022                 \n",
      " director     | John Suits           \n",
      " cast         | Omar Epps, Kate W... \n",
      " country      | United States        \n",
      " date_added   | March 19, 2020       \n",
      " release_year | 2019                 \n",
      " rating       | R                    \n",
      " duration     | 91 min               \n",
      " listed_in    | Independent Movie... \n",
      " description  | Stranded when the... \n",
      "-RECORD 15---------------------------\n",
      " show_id      | s16                  \n",
      " type         | Movie                \n",
      " title        | Oct-01               \n",
      " director     | Kunle Afolayan       \n",
      " cast         | Sadiq Daba, David... \n",
      " country      | Nigeria              \n",
      " date_added   | September 1, 2019    \n",
      " release_year | 2014                 \n",
      " rating       | TV-14                \n",
      " duration     | 149 min              \n",
      " listed_in    | Dramas, Internati... \n",
      " description  | Against the backd... \n",
      "-RECORD 16---------------------------\n",
      " show_id      | s17                  \n",
      " type         | TV Show              \n",
      " title        | Feb-09               \n",
      " director     | null                 \n",
      " cast         | Shahd El Yaseen, ... \n",
      " country      | null                 \n",
      " date_added   | March 20, 2019       \n",
      " release_year | 2018                 \n",
      " rating       | TV-14                \n",
      " duration     | 1 Season             \n",
      " listed_in    | International TV ... \n",
      " description  | As a psychology p... \n",
      "-RECORD 17---------------------------\n",
      " show_id      | s18                  \n",
      " type         | Movie                \n",
      " title        | 22-Jul               \n",
      " director     | Paul Greengrass      \n",
      " cast         | Anders Danielsen ... \n",
      " country      | Norway, Iceland, ... \n",
      " date_added   | October 10, 2018     \n",
      " release_year | 2018                 \n",
      " rating       | R                    \n",
      " duration     | 144 min              \n",
      " listed_in    | Dramas, Thrillers    \n",
      " description  | After devastating... \n",
      "-RECORD 18---------------------------\n",
      " show_id      | s19                  \n",
      " type         | Movie                \n",
      " title        | 15-Aug               \n",
      " director     | Swapnaneel Jayakar   \n",
      " cast         | Rahul Pethe, Mrun... \n",
      " country      | India                \n",
      " date_added   | March 29, 2019       \n",
      " release_year | 2019                 \n",
      " rating       | TV-14                \n",
      " duration     | 124 min              \n",
      " listed_in    | Comedies, Dramas,... \n",
      " description  | On India's Indepe... \n",
      "-RECORD 19---------------------------\n",
      " show_id      | s20                  \n",
      " type         | Movie                \n",
      " title        | '89                  \n",
      " director     | null                 \n",
      " cast         | Lee Dixon, Ian Wr... \n",
      " country      | United Kingdom       \n",
      " date_added   | May 16, 2018         \n",
      " release_year | 2017                 \n",
      " rating       | TV-PG                \n",
      " duration     | 87 min               \n",
      " listed_in    | Sports Movies        \n",
      " description  | Mixing old footag... \n",
      "only showing top 20 rows\n",
      "\n"
     ]
    }
   ],
   "source": [
    "movies.show(vertical=True)"
   ]
  },
  {
   "cell_type": "code",
   "execution_count": 97,
   "id": "guilty-practitioner",
   "metadata": {},
   "outputs": [
    {
     "name": "stdout",
     "output_type": "stream",
     "text": [
      "root\n",
      " |-- show_id: string (nullable = true)\n",
      " |-- type: string (nullable = true)\n",
      " |-- title: string (nullable = true)\n",
      " |-- director: string (nullable = true)\n",
      " |-- cast: string (nullable = true)\n",
      " |-- country: string (nullable = true)\n",
      " |-- date_added: string (nullable = true)\n",
      " |-- release_year: string (nullable = true)\n",
      " |-- rating: string (nullable = true)\n",
      " |-- duration: string (nullable = true)\n",
      " |-- listed_in: string (nullable = true)\n",
      " |-- description: string (nullable = true)\n",
      " |-- rat_tconst: string (nullable = true)\n",
      " |-- averageRating: string (nullable = true)\n",
      " |-- titleId: string (nullable = true)\n",
      " |-- t_title: string (nullable = true)\n",
      " |-- bas_tconst: string (nullable = true)\n",
      " |-- startYear: string (nullable = true)\n",
      " |-- genres: string (nullable = true)\n",
      "\n"
     ]
    }
   ],
   "source": [
    "movies_imdb.printSchema()"
   ]
  },
  {
   "cell_type": "code",
   "execution_count": 103,
   "id": "fresh-dancing",
   "metadata": {},
   "outputs": [],
   "source": [
    "movies_imdb = movies_imdb.dropDuplicates(subset=['title', 'startYear'])"
   ]
  },
  {
   "cell_type": "code",
   "execution_count": null,
   "id": "stupid-clarity",
   "metadata": {},
   "outputs": [],
   "source": []
  },
  {
   "cell_type": "code",
   "execution_count": 107,
   "id": "premium-castle",
   "metadata": {},
   "outputs": [
    {
     "name": "stdout",
     "output_type": "stream",
     "text": [
      "il y a 1041 films en bdd\n"
     ]
    }
   ],
   "source": [
    "# Nombre de films/series récupérées \n",
    "print (\"il y a \" + str(movies_imdb.count()) + \" films et series\")"
   ]
  },
  {
   "cell_type": "code",
   "execution_count": 110,
   "id": "heard-session",
   "metadata": {},
   "outputs": [
    {
     "data": {
      "text/plain": [
       "652"
      ]
     },
     "execution_count": 110,
     "metadata": {},
     "output_type": "execute_result"
    }
   ],
   "source": [
    "# Les Films tournés après 2010\n",
    "movies_imdb.filter((movies_imdb.type == 'Movie') & (movies_imdb.release_year > 2010)).count()"
   ]
  },
  {
   "cell_type": "code",
   "execution_count": 112,
   "id": "banner-angle",
   "metadata": {},
   "outputs": [
    {
     "name": "stdout",
     "output_type": "stream",
     "text": [
      "+--------------+-----+\n",
      "|       country|count|\n",
      "+--------------+-----+\n",
      "| United States|  363|\n",
      "|         India|  160|\n",
      "|United Kingdom|   45|\n",
      "+--------------+-----+\n",
      "only showing top 3 rows\n",
      "\n"
     ]
    }
   ],
   "source": [
    "# Les pays qui produit le plus de Films \n",
    "movies_imdb.groupBy('country').count().sort(F.desc(\"count\")).show(3)"
   ]
  },
  {
   "cell_type": "code",
   "execution_count": 113,
   "id": "usual-toner",
   "metadata": {},
   "outputs": [],
   "source": [
    "from pyspark.sql.functions import udf\n",
    "from pyspark.sql.types import *\n",
    "@udf(returnType = IntegerType())\n",
    "def remove_min(duration):\n",
    "    return int(duration.replace(\"min\", \"\"))\n",
    "\n",
    "@udf(returnType = IntegerType())\n",
    "def remove_season(duration):\n",
    "    splitedStr = duration.split()\n",
    "    return int(splitedStr[0])"
   ]
  },
  {
   "cell_type": "code",
   "execution_count": 116,
   "id": "outer-metadata",
   "metadata": {},
   "outputs": [
    {
     "name": "stdout",
     "output_type": "stream",
     "text": [
      "La durée moyenne des films Américains est de 91.36792452830188 minutes\n"
     ]
    }
   ],
   "source": [
    "# La durée moyenne des Films américains\n",
    "us_movies = movies_imdb.filter( (movies_imdb.country == 'United States') & (movies_imdb.type == 'Movie') )\n",
    "us_movie_formated = us_movies.withColumn(\"duration_int\", remove_min(F.col(\"duration\")))\n",
    "duration_average  = us_movie_formated.agg({\"duration_int\": \"avg\"}).collect()\n",
    "strg = str(duration_average).split(\"=\")\n",
    "print(\"La durée moyenne des films Américains est de \" + str(strg[1].replace(\")]\", \"\")) + \" minutes\")"
   ]
  },
  {
   "cell_type": "code",
   "execution_count": 117,
   "id": "apparent-attribute",
   "metadata": {},
   "outputs": [
    {
     "name": "stdout",
     "output_type": "stream",
     "text": [
      "Le nombre moyen de saison par sériee tv est de 1.2458100558659218 dans le catalogue Netflix\n"
     ]
    }
   ],
   "source": [
    "# Le nombre moyen de saison par série du catalogue Netflix\n",
    "tv_shows = movies_imdb.filter(movies_imdb.type == 'TV Show')\n",
    "tv_shows_formated = tv_shows.withColumn(\"season_int\", remove_season(F.col(\"duration\")))\n",
    "season_average  = tv_shows_formated.agg({\"season_int\": \"avg\"}).collect()\n",
    "strg = str(season_average).split(\"=\")\n",
    "print(\"Le nombre moyen de saison par sériee tv est de \" + strg[1].replace(\")]\", \"\") + \" dans le catalogue Netflix\")"
   ]
  },
  {
   "cell_type": "code",
   "execution_count": 119,
   "id": "empirical-filename",
   "metadata": {},
   "outputs": [
    {
     "name": "stdout",
     "output_type": "stream",
     "text": [
      "+-------------+-----------------+-----------------+\n",
      "|      country|min(duration_int)|max(duration_int)|\n",
      "+-------------+-----------------+-----------------+\n",
      "|United States|               24|              312|\n",
      "+-------------+-----------------+-----------------+\n",
      "\n"
     ]
    }
   ],
   "source": [
    "# min max des duration\n",
    "us_movie_formated.groupBy(\"country\").agg(F.min(\"duration_int\"), F.max(\"duration_int\")).show()"
   ]
  },
  {
   "cell_type": "code",
   "execution_count": 120,
   "id": "friendly-portrait",
   "metadata": {},
   "outputs": [],
   "source": [
    "only_movies = movies_imdb.filter(movies_imdb.type == 'Movie')\n",
    "only_series = movies_imdb.filter(movies_imdb.type == 'TV Show')"
   ]
  },
  {
   "cell_type": "code",
   "execution_count": 121,
   "id": "heated-registrar",
   "metadata": {},
   "outputs": [],
   "source": [
    "only_movies = only_movies.withColumn(\"duration_int\", remove_min(F.col(\"duration\")))\n",
    "only_series = only_series.withColumn(\"season_int\", remove_season(F.col(\"duration\")))"
   ]
  },
  {
   "cell_type": "code",
   "execution_count": 147,
   "id": "future-vintage",
   "metadata": {},
   "outputs": [],
   "source": [
    "p1 = only_series.groupBy(\"country\").agg(F.max(\"season_int\")).sort(F.desc(\"max(season_int)\"))\n",
    "pd1 = p1.toPandas()"
   ]
  },
  {
   "cell_type": "code",
   "execution_count": 154,
   "id": "tamil-natural",
   "metadata": {},
   "outputs": [
    {
     "data": {
      "text/plain": [
       "<AxesSubplot:xlabel='country'>"
      ]
     },
     "execution_count": 154,
     "metadata": {},
     "output_type": "execute_result"
    },
    {
     "data": {
      "image/png": "[encoded data removed]",
      "text/plain": [
       "<Figure size 1440x576 with 1 Axes>"
      ]
     },
     "metadata": {
      "needs_background": "light"
     },
     "output_type": "display_data"
    }
   ],
   "source": [
    "# pays qui font des series avec trop de saisons\n",
    "pd1.iloc[0:10].plot.bar(x=\"country\")"
   ]
  },
  {
   "cell_type": "code",
   "execution_count": 124,
   "id": "duplicate-england",
   "metadata": {},
   "outputs": [
    {
     "name": "stdout",
     "output_type": "stream",
     "text": [
      "+--------------------+-----------------+-----------------+\n",
      "|             country|min(duration_int)|max(duration_int)|\n",
      "+--------------------+-----------------+-----------------+\n",
      "|      India, Germany|              104|              104|\n",
      "|  Philippines, Qatar|              115|              115|\n",
      "|Hong Kong, China,...|              113|              113|\n",
      "|  Germany, Sri Lanka|               87|               87|\n",
      "|Brazil, France, G...|              130|              130|\n",
      "|Turkey, United St...|              112|              112|\n",
      "|United Kingdom, C...|              100|              100|\n",
      "|       Turkey, India|              107|              107|\n",
      "|     France, Belgium|               81|              112|\n",
      "|         Philippines|              103|              132|\n",
      "|United States, Au...|               81|               81|\n",
      "|China, United States|              101|              101|\n",
      "|Argentina, Brazil...|               96|               96|\n",
      "|           Singapore|               78|               78|\n",
      "|            Malaysia|               81|               81|\n",
      "|              Turkey|               97|              153|\n",
      "|Hong Kong, Icelan...|               96|               96|\n",
      "|  Uruguay, Argentina|               88|               88|\n",
      "|United States, Fr...|              117|              117|\n",
      "|France, Belgium, ...|              180|              180|\n",
      "+--------------------+-----------------+-----------------+\n",
      "only showing top 20 rows\n",
      "\n"
     ]
    }
   ],
   "source": [
    "only_movies.groupBy(\"country\").agg(F.min(\"duration_int\"), F.max(\"duration_int\")).show()"
   ]
  },
  {
   "cell_type": "code",
   "execution_count": 142,
   "id": "united-teens",
   "metadata": {},
   "outputs": [],
   "source": [
    "p2 = only_movies.groupBy(\"country\").count().sort(F.desc(\"count\"))\n",
    "pd2 = p2.toPandas()"
   ]
  },
  {
   "cell_type": "code",
   "execution_count": 153,
   "id": "seventh-mongolia",
   "metadata": {},
   "outputs": [
    {
     "data": {
      "text/plain": [
       "<AxesSubplot:xlabel='country'>"
      ]
     },
     "execution_count": 153,
     "metadata": {},
     "output_type": "execute_result"
    },
    {
     "data": {
      "image/png": "[encoded data removed]",
      "text/plain": [
       "<Figure size 1440x576 with 1 Axes>"
      ]
     },
     "metadata": {
      "needs_background": "light"
     },
     "output_type": "display_data"
    }
   ],
   "source": [
    "pd2.iloc[0:10].plot.line(x=\"country\", y=\"count\")"
   ]
  },
  {
   "cell_type": "code",
   "execution_count": 162,
   "id": "expressed-scheme",
   "metadata": {},
   "outputs": [
    {
     "name": "stdout",
     "output_type": "stream",
     "text": [
      "+--------------------+------------------+\n",
      "|               title|max(averageRating)|\n",
      "+--------------------+------------------+\n",
      "|Care of Kancharap...|               9.1|\n",
      "|          Death Note|               8.8|\n",
      "|               Ayana|               8.8|\n",
      "|         Be Here Now|               8.7|\n",
      "|Bill Hicks: Relen...|               8.7|\n",
      "|              Desire|               8.6|\n",
      "|         City of God|               8.6|\n",
      "|Bill Hicks: Revel...|               8.6|\n",
      "|  American History X|               8.5|\n",
      "|Dave Chappelle: S...|               8.5|\n",
      "+--------------------+------------------+\n",
      "only showing top 10 rows\n",
      "\n"
     ]
    }
   ],
   "source": [
    "only_movies.groupBy(\"title\").agg(F.max(\"averageRating\")).sort(F.desc(\"max(averageRating)\")).show(10)"
   ]
  },
  {
   "cell_type": "code",
   "execution_count": 163,
   "id": "thermal-phrase",
   "metadata": {},
   "outputs": [
    {
     "name": "stdout",
     "output_type": "stream",
     "text": [
      "+--------------------+------------------+\n",
      "|               title|max(averageRating)|\n",
      "+--------------------+------------------+\n",
      "|      Blue Planet II|               9.4|\n",
      "|     College Romance|               9.2|\n",
      "|              Africa|               9.0|\n",
      "|     Attack on Titan|               8.8|\n",
      "|      Dave Chappelle|               8.7|\n",
      "|         Brotherhood|               8.7|\n",
      "| A Lion in the House|               8.7|\n",
      "|       Ashes of Love|               8.5|\n",
      "|A Little Thing Ca...|               8.5|\n",
      "|         Delhi Crime|               8.5|\n",
      "+--------------------+------------------+\n",
      "only showing top 10 rows\n",
      "\n"
     ]
    }
   ],
   "source": [
    "only_series.groupBy(\"title\").agg(F.max(\"averageRating\")).sort(F.desc(\"max(averageRating)\")).show(10)"
   ]
  },
  {
   "cell_type": "code",
   "execution_count": null,
   "id": "established-enlargement",
   "metadata": {},
   "outputs": [],
   "source": []
  }
 ],
 "metadata": {
  "kernelspec": {
   "display_name": "Python 3",
   "language": "python",
   "name": "python3"
  },
  "language_info": {
   "codemirror_mode": {
    "name": "ipython",
    "version": 3
   },
   "file_extension": ".py",
   "mimetype": "text/x-python",
   "name": "python",
   "nbconvert_exporter": "python",
   "pygments_lexer": "ipython3",
   "version": "3.8.6"
  }
 },
 "nbformat": 4,
 "nbformat_minor": 5
}
