{
 "cells": [
  {
   "cell_type": "markdown",
   "metadata": {},
   "source": [
    "# 0) Chargement de spark"
   ]
  },
  {
   "cell_type": "code",
   "execution_count": 3,
   "metadata": {},
   "outputs": [],
   "source": [
    "from pyspark.sql import SparkSession\n",
    "spark = SparkSession.builder.getOrCreate()"
   ]
  },
  {
   "cell_type": "markdown",
   "metadata": {},
   "source": [
    "# 1) Lire de la donnée"
   ]
  },
  {
   "cell_type": "markdown",
   "metadata": {},
   "source": [
    "## 1.1) Lecture brute\n",
    "\n",
    "Chargez le fichier ville_1.csv dans une variable nommée df.\n",
    "\n",
    "Vous pouvez afficher votre donnée en utilisant la méthode take() ou la methode collect() de l'objet pyspark DataFrame (attention appeler collect() sur un dataframe est déconseillé si vous avez du vrai big data).\n",
    "\n",
    "L'objet possède aussi un attribut appelé dtypes, appelez cet attribut pour obtenir la liste des colonnes et leur type."
   ]
  },
  {
   "cell_type": "code",
   "execution_count": 18,
   "metadata": {
    "scrolled": false
   },
   "outputs": [
    {
     "data": {
      "text/plain": [
       "[('_c0', 'string'),\n",
       " ('_c1', 'string'),\n",
       " ('_c2', 'string'),\n",
       " ('_c3', 'string'),\n",
       " ('_c4', 'string'),\n",
       " ('_c5', 'string'),\n",
       " ('_c6', 'string'),\n",
       " ('_c7', 'string'),\n",
       " ('_c8', 'string'),\n",
       " ('_c9', 'string'),\n",
       " ('_c10', 'string'),\n",
       " ('_c11', 'string'),\n",
       " ('_c12', 'string')]"
      ]
     },
     "execution_count": 18,
     "metadata": {},
     "output_type": "execute_result"
    }
   ],
   "source": [
    "path = \"./data/Villes/ville_1.csv\"\n",
    "df = spark.read.load(path, format=\"csv\")\n",
    "df.dtypes"
   ]
  },
  {
   "cell_type": "code",
   "execution_count": 19,
   "metadata": {},
   "outputs": [
    {
     "data": {
      "text/plain": [
       "DataFrame[_c0: string, _c1: string, _c2: string, _c3: string, _c4: string, _c5: string, _c6: string, _c7: string, _c8: string, _c9: string, _c10: string, _c11: string, _c12: string]"
      ]
     },
     "execution_count": 19,
     "metadata": {},
     "output_type": "execute_result"
    }
   ],
   "source": [
    "df"
   ]
  },
  {
   "cell_type": "markdown",
   "metadata": {},
   "source": [
    "## 1.2) Lecture avec les entêtes\n",
    "\n",
    "Recharger le même fichier mais cette fois-ci utilisez l'option header pour rajouter les noms de colonnes à votre df.\n",
    "\n",
    "Appelez l'attribut dtypes et comparez la sortie avec celle de la lecture brute."
   ]
  },
  {
   "cell_type": "code",
   "execution_count": 20,
   "metadata": {
    "scrolled": true
   },
   "outputs": [
    {
     "data": {
      "text/plain": [
       "[('id', 'string'),\n",
       " ('vitesse_a_pied', 'string'),\n",
       " ('vitesse_a_velo', 'string'),\n",
       " ('home', 'string'),\n",
       " ('travail', 'string'),\n",
       " ('sportif', 'string'),\n",
       " ('casseur', 'string'),\n",
       " ('statut', 'string'),\n",
       " ('salaire', 'string'),\n",
       " ('sexe', 'string'),\n",
       " ('age', 'string'),\n",
       " ('sportivite', 'string'),\n",
       " ('velo_perf_minimale', 'string')]"
      ]
     },
     "execution_count": 20,
     "metadata": {},
     "output_type": "execute_result"
    }
   ],
   "source": [
    " df = spark.read.format('csv').options(header=True).load(path)\n",
    "df.dtypes"
   ]
  },
  {
   "cell_type": "markdown",
   "metadata": {},
   "source": [
    "## 1.3) Lecture avec les types détectés automatiquement\n",
    "\n",
    "Recharger le fichier avec  l'option inferShema.\n",
    "\n",
    "L'option 'inferSchema' permet de transformer les colonnes en types plus précis : entier  / booléens / chaines de caractères... bien sûr spark trouve les types uniquement si le fichier d'origine permet de les trouver de manière simple"
   ]
  },
  {
   "cell_type": "code",
   "execution_count": 21,
   "metadata": {
    "scrolled": true
   },
   "outputs": [
    {
     "data": {
      "text/plain": [
       "[('id', 'int'),\n",
       " ('vitesse_a_pied', 'double'),\n",
       " ('vitesse_a_velo', 'double'),\n",
       " ('home', 'string'),\n",
       " ('travail', 'string'),\n",
       " ('sportif', 'boolean'),\n",
       " ('casseur', 'boolean'),\n",
       " ('statut', 'string'),\n",
       " ('salaire', 'double'),\n",
       " ('sexe', 'string'),\n",
       " ('age', 'int'),\n",
       " ('sportivite', 'double'),\n",
       " ('velo_perf_minimale', 'double')]"
      ]
     },
     "execution_count": 21,
     "metadata": {},
     "output_type": "execute_result"
    }
   ],
   "source": [
    "df = spark.read.format('csv').options(header=True, inferSchema=True).load(path)\n",
    "df.dtypes"
   ]
  },
  {
   "cell_type": "code",
   "execution_count": 22,
   "metadata": {},
   "outputs": [
    {
     "data": {
      "text/plain": [
       "[Row(id=5251, vitesse_a_pied=0.02, vitesse_a_velo=0.05, home='(lon:26.60 lat:28.13)', travail='(lon:21.08 lat:14.11)', sportif=False, casseur=False, statut='reserviste', salaire=29800.610034665042, sexe='F', age=18, sportivite=0.1, velo_perf_minimale=0.4),\n",
       " Row(id=5252, vitesse_a_pied=0.14974625830876215, vitesse_a_velo=0.37436564577190534, home='(lon:0.26 lat:42.61)', travail='(lon:36.35 lat:33.28)', sportif=False, casseur=False, statut='professeur', salaire=23595.44383981423, sexe='F', age=28, sportivite=0.7487312915438107, velo_perf_minimale=0.4),\n",
       " Row(id=5253, vitesse_a_pied=0.6309711587089704, vitesse_a_velo=1.6825897565572543, home='(lon:3.34 lat:13.95)', travail='(lon:24.75 lat:48.15)', sportif=False, casseur=False, statut='technicien_de_surface', salaire=18530.14776280135, sexe='H', age=65, sportivite=2.103237195696568, velo_perf_minimale=0.4),\n",
       " Row(id=5254, vitesse_a_pied=0.04009596300649916, vitesse_a_velo=0.10692256801733109, home='(lon:19.54 lat:43.69)', travail='(lon:38.57 lat:42.65)', sportif=False, casseur=False, statut='technicien_de_surface', salaire=18997.60281005325, sexe='H', age=26, sportivite=0.13365321002166386, velo_perf_minimale=0.4),\n",
       " Row(id=5255, vitesse_a_pied=0.02, vitesse_a_velo=0.05, home='(lon:28.51 lat:41.70)', travail='(lon:17.67 lat:25.16)', sportif=False, casseur=False, statut='éboueur', salaire=23618.479750220806, sexe='F', age=50, sportivite=0.1, velo_perf_minimale=0.4)]"
      ]
     },
     "execution_count": 22,
     "metadata": {},
     "output_type": "execute_result"
    }
   ],
   "source": [
    "df.take(5)"
   ]
  },
  {
   "cell_type": "markdown",
   "metadata": {},
   "source": [
    "## 1.4) L'attribut schema\n",
    "\n",
    "Il vous permet d'afficher le schéma de votre df, avec pour chaque colonne son nom, son type, et si elle accepte les valeurs nulles ou non. "
   ]
  },
  {
   "cell_type": "code",
   "execution_count": 23,
   "metadata": {
    "scrolled": true
   },
   "outputs": [
    {
     "data": {
      "text/plain": [
       "StructType(List(StructField(id,IntegerType,true),StructField(vitesse_a_pied,DoubleType,true),StructField(vitesse_a_velo,DoubleType,true),StructField(home,StringType,true),StructField(travail,StringType,true),StructField(sportif,BooleanType,true),StructField(casseur,BooleanType,true),StructField(statut,StringType,true),StructField(salaire,DoubleType,true),StructField(sexe,StringType,true),StructField(age,IntegerType,true),StructField(sportivite,DoubleType,true),StructField(velo_perf_minimale,DoubleType,true)))"
      ]
     },
     "execution_count": 23,
     "metadata": {},
     "output_type": "execute_result"
    }
   ],
   "source": [
    "df.schema"
   ]
  },
  {
   "cell_type": "markdown",
   "metadata": {},
   "source": [
    "Vous avez aussi la méthode printSchema() qui permet d'afficher le shéma du df de manière plus lisible."
   ]
  },
  {
   "cell_type": "code",
   "execution_count": 24,
   "metadata": {},
   "outputs": [
    {
     "name": "stdout",
     "output_type": "stream",
     "text": [
      "root\n",
      " |-- id: integer (nullable = true)\n",
      " |-- vitesse_a_pied: double (nullable = true)\n",
      " |-- vitesse_a_velo: double (nullable = true)\n",
      " |-- home: string (nullable = true)\n",
      " |-- travail: string (nullable = true)\n",
      " |-- sportif: boolean (nullable = true)\n",
      " |-- casseur: boolean (nullable = true)\n",
      " |-- statut: string (nullable = true)\n",
      " |-- salaire: double (nullable = true)\n",
      " |-- sexe: string (nullable = true)\n",
      " |-- age: integer (nullable = true)\n",
      " |-- sportivite: double (nullable = true)\n",
      " |-- velo_perf_minimale: double (nullable = true)\n",
      "\n"
     ]
    }
   ],
   "source": [
    "df.printSchema()"
   ]
  },
  {
   "cell_type": "markdown",
   "metadata": {},
   "source": [
    "# 2) Ecriture de la dataframe sur le disque\n",
    "\n",
    "Sauvegardez le df sous différents formats."
   ]
  },
  {
   "cell_type": "markdown",
   "metadata": {},
   "source": [
    "## 2.1) choix du format : csv"
   ]
  },
  {
   "cell_type": "code",
   "execution_count": 25,
   "metadata": {},
   "outputs": [],
   "source": [
    "df.write.format(\"csv\").save(\"./data/Villes/csv\")"
   ]
  },
  {
   "cell_type": "markdown",
   "metadata": {},
   "source": [
    "## 2.2) choix du format : parquet"
   ]
  },
  {
   "cell_type": "code",
   "execution_count": 26,
   "metadata": {},
   "outputs": [],
   "source": [
    "df.write.format(\"parquet\").save(\"./data/Villes/parquet\")"
   ]
  },
  {
   "cell_type": "markdown",
   "metadata": {},
   "source": [
    "## 2.3) choix du format : json"
   ]
  },
  {
   "cell_type": "code",
   "execution_count": 27,
   "metadata": {},
   "outputs": [],
   "source": [
    "df.write.save(\"./data/Villes/ville\", format=\"json\")"
   ]
  },
  {
   "cell_type": "markdown",
   "metadata": {},
   "source": [
    "## 2.4) Lecture de différents formats\n",
    "\n",
    "Vous pouvez choisir de lire le df sous un format ou un autre en utilisant l'argument format dans la fonction spark.read.load"
   ]
  },
  {
   "cell_type": "code",
   "execution_count": 28,
   "metadata": {},
   "outputs": [
    {
     "name": "stdout",
     "output_type": "stream",
     "text": [
      "part-00000-938df848-acaa-4e03-b762-6500282458b5-c000.json  _SUCCESS\r\n"
     ]
    }
   ],
   "source": [
    "# le ! vous permet d'executer des commandes dans votre terminal depuis le notebook\n",
    "!ls ./data/Villes/ville/"
   ]
  },
  {
   "cell_type": "code",
   "execution_count": 29,
   "metadata": {},
   "outputs": [],
   "source": [
    "df_json = spark.read.load(\"./data/Villes/ville/\", format=\"json\")"
   ]
  },
  {
   "cell_type": "code",
   "execution_count": 30,
   "metadata": {},
   "outputs": [],
   "source": [
    "df_parquet = spark.read.load(\"./data/Villes/parquet\", format=\"parquet\")"
   ]
  },
  {
   "cell_type": "markdown",
   "metadata": {},
   "source": [
    "# 3) Calculer des résultats : les actions "
   ]
  },
  {
   "cell_type": "markdown",
   "metadata": {},
   "source": [
    "## 3.1) Nombre de lignes : count\n",
    "\n",
    "Chargez les fichiers csv contenus dans le dossiers ./data/Cyclistes/ dans un df nommé cyclistes, puis comptez les lignes du dataframe obtenu."
   ]
  },
  {
   "cell_type": "code",
   "execution_count": 4,
   "metadata": {},
   "outputs": [],
   "source": [
    "cyclistes = spark.read.load(\"./data/Cyclistes/\", format=\"csv\", header=True, inferSchema=\"True\")"
   ]
  },
  {
   "cell_type": "code",
   "execution_count": 32,
   "metadata": {},
   "outputs": [
    {
     "data": {
      "text/plain": [
       "[Row(id=246, timestamp='2018-01-01 00:01:00', sur_velo=False, velo='False', vitesse=0.02, position='(lon:22.62 lat:9.63)', destination_finale='False'),\n",
       " Row(id=246, timestamp='2018-01-01 00:02:00', sur_velo=False, velo='False', vitesse=0.02, position='(lon:22.62 lat:9.63)', destination_finale='False'),\n",
       " Row(id=246, timestamp='2018-01-01 00:03:00', sur_velo=False, velo='False', vitesse=0.02, position='(lon:22.62 lat:9.63)', destination_finale='False'),\n",
       " Row(id=246, timestamp='2018-01-01 00:04:00', sur_velo=False, velo='False', vitesse=0.02, position='(lon:22.62 lat:9.63)', destination_finale='False'),\n",
       " Row(id=246, timestamp='2018-01-01 00:05:00', sur_velo=False, velo='False', vitesse=0.02, position='(lon:22.62 lat:9.63)', destination_finale='False')]"
      ]
     },
     "execution_count": 32,
     "metadata": {},
     "output_type": "execute_result"
    }
   ],
   "source": [
    "cyclistes.take(5)"
   ]
  },
  {
   "cell_type": "code",
   "execution_count": 33,
   "metadata": {},
   "outputs": [
    {
     "data": {
      "text/plain": [
       "4868396"
      ]
     },
     "execution_count": 33,
     "metadata": {},
     "output_type": "execute_result"
    }
   ],
   "source": [
    "cyclistes.count()"
   ]
  },
  {
   "cell_type": "markdown",
   "metadata": {},
   "source": [
    "Afficher le schéma de ce nouveau df"
   ]
  },
  {
   "cell_type": "code",
   "execution_count": 34,
   "metadata": {
    "scrolled": true
   },
   "outputs": [
    {
     "name": "stdout",
     "output_type": "stream",
     "text": [
      "root\n",
      " |-- id: integer (nullable = true)\n",
      " |-- timestamp: string (nullable = true)\n",
      " |-- sur_velo: boolean (nullable = true)\n",
      " |-- velo: string (nullable = true)\n",
      " |-- vitesse: double (nullable = true)\n",
      " |-- position: string (nullable = true)\n",
      " |-- destination_finale: string (nullable = true)\n",
      "\n"
     ]
    }
   ],
   "source": [
    "cyclistes.printSchema()"
   ]
  },
  {
   "cell_type": "markdown",
   "metadata": {},
   "source": [
    "Affichez 10 lignes du df."
   ]
  },
  {
   "cell_type": "code",
   "execution_count": 35,
   "metadata": {
    "scrolled": true
   },
   "outputs": [
    {
     "data": {
      "text/plain": [
       "[Row(id=246, timestamp='2018-01-01 00:01:00', sur_velo=False, velo='False', vitesse=0.02, position='(lon:22.62 lat:9.63)', destination_finale='False'),\n",
       " Row(id=246, timestamp='2018-01-01 00:02:00', sur_velo=False, velo='False', vitesse=0.02, position='(lon:22.62 lat:9.63)', destination_finale='False'),\n",
       " Row(id=246, timestamp='2018-01-01 00:03:00', sur_velo=False, velo='False', vitesse=0.02, position='(lon:22.62 lat:9.63)', destination_finale='False'),\n",
       " Row(id=246, timestamp='2018-01-01 00:04:00', sur_velo=False, velo='False', vitesse=0.02, position='(lon:22.62 lat:9.63)', destination_finale='False'),\n",
       " Row(id=246, timestamp='2018-01-01 00:05:00', sur_velo=False, velo='False', vitesse=0.02, position='(lon:22.62 lat:9.63)', destination_finale='False'),\n",
       " Row(id=246, timestamp='2018-01-01 00:06:00', sur_velo=False, velo='False', vitesse=0.02, position='(lon:22.62 lat:9.63)', destination_finale='False'),\n",
       " Row(id=246, timestamp='2018-01-01 00:07:00', sur_velo=False, velo='False', vitesse=0.02, position='(lon:22.62 lat:9.63)', destination_finale='False'),\n",
       " Row(id=246, timestamp='2018-01-01 00:08:00', sur_velo=False, velo='False', vitesse=0.02, position='(lon:22.62 lat:9.63)', destination_finale='False'),\n",
       " Row(id=246, timestamp='2018-01-01 00:09:00', sur_velo=False, velo='False', vitesse=0.02, position='(lon:22.62 lat:9.63)', destination_finale='False'),\n",
       " Row(id=246, timestamp='2018-01-01 00:10:00', sur_velo=False, velo='False', vitesse=0.02, position='(lon:22.62 lat:9.63)', destination_finale='False')]"
      ]
     },
     "execution_count": 35,
     "metadata": {},
     "output_type": "execute_result"
    }
   ],
   "source": [
    "cyclistes.take(10)"
   ]
  },
  {
   "cell_type": "markdown",
   "metadata": {},
   "source": [
    "## 3.2) Moyenne : agg + colonne + mean\n",
    "\n",
    "A l'aide de la méthode agg(), calculez la moyenne sur la colonne vitesse.\n",
    "\n",
    "Vous pouvez récuperer le résultat avec la méthode collect()."
   ]
  },
  {
   "cell_type": "code",
   "execution_count": 61,
   "metadata": {},
   "outputs": [
    {
     "name": "stdout",
     "output_type": "stream",
     "text": [
      "+------------------+\n",
      "|      avg(vitesse)|\n",
      "+------------------+\n",
      "|0.5635749865179047|\n",
      "+------------------+\n",
      "\n"
     ]
    }
   ],
   "source": [
    "cyclistes.agg({\"vitesse\": \"avg\"}).show()"
   ]
  },
  {
   "cell_type": "code",
   "execution_count": 37,
   "metadata": {},
   "outputs": [
    {
     "data": {
      "text/plain": [
       "[Row(avg(vitesse)=0.5635749865179047)]"
      ]
     },
     "execution_count": 37,
     "metadata": {},
     "output_type": "execute_result"
    }
   ],
   "source": [
    "cyclistes.groupBy().avg(\"vitesse\").collect()"
   ]
  },
  {
   "cell_type": "markdown",
   "metadata": {},
   "source": [
    "## 3.3) Quantile approximatifs pour gagner du temps de calcul\n",
    "\n",
    "En statistiques et en théorie des probabilités, les quantiles sont les valeurs qui divisent un jeu de données en intervalles contenant le même nombre de données. Il y a donc un quantile de moins que le nombre de groupes créés. Ainsi les quartiles sont les trois quantiles qui divisent un ensemble de données en quatre groupes de taille égale.\n",
    "\n",
    "La méthode approxQuantile permet de laisser une tolérance a l'erreur ce qui réduit le temps de calul sur d'énormes jeux de données."
   ]
  },
  {
   "cell_type": "code",
   "execution_count": 38,
   "metadata": {},
   "outputs": [],
   "source": [
    "import time"
   ]
  },
  {
   "cell_type": "code",
   "execution_count": 39,
   "metadata": {},
   "outputs": [],
   "source": [
    "def calcul_quantile(df, erreur_acceptee):\n",
    "    debut            = time.time()\n",
    "    colonne          = \"vitesse\"\n",
    "    quantiles_voulus = [0.25, 0.50, 0.75]\n",
    "    resultat         =  df.approxQuantile(colonne, quantiles_voulus , erreur_acceptee )\n",
    "    fin              = time.time()\n",
    "    delais           = fin -debut\n",
    "    print (\"delais =%.2f sec, quantiles = %s\"%(delais, resultat))"
   ]
  },
  {
   "cell_type": "code",
   "execution_count": 40,
   "metadata": {},
   "outputs": [
    {
     "name": "stdout",
     "output_type": "stream",
     "text": [
      "delais =6.86 sec, quantiles = [0.12867630286773463, 0.43636692359214846, 0.8358087561374254]\n"
     ]
    }
   ],
   "source": [
    "calcul_quantile(cyclistes, 0.05)"
   ]
  },
  {
   "cell_type": "code",
   "execution_count": 41,
   "metadata": {},
   "outputs": [
    {
     "name": "stdout",
     "output_type": "stream",
     "text": [
      "delais =7.14 sec, quantiles = [0.13351057325728508, 0.467745329783825, 0.8357066787865304]\n"
     ]
    }
   ],
   "source": [
    "calcul_quantile(cyclistes, 0.01)"
   ]
  },
  {
   "cell_type": "code",
   "execution_count": 42,
   "metadata": {},
   "outputs": [
    {
     "name": "stdout",
     "output_type": "stream",
     "text": [
      "delais =25.72 sec, quantiles = [0.13922027425674244, 0.467745329783825, 0.8358087561374254]\n"
     ]
    }
   ],
   "source": [
    "calcul_quantile(cyclistes, 0)"
   ]
  },
  {
   "cell_type": "markdown",
   "metadata": {},
   "source": [
    "## Reload de la dataframe villes\n",
    "\n",
    "Chargez le fichier villes dans un df nommé villes."
   ]
  },
  {
   "cell_type": "code",
   "execution_count": 5,
   "metadata": {
    "scrolled": true
   },
   "outputs": [
    {
     "name": "stdout",
     "output_type": "stream",
     "text": [
      "root\n",
      " |-- id: integer (nullable = true)\n",
      " |-- vitesse_a_pied: double (nullable = true)\n",
      " |-- vitesse_a_velo: double (nullable = true)\n",
      " |-- home: string (nullable = true)\n",
      " |-- travail: string (nullable = true)\n",
      " |-- sportif: boolean (nullable = true)\n",
      " |-- casseur: boolean (nullable = true)\n",
      " |-- statut: string (nullable = true)\n",
      " |-- salaire: double (nullable = true)\n",
      " |-- sexe: string (nullable = true)\n",
      " |-- age: integer (nullable = true)\n",
      " |-- sportivite: double (nullable = true)\n",
      " |-- velo_perf_minimale: double (nullable = true)\n",
      "\n"
     ]
    }
   ],
   "source": [
    "villes =spark.read.load(\"./data/Villes/\", format=\"csv\", header=True, inferSchema=\"True\")\n",
    "villes.printSchema()"
   ]
  },
  {
   "cell_type": "code",
   "execution_count": 44,
   "metadata": {},
   "outputs": [
    {
     "data": {
      "text/plain": [
       "[Row(id=5251, vitesse_a_pied=0.02, vitesse_a_velo=0.05, home='(lon:26.60 lat:28.13)', travail='(lon:21.08 lat:14.11)', sportif=False, casseur=False, statut='reserviste', salaire=29800.610034665042, sexe='F', age=18, sportivite=0.1, velo_perf_minimale=0.4),\n",
       " Row(id=5252, vitesse_a_pied=0.14974625830876215, vitesse_a_velo=0.37436564577190534, home='(lon:0.26 lat:42.61)', travail='(lon:36.35 lat:33.28)', sportif=False, casseur=False, statut='professeur', salaire=23595.44383981423, sexe='F', age=28, sportivite=0.7487312915438107, velo_perf_minimale=0.4),\n",
       " Row(id=5253, vitesse_a_pied=0.6309711587089704, vitesse_a_velo=1.6825897565572543, home='(lon:3.34 lat:13.95)', travail='(lon:24.75 lat:48.15)', sportif=False, casseur=False, statut='technicien_de_surface', salaire=18530.14776280135, sexe='H', age=65, sportivite=2.103237195696568, velo_perf_minimale=0.4),\n",
       " Row(id=5254, vitesse_a_pied=0.04009596300649916, vitesse_a_velo=0.10692256801733109, home='(lon:19.54 lat:43.69)', travail='(lon:38.57 lat:42.65)', sportif=False, casseur=False, statut='technicien_de_surface', salaire=18997.60281005325, sexe='H', age=26, sportivite=0.13365321002166386, velo_perf_minimale=0.4),\n",
       " Row(id=5255, vitesse_a_pied=0.02, vitesse_a_velo=0.05, home='(lon:28.51 lat:41.70)', travail='(lon:17.67 lat:25.16)', sportif=False, casseur=False, statut='éboueur', salaire=23618.479750220806, sexe='F', age=50, sportivite=0.1, velo_perf_minimale=0.4),\n",
       " Row(id=5256, vitesse_a_pied=0.8655449921165502, vitesse_a_velo=2.308119978977467, home='(lon:44.85 lat:45.65)', travail='(lon:9.18 lat:11.05)', sportif=False, casseur=False, statut='employe', salaire=19082.30894283764, sexe='H', age=57, sportivite=2.885149973721834, velo_perf_minimale=0.4),\n",
       " Row(id=5257, vitesse_a_pied=0.5879992290928728, vitesse_a_velo=1.4699980727321822, home='(lon:42.06 lat:43.69)', travail='(lon:0.51 lat:24.89)', sportif=False, casseur=False, statut='reserviste', salaire=21782.945135729053, sexe='F', age=75, sportivite=2.9399961454643644, velo_perf_minimale=0.4),\n",
       " Row(id=5258, vitesse_a_pied=0.8306610123216782, vitesse_a_velo=2.215096032857809, home='(lon:24.87 lat:16.06)', travail='(lon:36.80 lat:48.41)', sportif=False, casseur=False, statut='cadre', salaire=41451.270468058414, sexe='H', age=74, sportivite=2.768870041072261, velo_perf_minimale=0.4),\n",
       " Row(id=5259, vitesse_a_pied=0.12542885835859416, vitesse_a_velo=0.3344769556229178, home='(lon:9.07 lat:17.28)', travail='(lon:4.80 lat:9.81)', sportif=False, casseur=False, statut='technicien_de_surface', salaire=22025.17074872747, sexe='H', age=57, sportivite=0.4180961945286472, velo_perf_minimale=0.4),\n",
       " Row(id=5260, vitesse_a_pied=0.030000000000000006, vitesse_a_velo=0.08, home='(lon:37.12 lat:43.64)', travail='(lon:24.72 lat:13.53)', sportif=False, casseur=False, statut='reserviste', salaire=38211.06301426453, sexe='H', age=24, sportivite=0.1, velo_perf_minimale=0.4)]"
      ]
     },
     "execution_count": 44,
     "metadata": {},
     "output_type": "execute_result"
    }
   ],
   "source": [
    "villes.take(10)"
   ]
  },
  {
   "cell_type": "markdown",
   "metadata": {},
   "source": [
    "## 3.4) corrélation\n",
    "\n",
    "En probabilités et en statistique, la corrélation entre plusieurs variables aléatoires ou statistiques est une notion de liaison qui contredit leur indépendance.\n",
    "\n",
    "Calculez la corrélation entre les colonnes age et vitesse_a_velo."
   ]
  },
  {
   "cell_type": "code",
   "execution_count": 63,
   "metadata": {},
   "outputs": [
    {
     "data": {
      "text/plain": [
       "-0.01783584628140774"
      ]
     },
     "execution_count": 63,
     "metadata": {},
     "output_type": "execute_result"
    }
   ],
   "source": [
    "villes.corr(\"age\", \"vitesse_a_velo\", method=\"pearson\")"
   ]
  },
  {
   "cell_type": "markdown",
   "metadata": {},
   "source": [
    "## 3.5) covariance\n",
    "\n",
    "La covariance entre deux variables aléatoires est un nombre permettant de quantifier leurs écarts conjoints par rapport à leurs espérances respectives. Elle s’utilise également pour deux séries de données numériques (écarts par rapport aux moyennes).\n",
    "La covariance est une extension de la notion de variance. La corrélation est une forme normalisée de la covariance.\n",
    "\n",
    "Calculez la covariance entre les colonnes age et vitesse_a_velo."
   ]
  },
  {
   "cell_type": "code",
   "execution_count": 46,
   "metadata": {},
   "outputs": [
    {
     "data": {
      "text/plain": [
       "-0.4752524914308339"
      ]
     },
     "execution_count": 46,
     "metadata": {},
     "output_type": "execute_result"
    }
   ],
   "source": [
    "villes.cov(\"age\", \"vitesse_a_velo\")"
   ]
  },
  {
   "cell_type": "markdown",
   "metadata": {},
   "source": [
    "## 3.6) sample\n",
    "\n",
    "La méthode sample() permet de tirer aléatoirement une fraction du dataframe.\n",
    "Stockez dans un nouveau dataframe nommée villes_1pct, une fraction egale à 1% du df. Comptez le nombre de lignes obtenu."
   ]
  },
  {
   "cell_type": "code",
   "execution_count": 47,
   "metadata": {},
   "outputs": [],
   "source": [
    "villes_1pct = villes.sample(fraction=0.01, seed=0)"
   ]
  },
  {
   "cell_type": "code",
   "execution_count": 48,
   "metadata": {},
   "outputs": [
    {
     "data": {
      "text/plain": [
       "1083"
      ]
     },
     "execution_count": 48,
     "metadata": {},
     "output_type": "execute_result"
    }
   ],
   "source": [
    "villes.count()"
   ]
  },
  {
   "cell_type": "code",
   "execution_count": 49,
   "metadata": {},
   "outputs": [
    {
     "data": {
      "text/plain": [
       "10"
      ]
     },
     "execution_count": 49,
     "metadata": {},
     "output_type": "execute_result"
    }
   ],
   "source": [
    "villes_1pct.count()"
   ]
  },
  {
   "cell_type": "markdown",
   "metadata": {},
   "source": [
    "A l'aide de la méthode exceptAll(), compter le nombre de ligne dans ville en omettant la fraction contenu dans ville_1pct"
   ]
  },
  {
   "cell_type": "code",
   "execution_count": 50,
   "metadata": {},
   "outputs": [
    {
     "data": {
      "text/plain": [
       "1073"
      ]
     },
     "execution_count": 50,
     "metadata": {},
     "output_type": "execute_result"
    }
   ],
   "source": [
    "villes.exceptAll(villes_1pct).count()"
   ]
  },
  {
   "cell_type": "markdown",
   "metadata": {},
   "source": [
    "## 3.7) filter \n",
    "\n",
    "La méthode filter() permet le df selon certaines valeurs dans les colonnes.\n",
    "\n",
    "Utilisez cette méthode pour récuperer seulement les lignes avec le sexe féminin."
   ]
  },
  {
   "cell_type": "code",
   "execution_count": 51,
   "metadata": {},
   "outputs": [
    {
     "data": {
      "text/plain": [
       "[Row(id=5251, vitesse_a_pied=0.02, vitesse_a_velo=0.05, home='(lon:26.60 lat:28.13)', travail='(lon:21.08 lat:14.11)', sportif=False, casseur=False, statut='reserviste', salaire=29800.610034665042, sexe='F', age=18, sportivite=0.1, velo_perf_minimale=0.4),\n",
       " Row(id=5252, vitesse_a_pied=0.14974625830876215, vitesse_a_velo=0.37436564577190534, home='(lon:0.26 lat:42.61)', travail='(lon:36.35 lat:33.28)', sportif=False, casseur=False, statut='professeur', salaire=23595.44383981423, sexe='F', age=28, sportivite=0.7487312915438107, velo_perf_minimale=0.4),\n",
       " Row(id=5255, vitesse_a_pied=0.02, vitesse_a_velo=0.05, home='(lon:28.51 lat:41.70)', travail='(lon:17.67 lat:25.16)', sportif=False, casseur=False, statut='éboueur', salaire=23618.479750220806, sexe='F', age=50, sportivite=0.1, velo_perf_minimale=0.4),\n",
       " Row(id=5257, vitesse_a_pied=0.5879992290928728, vitesse_a_velo=1.4699980727321822, home='(lon:42.06 lat:43.69)', travail='(lon:0.51 lat:24.89)', sportif=False, casseur=False, statut='reserviste', salaire=21782.945135729053, sexe='F', age=75, sportivite=2.9399961454643644, velo_perf_minimale=0.4),\n",
       " Row(id=5262, vitesse_a_pied=0.02, vitesse_a_velo=0.05, home='(lon:43.40 lat:25.26)', travail='(lon:1.76 lat:18.95)', sportif=False, casseur=False, statut='employe', salaire=18155.392787144123, sexe='F', age=81, sportivite=0.1, velo_perf_minimale=0.4),\n",
       " Row(id=5264, vitesse_a_pied=0.6272243144514219, vitesse_a_velo=1.5680607861285547, home='(lon:14.36 lat:33.45)', travail='(lon:38.49 lat:41.39)', sportif=False, casseur=False, statut='éboueur', salaire=17894.342734488273, sexe='F', age=50, sportivite=3.1361215722571094, velo_perf_minimale=0.4),\n",
       " Row(id=5266, vitesse_a_pied=0.3167145553844886, vitesse_a_velo=0.7917863884612215, home='(lon:44.53 lat:46.61)', travail='(lon:31.66 lat:26.54)', sportif=False, casseur=False, statut='professeur', salaire=32340.37164134604, sexe='F', age=74, sportivite=1.583572776922443, velo_perf_minimale=0.4),\n",
       " Row(id=5271, vitesse_a_pied=1.0637049252038342, vitesse_a_velo=2.6592623130095854, home='(lon:7.35 lat:15.97)', travail='(lon:23.48 lat:16.90)', sportif=False, casseur=False, statut='cadre', salaire=40170.674584023254, sexe='F', age=44, sportivite=5.318524626019171, velo_perf_minimale=0.4),\n",
       " Row(id=5273, vitesse_a_pied=0.02, vitesse_a_velo=0.05, home='(lon:43.99 lat:14.05)', travail='(lon:0.71 lat:35.14)', sportif=False, casseur=False, statut='cadre', salaire=30516.740487109822, sexe='F', age=39, sportivite=0.1, velo_perf_minimale=0.4),\n",
       " Row(id=5276, vitesse_a_pied=0.02, vitesse_a_velo=0.05, home='(lon:35.60 lat:24.53)', travail='(lon:9.45 lat:2.69)', sportif=False, casseur=False, statut='éboueur', salaire=21737.026343329253, sexe='F', age=61, sportivite=0.1, velo_perf_minimale=0.4),\n",
       " Row(id=5277, vitesse_a_pied=0.33500607931826865, vitesse_a_velo=0.8375151982956716, home='(lon:8.24 lat:42.40)', travail='(lon:48.64 lat:32.85)', sportif=False, casseur=False, statut='éboueur', salaire=25013.554133869537, sexe='F', age=39, sportivite=1.6750303965913431, velo_perf_minimale=0.4),\n",
       " Row(id=5278, vitesse_a_pied=0.5612935671493225, vitesse_a_velo=1.4032339178733064, home='(lon:3.60 lat:46.81)', travail='(lon:0.23 lat:12.28)', sportif=False, casseur=False, statut='employe', salaire=18306.64291062094, sexe='F', age=50, sportivite=2.806467835746613, velo_perf_minimale=0.4),\n",
       " Row(id=5282, vitesse_a_pied=0.8083175494888819, vitesse_a_velo=2.0207938737222046, home='(lon:25.86 lat:5.51)', travail='(lon:8.71 lat:13.09)', sportif=False, casseur=False, statut='technicien_de_surface', salaire=18011.276236369988, sexe='F', age=19, sportivite=4.041587747444409, velo_perf_minimale=0.4),\n",
       " Row(id=5283, vitesse_a_pied=1.2832501378500005, vitesse_a_velo=3.2081253446250018, home='(lon:46.08 lat:3.40)', travail='(lon:27.09 lat:47.91)', sportif=False, casseur=False, statut='professeur', salaire=24156.157989107276, sexe='F', age=53, sportivite=6.416250689250003, velo_perf_minimale=0.4),\n",
       " Row(id=5284, vitesse_a_pied=1.0364869412773074, vitesse_a_velo=2.5912173531932687, home='(lon:30.00 lat:45.81)', travail='(lon:2.79 lat:41.57)', sportif=False, casseur=False, statut='technicien_de_surface', salaire=18739.963697232994, sexe='F', age=35, sportivite=5.1824347063865375, velo_perf_minimale=0.4),\n",
       " Row(id=5287, vitesse_a_pied=0.39938204132234967, vitesse_a_velo=0.9984551033058742, home='(lon:45.02 lat:36.50)', travail='(lon:33.44 lat:19.24)', sportif=False, casseur=False, statut='professeur', salaire=17011.719150211684, sexe='F', age=60, sportivite=1.9969102066117483, velo_perf_minimale=0.4),\n",
       " Row(id=5288, vitesse_a_pied=0.09886577398124681, vitesse_a_velo=0.24716443495311702, home='(lon:21.03 lat:37.19)', travail='(lon:33.67 lat:15.60)', sportif=False, casseur=False, statut='éboueur', salaire=26756.93457723109, sexe='F', age=28, sportivite=0.49432886990623404, velo_perf_minimale=0.4),\n",
       " Row(id=5290, vitesse_a_pied=0.44011923092468674, vitesse_a_velo=1.1002980773117168, home='(lon:5.70 lat:24.77)', travail='(lon:41.90 lat:37.90)', sportif=False, casseur=False, statut='éboueur', salaire=19038.02354817647, sexe='F', age=84, sportivite=2.2005961546234336, velo_perf_minimale=0.4),\n",
       " Row(id=5291, vitesse_a_pied=0.4525302271634198, vitesse_a_velo=1.1313255679085494, home='(lon:13.50 lat:11.80)', travail='(lon:35.01 lat:32.33)', sportif=False, casseur=False, statut='employe', salaire=16135.720678961883, sexe='F', age=46, sportivite=2.262651135817099, velo_perf_minimale=0.4),\n",
       " Row(id=5292, vitesse_a_pied=0.02, vitesse_a_velo=0.05, home='(lon:6.05 lat:1.69)', travail='(lon:34.49 lat:47.25)', sportif=False, casseur=False, statut='éboueur', salaire=25233.0748967296, sexe='F', age=66, sportivite=0.1, velo_perf_minimale=0.4),\n",
       " Row(id=5294, vitesse_a_pied=0.6227743474468624, vitesse_a_velo=1.5569358686171562, home='(lon:39.79 lat:31.86)', travail='(lon:41.82 lat:11.18)', sportif=False, casseur=False, statut='technicien_de_surface', salaire=23131.730785290576, sexe='F', age=50, sportivite=3.1138717372343123, velo_perf_minimale=0.4),\n",
       " Row(id=5298, vitesse_a_pied=0.39072908496076497, vitesse_a_velo=0.9768227124019123, home='(lon:8.20 lat:27.54)', travail='(lon:44.23 lat:5.04)', sportif=False, casseur=False, statut='éboueur', salaire=25809.34219182996, sexe='F', age=60, sportivite=1.9536454248038249, velo_perf_minimale=0.4),\n",
       " Row(id=5300, vitesse_a_pied=0.6779282049355532, vitesse_a_velo=1.6948205123388829, home='(lon:22.48 lat:43.02)', travail='(lon:19.61 lat:31.72)', sportif=False, casseur=False, statut='reserviste', salaire=34789.18377664252, sexe='F', age=37, sportivite=3.3896410246777657, velo_perf_minimale=0.4),\n",
       " Row(id=5303, vitesse_a_pied=0.4124087576331867, vitesse_a_velo=1.0310218940829667, home='(lon:0.33 lat:38.82)', travail='(lon:21.53 lat:12.15)', sportif=False, casseur=False, statut='employe', salaire=23152.09478808629, sexe='F', age=52, sportivite=2.0620437881659335, velo_perf_minimale=0.4),\n",
       " Row(id=5305, vitesse_a_pied=0.02, vitesse_a_velo=0.05, home='(lon:4.37 lat:45.93)', travail='(lon:16.52 lat:31.99)', sportif=False, casseur=False, statut='technicien_de_surface', salaire=17135.500466710448, sexe='F', age=16, sportivite=0.1, velo_perf_minimale=0.4),\n",
       " Row(id=5307, vitesse_a_pied=0.6599043764291127, vitesse_a_velo=1.6497609410727818, home='(lon:35.83 lat:20.57)', travail='(lon:37.86 lat:2.96)', sportif=False, casseur=False, statut='éboueur', salaire=15530.75692170556, sexe='F', age=78, sportivite=3.2995218821455636, velo_perf_minimale=0.4),\n",
       " Row(id=5309, vitesse_a_pied=0.02, vitesse_a_velo=0.05, home='(lon:25.68 lat:18.41)', travail='(lon:25.12 lat:8.26)', sportif=False, casseur=False, statut='professeur', salaire=23839.49585192835, sexe='F', age=59, sportivite=0.1, velo_perf_minimale=0.4),\n",
       " Row(id=5311, vitesse_a_pied=0.1959579823379091, vitesse_a_velo=0.4898949558447727, home='(lon:32.56 lat:33.88)', travail='(lon:36.49 lat:15.95)', sportif=False, casseur=True, statut='professeur', salaire=30458.543549269176, sexe='F', age=16, sportivite=0.9797899116895454, velo_perf_minimale=0.4),\n",
       " Row(id=5314, vitesse_a_pied=0.2813734031112626, vitesse_a_velo=0.7034335077781565, home='(lon:4.13 lat:10.48)', travail='(lon:43.51 lat:41.81)', sportif=False, casseur=False, statut='cadre', salaire=25639.610284245176, sexe='F', age=42, sportivite=1.406867015556313, velo_perf_minimale=0.4),\n",
       " Row(id=5320, vitesse_a_pied=0.24186420397998135, vitesse_a_velo=0.6046605099499534, home='(lon:11.76 lat:14.85)', travail='(lon:7.43 lat:2.55)', sportif=False, casseur=False, statut='employe', salaire=17150.55381916245, sexe='F', age=41, sportivite=1.2093210198999067, velo_perf_minimale=0.4),\n",
       " Row(id=5321, vitesse_a_pied=0.7211172017956888, vitesse_a_velo=1.8027930044892222, home='(lon:28.72 lat:8.26)', travail='(lon:2.83 lat:31.15)', sportif=False, casseur=False, statut='technicien_de_surface', salaire=20667.21122220718, sexe='F', age=59, sportivite=3.6055860089784444, velo_perf_minimale=0.4),\n",
       " Row(id=5322, vitesse_a_pied=0.02, vitesse_a_velo=0.05, home='(lon:15.16 lat:21.32)', travail='(lon:42.14 lat:37.17)', sportif=False, casseur=False, statut='reserviste', salaire=28884.558347582384, sexe='F', age=82, sportivite=0.1, velo_perf_minimale=0.4),\n",
       " Row(id=5323, vitesse_a_pied=0.027612568402530215, vitesse_a_velo=0.06903142100632553, home='(lon:9.32 lat:5.75)', travail='(lon:1.20 lat:20.71)', sportif=False, casseur=False, statut='reserviste', salaire=29961.344510274015, sexe='F', age=81, sportivite=0.13806284201265107, velo_perf_minimale=0.4),\n",
       " Row(id=5324, vitesse_a_pied=0.27163145403111666, vitesse_a_velo=0.6790786350777916, home='(lon:45.58 lat:13.19)', travail='(lon:43.36 lat:19.48)', sportif=False, casseur=False, statut='technicien_de_surface', salaire=16412.940927925953, sexe='F', age=62, sportivite=1.3581572701555833, velo_perf_minimale=0.4),\n",
       " Row(id=5327, vitesse_a_pied=1.172795198780688, vitesse_a_velo=2.9319879969517197, home='(lon:15.46 lat:0.02)', travail='(lon:14.60 lat:16.42)', sportif=False, casseur=False, statut='reserviste', salaire=18677.16468761641, sexe='F', age=80, sportivite=5.8639759939034395, velo_perf_minimale=0.4),\n",
       " Row(id=5330, vitesse_a_pied=0.49033450127802747, vitesse_a_velo=1.2258362531950686, home='(lon:6.57 lat:28.97)', travail='(lon:31.16 lat:31.27)', sportif=False, casseur=False, statut='reserviste', salaire=34890.91439200515, sexe='F', age=22, sportivite=2.4516725063901372, velo_perf_minimale=0.4),\n",
       " Row(id=5336, vitesse_a_pied=0.6722849882171437, vitesse_a_velo=1.680712470542859, home='(lon:19.11 lat:23.08)', travail='(lon:38.66 lat:48.91)', sportif=False, casseur=False, statut='employe', salaire=11038.406651160396, sexe='F', age=38, sportivite=3.361424941085718, velo_perf_minimale=0.4),\n",
       " Row(id=5339, vitesse_a_pied=1.6482340643954163, vitesse_a_velo=4.120585160988541, home='(lon:41.81 lat:19.85)', travail='(lon:19.58 lat:31.52)', sportif=False, casseur=False, statut='professeur', salaire=15751.079515413576, sexe='F', age=41, sportivite=8.241170321977082, velo_perf_minimale=0.4),\n",
       " Row(id=5343, vitesse_a_pied=0.02, vitesse_a_velo=0.05, home='(lon:29.83 lat:12.25)', travail='(lon:35.81 lat:9.19)', sportif=False, casseur=False, statut='cadre', salaire=35397.36509779448, sexe='F', age=46, sportivite=0.1, velo_perf_minimale=0.4),\n",
       " Row(id=5345, vitesse_a_pied=0.7500235923279777, vitesse_a_velo=1.875058980819944, home='(lon:37.85 lat:6.00)', travail='(lon:47.46 lat:3.57)', sportif=False, casseur=False, statut='reserviste', salaire=24723.034855015037, sexe='F', age=54, sportivite=3.750117961639888, velo_perf_minimale=0.4),\n",
       " Row(id=5348, vitesse_a_pied=0.19282663858595855, vitesse_a_velo=0.48206659646489636, home='(lon:44.80 lat:45.62)', travail='(lon:24.19 lat:7.12)', sportif=False, casseur=False, statut='professeur', salaire=20543.54828361411, sexe='F', age=37, sportivite=0.9641331929297927, velo_perf_minimale=0.4),\n",
       " Row(id=5349, vitesse_a_pied=0.8077024638485352, vitesse_a_velo=2.019256159621338, home='(lon:0.87 lat:32.17)', travail='(lon:11.07 lat:6.29)', sportif=False, casseur=False, statut='professeur', salaire=18038.273397605615, sexe='F', age=76, sportivite=4.038512319242676, velo_perf_minimale=0.4),\n",
       " Row(id=5353, vitesse_a_pied=0.02, vitesse_a_velo=0.05, home='(lon:26.42 lat:32.33)', travail='(lon:19.54 lat:39.22)', sportif=False, casseur=False, statut='professeur', salaire=20347.1772832737, sexe='F', age=64, sportivite=0.1, velo_perf_minimale=0.4),\n",
       " Row(id=5355, vitesse_a_pied=0.02, vitesse_a_velo=0.05, home='(lon:37.28 lat:12.44)', travail='(lon:35.40 lat:48.97)', sportif=False, casseur=False, statut='reserviste', salaire=32193.70196212845, sexe='F', age=35, sportivite=0.1, velo_perf_minimale=0.4),\n",
       " Row(id=5356, vitesse_a_pied=0.8229504935790384, vitesse_a_velo=2.057376233947596, home='(lon:29.10 lat:42.74)', travail='(lon:3.95 lat:36.98)', sportif=False, casseur=False, statut='technicien_de_surface', salaire=12731.09329130641, sexe='F', age=59, sportivite=4.114752467895192, velo_perf_minimale=0.4),\n",
       " Row(id=5357, vitesse_a_pied=0.8402035616244857, vitesse_a_velo=2.1005089040612144, home='(lon:44.22 lat:24.30)', travail='(lon:40.36 lat:35.15)', sportif=False, casseur=False, statut='cadre', salaire=36423.57373188558, sexe='F', age=71, sportivite=4.201017808122429, velo_perf_minimale=0.4),\n",
       " Row(id=5359, vitesse_a_pied=0.6501076779747892, vitesse_a_velo=1.625269194936973, home='(lon:35.98 lat:42.84)', travail='(lon:8.53 lat:12.57)', sportif=False, casseur=False, statut='employe', salaire=16802.193549927644, sexe='F', age=31, sportivite=3.250538389873946, velo_perf_minimale=0.4),\n",
       " Row(id=5360, vitesse_a_pied=0.6544358281807489, vitesse_a_velo=1.636089570451872, home='(lon:8.21 lat:45.45)', travail='(lon:21.13 lat:20.98)', sportif=False, casseur=False, statut='éboueur', salaire=16271.211115183232, sexe='F', age=32, sportivite=3.272179140903744, velo_perf_minimale=0.4),\n",
       " Row(id=5361, vitesse_a_pied=1.3529357191512241, vitesse_a_velo=3.3823392978780604, home='(lon:15.35 lat:15.35)', travail='(lon:8.99 lat:20.53)', sportif=False, casseur=False, statut='technicien_de_surface', salaire=18988.240182633494, sexe='F', age=45, sportivite=6.764678595756121, velo_perf_minimale=0.4),\n",
       " Row(id=5364, vitesse_a_pied=0.17692633583165457, vitesse_a_velo=0.4423158395791365, home='(lon:0.65 lat:39.67)', travail='(lon:36.01 lat:7.16)', sportif=False, casseur=False, statut='technicien_de_surface', salaire=14497.262614583748, sexe='F', age=57, sportivite=0.8846316791582729, velo_perf_minimale=0.4),\n",
       " Row(id=5365, vitesse_a_pied=0.02, vitesse_a_velo=0.05, home='(lon:12.60 lat:5.28)', travail='(lon:15.10 lat:45.75)', sportif=False, casseur=False, statut='professeur', salaire=30493.20160902877, sexe='F', age=28, sportivite=0.1, velo_perf_minimale=0.4),\n",
       " Row(id=5367, vitesse_a_pied=0.4611452899948808, vitesse_a_velo=1.152863224987202, home='(lon:33.09 lat:8.56)', travail='(lon:23.27 lat:43.30)', sportif=False, casseur=False, statut='employe', salaire=21357.936702385912, sexe='F', age=34, sportivite=2.305726449974404, velo_perf_minimale=0.4),\n",
       " Row(id=5368, vitesse_a_pied=0.1851575115182178, vitesse_a_velo=0.46289377879554455, home='(lon:8.47 lat:38.78)', travail='(lon:18.86 lat:44.11)', sportif=False, casseur=False, statut='technicien_de_surface', salaire=17672.21198849053, sexe='F', age=33, sportivite=0.925787557591089, velo_perf_minimale=0.4),\n",
       " Row(id=5369, vitesse_a_pied=0.6088693184977101, vitesse_a_velo=1.5221732962442753, home='(lon:32.13 lat:14.82)', travail='(lon:16.86 lat:34.57)', sportif=False, casseur=False, statut='reserviste', salaire=23852.59150461343, sexe='F', age=45, sportivite=3.0443465924885507, velo_perf_minimale=0.4),\n",
       " Row(id=5371, vitesse_a_pied=0.39706349701774196, vitesse_a_velo=0.992658742544355, home='(lon:28.50 lat:6.52)', travail='(lon:15.72 lat:25.07)', sportif=False, casseur=False, statut='éboueur', salaire=10604.232237156044, sexe='F', age=74, sportivite=1.9853174850887099, velo_perf_minimale=0.4),\n",
       " Row(id=5372, vitesse_a_pied=0.4595170279562081, vitesse_a_velo=1.1487925698905201, home='(lon:38.24 lat:42.68)', travail='(lon:42.24 lat:41.65)', sportif=False, casseur=True, statut='technicien_de_surface', salaire=14871.130410232308, sexe='F', age=62, sportivite=2.2975851397810403, velo_perf_minimale=0.4),\n",
       " Row(id=5374, vitesse_a_pied=0.952442028729665, vitesse_a_velo=2.3811050718241624, home='(lon:8.98 lat:18.62)', travail='(lon:30.05 lat:11.12)', sportif=False, casseur=False, statut='technicien_de_surface', salaire=23589.70322366109, sexe='F', age=44, sportivite=4.762210143648325, velo_perf_minimale=0.4),\n",
       " Row(id=5375, vitesse_a_pied=0.02, vitesse_a_velo=0.05, home='(lon:26.11 lat:3.34)', travail='(lon:25.13 lat:7.51)', sportif=False, casseur=False, statut='employe', salaire=7392.30996558039, sexe='F', age=55, sportivite=0.1, velo_perf_minimale=0.4),\n",
       " Row(id=5376, vitesse_a_pied=0.4925382594419304, vitesse_a_velo=1.231345648604826, home='(lon:21.67 lat:19.83)', travail='(lon:38.19 lat:0.05)', sportif=False, casseur=False, statut='éboueur', salaire=12385.337512068425, sexe='F', age=22, sportivite=2.462691297209652, velo_perf_minimale=0.4),\n",
       " Row(id=5378, vitesse_a_pied=0.23807815436420654, vitesse_a_velo=0.5951953859105164, home='(lon:13.37 lat:19.49)', travail='(lon:40.72 lat:29.31)', sportif=False, casseur=False, statut='professeur', salaire=17036.86200522063, sexe='F', age=48, sportivite=1.1903907718210327, velo_perf_minimale=0.4),\n",
       " Row(id=5379, vitesse_a_pied=0.27570500964679023, vitesse_a_velo=0.6892625241169756, home='(lon:25.82 lat:15.01)', travail='(lon:45.91 lat:21.95)', sportif=False, casseur=False, statut='reserviste', salaire=19638.49312078225, sexe='F', age=23, sportivite=1.3785250482339513, velo_perf_minimale=0.4),\n",
       " Row(id=5380, vitesse_a_pied=0.4378232133855457, vitesse_a_velo=1.0945580334638643, home='(lon:41.65 lat:8.65)', travail='(lon:31.00 lat:42.91)', sportif=False, casseur=False, statut='reserviste', salaire=29809.13262734557, sexe='F', age=83, sportivite=2.1891160669277285, velo_perf_minimale=0.4),\n",
       " Row(id=5382, vitesse_a_pied=0.7050616684736413, vitesse_a_velo=1.7626541711841033, home='(lon:1.39 lat:25.90)', travail='(lon:20.65 lat:8.98)', sportif=False, casseur=False, statut='technicien_de_surface', salaire=20314.90829539416, sexe='F', age=70, sportivite=3.5253083423682066, velo_perf_minimale=0.4),\n",
       " Row(id=5384, vitesse_a_pied=0.5582531785540263, vitesse_a_velo=1.3956329463850659, home='(lon:24.67 lat:32.24)', travail='(lon:38.71 lat:25.81)', sportif=False, casseur=False, statut='employe', salaire=20019.192839985488, sexe='F', age=72, sportivite=2.7912658927701317, velo_perf_minimale=0.4),\n",
       " Row(id=5385, vitesse_a_pied=0.6263027461763985, vitesse_a_velo=1.5657568654409961, home='(lon:13.17 lat:16.57)', travail='(lon:11.38 lat:17.21)', sportif=False, casseur=False, statut='cadre', salaire=23965.205800803626, sexe='F', age=26, sportivite=3.1315137308819923, velo_perf_minimale=0.4),\n",
       " Row(id=5386, vitesse_a_pied=0.35119764879796167, vitesse_a_velo=0.8779941219949043, home='(lon:48.70 lat:42.80)', travail='(lon:11.05 lat:30.03)', sportif=False, casseur=False, statut='cadre', salaire=24404.132500845186, sexe='F', age=74, sportivite=1.7559882439898085, velo_perf_minimale=0.4),\n",
       " Row(id=5388, vitesse_a_pied=0.10858180299458389, vitesse_a_velo=0.2714545074864597, home='(lon:48.97 lat:23.74)', travail='(lon:21.87 lat:41.14)', sportif=False, casseur=False, statut='reserviste', salaire=30539.95440510227, sexe='F', age=38, sportivite=0.5429090149729194, velo_perf_minimale=0.4),\n",
       " Row(id=5389, vitesse_a_pied=0.02, vitesse_a_velo=0.05, home='(lon:35.09 lat:7.40)', travail='(lon:8.84 lat:9.07)', sportif=False, casseur=False, statut='technicien_de_surface', salaire=17385.834624114275, sexe='F', age=62, sportivite=0.1, velo_perf_minimale=0.4),\n",
       " Row(id=5392, vitesse_a_pied=0.47161609300008156, vitesse_a_velo=1.1790402325002038, home='(lon:14.78 lat:44.72)', travail='(lon:16.75 lat:18.21)', sportif=False, casseur=False, statut='reserviste', salaire=30064.516501336773, sexe='F', age=26, sportivite=2.3580804650004077, velo_perf_minimale=0.4),\n",
       " Row(id=5393, vitesse_a_pied=0.5148204386267363, vitesse_a_velo=1.287051096566841, home='(lon:36.73 lat:36.48)', travail='(lon:16.17 lat:34.72)', sportif=False, casseur=False, statut='professeur', salaire=25106.836851840435, sexe='F', age=71, sportivite=2.574102193133682, velo_perf_minimale=0.4),\n",
       " Row(id=5395, vitesse_a_pied=0.2680739136487739, vitesse_a_velo=0.6701847841219348, home='(lon:38.56 lat:29.16)', travail='(lon:5.41 lat:25.86)', sportif=False, casseur=False, statut='éboueur', salaire=13419.457174691388, sexe='F', age=71, sportivite=1.3403695682438697, velo_perf_minimale=0.4),\n",
       " Row(id=5397, vitesse_a_pied=0.02, vitesse_a_velo=0.05, home='(lon:0.61 lat:16.35)', travail='(lon:5.71 lat:39.34)', sportif=False, casseur=False, statut='employe', salaire=21798.699982144637, sexe='F', age=41, sportivite=0.1, velo_perf_minimale=0.4),\n",
       " Row(id=5399, vitesse_a_pied=0.457173365975152, vitesse_a_velo=1.14293341493788, home='(lon:27.67 lat:41.67)', travail='(lon:32.57 lat:44.24)', sportif=False, casseur=False, statut='cadre', salaire=23133.004809996622, sexe='F', age=42, sportivite=2.28586682987576, velo_perf_minimale=0.4),\n",
       " Row(id=5400, vitesse_a_pied=0.49293144881525536, vitesse_a_velo=1.2323286220381384, home='(lon:0.83 lat:21.14)', travail='(lon:2.56 lat:14.70)', sportif=False, casseur=False, statut='éboueur', salaire=18421.9995609945, sexe='F', age=22, sportivite=2.464657244076277, velo_perf_minimale=0.4),\n",
       " Row(id=5405, vitesse_a_pied=0.7979629641298359, vitesse_a_velo=1.9949074103245898, home='(lon:13.57 lat:46.85)', travail='(lon:4.41 lat:5.07)', sportif=False, casseur=False, statut='éboueur', salaire=23464.768649641115, sexe='F', age=37, sportivite=3.9898148206491797, velo_perf_minimale=0.4),\n",
       " Row(id=5406, vitesse_a_pied=0.3433528493199157, vitesse_a_velo=0.8583821232997891, home='(lon:17.48 lat:3.75)', travail='(lon:9.89 lat:41.82)', sportif=False, casseur=False, statut='cadre', salaire=32980.631319201166, sexe='F', age=55, sportivite=1.7167642465995785, velo_perf_minimale=0.4),\n",
       " Row(id=5408, vitesse_a_pied=0.02, vitesse_a_velo=0.05, home='(lon:36.02 lat:5.03)', travail='(lon:45.62 lat:31.13)', sportif=False, casseur=False, statut='professeur', salaire=24753.303657946813, sexe='F', age=73, sportivite=0.1, velo_perf_minimale=0.4),\n",
       " Row(id=5409, vitesse_a_pied=0.02, vitesse_a_velo=0.05, home='(lon:13.71 lat:18.48)', travail='(lon:46.66 lat:1.63)', sportif=False, casseur=False, statut='employe', salaire=21356.13467352727, sexe='F', age=75, sportivite=0.1, velo_perf_minimale=0.4),\n",
       " Row(id=5411, vitesse_a_pied=0.6436271571858242, vitesse_a_velo=1.6090678929645605, home='(lon:44.76 lat:1.18)', travail='(lon:18.59 lat:10.73)', sportif=False, casseur=False, statut='employe', salaire=22341.700105574266, sexe='F', age=59, sportivite=3.218135785929121, velo_perf_minimale=0.4),\n",
       " Row(id=5412, vitesse_a_pied=0.14847830838412265, vitesse_a_velo=0.37119577096030665, home='(lon:23.77 lat:38.02)', travail='(lon:3.84 lat:0.05)', sportif=False, casseur=False, statut='cadre', salaire=28712.689626774747, sexe='F', age=69, sportivite=0.7423915419206133, velo_perf_minimale=0.4),\n",
       " Row(id=5414, vitesse_a_pied=0.5908742785544581, vitesse_a_velo=1.4771856963861452, home='(lon:12.52 lat:13.86)', travail='(lon:8.69 lat:13.14)', sportif=False, casseur=False, statut='employe', salaire=16297.81293250145, sexe='F', age=83, sportivite=2.9543713927722903, velo_perf_minimale=0.4),\n",
       " Row(id=5418, vitesse_a_pied=0.12229346839305215, vitesse_a_velo=0.3057336709826304, home='(lon:40.08 lat:4.63)', travail='(lon:22.76 lat:44.35)', sportif=False, casseur=False, statut='professeur', salaire=20506.771270582794, sexe='F', age=32, sportivite=0.6114673419652608, velo_perf_minimale=0.4),\n",
       " Row(id=5420, vitesse_a_pied=0.9075087187965568, vitesse_a_velo=2.268771796991392, home='(lon:18.39 lat:6.49)', travail='(lon:48.41 lat:46.48)', sportif=False, casseur=False, statut='technicien_de_surface', salaire=17958.085356597978, sexe='F', age=26, sportivite=4.537543593982784, velo_perf_minimale=0.4),\n",
       " Row(id=5423, vitesse_a_pied=0.707712687680994, vitesse_a_velo=1.769281719202485, home='(lon:13.23 lat:14.43)', travail='(lon:36.81 lat:27.40)', sportif=False, casseur=False, statut='professeur', salaire=26674.788325505753, sexe='F', age=35, sportivite=3.53856343840497, velo_perf_minimale=0.4),\n",
       " Row(id=5425, vitesse_a_pied=0.02, vitesse_a_velo=0.05, home='(lon:40.13 lat:14.71)', travail='(lon:3.71 lat:36.16)', sportif=False, casseur=False, statut='reserviste', salaire=29220.08490169486, sexe='F', age=29, sportivite=0.1, velo_perf_minimale=0.4),\n",
       " Row(id=5429, vitesse_a_pied=0.2424320255196199, vitesse_a_velo=0.6060800637990498, home='(lon:2.73 lat:0.15)', travail='(lon:10.20 lat:39.03)', sportif=False, casseur=False, statut='éboueur', salaire=18291.48717734394, sexe='F', age=50, sportivite=1.2121601275980995, velo_perf_minimale=0.4),\n",
       " Row(id=5433, vitesse_a_pied=0.8321465646274234, vitesse_a_velo=2.0803664115685585, home='(lon:42.00 lat:35.45)', travail='(lon:11.53 lat:13.05)', sportif=False, casseur=False, statut='professeur', salaire=16978.046379323936, sexe='F', age=66, sportivite=4.160732823137117, velo_perf_minimale=0.4),\n",
       " Row(id=5434, vitesse_a_pied=0.02, vitesse_a_velo=0.05, home='(lon:4.94 lat:24.18)', travail='(lon:32.11 lat:20.15)', sportif=False, casseur=False, statut='cadre', salaire=31706.164844611383, sexe='F', age=37, sportivite=0.1, velo_perf_minimale=0.4),\n",
       " Row(id=5437, vitesse_a_pied=0.8150277640656768, vitesse_a_velo=2.037569410164192, home='(lon:44.35 lat:4.46)', travail='(lon:46.08 lat:39.96)', sportif=False, casseur=False, statut='cadre', salaire=22597.614668605394, sexe='F', age=62, sportivite=4.075138820328384, velo_perf_minimale=0.4),\n",
       " Row(id=5438, vitesse_a_pied=0.4813725049725126, vitesse_a_velo=1.2034312624312815, home='(lon:47.92 lat:15.14)', travail='(lon:10.32 lat:6.10)', sportif=False, casseur=False, statut='reserviste', salaire=31007.57319561756, sexe='F', age=37, sportivite=2.406862524862563, velo_perf_minimale=0.4),\n",
       " Row(id=5443, vitesse_a_pied=0.02, vitesse_a_velo=0.05, home='(lon:42.00 lat:14.70)', travail='(lon:29.98 lat:39.44)', sportif=False, casseur=False, statut='reserviste', salaire=29351.04808881825, sexe='F', age=36, sportivite=0.1, velo_perf_minimale=0.4),\n",
       " Row(id=5447, vitesse_a_pied=0.9202640327899486, vitesse_a_velo=2.3006600819748715, home='(lon:18.53 lat:17.26)', travail='(lon:12.23 lat:31.10)', sportif=False, casseur=False, statut='employe', salaire=16693.64593365834, sexe='F', age=17, sportivite=4.601320163949743, velo_perf_minimale=0.4),\n",
       " Row(id=5451, vitesse_a_pied=0.5729828485590749, vitesse_a_velo=1.4324571213976873, home='(lon:46.52 lat:40.71)', travail='(lon:18.63 lat:40.38)', sportif=False, casseur=False, statut='cadre', salaire=26591.189399423896, sexe='F', age=57, sportivite=2.8649142427953747, velo_perf_minimale=0.4),\n",
       " Row(id=5452, vitesse_a_pied=0.07345944492561665, vitesse_a_velo=0.18364861231404161, home='(lon:2.58 lat:0.47)', travail='(lon:39.17 lat:21.61)', sportif=False, casseur=False, statut='technicien_de_surface', salaire=12753.46309190842, sexe='F', age=65, sportivite=0.36729722462808323, velo_perf_minimale=0.4),\n",
       " Row(id=5453, vitesse_a_pied=0.40673336208805244, vitesse_a_velo=1.016833405220131, home='(lon:32.58 lat:13.18)', travail='(lon:19.53 lat:33.00)', sportif=False, casseur=False, statut='éboueur', salaire=17953.001466903268, sexe='F', age=53, sportivite=2.033666810440262, velo_perf_minimale=0.4),\n",
       " Row(id=5454, vitesse_a_pied=0.36353891656246473, vitesse_a_velo=0.9088472914061618, home='(lon:17.86 lat:38.63)', travail='(lon:30.85 lat:32.09)', sportif=False, casseur=False, statut='professeur', salaire=20096.163370153357, sexe='F', age=77, sportivite=1.8176945828123237, velo_perf_minimale=0.4),\n",
       " Row(id=5455, vitesse_a_pied=0.7092051371347676, vitesse_a_velo=1.7730128428369192, home='(lon:30.01 lat:32.12)', travail='(lon:29.27 lat:34.22)', sportif=False, casseur=False, statut='technicien_de_surface', salaire=16342.474286353388, sexe='F', age=22, sportivite=3.5460256856738384, velo_perf_minimale=0.4),\n",
       " Row(id=5456, vitesse_a_pied=0.02, vitesse_a_velo=0.05, home='(lon:39.27 lat:9.95)', travail='(lon:14.74 lat:10.76)', sportif=False, casseur=False, statut='technicien_de_surface', salaire=17720.040995902975, sexe='F', age=16, sportivite=0.1, velo_perf_minimale=0.4),\n",
       " Row(id=5457, vitesse_a_pied=0.02, vitesse_a_velo=0.05, home='(lon:45.27 lat:11.83)', travail='(lon:26.73 lat:10.57)', sportif=False, casseur=False, statut='technicien_de_surface', salaire=20591.515493230632, sexe='F', age=18, sportivite=0.1, velo_perf_minimale=0.4),\n",
       " Row(id=5463, vitesse_a_pied=0.1829401127173647, vitesse_a_velo=0.45735028179341175, home='(lon:24.67 lat:0.53)', travail='(lon:43.05 lat:45.69)', sportif=False, casseur=False, statut='professeur', salaire=27080.659921160935, sexe='F', age=26, sportivite=0.9147005635868235, velo_perf_minimale=0.4),\n",
       " Row(id=5467, vitesse_a_pied=0.2541905177615016, vitesse_a_velo=0.635476294403754, home='(lon:32.80 lat:13.37)', travail='(lon:41.35 lat:36.95)', sportif=False, casseur=False, statut='cadre', salaire=32808.255724702496, sexe='F', age=29, sportivite=1.270952588807508, velo_perf_minimale=0.4),\n",
       " Row(id=5470, vitesse_a_pied=0.5413609781049356, vitesse_a_velo=1.3534024452623388, home='(lon:35.51 lat:27.69)', travail='(lon:5.58 lat:43.41)', sportif=False, casseur=False, statut='éboueur', salaire=13025.684366143987, sexe='F', age=34, sportivite=2.7068048905246775, velo_perf_minimale=0.4),\n",
       " Row(id=5471, vitesse_a_pied=0.3468373085656181, vitesse_a_velo=0.8670932714140454, home='(lon:47.94 lat:21.72)', travail='(lon:21.11 lat:10.39)', sportif=False, casseur=False, statut='cadre', salaire=24961.983187515347, sexe='F', age=20, sportivite=1.7341865428280907, velo_perf_minimale=0.4),\n",
       " Row(id=5472, vitesse_a_pied=0.9193247115658136, vitesse_a_velo=2.298311778914534, home='(lon:34.95 lat:41.79)', travail='(lon:32.86 lat:3.41)', sportif=False, casseur=False, statut='reserviste', salaire=29144.787987489075, sexe='F', age=31, sportivite=4.596623557829068, velo_perf_minimale=0.4),\n",
       " Row(id=5474, vitesse_a_pied=1.0549993188453546, vitesse_a_velo=2.6374982971133867, home='(lon:28.85 lat:5.61)', travail='(lon:42.81 lat:44.05)', sportif=False, casseur=False, statut='technicien_de_surface', salaire=23224.53630730813, sexe='F', age=80, sportivite=5.274996594226773, velo_perf_minimale=0.4),\n",
       " Row(id=5477, vitesse_a_pied=0.4678667859443658, vitesse_a_velo=1.1696669648609146, home='(lon:47.26 lat:38.62)', travail='(lon:7.78 lat:3.48)', sportif=False, casseur=False, statut='cadre', salaire=22043.138867904046, sexe='F', age=23, sportivite=2.339333929721829, velo_perf_minimale=0.4),\n",
       " Row(id=5478, vitesse_a_pied=1.0873576281094421, vitesse_a_velo=2.718394070273605, home='(lon:17.92 lat:29.39)', travail='(lon:10.40 lat:8.59)', sportif=False, casseur=False, statut='reserviste', salaire=39497.12164906396, sexe='F', age=28, sportivite=5.43678814054721, velo_perf_minimale=0.4),\n",
       " Row(id=5482, vitesse_a_pied=0.2085893418990346, vitesse_a_velo=0.5214733547475865, home='(lon:35.55 lat:45.76)', travail='(lon:22.42 lat:24.02)', sportif=False, casseur=False, statut='éboueur', salaire=14667.18382583275, sexe='F', age=67, sportivite=1.042946709495173, velo_perf_minimale=0.4),\n",
       " Row(id=5484, vitesse_a_pied=0.1389936736745702, vitesse_a_velo=0.34748418418642546, home='(lon:10.20 lat:20.75)', travail='(lon:45.31 lat:30.19)', sportif=False, casseur=True, statut='reserviste', salaire=33248.635521200755, sexe='F', age=52, sportivite=0.6949683683728509, velo_perf_minimale=0.4),\n",
       " Row(id=5494, vitesse_a_pied=0.2826770498518348, vitesse_a_velo=0.7066926246295869, home='(lon:27.46 lat:38.80)', travail='(lon:11.63 lat:3.83)', sportif=False, casseur=False, statut='employe', salaire=25683.30071774452, sexe='F', age=70, sportivite=1.4133852492591739, velo_perf_minimale=0.4),\n",
       " Row(id=5498, vitesse_a_pied=0.7184711344773183, vitesse_a_velo=1.7961778361932956, home='(lon:43.00 lat:13.23)', travail='(lon:46.86 lat:16.82)', sportif=False, casseur=False, statut='cadre', salaire=23137.0734536483, sexe='F', age=69, sportivite=3.5923556723865913, velo_perf_minimale=0.4),\n",
       " Row(id=5499, vitesse_a_pied=0.02, vitesse_a_velo=0.05, home='(lon:21.39 lat:24.19)', travail='(lon:40.58 lat:23.19)', sportif=False, casseur=False, statut='cadre', salaire=33136.49995192427, sexe='F', age=15, sportivite=0.1, velo_perf_minimale=0.4),\n",
       " Row(id=5500, vitesse_a_pied=0.590263753044179, vitesse_a_velo=1.4756593826104474, home='(lon:26.96 lat:6.46)', travail='(lon:40.98 lat:41.42)', sportif=False, casseur=False, statut='cadre', salaire=38818.41846770658, sexe='F', age=55, sportivite=2.9513187652208948, velo_perf_minimale=0.4),\n",
       " Row(id=5501, vitesse_a_pied=0.9744607175990738, vitesse_a_velo=2.4361517939976847, home='(lon:24.28 lat:16.89)', travail='(lon:38.68 lat:28.97)', sportif=False, casseur=False, statut='technicien_de_surface', salaire=13682.437032397842, sexe='F', age=84, sportivite=4.872303587995369, velo_perf_minimale=0.4),\n",
       " Row(id=5502, vitesse_a_pied=0.6907825448897998, vitesse_a_velo=1.7269563622244994, home='(lon:37.49 lat:16.72)', travail='(lon:32.41 lat:14.29)', sportif=False, casseur=False, statut='cadre', salaire=27054.063042397458, sexe='F', age=47, sportivite=3.4539127244489993, velo_perf_minimale=0.4),\n",
       " Row(id=5503, vitesse_a_pied=0.3842578568229912, vitesse_a_velo=0.9606446420574779, home='(lon:11.56 lat:20.46)', travail='(lon:1.06 lat:45.50)', sportif=False, casseur=False, statut='reserviste', salaire=30253.654118937313, sexe='F', age=80, sportivite=1.9212892841149558, velo_perf_minimale=0.4),\n",
       " Row(id=5504, vitesse_a_pied=1.1283485400445892, vitesse_a_velo=2.820871350111473, home='(lon:5.92 lat:46.58)', travail='(lon:43.42 lat:10.56)', sportif=False, casseur=False, statut='reserviste', salaire=38719.26415650466, sexe='F', age=70, sportivite=5.641742700222946, velo_perf_minimale=0.4),\n",
       " Row(id=5506, vitesse_a_pied=0.5031744681305405, vitesse_a_velo=1.2579361703263512, home='(lon:7.84 lat:42.54)', travail='(lon:24.66 lat:28.07)', sportif=False, casseur=False, statut='professeur', salaire=24276.861701004524, sexe='F', age=64, sportivite=2.5158723406527024, velo_perf_minimale=0.4),\n",
       " Row(id=5508, vitesse_a_pied=0.8372110370105392, vitesse_a_velo=2.093027592526348, home='(lon:45.27 lat:37.00)', travail='(lon:16.08 lat:43.48)', sportif=False, casseur=False, statut='technicien_de_surface', salaire=13998.246353495051, sexe='F', age=79, sportivite=4.186055185052696, velo_perf_minimale=0.4),\n",
       " Row(id=5511, vitesse_a_pied=0.02, vitesse_a_velo=0.05, home='(lon:12.25 lat:40.76)', travail='(lon:17.59 lat:24.14)', sportif=False, casseur=False, statut='cadre', salaire=59021.64461176796, sexe='F', age=26, sportivite=0.1, velo_perf_minimale=0.4),\n",
       " Row(id=5513, vitesse_a_pied=0.6999955348842934, vitesse_a_velo=1.7499888372107335, home='(lon:36.11 lat:7.08)', travail='(lon:48.86 lat:33.16)', sportif=False, casseur=False, statut='éboueur', salaire=22176.92537725766, sexe='F', age=84, sportivite=3.4999776744214675, velo_perf_minimale=0.4),\n",
       " Row(id=5514, vitesse_a_pied=0.46943315642811384, vitesse_a_velo=1.1735828910702846, home='(lon:29.65 lat:41.66)', travail='(lon:9.89 lat:34.60)', sportif=False, casseur=False, statut='reserviste', salaire=23502.2450417172, sexe='F', age=23, sportivite=2.347165782140569, velo_perf_minimale=0.4),\n",
       " Row(id=5517, vitesse_a_pied=0.8741308462921275, vitesse_a_velo=2.1853271157303187, home='(lon:3.19 lat:18.57)', travail='(lon:6.86 lat:20.62)', sportif=False, casseur=False, statut='employe', salaire=23627.989625574464, sexe='F', age=17, sportivite=4.370654231460637, velo_perf_minimale=0.4),\n",
       " Row(id=5518, vitesse_a_pied=0.6407180946604238, vitesse_a_velo=1.6017952366510595, home='(lon:46.13 lat:42.05)', travail='(lon:7.32 lat:2.63)', sportif=False, casseur=False, statut='employe', salaire=18621.47635733263, sexe='F', age=80, sportivite=3.203590473302119, velo_perf_minimale=0.4),\n",
       " Row(id=5520, vitesse_a_pied=0.3852748768993885, vitesse_a_velo=0.9631871922484713, home='(lon:45.25 lat:48.98)', travail='(lon:17.87 lat:16.47)', sportif=False, casseur=False, statut='technicien_de_surface', salaire=26418.61185084846, sexe='F', age=45, sportivite=1.9263743844969425, velo_perf_minimale=0.4),\n",
       " Row(id=5523, vitesse_a_pied=0.11424150479850592, vitesse_a_velo=0.2856037619962648, home='(lon:39.08 lat:6.24)', travail='(lon:29.70 lat:7.97)', sportif=False, casseur=False, statut='professeur', salaire=23281.9594630305, sexe='F', age=67, sportivite=0.5712075239925296, velo_perf_minimale=0.4),\n",
       " Row(id=5524, vitesse_a_pied=0.02, vitesse_a_velo=0.05, home='(lon:26.79 lat:39.91)', travail='(lon:24.30 lat:41.40)', sportif=False, casseur=False, statut='reserviste', salaire=22262.491316583106, sexe='F', age=45, sportivite=0.1, velo_perf_minimale=0.4),\n",
       " Row(id=5526, vitesse_a_pied=0.3823374859143536, vitesse_a_velo=0.9558437147858839, home='(lon:19.47 lat:2.86)', travail='(lon:45.77 lat:22.40)', sportif=False, casseur=False, statut='technicien_de_surface', salaire=21816.903238862305, sexe='F', age=65, sportivite=1.911687429571768, velo_perf_minimale=0.4),\n",
       " Row(id=5527, vitesse_a_pied=0.4652515885667131, vitesse_a_velo=1.1631289714167827, home='(lon:4.16 lat:7.72)', travail='(lon:38.34 lat:19.54)', sportif=False, casseur=False, statut='employe', salaire=30150.508859958125, sexe='F', age=16, sportivite=2.3262579428335655, velo_perf_minimale=0.4),\n",
       " Row(id=5529, vitesse_a_pied=0.11505351669224999, vitesse_a_velo=0.287633791730625, home='(lon:18.07 lat:39.87)', travail='(lon:11.94 lat:48.25)', sportif=False, casseur=False, statut='employe', salaire=21493.44711983126, sexe='F', age=44, sportivite=0.57526758346125, velo_perf_minimale=0.4),\n",
       " Row(id=5530, vitesse_a_pied=0.7307355485721506, vitesse_a_velo=1.8268388714303765, home='(lon:35.90 lat:28.41)', travail='(lon:33.98 lat:9.67)', sportif=False, casseur=False, statut='professeur', salaire=21341.23300824164, sexe='F', age=68, sportivite=3.653677742860753, velo_perf_minimale=0.4),\n",
       " Row(id=5531, vitesse_a_pied=1.1454157062319443, vitesse_a_velo=2.8635392655798606, home='(lon:13.76 lat:34.06)', travail='(lon:17.96 lat:24.54)', sportif=False, casseur=False, statut='employe', salaire=18470.43468278106, sexe='F', age=33, sportivite=5.727078531159721, velo_perf_minimale=0.4),\n",
       " Row(id=5532, vitesse_a_pied=0.11436362573694994, vitesse_a_velo=0.28590906434237484, home='(lon:31.74 lat:35.79)', travail='(lon:35.94 lat:13.67)', sportif=False, casseur=False, statut='professeur', salaire=27368.46275731034, sexe='F', age=17, sportivite=0.5718181286847497, velo_perf_minimale=0.4),\n",
       " Row(id=5533, vitesse_a_pied=1.1841168611269182, vitesse_a_velo=2.9602921528172956, home='(lon:10.11 lat:28.47)', travail='(lon:45.47 lat:37.80)', sportif=False, casseur=False, statut='professeur', salaire=28753.823367968438, sexe='F', age=46, sportivite=5.920584305634591, velo_perf_minimale=0.4),\n",
       " Row(id=5534, vitesse_a_pied=0.4372009047992174, vitesse_a_velo=1.0930022619980435, home='(lon:16.40 lat:24.01)', travail='(lon:7.49 lat:27.24)', sportif=False, casseur=False, statut='reserviste', salaire=32778.23312674623, sexe='F', age=51, sportivite=2.186004523996087, velo_perf_minimale=0.4),\n",
       " Row(id=5536, vitesse_a_pied=0.5102795734371228, vitesse_a_velo=1.275698933592807, home='(lon:5.04 lat:27.02)', travail='(lon:2.57 lat:12.45)', sportif=False, casseur=False, statut='cadre', salaire=44181.50851133359, sexe='F', age=51, sportivite=2.551397867185614, velo_perf_minimale=0.4),\n",
       " Row(id=5542, vitesse_a_pied=0.4984199968888535, vitesse_a_velo=1.2460499922221338, home='(lon:24.86 lat:38.22)', travail='(lon:48.47 lat:36.68)', sportif=False, casseur=False, statut='employe', salaire=21043.46554656485, sexe='F', age=77, sportivite=2.4920999844442675, velo_perf_minimale=0.4),\n",
       " Row(id=5545, vitesse_a_pied=0.34001657976843047, vitesse_a_velo=0.8500414494210762, home='(lon:47.47 lat:10.28)', travail='(lon:0.46 lat:37.01)', sportif=False, casseur=False, statut='professeur', salaire=29302.01520743528, sexe='F', age=20, sportivite=1.7000828988421524, velo_perf_minimale=0.4),\n",
       " Row(id=5546, vitesse_a_pied=0.7437598586857233, vitesse_a_velo=1.8593996467143081, home='(lon:40.28 lat:47.35)', travail='(lon:35.82 lat:5.68)', sportif=False, casseur=False, statut='technicien_de_surface', salaire=21002.444796187683, sexe='F', age=39, sportivite=3.7187992934286163, velo_perf_minimale=0.4),\n",
       " Row(id=5547, vitesse_a_pied=1.555806785697804, vitesse_a_velo=3.8895169642445095, home='(lon:39.25 lat:5.34)', travail='(lon:38.80 lat:31.86)', sportif=False, casseur=False, statut='cadre', salaire=23749.778742973795, sexe='F', age=84, sportivite=7.77903392848902, velo_perf_minimale=0.4),\n",
       " Row(id=5551, vitesse_a_pied=0.4277777880753323, vitesse_a_velo=1.0694444701883308, home='(lon:9.26 lat:40.29)', travail='(lon:3.91 lat:12.55)', sportif=False, casseur=False, statut='éboueur', salaire=13441.939568620479, sexe='F', age=64, sportivite=2.1388889403766616, velo_perf_minimale=0.4),\n",
       " Row(id=5552, vitesse_a_pied=1.0480612220702894, vitesse_a_velo=2.6201530551757237, home='(lon:38.49 lat:47.91)', travail='(lon:41.06 lat:19.05)', sportif=False, casseur=False, statut='cadre', salaire=21121.79066536916, sexe='F', age=34, sportivite=5.240306110351447, velo_perf_minimale=0.4),\n",
       " Row(id=5554, vitesse_a_pied=0.22681137024036468, vitesse_a_velo=0.5670284256009117, home='(lon:16.46 lat:9.44)', travail='(lon:20.43 lat:13.04)', sportif=False, casseur=False, statut='éboueur', salaire=21256.821855302547, sexe='F', age=15, sportivite=1.1340568512018234, velo_perf_minimale=0.4),\n",
       " Row(id=5555, vitesse_a_pied=0.5745623804092388, vitesse_a_velo=1.436405951023097, home='(lon:36.25 lat:26.34)', travail='(lon:17.92 lat:15.19)', sportif=False, casseur=False, statut='cadre', salaire=24651.112006480023, sexe='F', age=84, sportivite=2.872811902046194, velo_perf_minimale=0.4),\n",
       " Row(id=5558, vitesse_a_pied=1.2135987324903148, vitesse_a_velo=3.033996831225787, home='(lon:6.87 lat:43.02)', travail='(lon:43.23 lat:5.16)', sportif=False, casseur=False, statut='professeur', salaire=21831.918692891904, sexe='F', age=74, sportivite=6.067993662451574, velo_perf_minimale=0.4),\n",
       " Row(id=5560, vitesse_a_pied=0.5836929742371041, vitesse_a_velo=1.4592324355927602, home='(lon:7.45 lat:24.80)', travail='(lon:21.68 lat:39.69)', sportif=False, casseur=False, statut='cadre', salaire=27820.03072283903, sexe='F', age=81, sportivite=2.9184648711855203, velo_perf_minimale=0.4),\n",
       " Row(id=5563, vitesse_a_pied=0.4795496379476979, vitesse_a_velo=1.1988740948692447, home='(lon:1.81 lat:2.68)', travail='(lon:31.83 lat:44.92)', sportif=False, casseur=False, statut='reserviste', salaire=37603.632648896324, sexe='F', age=28, sportivite=2.3977481897384894, velo_perf_minimale=0.4),\n",
       " Row(id=5564, vitesse_a_pied=0.6101188975111445, vitesse_a_velo=1.5252972437778611, home='(lon:15.27 lat:31.72)', travail='(lon:15.48 lat:10.43)', sportif=False, casseur=False, statut='cadre', salaire=29106.449431203368, sexe='F', age=27, sportivite=3.0505944875557223, velo_perf_minimale=0.4),\n",
       " Row(id=5570, vitesse_a_pied=1.0581578184886165, vitesse_a_velo=2.6453945462215414, home='(lon:21.43 lat:38.33)', travail='(lon:48.04 lat:0.27)', sportif=False, casseur=False, statut='employe', salaire=14285.453293314411, sexe='F', age=39, sportivite=5.290789092443083, velo_perf_minimale=0.4),\n",
       " Row(id=5571, vitesse_a_pied=0.5235679465423569, vitesse_a_velo=1.3089198663558923, home='(lon:14.75 lat:41.34)', travail='(lon:36.48 lat:40.95)', sportif=False, casseur=False, statut='éboueur', salaire=21096.47754404932, sexe='F', age=41, sportivite=2.6178397327117846, velo_perf_minimale=0.4),\n",
       " Row(id=5575, vitesse_a_pied=0.42282515971656476, vitesse_a_velo=1.057062899291412, home='(lon:48.43 lat:29.14)', travail='(lon:13.05 lat:25.41)', sportif=False, casseur=False, statut='cadre', salaire=26135.743366938386, sexe='F', age=42, sportivite=2.114125798582824, velo_perf_minimale=0.4),\n",
       " Row(id=5576, vitesse_a_pied=0.06673679017440537, vitesse_a_velo=0.16684197543601342, home='(lon:4.95 lat:47.59)', travail='(lon:7.88 lat:42.54)', sportif=False, casseur=False, statut='technicien_de_surface', salaire=18307.777417947746, sexe='F', age=45, sportivite=0.33368395087202685, velo_perf_minimale=0.4),\n",
       " Row(id=5579, vitesse_a_pied=0.7797878751174292, vitesse_a_velo=1.949469687793573, home='(lon:36.06 lat:13.73)', travail='(lon:1.19 lat:31.73)', sportif=False, casseur=False, statut='reserviste', salaire=35096.5366337986, sexe='F', age=62, sportivite=3.898939375587146, velo_perf_minimale=0.4),\n",
       " Row(id=5581, vitesse_a_pied=0.5366359127443354, vitesse_a_velo=1.3415897818608387, home='(lon:41.31 lat:5.81)', travail='(lon:9.55 lat:48.79)', sportif=False, casseur=False, statut='technicien_de_surface', salaire=11287.789719823171, sexe='F', age=78, sportivite=2.6831795637216773, velo_perf_minimale=0.4),\n",
       " Row(id=5586, vitesse_a_pied=0.3615980311120377, vitesse_a_velo=0.9039950777800942, home='(lon:28.31 lat:30.48)', travail='(lon:29.86 lat:9.84)', sportif=False, casseur=False, statut='professeur', salaire=15207.534336911149, sexe='F', age=45, sportivite=1.8079901555601885, velo_perf_minimale=0.4),\n",
       " Row(id=5587, vitesse_a_pied=0.464236011395528, vitesse_a_velo=1.16059002848882, home='(lon:1.72 lat:36.58)', travail='(lon:12.08 lat:19.40)', sportif=False, casseur=False, statut='cadre', salaire=25644.485751035787, sexe='F', age=39, sportivite=2.32118005697764, velo_perf_minimale=0.4),\n",
       " Row(id=5589, vitesse_a_pied=0.3506549327963314, vitesse_a_velo=0.8766373319908285, home='(lon:29.67 lat:13.70)', travail='(lon:26.21 lat:35.72)', sportif=False, casseur=True, statut='employe', salaire=24625.644327287097, sexe='F', age=80, sportivite=1.753274663981657, velo_perf_minimale=0.4),\n",
       " Row(id=5592, vitesse_a_pied=0.4782134320839166, vitesse_a_velo=1.1955335802097915, home='(lon:3.04 lat:9.80)', travail='(lon:14.72 lat:22.60)', sportif=False, casseur=False, statut='technicien_de_surface', salaire=11489.653241242995, sexe='F', age=51, sportivite=2.391067160419583, velo_perf_minimale=0.4),\n",
       " Row(id=5594, vitesse_a_pied=0.8227882960256508, vitesse_a_velo=2.056970740064127, home='(lon:19.95 lat:44.11)', travail='(lon:31.19 lat:30.19)', sportif=False, casseur=False, statut='professeur', salaire=27328.470352744112, sexe='F', age=77, sportivite=4.113941480128254, velo_perf_minimale=0.4),\n",
       " Row(id=5596, vitesse_a_pied=0.2699345201491331, vitesse_a_velo=0.6748363003728328, home='(lon:20.89 lat:48.14)', travail='(lon:28.56 lat:8.56)', sportif=False, casseur=False, statut='reserviste', salaire=24266.708780385474, sexe='F', age=45, sportivite=1.3496726007456656, velo_perf_minimale=0.4),\n",
       " Row(id=5597, vitesse_a_pied=0.6758598548527319, vitesse_a_velo=1.6896496371318297, home='(lon:34.12 lat:12.94)', travail='(lon:2.25 lat:36.66)', sportif=False, casseur=False, statut='éboueur', salaire=12408.241500839771, sexe='F', age=27, sportivite=3.3792992742636594, velo_perf_minimale=0.4),\n",
       " Row(id=5598, vitesse_a_pied=0.02, vitesse_a_velo=0.05, home='(lon:38.37 lat:19.81)', travail='(lon:34.48 lat:25.03)', sportif=False, casseur=False, statut='cadre', salaire=22475.047814349084, sexe='F', age=21, sportivite=0.1, velo_perf_minimale=0.4),\n",
       " Row(id=5600, vitesse_a_pied=0.02, vitesse_a_velo=0.05, home='(lon:12.35 lat:34.23)', travail='(lon:38.77 lat:8.82)', sportif=False, casseur=False, statut='employe', salaire=23843.812442226837, sexe='F', age=62, sportivite=0.1, velo_perf_minimale=0.4),\n",
       " Row(id=5602, vitesse_a_pied=0.3625321470536648, vitesse_a_velo=0.9063303676341621, home='(lon:15.48 lat:33.69)', travail='(lon:2.57 lat:6.16)', sportif=False, casseur=False, statut='cadre', salaire=27715.188375114787, sexe='F', age=63, sportivite=1.8126607352683242, velo_perf_minimale=0.4),\n",
       " Row(id=5604, vitesse_a_pied=0.3476513021031222, vitesse_a_velo=0.8691282552578056, home='(lon:5.44 lat:30.88)', travail='(lon:30.10 lat:48.19)', sportif=False, casseur=False, statut='cadre', salaire=22198.482331580664, sexe='F', age=16, sportivite=1.738256510515611, velo_perf_minimale=0.4),\n",
       " Row(id=5606, vitesse_a_pied=0.3919525609635188, vitesse_a_velo=0.9798814024087971, home='(lon:35.02 lat:30.38)', travail='(lon:32.99 lat:18.50)', sportif=False, casseur=False, statut='technicien_de_surface', salaire=21067.371967561478, sexe='F', age=31, sportivite=1.9597628048175941, velo_perf_minimale=0.4),\n",
       " Row(id=5614, vitesse_a_pied=0.6735018706606567, vitesse_a_velo=1.6837546766516418, home='(lon:16.80 lat:40.52)', travail='(lon:0.53 lat:6.12)', sportif=False, casseur=False, statut='technicien_de_surface', salaire=21441.815980675303, sexe='F', age=20, sportivite=3.3675093533032836, velo_perf_minimale=0.4),\n",
       " Row(id=5615, vitesse_a_pied=0.21783678823636848, vitesse_a_velo=0.5445919705909212, home='(lon:43.52 lat:23.32)', travail='(lon:2.18 lat:13.61)', sportif=False, casseur=False, statut='technicien_de_surface', salaire=18784.82411937633, sexe='F', age=65, sportivite=1.0891839411818425, velo_perf_minimale=0.4),\n",
       " Row(id=5616, vitesse_a_pied=0.5473342073256345, vitesse_a_velo=1.3683355183140864, home='(lon:6.53 lat:34.81)', travail='(lon:0.48 lat:17.24)', sportif=False, casseur=False, statut='éboueur', salaire=20820.177608181573, sexe='F', age=33, sportivite=2.736671036628173, velo_perf_minimale=0.4),\n",
       " Row(id=5617, vitesse_a_pied=0.36794233622957556, vitesse_a_velo=0.9198558405739389, home='(lon:33.71 lat:8.13)', travail='(lon:5.54 lat:41.89)', sportif=False, casseur=False, statut='reserviste', salaire=31664.506278859, sexe='F', age=53, sportivite=1.8397116811478778, velo_perf_minimale=0.4),\n",
       " Row(id=5618, vitesse_a_pied=0.5011380901533282, vitesse_a_velo=1.2528452253833204, home='(lon:40.68 lat:2.42)', travail='(lon:28.27 lat:33.33)', sportif=False, casseur=False, statut='éboueur', salaire=15739.989880092204, sexe='F', age=36, sportivite=2.505690450766641, velo_perf_minimale=0.4),\n",
       " Row(id=5620, vitesse_a_pied=0.5260816743261071, vitesse_a_velo=1.3152041858152677, home='(lon:14.05 lat:17.77)', travail='(lon:28.57 lat:23.91)', sportif=False, casseur=False, statut='reserviste', salaire=23771.354003328215, sexe='F', age=35, sportivite=2.6304083716305353, velo_perf_minimale=0.4),\n",
       " Row(id=5621, vitesse_a_pied=0.5351071722197742, vitesse_a_velo=1.3377679305494357, home='(lon:6.01 lat:22.06)', travail='(lon:14.13 lat:48.38)', sportif=False, casseur=False, statut='technicien_de_surface', salaire=20407.36581098978, sexe='F', age=31, sportivite=2.6755358610988713, velo_perf_minimale=0.4),\n",
       " Row(id=5623, vitesse_a_pied=0.02, vitesse_a_velo=0.05, home='(lon:21.31 lat:4.37)', travail='(lon:29.23 lat:7.42)', sportif=False, casseur=False, statut='employe', salaire=19806.020756860285, sexe='F', age=60, sportivite=0.1, velo_perf_minimale=0.4),\n",
       " Row(id=5630, vitesse_a_pied=0.02, vitesse_a_velo=0.05, home='(lon:15.11 lat:10.59)', travail='(lon:15.97 lat:32.56)', sportif=False, casseur=False, statut='employe', salaire=12045.894063416205, sexe='F', age=83, sportivite=0.1, velo_perf_minimale=0.4),\n",
       " Row(id=5631, vitesse_a_pied=0.02, vitesse_a_velo=0.05, home='(lon:4.56 lat:6.70)', travail='(lon:28.46 lat:32.95)', sportif=False, casseur=False, statut='cadre', salaire=27590.713658384204, sexe='F', age=53, sportivite=0.1, velo_perf_minimale=0.4),\n",
       " Row(id=5633, vitesse_a_pied=0.1798288152161985, vitesse_a_velo=0.4495720380404963, home='(lon:48.43 lat:23.60)', travail='(lon:0.35 lat:38.11)', sportif=False, casseur=False, statut='professeur', salaire=18977.306370517406, sexe='F', age=79, sportivite=0.8991440760809926, velo_perf_minimale=0.4),\n",
       " Row(id=5637, vitesse_a_pied=0.02, vitesse_a_velo=0.05, home='(lon:1.26 lat:30.47)', travail='(lon:42.92 lat:40.64)', sportif=False, casseur=False, statut='cadre', salaire=19395.345169564316, sexe='F', age=65, sportivite=0.1, velo_perf_minimale=0.4),\n",
       " Row(id=5638, vitesse_a_pied=0.8322423599264844, vitesse_a_velo=2.080605899816211, home='(lon:41.15 lat:39.02)', travail='(lon:10.17 lat:20.58)', sportif=False, casseur=False, statut='cadre', salaire=39986.858730102555, sexe='F', age=30, sportivite=4.161211799632422, velo_perf_minimale=0.4),\n",
       " Row(id=5639, vitesse_a_pied=1.125223565120354, vitesse_a_velo=2.813058912800885, home='(lon:25.41 lat:30.39)', travail='(lon:24.96 lat:42.09)', sportif=False, casseur=False, statut='reserviste', salaire=25095.024799504805, sexe='F', age=79, sportivite=5.62611782560177, velo_perf_minimale=0.4),\n",
       " Row(id=5643, vitesse_a_pied=0.2652073839265886, vitesse_a_velo=0.6630184598164715, home='(lon:2.54 lat:19.83)', travail='(lon:0.12 lat:11.39)', sportif=False, casseur=False, statut='employe', salaire=17148.991899604534, sexe='F', age=67, sportivite=1.326036919632943, velo_perf_minimale=0.4),\n",
       " Row(id=5644, vitesse_a_pied=0.6072252688106692, vitesse_a_velo=1.518063172026673, home='(lon:13.61 lat:1.00)', travail='(lon:34.48 lat:46.31)', sportif=False, casseur=True, statut='éboueur', salaire=12567.37617457591, sexe='F', age=28, sportivite=3.036126344053346, velo_perf_minimale=0.4),\n",
       " Row(id=5645, vitesse_a_pied=0.7170334241299345, vitesse_a_velo=1.7925835603248363, home='(lon:24.49 lat:22.05)', travail='(lon:48.55 lat:31.49)', sportif=False, casseur=True, statut='cadre', salaire=15864.939683997693, sexe='F', age=84, sportivite=3.5851671206496727, velo_perf_minimale=0.4),\n",
       " Row(id=5647, vitesse_a_pied=0.9457271083361887, vitesse_a_velo=2.3643177708404717, home='(lon:9.69 lat:0.54)', travail='(lon:15.75 lat:17.03)', sportif=False, casseur=False, statut='technicien_de_surface', salaire=22048.733766872672, sexe='F', age=35, sportivite=4.728635541680943, velo_perf_minimale=0.4),\n",
       " Row(id=5650, vitesse_a_pied=0.23023081950082122, vitesse_a_velo=0.5755770487520531, home='(lon:19.97 lat:8.14)', travail='(lon:18.55 lat:8.96)', sportif=False, casseur=False, statut='technicien_de_surface', salaire=22445.162346547197, sexe='F', age=79, sportivite=1.1511540975041061, velo_perf_minimale=0.4),\n",
       " Row(id=5651, vitesse_a_pied=0.20168667090654568, vitesse_a_velo=0.5042166772663642, home='(lon:21.18 lat:47.24)', travail='(lon:0.70 lat:38.56)', sportif=False, casseur=False, statut='employe', salaire=28084.485592012657, sexe='F', age=53, sportivite=1.0084333545327284, velo_perf_minimale=0.4),\n",
       " Row(id=5654, vitesse_a_pied=0.7649304679665047, vitesse_a_velo=1.912326169916262, home='(lon:0.64 lat:39.01)', travail='(lon:31.02 lat:13.92)', sportif=False, casseur=False, statut='éboueur', salaire=21698.090135865114, sexe='F', age=55, sportivite=3.8246523398325234, velo_perf_minimale=0.4),\n",
       " Row(id=5656, vitesse_a_pied=0.02, vitesse_a_velo=0.05, home='(lon:6.69 lat:47.98)', travail='(lon:33.27 lat:19.93)', sportif=False, casseur=False, statut='reserviste', salaire=29699.871584670556, sexe='F', age=63, sportivite=0.1, velo_perf_minimale=0.4),\n",
       " Row(id=5661, vitesse_a_pied=0.02, vitesse_a_velo=0.05, home='(lon:15.70 lat:43.67)', travail='(lon:20.25 lat:0.18)', sportif=False, casseur=False, statut='technicien_de_surface', salaire=11309.67559224571, sexe='F', age=52, sportivite=0.1, velo_perf_minimale=0.4),\n",
       " Row(id=5664, vitesse_a_pied=0.3727520088823853, vitesse_a_velo=0.9318800222059632, home='(lon:42.76 lat:39.60)', travail='(lon:34.63 lat:48.40)', sportif=False, casseur=False, statut='éboueur', salaire=18073.18850274231, sexe='F', age=71, sportivite=1.8637600444119264, velo_perf_minimale=0.4),\n",
       " Row(id=5665, vitesse_a_pied=0.02, vitesse_a_velo=0.05, home='(lon:1.34 lat:23.26)', travail='(lon:8.39 lat:17.55)', sportif=False, casseur=False, statut='reserviste', salaire=22981.293559545273, sexe='F', age=18, sportivite=0.1, velo_perf_minimale=0.4),\n",
       " Row(id=5666, vitesse_a_pied=0.7354177928614474, vitesse_a_velo=1.8385444821536185, home='(lon:25.82 lat:44.95)', travail='(lon:22.39 lat:5.07)', sportif=False, casseur=False, statut='professeur', salaire=18605.713365822194, sexe='F', age=43, sportivite=3.677088964307237, velo_perf_minimale=0.4),\n",
       " Row(id=5667, vitesse_a_pied=0.7765651781562661, vitesse_a_velo=1.9414129453906654, home='(lon:27.29 lat:24.29)', travail='(lon:47.46 lat:40.57)', sportif=False, casseur=False, statut='reserviste', salaire=41132.24856284279, sexe='F', age=56, sportivite=3.882825890781331, velo_perf_minimale=0.4),\n",
       " Row(id=5668, vitesse_a_pied=0.5871392360585685, vitesse_a_velo=1.4678480901464213, home='(lon:2.26 lat:32.09)', travail='(lon:37.57 lat:3.79)', sportif=False, casseur=False, statut='cadre', salaire=36063.126300161966, sexe='F', age=75, sportivite=2.9356961802928425, velo_perf_minimale=0.4),\n",
       " Row(id=5669, vitesse_a_pied=0.7589101702383875, vitesse_a_velo=1.8972754255959685, home='(lon:9.60 lat:39.29)', travail='(lon:9.12 lat:20.14)', sportif=False, casseur=False, statut='professeur', salaire=27366.094864685652, sexe='F', age=37, sportivite=3.7945508511919375, velo_perf_minimale=0.4),\n",
       " Row(id=5670, vitesse_a_pied=0.26683243408717217, vitesse_a_velo=0.6670810852179304, home='(lon:38.33 lat:7.55)', travail='(lon:9.33 lat:4.22)', sportif=False, casseur=False, statut='éboueur', salaire=21296.96410223492, sexe='F', age=33, sportivite=1.3341621704358608, velo_perf_minimale=0.4),\n",
       " Row(id=5673, vitesse_a_pied=0.02, vitesse_a_velo=0.05, home='(lon:36.62 lat:22.76)', travail='(lon:35.06 lat:19.96)', sportif=False, casseur=False, statut='éboueur', salaire=20033.88258332259, sexe='F', age=54, sportivite=0.1, velo_perf_minimale=0.4),\n",
       " Row(id=5674, vitesse_a_pied=0.7796591090613868, vitesse_a_velo=1.949147772653467, home='(lon:34.39 lat:29.17)', travail='(lon:11.41 lat:17.36)', sportif=False, casseur=False, statut='employe', salaire=17892.95329230286, sexe='F', age=78, sportivite=3.898295545306934, velo_perf_minimale=0.4),\n",
       " Row(id=5675, vitesse_a_pied=0.44668454829103527, vitesse_a_velo=1.1167113707275882, home='(lon:17.53 lat:2.02)', travail='(lon:2.06 lat:26.23)', sportif=False, casseur=False, statut='reserviste', salaire=31282.211180708393, sexe='F', age=64, sportivite=2.2334227414551764, velo_perf_minimale=0.4),\n",
       " Row(id=5677, vitesse_a_pied=0.45644370828407965, vitesse_a_velo=1.141109270710199, home='(lon:18.97 lat:26.16)', travail='(lon:1.84 lat:24.22)', sportif=False, casseur=False, statut='technicien_de_surface', salaire=15807.385715666385, sexe='F', age=50, sportivite=2.282218541420398, velo_perf_minimale=0.4),\n",
       " Row(id=5679, vitesse_a_pied=0.5031683941157687, vitesse_a_velo=1.2579209852894218, home='(lon:15.43 lat:13.73)', travail='(lon:25.03 lat:42.95)', sportif=False, casseur=False, statut='reserviste', salaire=30247.13263314953, sexe='F', age=43, sportivite=2.5158419705788435, velo_perf_minimale=0.4),\n",
       " Row(id=5680, vitesse_a_pied=0.02, vitesse_a_velo=0.05, home='(lon:47.81 lat:26.88)', travail='(lon:48.01 lat:1.97)', sportif=False, casseur=False, statut='cadre', salaire=26111.208914890147, sexe='F', age=73, sportivite=0.1, velo_perf_minimale=0.4),\n",
       " Row(id=5682, vitesse_a_pied=0.7551762918675833, vitesse_a_velo=1.887940729668958, home='(lon:14.76 lat:30.79)', travail='(lon:27.22 lat:46.20)', sportif=False, casseur=False, statut='reserviste', salaire=33873.462321304956, sexe='F', age=64, sportivite=3.775881459337916, velo_perf_minimale=0.4),\n",
       " Row(id=5685, vitesse_a_pied=0.08011947378264077, vitesse_a_velo=0.20029868445660193, home='(lon:13.34 lat:35.73)', travail='(lon:44.05 lat:31.08)', sportif=False, casseur=False, statut='reserviste', salaire=34886.056415268984, sexe='F', age=47, sportivite=0.40059736891320386, velo_perf_minimale=0.4),\n",
       " Row(id=5688, vitesse_a_pied=0.6345995944920342, vitesse_a_velo=1.5864989862300856, home='(lon:10.65 lat:19.08)', travail='(lon:37.95 lat:37.75)', sportif=False, casseur=False, statut='technicien_de_surface', salaire=17684.647896414685, sexe='F', age=44, sportivite=3.172997972460171, velo_perf_minimale=0.4),\n",
       " Row(id=5691, vitesse_a_pied=0.8082270135003862, vitesse_a_velo=2.0205675337509654, home='(lon:42.94 lat:10.99)', travail='(lon:14.75 lat:36.37)', sportif=False, casseur=False, statut='technicien_de_surface', salaire=14089.34792089161, sexe='F', age=62, sportivite=4.041135067501931, velo_perf_minimale=0.4),\n",
       " Row(id=5693, vitesse_a_pied=0.4593984879230601, vitesse_a_velo=1.1484962198076503, home='(lon:44.60 lat:1.08)', travail='(lon:31.02 lat:47.60)', sportif=False, casseur=False, statut='technicien_de_surface', salaire=19340.27781152483, sexe='F', age=68, sportivite=2.2969924396153005, velo_perf_minimale=0.4),\n",
       " Row(id=5695, vitesse_a_pied=0.027991390202503918, vitesse_a_velo=0.0699784755062598, home='(lon:17.77 lat:33.57)', travail='(lon:3.13 lat:36.99)', sportif=False, casseur=False, statut='employe', salaire=32557.964856926144, sexe='F', age=62, sportivite=0.1399569510125196, velo_perf_minimale=0.4),\n",
       " Row(id=5697, vitesse_a_pied=0.9291665079325655, vitesse_a_velo=2.322916269831414, home='(lon:26.66 lat:14.39)', travail='(lon:42.85 lat:20.28)', sportif=False, casseur=False, statut='éboueur', salaire=17932.054277614643, sexe='F', age=69, sportivite=4.645832539662828, velo_perf_minimale=0.4),\n",
       " Row(id=5701, vitesse_a_pied=0.3689934087658156, vitesse_a_velo=0.9224835219145391, home='(lon:36.21 lat:31.00)', travail='(lon:26.54 lat:22.32)', sportif=False, casseur=False, statut='éboueur', salaire=12582.616652331768, sexe='F', age=76, sportivite=1.844967043829078, velo_perf_minimale=0.4),\n",
       " Row(id=5703, vitesse_a_pied=0.04402447333277637, vitesse_a_velo=0.11006118333194093, home='(lon:32.00 lat:45.51)', travail='(lon:26.72 lat:7.37)', sportif=False, casseur=False, statut='reserviste', salaire=31015.1642365126, sexe='F', age=84, sportivite=0.22012236666388185, velo_perf_minimale=0.4),\n",
       " Row(id=5704, vitesse_a_pied=0.02, vitesse_a_velo=0.05, home='(lon:31.00 lat:36.55)', travail='(lon:32.28 lat:18.58)', sportif=False, casseur=True, statut='cadre', salaire=37630.67734736526, sexe='F', age=48, sportivite=0.1, velo_perf_minimale=0.4),\n",
       " Row(id=5706, vitesse_a_pied=0.5126762435735506, vitesse_a_velo=1.2816906089338764, home='(lon:16.85 lat:45.70)', travail='(lon:11.01 lat:30.51)', sportif=False, casseur=False, statut='éboueur', salaire=16504.690019076137, sexe='F', age=25, sportivite=2.563381217867753, velo_perf_minimale=0.4),\n",
       " Row(id=5707, vitesse_a_pied=0.02, vitesse_a_velo=0.05, home='(lon:11.39 lat:37.57)', travail='(lon:23.85 lat:22.95)', sportif=False, casseur=False, statut='reserviste', salaire=22949.317580170253, sexe='F', age=84, sportivite=0.1, velo_perf_minimale=0.4),\n",
       " Row(id=5710, vitesse_a_pied=0.24563567856504614, vitesse_a_velo=0.6140891964126154, home='(lon:10.20 lat:23.00)', travail='(lon:18.95 lat:35.42)', sportif=False, casseur=False, statut='cadre', salaire=40791.28478110689, sexe='F', age=84, sportivite=1.2281783928252308, velo_perf_minimale=0.4),\n",
       " Row(id=5715, vitesse_a_pied=0.8644597340437574, vitesse_a_velo=2.1611493351093936, home='(lon:9.27 lat:41.75)', travail='(lon:42.88 lat:11.22)', sportif=False, casseur=False, statut='professeur', salaire=20463.593770964475, sexe='F', age=58, sportivite=4.322298670218787, velo_perf_minimale=0.4),\n",
       " Row(id=5716, vitesse_a_pied=0.9060081975000112, vitesse_a_velo=2.265020493750028, home='(lon:34.61 lat:45.39)', travail='(lon:16.76 lat:1.90)', sportif=False, casseur=False, statut='employe', salaire=25532.404223270976, sexe='F', age=54, sportivite=4.530040987500056, velo_perf_minimale=0.4),\n",
       " Row(id=5717, vitesse_a_pied=0.11467544064796789, vitesse_a_velo=0.2866886016199197, home='(lon:25.27 lat:26.30)', travail='(lon:31.80 lat:48.21)', sportif=False, casseur=False, statut='professeur', salaire=24036.785616569316, sexe='F', age=43, sportivite=0.5733772032398394, velo_perf_minimale=0.4),\n",
       " Row(id=5718, vitesse_a_pied=0.17996248122437222, vitesse_a_velo=0.44990620306093054, home='(lon:0.07 lat:26.71)', travail='(lon:29.68 lat:7.97)', sportif=False, casseur=False, statut='technicien_de_surface', salaire=18484.374167528338, sexe='F', age=65, sportivite=0.8998124061218611, velo_perf_minimale=0.4),\n",
       " Row(id=5719, vitesse_a_pied=0.5345476885617901, vitesse_a_velo=1.3363692214044753, home='(lon:36.45 lat:5.39)', travail='(lon:38.90 lat:21.70)', sportif=False, casseur=False, statut='reserviste', salaire=39781.251634001055, sexe='F', age=58, sportivite=2.6727384428089507, velo_perf_minimale=0.4),\n",
       " Row(id=5720, vitesse_a_pied=0.30226050443361846, vitesse_a_velo=0.7556512610840461, home='(lon:17.58 lat:21.69)', travail='(lon:22.21 lat:18.10)', sportif=False, casseur=False, statut='technicien_de_surface', salaire=17231.216926648092, sexe='F', age=60, sportivite=1.5113025221680922, velo_perf_minimale=0.4),\n",
       " Row(id=5721, vitesse_a_pied=0.4232863785717673, vitesse_a_velo=1.0582159464294183, home='(lon:37.29 lat:32.42)', travail='(lon:23.40 lat:4.82)', sportif=False, casseur=False, statut='professeur', salaire=13034.530513050857, sexe='F', age=72, sportivite=2.1164318928588366, velo_perf_minimale=0.4),\n",
       " Row(id=5723, vitesse_a_pied=0.2821179301315467, vitesse_a_velo=0.7052948253288667, home='(lon:17.37 lat:43.98)', travail='(lon:4.35 lat:9.08)', sportif=False, casseur=False, statut='technicien_de_surface', salaire=22745.84092068776, sexe='F', age=84, sportivite=1.4105896506577333, velo_perf_minimale=0.4),\n",
       " Row(id=5724, vitesse_a_pied=0.3966579986224211, vitesse_a_velo=0.9916449965560528, home='(lon:8.26 lat:48.52)', travail='(lon:46.09 lat:45.90)', sportif=False, casseur=False, statut='reserviste', salaire=39317.533163250424, sexe='F', age=49, sportivite=1.9832899931121055, velo_perf_minimale=0.4),\n",
       " Row(id=5725, vitesse_a_pied=0.9040958916672203, vitesse_a_velo=2.2602397291680507, home='(lon:11.68 lat:47.91)', travail='(lon:35.25 lat:12.82)', sportif=False, casseur=False, statut='cadre', salaire=39042.07165562923, sexe='F', age=22, sportivite=4.520479458336101, velo_perf_minimale=0.4),\n",
       " Row(id=5726, vitesse_a_pied=0.7074275244621115, vitesse_a_velo=1.7685688111552789, home='(lon:1.48 lat:24.68)', travail='(lon:39.20 lat:9.65)', sportif=False, casseur=False, statut='reserviste', salaire=32064.653550439936, sexe='F', age=50, sportivite=3.5371376223105577, velo_perf_minimale=0.4),\n",
       " Row(id=5727, vitesse_a_pied=1.000818086104657, vitesse_a_velo=2.502045215261642, home='(lon:47.20 lat:44.69)', travail='(lon:20.37 lat:46.66)', sportif=False, casseur=False, statut='cadre', salaire=32893.926762053125, sexe='F', age=29, sportivite=5.004090430523284, velo_perf_minimale=0.4),\n",
       " Row(id=5728, vitesse_a_pied=0.6179314447213716, vitesse_a_velo=1.5448286118034291, home='(lon:39.63 lat:11.21)', travail='(lon:24.55 lat:28.43)', sportif=False, casseur=False, statut='professeur', salaire=24624.631949247378, sexe='F', age=28, sportivite=3.0896572236068582, velo_perf_minimale=0.4),\n",
       " Row(id=5730, vitesse_a_pied=0.9124440746468212, vitesse_a_velo=2.281110186617053, home='(lon:24.27 lat:47.73)', travail='(lon:25.40 lat:5.39)', sportif=False, casseur=False, statut='reserviste', salaire=21677.78644625172, sexe='F', age=20, sportivite=4.562220373234106, velo_perf_minimale=0.4),\n",
       " Row(id=5732, vitesse_a_pied=1.0884309199884328, vitesse_a_velo=2.721077299971082, home='(lon:41.13 lat:9.98)', travail='(lon:27.05 lat:1.25)', sportif=False, casseur=False, statut='employe', salaire=27736.3168599567, sexe='F', age=69, sportivite=5.442154599942164, velo_perf_minimale=0.4),\n",
       " Row(id=5735, vitesse_a_pied=0.22862299482797938, vitesse_a_velo=0.5715574870699485, home='(lon:27.64 lat:39.73)', travail='(lon:7.83 lat:34.68)', sportif=False, casseur=False, statut='employe', salaire=14663.89192406506, sexe='F', age=84, sportivite=1.143114974139897, velo_perf_minimale=0.4),\n",
       " Row(id=5737, vitesse_a_pied=0.5021120979214344, vitesse_a_velo=1.255280244803586, home='(lon:23.25 lat:17.14)', travail='(lon:34.34 lat:37.88)', sportif=False, casseur=False, statut='cadre', salaire=31429.168123679992, sexe='F', age=41, sportivite=2.510560489607172, velo_perf_minimale=0.4),\n",
       " Row(id=5740, vitesse_a_pied=0.24606067900891734, vitesse_a_velo=0.6151516975222934, home='(lon:14.79 lat:19.04)', travail='(lon:19.50 lat:4.25)', sportif=False, casseur=False, statut='éboueur', salaire=18001.46181215169, sexe='F', age=54, sportivite=1.2303033950445867, velo_perf_minimale=0.4),\n",
       " Row(id=5741, vitesse_a_pied=1.025418427702408, vitesse_a_velo=2.56354606925602, home='(lon:10.48 lat:10.84)', travail='(lon:4.22 lat:47.74)', sportif=False, casseur=False, statut='éboueur', salaire=22299.610295164497, sexe='F', age=47, sportivite=5.12709213851204, velo_perf_minimale=0.4),\n",
       " Row(id=5743, vitesse_a_pied=0.02, vitesse_a_velo=0.05, home='(lon:10.59 lat:48.56)', travail='(lon:9.15 lat:6.50)', sportif=False, casseur=False, statut='technicien_de_surface', salaire=25478.446272398192, sexe='F', age=63, sportivite=0.1, velo_perf_minimale=0.4),\n",
       " Row(id=5744, vitesse_a_pied=0.12440220623007062, vitesse_a_velo=0.3110055155751765, home='(lon:14.47 lat:28.34)', travail='(lon:1.93 lat:21.11)', sportif=False, casseur=False, statut='employe', salaire=25524.62006998167, sexe='F', age=61, sportivite=0.622011031150353, velo_perf_minimale=0.4),\n",
       " Row(id=5747, vitesse_a_pied=0.34528583404346325, vitesse_a_velo=0.863214585108658, home='(lon:3.70 lat:16.72)', travail='(lon:13.55 lat:5.94)', sportif=False, casseur=False, statut='éboueur', salaire=12915.611710868608, sexe='F', age=79, sportivite=1.7264291702173162, velo_perf_minimale=0.4),\n",
       " Row(id=5749, vitesse_a_pied=0.471060151458569, vitesse_a_velo=1.1776503786464225, home='(lon:35.72 lat:43.83)', travail='(lon:32.41 lat:28.44)', sportif=False, casseur=False, statut='professeur', salaire=26255.30156024432, sexe='F', age=18, sportivite=2.355300757292845, velo_perf_minimale=0.4),\n",
       " Row(id=5753, vitesse_a_pied=0.24482068957085618, vitesse_a_velo=0.6120517239271405, home='(lon:22.68 lat:32.78)', travail='(lon:2.07 lat:7.03)', sportif=False, casseur=False, statut='professeur', salaire=12248.809191554772, sexe='F', age=41, sportivite=1.224103447854281, velo_perf_minimale=0.4),\n",
       " Row(id=5758, vitesse_a_pied=0.2960464413923528, vitesse_a_velo=0.7401161034808821, home='(lon:31.76 lat:12.24)', travail='(lon:43.29 lat:21.12)', sportif=False, casseur=False, statut='professeur', salaire=29904.490646435508, sexe='F', age=80, sportivite=1.4802322069617642, velo_perf_minimale=0.4),\n",
       " Row(id=5759, vitesse_a_pied=0.2604159417922512, vitesse_a_velo=0.651039854480628, home='(lon:44.42 lat:36.57)', travail='(lon:0.34 lat:17.60)', sportif=False, casseur=False, statut='éboueur', salaire=22071.027249514926, sexe='F', age=82, sportivite=1.302079708961256, velo_perf_minimale=0.4),\n",
       " Row(id=5760, vitesse_a_pied=0.20643872526718415, vitesse_a_velo=0.5160968131679604, home='(lon:37.15 lat:46.64)', travail='(lon:15.62 lat:11.10)', sportif=False, casseur=False, statut='employe', salaire=27834.756657372804, sexe='F', age=46, sportivite=1.0321936263359208, velo_perf_minimale=0.4),\n",
       " Row(id=5763, vitesse_a_pied=0.1960522039335646, vitesse_a_velo=0.49013050983391154, home='(lon:24.84 lat:2.75)', travail='(lon:44.92 lat:7.19)', sportif=False, casseur=False, statut='reserviste', salaire=26520.894020976986, sexe='F', age=58, sportivite=0.980261019667823, velo_perf_minimale=0.4),\n",
       " Row(id=5764, vitesse_a_pied=0.2804189608340654, vitesse_a_velo=0.7010474020851636, home='(lon:28.20 lat:4.43)', travail='(lon:46.11 lat:28.59)', sportif=False, casseur=False, statut='professeur', salaire=18986.037995545856, sexe='F', age=45, sportivite=1.4020948041703272, velo_perf_minimale=0.4),\n",
       " Row(id=5765, vitesse_a_pied=0.7138712591737498, vitesse_a_velo=1.7846781479343747, home='(lon:7.85 lat:31.18)', travail='(lon:38.58 lat:6.75)', sportif=False, casseur=True, statut='professeur', salaire=21119.72802927799, sexe='F', age=52, sportivite=3.569356295868749, velo_perf_minimale=0.4),\n",
       " Row(id=5774, vitesse_a_pied=0.7983589774384319, vitesse_a_velo=1.9958974435960797, home='(lon:24.12 lat:0.55)', travail='(lon:12.95 lat:40.21)', sportif=False, casseur=False, statut='professeur', salaire=20329.625969107703, sexe='F', age=31, sportivite=3.9917948871921594, velo_perf_minimale=0.4),\n",
       " Row(id=5776, vitesse_a_pied=0.07723542289297299, vitesse_a_velo=0.19308855723243246, home='(lon:30.23 lat:5.39)', travail='(lon:12.74 lat:34.83)', sportif=False, casseur=False, statut='cadre', salaire=28090.61658865556, sexe='F', age=26, sportivite=0.3861771144648649, velo_perf_minimale=0.4),\n",
       " Row(id=5778, vitesse_a_pied=0.9603087654280745, vitesse_a_velo=2.4007719135701864, home='(lon:24.02 lat:36.73)', travail='(lon:41.29 lat:40.02)', sportif=False, casseur=False, statut='reserviste', salaire=30238.21644283179, sexe='F', age=61, sportivite=4.801543827140373, velo_perf_minimale=0.4),\n",
       " Row(id=5779, vitesse_a_pied=0.29985048775364065, vitesse_a_velo=0.7496262193841017, home='(lon:24.80 lat:41.44)', travail='(lon:34.61 lat:13.30)', sportif=False, casseur=False, statut='cadre', salaire=33325.54292128016, sexe='F', age=54, sportivite=1.4992524387682034, velo_perf_minimale=0.4),\n",
       " Row(id=5780, vitesse_a_pied=0.325212886409265, vitesse_a_velo=0.8130322160231624, home='(lon:45.71 lat:12.25)', travail='(lon:12.75 lat:4.15)', sportif=False, casseur=False, statut='éboueur', salaire=22082.57730031482, sexe='F', age=37, sportivite=1.626064432046325, velo_perf_minimale=0.4),\n",
       " Row(id=5782, vitesse_a_pied=1.1285020902518046, vitesse_a_velo=2.8212552256295114, home='(lon:47.12 lat:32.42)', travail='(lon:42.89 lat:27.16)', sportif=False, casseur=False, statut='technicien_de_surface', salaire=15511.964327672118, sexe='F', age=38, sportivite=5.642510451259023, velo_perf_minimale=0.4),\n",
       " Row(id=5787, vitesse_a_pied=0.02, vitesse_a_velo=0.05, home='(lon:20.93 lat:17.38)', travail='(lon:24.50 lat:45.71)', sportif=False, casseur=False, statut='éboueur', salaire=24492.929294180813, sexe='F', age=17, sportivite=0.1, velo_perf_minimale=0.4),\n",
       " Row(id=5788, vitesse_a_pied=1.229124785492192, vitesse_a_velo=3.07281196373048, home='(lon:17.52 lat:22.39)', travail='(lon:9.66 lat:1.44)', sportif=False, casseur=False, statut='employe', salaire=21544.47685158256, sexe='F', age=54, sportivite=6.14562392746096, velo_perf_minimale=0.4),\n",
       " Row(id=5791, vitesse_a_pied=0.601709689531562, vitesse_a_velo=1.504274223828905, home='(lon:24.29 lat:25.99)', travail='(lon:47.29 lat:31.03)', sportif=False, casseur=False, statut='employe', salaire=24814.376867731997, sexe='F', age=40, sportivite=3.00854844765781, velo_perf_minimale=0.4),\n",
       " Row(id=5792, vitesse_a_pied=0.6176507551141992, vitesse_a_velo=1.5441268877854981, home='(lon:6.41 lat:12.10)', travail='(lon:29.30 lat:2.39)', sportif=False, casseur=False, statut='cadre', salaire=38798.762580581555, sexe='F', age=42, sportivite=3.0882537755709962, velo_perf_minimale=0.4),\n",
       " Row(id=5794, vitesse_a_pied=0.7440875155822673, vitesse_a_velo=1.860218788955668, home='(lon:19.20 lat:7.22)', travail='(lon:17.67 lat:39.57)', sportif=False, casseur=False, statut='cadre', salaire=16826.10804510672, sexe='F', age=44, sportivite=3.720437577911336, velo_perf_minimale=0.4),\n",
       " Row(id=5796, vitesse_a_pied=0.29713802615785456, vitesse_a_velo=0.7428450653946364, home='(lon:13.03 lat:2.06)', travail='(lon:38.73 lat:6.41)', sportif=False, casseur=False, statut='professeur', salaire=21167.503107422166, sexe='F', age=77, sportivite=1.4856901307892727, velo_perf_minimale=0.4),\n",
       " Row(id=5799, vitesse_a_pied=0.8534527611234963, vitesse_a_velo=2.133631902808741, home='(lon:44.67 lat:2.98)', travail='(lon:14.57 lat:43.13)', sportif=False, casseur=False, statut='reserviste', salaire=28187.507643931778, sexe='F', age=77, sportivite=4.267263805617482, velo_perf_minimale=0.4),\n",
       " Row(id=5806, vitesse_a_pied=0.9226044843428383, vitesse_a_velo=2.3065112108570958, home='(lon:4.23 lat:5.41)', travail='(lon:7.22 lat:23.43)', sportif=False, casseur=False, statut='cadre', salaire=31968.695225760384, sexe='F', age=56, sportivite=4.6130224217141915, velo_perf_minimale=0.4),\n",
       " Row(id=5807, vitesse_a_pied=0.02, vitesse_a_velo=0.05, home='(lon:48.42 lat:10.81)', travail='(lon:28.83 lat:10.07)', sportif=False, casseur=False, statut='technicien_de_surface', salaire=13043.372488021916, sexe='F', age=81, sportivite=0.1, velo_perf_minimale=0.4),\n",
       " Row(id=5810, vitesse_a_pied=1.7367145413390783, vitesse_a_velo=4.341786353347696, home='(lon:0.47 lat:1.04)', travail='(lon:9.67 lat:48.35)', sportif=False, casseur=False, statut='technicien_de_surface', salaire=18290.354293186196, sexe='F', age=28, sportivite=8.683572706695392, velo_perf_minimale=0.4),\n",
       " Row(id=5812, vitesse_a_pied=0.6267189705621833, vitesse_a_velo=1.5667974264054583, home='(lon:4.06 lat:14.82)', travail='(lon:31.77 lat:33.79)', sportif=False, casseur=False, statut='professeur', salaire=21529.480909504444, sexe='F', age=55, sportivite=3.1335948528109165, velo_perf_minimale=0.4),\n",
       " Row(id=5813, vitesse_a_pied=0.6382690237180995, vitesse_a_velo=1.5956725592952488, home='(lon:30.17 lat:2.74)', travail='(lon:37.56 lat:22.82)', sportif=False, casseur=False, statut='cadre', salaire=26155.1596784927, sexe='F', age=68, sportivite=3.1913451185904975, velo_perf_minimale=0.4),\n",
       " Row(id=5814, vitesse_a_pied=0.7571349480650029, vitesse_a_velo=1.8928373701625074, home='(lon:7.73 lat:33.43)', travail='(lon:7.71 lat:2.57)', sportif=False, casseur=False, statut='professeur', salaire=22692.06664303308, sexe='F', age=68, sportivite=3.7856747403250144, velo_perf_minimale=0.4),\n",
       " Row(id=5815, vitesse_a_pied=0.14653134035123255, vitesse_a_velo=0.36632835087808135, home='(lon:11.51 lat:11.41)', travail='(lon:16.58 lat:10.17)', sportif=False, casseur=False, statut='professeur', salaire=25837.203844124775, sexe='F', age=44, sportivite=0.7326567017561627, velo_perf_minimale=0.4),\n",
       " Row(id=5817, vitesse_a_pied=0.8383862769558276, vitesse_a_velo=2.095965692389569, home='(lon:20.33 lat:38.97)', travail='(lon:36.38 lat:5.50)', sportif=False, casseur=False, statut='éboueur', salaire=22833.769295433507, sexe='F', age=63, sportivite=4.191931384779138, velo_perf_minimale=0.4),\n",
       " Row(id=5818, vitesse_a_pied=1.2444959117395582, vitesse_a_velo=3.1112397793488955, home='(lon:14.70 lat:16.57)', travail='(lon:22.28 lat:13.64)', sportif=False, casseur=False, statut='cadre', salaire=35464.295942801065, sexe='F', age=59, sportivite=6.222479558697791, velo_perf_minimale=0.4),\n",
       " Row(id=5819, vitesse_a_pied=0.38480605821836183, vitesse_a_velo=0.9620151455459046, home='(lon:10.89 lat:37.68)', travail='(lon:26.28 lat:12.18)', sportif=False, casseur=False, statut='professeur', salaire=23036.123633112766, sexe='F', age=51, sportivite=1.9240302910918092, velo_perf_minimale=0.4),\n",
       " Row(id=5827, vitesse_a_pied=0.5241970230678855, vitesse_a_velo=1.3104925576697137, home='(lon:24.77 lat:42.35)', travail='(lon:21.31 lat:21.67)', sportif=False, casseur=False, statut='cadre', salaire=34486.31166698678, sexe='F', age=53, sportivite=2.6209851153394275, velo_perf_minimale=0.4),\n",
       " Row(id=5828, vitesse_a_pied=0.07164273972612598, vitesse_a_velo=0.17910684931531495, home='(lon:29.55 lat:14.54)', travail='(lon:33.35 lat:4.81)', sportif=False, casseur=False, statut='éboueur', salaire=15017.526025650324, sexe='F', age=44, sportivite=0.3582136986306299, velo_perf_minimale=0.4),\n",
       " Row(id=5830, vitesse_a_pied=0.4790520659019607, vitesse_a_velo=1.1976301647549017, home='(lon:43.10 lat:4.18)', travail='(lon:46.93 lat:27.65)', sportif=False, casseur=False, statut='reserviste', salaire=26990.388445878703, sexe='F', age=75, sportivite=2.3952603295098034, velo_perf_minimale=0.4),\n",
       " Row(id=5835, vitesse_a_pied=0.6371104069346138, vitesse_a_velo=1.5927760173365346, home='(lon:39.34 lat:37.12)', travail='(lon:9.05 lat:10.81)', sportif=False, casseur=False, statut='cadre', salaire=27231.97681963231, sexe='F', age=74, sportivite=3.1855520346730692, velo_perf_minimale=0.4),\n",
       " Row(id=5839, vitesse_a_pied=1.2107635116330635, vitesse_a_velo=3.026908779082659, home='(lon:1.60 lat:27.22)', travail='(lon:19.66 lat:31.23)', sportif=False, casseur=False, statut='technicien_de_surface', salaire=19621.183192120643, sexe='F', age=64, sportivite=6.053817558165318, velo_perf_minimale=0.4),\n",
       " Row(id=5840, vitesse_a_pied=0.02, vitesse_a_velo=0.05, home='(lon:31.56 lat:37.44)', travail='(lon:17.34 lat:40.42)', sportif=False, casseur=False, statut='cadre', salaire=25006.78509274169, sexe='F', age=60, sportivite=0.1, velo_perf_minimale=0.4),\n",
       " Row(id=5843, vitesse_a_pied=0.22343461636586853, vitesse_a_velo=0.5585865409146713, home='(lon:25.75 lat:9.39)', travail='(lon:4.14 lat:44.74)', sportif=False, casseur=False, statut='professeur', salaire=18901.485204111686, sexe='F', age=67, sportivite=1.1171730818293426, velo_perf_minimale=0.4),\n",
       " Row(id=5846, vitesse_a_pied=0.6995472421715798, vitesse_a_velo=1.7488681054289494, home='(lon:25.49 lat:10.31)', travail='(lon:40.70 lat:40.13)', sportif=False, casseur=False, statut='employe', salaire=21086.719584683557, sexe='F', age=32, sportivite=3.497736210857899, velo_perf_minimale=0.4),\n",
       " Row(id=5849, vitesse_a_pied=0.9239620898447483, vitesse_a_velo=2.3099052246118705, home='(lon:5.91 lat:32.42)', travail='(lon:13.33 lat:30.15)', sportif=False, casseur=False, statut='employe', salaire=24668.653220208507, sexe='F', age=82, sportivite=4.619810449223741, velo_perf_minimale=0.4),\n",
       " Row(id=5850, vitesse_a_pied=0.06068211761651741, vitesse_a_velo=0.15170529404129351, home='(lon:39.71 lat:24.92)', travail='(lon:17.28 lat:28.79)', sportif=False, casseur=False, statut='reserviste', salaire=25076.301267081188, sexe='F', age=70, sportivite=0.30341058808258703, velo_perf_minimale=0.4),\n",
       " Row(id=5851, vitesse_a_pied=0.2409227330438008, vitesse_a_velo=0.602306832609502, home='(lon:41.98 lat:28.47)', travail='(lon:1.91 lat:6.46)', sportif=False, casseur=False, statut='technicien_de_surface', salaire=18430.489622458306, sexe='F', age=71, sportivite=1.204613665219004, velo_perf_minimale=0.4),\n",
       " Row(id=5852, vitesse_a_pied=0.02, vitesse_a_velo=0.05, home='(lon:14.22 lat:21.80)', travail='(lon:8.59 lat:45.12)', sportif=False, casseur=False, statut='technicien_de_surface', salaire=16616.662714142156, sexe='F', age=17, sportivite=0.1, velo_perf_minimale=0.4),\n",
       " Row(id=5855, vitesse_a_pied=1.4035763435457864, vitesse_a_velo=3.5089408588644657, home='(lon:33.80 lat:9.19)', travail='(lon:7.54 lat:22.29)', sportif=False, casseur=False, statut='employe', salaire=21579.02659934946, sexe='F', age=23, sportivite=7.017881717728932, velo_perf_minimale=0.4),\n",
       " Row(id=5857, vitesse_a_pied=0.1520567533058271, vitesse_a_velo=0.38014188326456777, home='(lon:23.15 lat:13.90)', travail='(lon:30.54 lat:28.73)', sportif=False, casseur=False, statut='technicien_de_surface', salaire=25092.869990972617, sexe='F', age=44, sportivite=0.7602837665291355, velo_perf_minimale=0.4),\n",
       " Row(id=5859, vitesse_a_pied=0.1596258045467517, vitesse_a_velo=0.39906451136687926, home='(lon:4.29 lat:24.02)', travail='(lon:38.92 lat:8.29)', sportif=False, casseur=False, statut='cadre', salaire=42347.95887243344, sexe='F', age=84, sportivite=0.7981290227337585, velo_perf_minimale=0.4),\n",
       " Row(id=5860, vitesse_a_pied=0.44957521751805674, vitesse_a_velo=1.1239380437951418, home='(lon:0.09 lat:0.29)', travail='(lon:19.71 lat:44.52)', sportif=False, casseur=False, statut='employe', salaire=24214.423369877484, sexe='F', age=49, sportivite=2.2478760875902837, velo_perf_minimale=0.4),\n",
       " Row(id=5863, vitesse_a_pied=0.6703579256171377, vitesse_a_velo=1.6758948140428445, home='(lon:48.58 lat:29.12)', travail='(lon:12.36 lat:36.75)', sportif=False, casseur=False, statut='reserviste', salaire=20224.51237039082, sexe='F', age=52, sportivite=3.3517896280856885, velo_perf_minimale=0.4),\n",
       " Row(id=5864, vitesse_a_pied=0.44712721088592283, vitesse_a_velo=1.117818027214807, home='(lon:8.59 lat:34.27)', travail='(lon:45.00 lat:31.51)', sportif=False, casseur=False, statut='technicien_de_surface', salaire=15766.680811301118, sexe='F', age=55, sportivite=2.235636054429614, velo_perf_minimale=0.4),\n",
       " Row(id=5869, vitesse_a_pied=0.5646422219375551, vitesse_a_velo=1.4116055548438877, home='(lon:41.78 lat:4.55)', travail='(lon:37.59 lat:0.64)', sportif=False, casseur=False, statut='cadre', salaire=38873.896983295155, sexe='F', age=41, sportivite=2.8232111096877754, velo_perf_minimale=0.4),\n",
       " Row(id=5870, vitesse_a_pied=0.02, vitesse_a_velo=0.05, home='(lon:33.28 lat:7.88)', travail='(lon:42.00 lat:18.02)', sportif=False, casseur=False, statut='employe', salaire=13824.66277263129, sexe='F', age=32, sportivite=0.1, velo_perf_minimale=0.4),\n",
       " Row(id=5873, vitesse_a_pied=0.8815450048746364, vitesse_a_velo=2.203862512186591, home='(lon:33.37 lat:28.74)', travail='(lon:38.56 lat:3.21)', sportif=False, casseur=False, statut='technicien_de_surface', salaire=25079.713851890152, sexe='F', age=46, sportivite=4.407725024373182, velo_perf_minimale=0.4),\n",
       " Row(id=5874, vitesse_a_pied=0.5591788829410075, vitesse_a_velo=1.3979472073525188, home='(lon:7.57 lat:0.98)', travail='(lon:19.45 lat:27.22)', sportif=False, casseur=False, statut='technicien_de_surface', salaire=15761.846194105658, sexe='F', age=67, sportivite=2.7958944147050375, velo_perf_minimale=0.4),\n",
       " Row(id=5876, vitesse_a_pied=1.1071081199174018, vitesse_a_velo=2.7677702997935043, home='(lon:46.03 lat:23.66)', travail='(lon:29.66 lat:6.27)', sportif=False, casseur=False, statut='professeur', salaire=15086.383866696213, sexe='F', age=29, sportivite=5.535540599587009, velo_perf_minimale=0.4),\n",
       " Row(id=5877, vitesse_a_pied=0.06614102707950162, vitesse_a_velo=0.16535256769875406, home='(lon:34.31 lat:38.72)', travail='(lon:47.70 lat:7.88)', sportif=False, casseur=False, statut='technicien_de_surface', salaire=18553.292569786936, sexe='F', age=32, sportivite=0.3307051353975081, velo_perf_minimale=0.4),\n",
       " Row(id=5879, vitesse_a_pied=0.02, vitesse_a_velo=0.05, home='(lon:26.06 lat:3.24)', travail='(lon:25.85 lat:20.72)', sportif=False, casseur=False, statut='cadre', salaire=53000.61637725879, sexe='F', age=73, sportivite=0.1, velo_perf_minimale=0.4),\n",
       " Row(id=5881, vitesse_a_pied=0.02, vitesse_a_velo=0.05, home='(lon:26.58 lat:42.09)', travail='(lon:42.54 lat:0.68)', sportif=False, casseur=False, statut='reserviste', salaire=24873.566837154016, sexe='F', age=16, sportivite=0.1, velo_perf_minimale=0.4),\n",
       " Row(id=5882, vitesse_a_pied=0.70630199413039, vitesse_a_velo=1.7657549853259749, home='(lon:20.65 lat:8.79)', travail='(lon:33.20 lat:46.37)', sportif=False, casseur=False, statut='employe', salaire=16787.601556728583, sexe='F', age=23, sportivite=3.5315099706519497, velo_perf_minimale=0.4),\n",
       " Row(id=5884, vitesse_a_pied=0.5780092145933617, vitesse_a_velo=1.4450230364834045, home='(lon:17.26 lat:8.87)', travail='(lon:7.02 lat:20.13)', sportif=False, casseur=False, statut='technicien_de_surface', salaire=17512.800116215523, sexe='F', age=56, sportivite=2.890046072966809, velo_perf_minimale=0.4),\n",
       " Row(id=5885, vitesse_a_pied=1.106068100758831, vitesse_a_velo=2.7651702518970778, home='(lon:14.34 lat:11.52)', travail='(lon:27.66 lat:41.63)', sportif=False, casseur=False, statut='éboueur', salaire=20444.415055805453, sexe='F', age=82, sportivite=5.5303405037941555, velo_perf_minimale=0.4),\n",
       " Row(id=5886, vitesse_a_pied=0.26957560371467, vitesse_a_velo=0.6739390092866749, home='(lon:6.17 lat:4.49)', travail='(lon:25.58 lat:24.72)', sportif=False, casseur=True, statut='cadre', salaire=45866.84243437149, sexe='F', age=30, sportivite=1.3478780185733499, velo_perf_minimale=0.4),\n",
       " Row(id=5890, vitesse_a_pied=0.22502482102844304, vitesse_a_velo=0.5625620525711076, home='(lon:14.05 lat:17.02)', travail='(lon:48.16 lat:23.46)', sportif=False, casseur=False, statut='cadre', salaire=40920.32962753142, sexe='F', age=58, sportivite=1.1251241051422152, velo_perf_minimale=0.4),\n",
       " Row(id=5894, vitesse_a_pied=0.06000000000000001, vitesse_a_velo=0.15, home='(lon:13.22 lat:17.53)', travail='(lon:47.61 lat:8.21)', sportif=True, casseur=False, statut='technicien_de_surface', salaire=21473.43925002607, sexe='F', age=52, sportivite=0.1, velo_perf_minimale=0.5),\n",
       " Row(id=5896, vitesse_a_pied=0.08519833376090657, vitesse_a_velo=0.21299583440226644, home='(lon:39.64 lat:15.24)', travail='(lon:43.15 lat:17.26)', sportif=False, casseur=False, statut='technicien_de_surface', salaire=17044.218872799942, sexe='F', age=72, sportivite=0.4259916688045329, velo_perf_minimale=0.4),\n",
       " Row(id=5897, vitesse_a_pied=0.5069367083369329, vitesse_a_velo=1.2673417708423322, home='(lon:35.80 lat:23.62)', travail='(lon:24.16 lat:5.81)', sportif=False, casseur=False, statut='cadre', salaire=21879.33296512394, sexe='F', age=48, sportivite=2.5346835416846645, velo_perf_minimale=0.4),\n",
       " Row(id=5899, vitesse_a_pied=0.49562572276258043, vitesse_a_velo=1.239064306906451, home='(lon:0.88 lat:22.59)', travail='(lon:35.93 lat:26.84)', sportif=False, casseur=False, statut='technicien_de_surface', salaire=17972.1601902556, sexe='F', age=37, sportivite=2.478128613812902, velo_perf_minimale=0.4),\n",
       " Row(id=5900, vitesse_a_pied=0.6560756325204876, vitesse_a_velo=1.640189081301219, home='(lon:3.78 lat:1.79)', travail='(lon:41.06 lat:43.64)', sportif=False, casseur=False, statut='professeur', salaire=27357.112265218544, sexe='F', age=73, sportivite=3.280378162602438, velo_perf_minimale=0.4),\n",
       " Row(id=5902, vitesse_a_pied=0.7026836128329077, vitesse_a_velo=1.7567090320822694, home='(lon:43.55 lat:6.74)', travail='(lon:32.91 lat:39.08)', sportif=False, casseur=False, statut='reserviste', salaire=38310.07874211327, sexe='F', age=39, sportivite=3.5134180641645383, velo_perf_minimale=0.4),\n",
       " Row(id=5905, vitesse_a_pied=0.7235663533000921, vitesse_a_velo=1.8089158832502303, home='(lon:23.16 lat:9.37)', travail='(lon:42.05 lat:2.25)', sportif=False, casseur=False, statut='cadre', salaire=24524.915499337356, sexe='F', age=60, sportivite=3.6178317665004607, velo_perf_minimale=0.4),\n",
       " Row(id=5906, vitesse_a_pied=0.7573298126615654, vitesse_a_velo=1.8933245316539136, home='(lon:15.15 lat:36.94)', travail='(lon:42.77 lat:28.73)', sportif=False, casseur=False, statut='cadre', salaire=42883.94054635448, sexe='F', age=40, sportivite=3.786649063307827, velo_perf_minimale=0.4),\n",
       " Row(id=5908, vitesse_a_pied=0.41125010247958355, vitesse_a_velo=1.028125256198959, home='(lon:19.64 lat:40.75)', travail='(lon:13.00 lat:20.25)', sportif=False, casseur=False, statut='employe', salaire=26525.46658524621, sexe='F', age=22, sportivite=2.056250512397918, velo_perf_minimale=0.4),\n",
       " Row(id=5910, vitesse_a_pied=0.02, vitesse_a_velo=0.05, home='(lon:39.88 lat:31.05)', travail='(lon:17.22 lat:13.11)', sportif=False, casseur=False, statut='professeur', salaire=21773.43828524802, sexe='F', age=79, sportivite=0.1, velo_perf_minimale=0.4),\n",
       " Row(id=5911, vitesse_a_pied=0.3162163844069937, vitesse_a_velo=0.7905409610174842, home='(lon:33.23 lat:7.90)', travail='(lon:8.08 lat:5.23)', sportif=False, casseur=False, statut='cadre', salaire=42952.75857544373, sexe='F', age=33, sportivite=1.5810819220349683, velo_perf_minimale=0.4),\n",
       " Row(id=5912, vitesse_a_pied=0.02, vitesse_a_velo=0.05, home='(lon:47.93 lat:18.28)', travail='(lon:13.28 lat:47.23)', sportif=False, casseur=False, statut='professeur', salaire=22413.603786241143, sexe='F', age=56, sportivite=0.1, velo_perf_minimale=0.4),\n",
       " Row(id=5914, vitesse_a_pied=0.02, vitesse_a_velo=0.05, home='(lon:7.43 lat:9.90)', travail='(lon:27.85 lat:20.46)', sportif=False, casseur=False, statut='éboueur', salaire=13171.835179049001, sexe='F', age=56, sportivite=0.1, velo_perf_minimale=0.4),\n",
       " Row(id=5917, vitesse_a_pied=0.02, vitesse_a_velo=0.05, home='(lon:19.95 lat:15.07)', travail='(lon:23.01 lat:34.05)', sportif=False, casseur=False, statut='éboueur', salaire=19005.99171183386, sexe='F', age=50, sportivite=0.1, velo_perf_minimale=0.4),\n",
       " Row(id=5919, vitesse_a_pied=0.7088559188261847, vitesse_a_velo=1.7721397970654618, home='(lon:16.31 lat:18.13)', travail='(lon:37.39 lat:27.07)', sportif=False, casseur=False, statut='professeur', salaire=14157.306981781341, sexe='F', age=26, sportivite=3.5442795941309235, velo_perf_minimale=0.4),\n",
       " Row(id=5920, vitesse_a_pied=0.02, vitesse_a_velo=0.05, home='(lon:48.20 lat:23.55)', travail='(lon:21.85 lat:2.94)', sportif=False, casseur=False, statut='éboueur', salaire=21036.02781850448, sexe='F', age=56, sportivite=0.1, velo_perf_minimale=0.4),\n",
       " Row(id=5921, vitesse_a_pied=0.07640308770171518, vitesse_a_velo=0.19100771925428794, home='(lon:32.78 lat:25.30)', travail='(lon:19.65 lat:20.35)', sportif=False, casseur=False, statut='professeur', salaire=18455.9845082819, sexe='F', age=43, sportivite=0.3820154385085759, velo_perf_minimale=0.4),\n",
       " Row(id=5922, vitesse_a_pied=0.3069263330590912, vitesse_a_velo=0.7673158326477281, home='(lon:9.82 lat:42.44)', travail='(lon:15.04 lat:21.95)', sportif=False, casseur=False, statut='éboueur', salaire=14671.377347225434, sexe='F', age=78, sportivite=1.5346316652954561, velo_perf_minimale=0.4),\n",
       " Row(id=5923, vitesse_a_pied=0.08297638134257061, vitesse_a_velo=0.20744095335642654, home='(lon:13.99 lat:22.86)', travail='(lon:2.67 lat:12.58)', sportif=False, casseur=False, statut='cadre', salaire=24107.2860847828, sexe='F', age=35, sportivite=0.4148819067128531, velo_perf_minimale=0.4),\n",
       " Row(id=5924, vitesse_a_pied=0.643793853597799, vitesse_a_velo=1.6094846339944975, home='(lon:23.28 lat:40.21)', travail='(lon:44.98 lat:47.35)', sportif=False, casseur=False, statut='professeur', salaire=23793.582216417868, sexe='F', age=47, sportivite=3.218969267988995, velo_perf_minimale=0.4),\n",
       " Row(id=5926, vitesse_a_pied=0.12666119367360418, vitesse_a_velo=0.31665298418401044, home='(lon:7.07 lat:0.61)', travail='(lon:8.72 lat:41.55)', sportif=False, casseur=False, statut='éboueur', salaire=17267.150561354905, sexe='F', age=68, sportivite=0.6333059683680209, velo_perf_minimale=0.4),\n",
       " Row(id=5928, vitesse_a_pied=0.6398060252839304, vitesse_a_velo=1.599515063209826, home='(lon:41.18 lat:18.24)', travail='(lon:29.27 lat:0.21)', sportif=False, casseur=False, statut='professeur', salaire=26188.626569315486, sexe='F', age=83, sportivite=3.199030126419652, velo_perf_minimale=0.4),\n",
       " Row(id=5930, vitesse_a_pied=0.02, vitesse_a_velo=0.05, home='(lon:48.13 lat:7.94)', travail='(lon:32.51 lat:21.83)', sportif=False, casseur=False, statut='reserviste', salaire=39774.38265806412, sexe='F', age=80, sportivite=0.1, velo_perf_minimale=0.4),\n",
       " Row(id=5931, vitesse_a_pied=0.31566103810391244, vitesse_a_velo=0.7891525952597811, home='(lon:36.49 lat:29.75)', travail='(lon:31.43 lat:34.09)', sportif=False, casseur=False, statut='employe', salaire=16493.010161321952, sexe='F', age=28, sportivite=1.5783051905195622, velo_perf_minimale=0.4),\n",
       " Row(id=5934, vitesse_a_pied=0.7589683405957232, vitesse_a_velo=1.8974208514893078, home='(lon:39.07 lat:7.42)', travail='(lon:15.34 lat:32.33)', sportif=False, casseur=False, statut='éboueur', salaire=14513.99968848394, sexe='F', age=53, sportivite=3.7948417029786157, velo_perf_minimale=0.4),\n",
       " Row(id=5936, vitesse_a_pied=0.02, vitesse_a_velo=0.05, home='(lon:8.15 lat:35.07)', travail='(lon:1.58 lat:3.36)', sportif=False, casseur=False, statut='employe', salaire=27241.16398981463, sexe='F', age=30, sportivite=0.1, velo_perf_minimale=0.4),\n",
       " Row(id=5941, vitesse_a_pied=0.02, vitesse_a_velo=0.05, home='(lon:35.40 lat:43.62)', travail='(lon:28.74 lat:40.69)', sportif=False, casseur=False, statut='employe', salaire=22996.55512730984, sexe='F', age=67, sportivite=0.1, velo_perf_minimale=0.4),\n",
       " Row(id=5942, vitesse_a_pied=0.37565244504095696, vitesse_a_velo=0.9391311126023926, home='(lon:3.97 lat:6.21)', travail='(lon:23.63 lat:1.91)', sportif=False, casseur=False, statut='reserviste', salaire=30386.43285291214, sexe='F', age=51, sportivite=1.878262225204785, velo_perf_minimale=0.4),\n",
       " Row(id=5944, vitesse_a_pied=0.4679741225266801, vitesse_a_velo=1.1699353063167002, home='(lon:4.55 lat:39.24)', travail='(lon:23.21 lat:34.87)', sportif=False, casseur=True, statut='technicien_de_surface', salaire=21349.976113752018, sexe='F', age=38, sportivite=2.3398706126334003, velo_perf_minimale=0.4),\n",
       " Row(id=5947, vitesse_a_pied=0.22507325879753276, vitesse_a_velo=0.5626831469938319, home='(lon:24.96 lat:39.82)', travail='(lon:26.19 lat:39.85)', sportif=False, casseur=False, statut='cadre', salaire=33837.79448871193, sexe='F', age=62, sportivite=1.1253662939876639, velo_perf_minimale=0.4),\n",
       " Row(id=5948, vitesse_a_pied=0.02, vitesse_a_velo=0.05, home='(lon:19.93 lat:46.27)', travail='(lon:26.74 lat:11.99)', sportif=False, casseur=False, statut='reserviste', salaire=32642.901368034505, sexe='F', age=79, sportivite=0.1, velo_perf_minimale=0.4),\n",
       " Row(id=5950, vitesse_a_pied=1.084814761296524, vitesse_a_velo=2.71203690324131, home='(lon:42.60 lat:17.34)', travail='(lon:31.38 lat:20.60)', sportif=False, casseur=False, statut='employe', salaire=16851.841885506066, sexe='F', age=22, sportivite=5.42407380648262, velo_perf_minimale=0.4),\n",
       " Row(id=5951, vitesse_a_pied=1.2726237118096533, vitesse_a_velo=3.181559279524133, home='(lon:1.27 lat:27.38)', travail='(lon:1.49 lat:24.67)', sportif=False, casseur=False, statut='technicien_de_surface', salaire=18598.16313187511, sexe='F', age=49, sportivite=6.363118559048266, velo_perf_minimale=0.4),\n",
       " Row(id=5952, vitesse_a_pied=0.4893183012907095, vitesse_a_velo=1.2232957532267739, home='(lon:24.28 lat:19.21)', travail='(lon:33.56 lat:2.47)', sportif=False, casseur=False, statut='éboueur', salaire=20972.273656498524, sexe='F', age=65, sportivite=2.4465915064535477, velo_perf_minimale=0.4),\n",
       " Row(id=5953, vitesse_a_pied=0.02, vitesse_a_velo=0.05, home='(lon:47.76 lat:29.82)', travail='(lon:19.75 lat:20.12)', sportif=False, casseur=False, statut='reserviste', salaire=39943.50257594889, sexe='F', age=54, sportivite=0.1, velo_perf_minimale=0.4),\n",
       " Row(id=5954, vitesse_a_pied=0.02370815369912993, vitesse_a_velo=0.059270384247824826, home='(lon:24.53 lat:42.56)', travail='(lon:24.81 lat:45.15)', sportif=False, casseur=False, statut='reserviste', salaire=19088.882487325507, sexe='F', age=67, sportivite=0.11854076849564965, velo_perf_minimale=0.4),\n",
       " Row(id=5956, vitesse_a_pied=1.10093715813622, vitesse_a_velo=2.7523428953405498, home='(lon:34.67 lat:21.39)', travail='(lon:12.04 lat:24.70)', sportif=False, casseur=False, statut='cadre', salaire=33579.490138271285, sexe='F', age=65, sportivite=5.5046857906810995, velo_perf_minimale=0.4),\n",
       " Row(id=5958, vitesse_a_pied=0.30400784305190737, vitesse_a_velo=0.7600196076297684, home='(lon:3.99 lat:45.62)', travail='(lon:16.87 lat:11.63)', sportif=False, casseur=False, statut='éboueur', salaire=17520.554787570403, sexe='F', age=36, sportivite=1.5200392152595368, velo_perf_minimale=0.4),\n",
       " Row(id=5964, vitesse_a_pied=0.12334529364918682, vitesse_a_velo=0.30836323412296707, home='(lon:38.31 lat:25.44)', travail='(lon:21.49 lat:48.57)', sportif=False, casseur=False, statut='technicien_de_surface', salaire=23576.263959111147, sexe='F', age=65, sportivite=0.6167264682459341, velo_perf_minimale=0.4),\n",
       " Row(id=5965, vitesse_a_pied=0.20548006072243824, vitesse_a_velo=0.5137001518060956, home='(lon:35.80 lat:35.18)', travail='(lon:14.04 lat:0.77)', sportif=False, casseur=False, statut='cadre', salaire=12759.782090419985, sexe='F', age=56, sportivite=1.0274003036121913, velo_perf_minimale=0.4),\n",
       " Row(id=5970, vitesse_a_pied=0.7251636736163921, vitesse_a_velo=1.8129091840409803, home='(lon:30.04 lat:8.63)', travail='(lon:39.14 lat:37.08)', sportif=False, casseur=False, statut='reserviste', salaire=22511.05294666574, sexe='F', age=71, sportivite=3.6258183680819607, velo_perf_minimale=0.4),\n",
       " Row(id=5972, vitesse_a_pied=0.02, vitesse_a_velo=0.05, home='(lon:41.07 lat:39.89)', travail='(lon:9.52 lat:47.67)', sportif=False, casseur=False, statut='reserviste', salaire=37407.913039968495, sexe='F', age=77, sportivite=0.1, velo_perf_minimale=0.4),\n",
       " Row(id=5973, vitesse_a_pied=1.0227922410816792, vitesse_a_velo=2.556980602704198, home='(lon:37.91 lat:3.09)', travail='(lon:17.98 lat:47.98)', sportif=False, casseur=False, statut='professeur', salaire=20353.593671446113, sexe='F', age=82, sportivite=5.113961205408396, velo_perf_minimale=0.4),\n",
       " Row(id=5976, vitesse_a_pied=0.02, vitesse_a_velo=0.05, home='(lon:7.28 lat:46.35)', travail='(lon:40.06 lat:43.13)', sportif=False, casseur=False, statut='employe', salaire=13423.13509515201, sexe='F', age=38, sportivite=0.1, velo_perf_minimale=0.4),\n",
       " Row(id=5977, vitesse_a_pied=0.18257275913875418, vitesse_a_velo=0.4564318978468854, home='(lon:37.27 lat:42.83)', travail='(lon:38.07 lat:11.86)', sportif=False, casseur=False, statut='cadre', salaire=24586.49548896134, sexe='F', age=52, sportivite=0.9128637956937709, velo_perf_minimale=0.4),\n",
       " Row(id=5982, vitesse_a_pied=0.9040040566134607, vitesse_a_velo=2.2600101415336518, home='(lon:33.36 lat:1.63)', travail='(lon:3.91 lat:12.59)', sportif=False, casseur=False, statut='employe', salaire=22925.398654759185, sexe='F', age=43, sportivite=4.5200202830673035, velo_perf_minimale=0.4),\n",
       " Row(id=5984, vitesse_a_pied=0.02, vitesse_a_velo=0.05, home='(lon:41.11 lat:26.65)', travail='(lon:38.09 lat:5.63)', sportif=False, casseur=False, statut='technicien_de_surface', salaire=25372.926577413622, sexe='F', age=33, sportivite=0.1, velo_perf_minimale=0.4),\n",
       " Row(id=5985, vitesse_a_pied=0.25051561901368596, vitesse_a_velo=0.6262890475342149, home='(lon:13.72 lat:43.76)', travail='(lon:22.04 lat:36.82)', sportif=False, casseur=False, statut='reserviste', salaire=29111.84744607227, sexe='F', age=57, sportivite=1.2525780950684298, velo_perf_minimale=0.4),\n",
       " Row(id=5988, vitesse_a_pied=0.17350738784421119, vitesse_a_velo=0.43376846961052795, home='(lon:21.59 lat:42.93)', travail='(lon:14.54 lat:10.60)', sportif=False, casseur=False, statut='reserviste', salaire=33758.09302405525, sexe='F', age=18, sportivite=0.8675369392210559, velo_perf_minimale=0.4),\n",
       " Row(id=5990, vitesse_a_pied=0.3766483123290513, vitesse_a_velo=0.9416207808226285, home='(lon:43.77 lat:12.37)', travail='(lon:14.84 lat:42.63)', sportif=False, casseur=False, statut='professeur', salaire=20046.749063125266, sexe='F', age=73, sportivite=1.8832415616452567, velo_perf_minimale=0.4),\n",
       " Row(id=5991, vitesse_a_pied=0.3668379691073435, vitesse_a_velo=0.9170949227683588, home='(lon:41.00 lat:4.89)', travail='(lon:4.26 lat:7.72)', sportif=False, casseur=False, statut='technicien_de_surface', salaire=16983.363248022393, sexe='F', age=48, sportivite=1.8341898455367176, velo_perf_minimale=0.4),\n",
       " Row(id=5992, vitesse_a_pied=0.7637377511276492, vitesse_a_velo=1.909344377819123, home='(lon:10.03 lat:16.62)', travail='(lon:21.72 lat:6.29)', sportif=False, casseur=False, statut='employe', salaire=23306.395772866814, sexe='F', age=57, sportivite=3.818688755638246, velo_perf_minimale=0.4),\n",
       " Row(id=5996, vitesse_a_pied=0.41455908018250576, vitesse_a_velo=1.0363977004562643, home='(lon:4.99 lat:8.85)', travail='(lon:3.04 lat:40.51)', sportif=False, casseur=False, statut='technicien_de_surface', salaire=18580.725224832437, sexe='F', age=35, sportivite=2.0727954009125287, velo_perf_minimale=0.4),\n",
       " Row(id=5999, vitesse_a_pied=0.7161845786736464, vitesse_a_velo=1.790461446684116, home='(lon:38.82 lat:0.45)', travail='(lon:24.14 lat:26.26)', sportif=False, casseur=False, statut='cadre', salaire=64837.42616881575, sexe='F', age=82, sportivite=3.580922893368232, velo_perf_minimale=0.4),\n",
       " Row(id=6003, vitesse_a_pied=0.4093950756194153, vitesse_a_velo=1.0234876890485383, home='(lon:19.32 lat:16.15)', travail='(lon:1.95 lat:8.33)', sportif=False, casseur=False, statut='reserviste', salaire=34166.29389072286, sexe='F', age=59, sportivite=2.0469753780970765, velo_perf_minimale=0.4),\n",
       " Row(id=6005, vitesse_a_pied=0.20028112372605653, vitesse_a_velo=0.5007028093151413, home='(lon:44.29 lat:26.30)', travail='(lon:11.58 lat:1.16)', sportif=False, casseur=True, statut='reserviste', salaire=25943.30025712192, sexe='F', age=60, sportivite=1.0014056186302827, velo_perf_minimale=0.4),\n",
       " Row(id=6006, vitesse_a_pied=0.46044458615178635, vitesse_a_velo=1.1511114653794658, home='(lon:48.36 lat:47.33)', travail='(lon:36.16 lat:19.86)', sportif=False, casseur=False, statut='professeur', salaire=15876.006297584709, sexe='F', age=65, sportivite=2.3022229307589317, velo_perf_minimale=0.4),\n",
       " Row(id=6008, vitesse_a_pied=0.30914807605475525, vitesse_a_velo=0.7728701901368882, home='(lon:0.49 lat:41.45)', travail='(lon:6.55 lat:29.90)', sportif=False, casseur=False, statut='éboueur', salaire=11628.218620655482, sexe='F', age=47, sportivite=1.5457403802737764, velo_perf_minimale=0.4),\n",
       " Row(id=6009, vitesse_a_pied=0.5489825473988988, vitesse_a_velo=1.372456368497247, home='(lon:8.39 lat:39.27)', travail='(lon:24.69 lat:3.42)', sportif=False, casseur=False, statut='technicien_de_surface', salaire=18393.902050841723, sexe='F', age=52, sportivite=2.744912736994494, velo_perf_minimale=0.4),\n",
       " Row(id=6010, vitesse_a_pied=0.4924708227231306, vitesse_a_velo=1.2311770568078264, home='(lon:12.71 lat:3.91)', travail='(lon:34.19 lat:39.61)', sportif=False, casseur=False, statut='cadre', salaire=38664.37322168374, sexe='F', age=23, sportivite=2.462354113615653, velo_perf_minimale=0.4),\n",
       " Row(id=6011, vitesse_a_pied=0.6953453209071592, vitesse_a_velo=1.738363302267898, home='(lon:29.97 lat:7.52)', travail='(lon:0.79 lat:19.68)', sportif=False, casseur=False, statut='employe', salaire=20897.66653544601, sexe='F', age=41, sportivite=3.476726604535796, velo_perf_minimale=0.4),\n",
       " Row(id=6013, vitesse_a_pied=0.506566454296827, vitesse_a_velo=1.2664161357420676, home='(lon:29.67 lat:48.44)', travail='(lon:5.45 lat:2.87)', sportif=False, casseur=False, statut='technicien_de_surface', salaire=24024.972464598806, sexe='F', age=25, sportivite=2.532832271484135, velo_perf_minimale=0.4),\n",
       " Row(id=6015, vitesse_a_pied=0.6433472666582922, vitesse_a_velo=1.6083681666457306, home='(lon:14.43 lat:8.18)', travail='(lon:12.47 lat:9.96)', sportif=False, casseur=False, statut='éboueur', salaire=17270.769543428083, sexe='F', age=74, sportivite=3.216736333291461, velo_perf_minimale=0.4),\n",
       " Row(id=6017, vitesse_a_pied=0.32530770858672653, vitesse_a_velo=0.8132692714668164, home='(lon:41.49 lat:19.42)', travail='(lon:15.46 lat:47.56)', sportif=False, casseur=False, statut='technicien_de_surface', salaire=14558.102612593959, sexe='F', age=55, sportivite=1.6265385429336328, velo_perf_minimale=0.4),\n",
       " Row(id=6018, vitesse_a_pied=0.02, vitesse_a_velo=0.05, home='(lon:28.11 lat:16.34)', travail='(lon:25.50 lat:23.41)', sportif=False, casseur=False, statut='cadre', salaire=42281.88165871752, sexe='F', age=24, sportivite=0.1, velo_perf_minimale=0.4),\n",
       " Row(id=6019, vitesse_a_pied=0.27388457060878824, vitesse_a_velo=0.6847114265219706, home='(lon:29.83 lat:42.32)', travail='(lon:45.27 lat:1.53)', sportif=False, casseur=False, statut='reserviste', salaire=28430.023531256822, sexe='F', age=70, sportivite=1.3694228530439412, velo_perf_minimale=0.4),\n",
       " Row(id=6020, vitesse_a_pied=0.5579291674816165, vitesse_a_velo=1.3948229187040413, home='(lon:42.86 lat:38.53)', travail='(lon:12.76 lat:38.10)', sportif=False, casseur=False, statut='éboueur', salaire=13207.33564505833, sexe='F', age=17, sportivite=2.7896458374080826, velo_perf_minimale=0.4),\n",
       " Row(id=6021, vitesse_a_pied=0.43466273211226075, vitesse_a_velo=1.0866568302806519, home='(lon:36.47 lat:36.45)', travail='(lon:25.95 lat:45.25)', sportif=False, casseur=False, statut='éboueur', salaire=14194.670903033826, sexe='F', age=84, sportivite=2.1733136605613037, velo_perf_minimale=0.4),\n",
       " Row(id=6022, vitesse_a_pied=0.14182523477269354, vitesse_a_velo=0.3545630869317339, home='(lon:35.31 lat:12.75)', travail='(lon:18.50 lat:30.47)', sportif=False, casseur=False, statut='reserviste', salaire=16237.869638503733, sexe='F', age=77, sportivite=0.7091261738634678, velo_perf_minimale=0.4),\n",
       " Row(id=6024, vitesse_a_pied=0.49675116796847857, vitesse_a_velo=1.2418779199211964, home='(lon:32.97 lat:43.99)', travail='(lon:18.78 lat:26.50)', sportif=False, casseur=False, statut='technicien_de_surface', salaire=17197.252546723517, sexe='F', age=72, sportivite=2.483755839842393, velo_perf_minimale=0.4),\n",
       " Row(id=6026, vitesse_a_pied=0.8918391816782048, vitesse_a_velo=2.229597954195512, home='(lon:47.82 lat:2.93)', travail='(lon:9.35 lat:33.26)', sportif=False, casseur=False, statut='reserviste', salaire=33141.69721518098, sexe='F', age=26, sportivite=4.459195908391024, velo_perf_minimale=0.4),\n",
       " Row(id=6028, vitesse_a_pied=0.5167307434059112, vitesse_a_velo=1.2918268585147779, home='(lon:46.23 lat:1.86)', travail='(lon:5.63 lat:33.35)', sportif=False, casseur=False, statut='technicien_de_surface', salaire=21750.51249518781, sexe='F', age=35, sportivite=2.5836537170295557, velo_perf_minimale=0.4),\n",
       " Row(id=6029, vitesse_a_pied=0.7070226116150307, vitesse_a_velo=1.7675565290375768, home='(lon:46.58 lat:22.35)', travail='(lon:3.23 lat:20.86)', sportif=False, casseur=False, statut='employe', salaire=16295.625282675566, sexe='F', age=37, sportivite=3.5351130580751535, velo_perf_minimale=0.4),\n",
       " Row(id=6031, vitesse_a_pied=0.08328838658186277, vitesse_a_velo=0.20822096645465696, home='(lon:19.32 lat:8.60)', travail='(lon:37.95 lat:25.31)', sportif=False, casseur=False, statut='technicien_de_surface', salaire=8652.515667996415, sexe='F', age=25, sportivite=0.41644193290931386, velo_perf_minimale=0.4),\n",
       " Row(id=6033, vitesse_a_pied=0.03423513398489879, vitesse_a_velo=0.08558783496224698, home='(lon:36.81 lat:11.98)', travail='(lon:34.05 lat:20.19)', sportif=False, casseur=False, statut='technicien_de_surface', salaire=18871.050042490097, sexe='F', age=31, sportivite=0.17117566992449396, velo_perf_minimale=0.4),\n",
       " Row(id=6034, vitesse_a_pied=0.19872619503062094, vitesse_a_velo=0.49681548757655236, home='(lon:24.85 lat:14.35)', travail='(lon:4.78 lat:36.43)', sportif=False, casseur=False, statut='cadre', salaire=29595.226211208257, sexe='F', age=53, sportivite=0.9936309751531047, velo_perf_minimale=0.4),\n",
       " Row(id=6038, vitesse_a_pied=0.38400967266317565, vitesse_a_velo=0.9600241816579391, home='(lon:43.86 lat:33.18)', travail='(lon:16.35 lat:13.44)', sportif=False, casseur=False, statut='technicien_de_surface', salaire=16723.479475266668, sexe='F', age=20, sportivite=1.9200483633158782, velo_perf_minimale=0.4),\n",
       " Row(id=6039, vitesse_a_pied=0.5810378643200782, vitesse_a_velo=1.4525946608001956, home='(lon:39.57 lat:15.07)', travail='(lon:46.25 lat:4.86)', sportif=False, casseur=False, statut='éboueur', salaire=20699.418002926242, sexe='F', age=72, sportivite=2.9051893216003912, velo_perf_minimale=0.4),\n",
       " Row(id=6040, vitesse_a_pied=0.5738712240995087, vitesse_a_velo=1.4346780602487719, home='(lon:39.33 lat:33.22)', travail='(lon:31.21 lat:1.78)', sportif=False, casseur=False, statut='technicien_de_surface', salaire=13992.418835484761, sexe='F', age=16, sportivite=2.8693561204975437, velo_perf_minimale=0.4),\n",
       " Row(id=6041, vitesse_a_pied=0.7027447737532306, vitesse_a_velo=1.7568619343830765, home='(lon:9.36 lat:48.62)', travail='(lon:7.71 lat:9.11)', sportif=False, casseur=False, statut='cadre', salaire=21381.97885963411, sexe='F', age=46, sportivite=3.513723868766153, velo_perf_minimale=0.4),\n",
       " Row(id=6042, vitesse_a_pied=0.11724054615046882, vitesse_a_velo=0.29310136537617204, home='(lon:4.90 lat:16.08)', travail='(lon:25.02 lat:9.73)', sportif=False, casseur=False, statut='reserviste', salaire=28508.41457041502, sexe='F', age=65, sportivite=0.5862027307523441, velo_perf_minimale=0.4),\n",
       " Row(id=6044, vitesse_a_pied=0.5662243494207182, vitesse_a_velo=1.4155608735517955, home='(lon:31.95 lat:19.48)', travail='(lon:19.98 lat:33.32)', sportif=False, casseur=False, statut='technicien_de_surface', salaire=23182.29483875742, sexe='F', age=20, sportivite=2.831121747103591, velo_perf_minimale=0.4),\n",
       " Row(id=6046, vitesse_a_pied=0.78352682339361, vitesse_a_velo=1.958817058484025, home='(lon:2.30 lat:20.77)', travail='(lon:24.55 lat:29.72)', sportif=False, casseur=False, statut='éboueur', salaire=21115.977945082963, sexe='F', age=27, sportivite=3.91763411696805, velo_perf_minimale=0.4),\n",
       " Row(id=6048, vitesse_a_pied=0.27868018358858143, vitesse_a_velo=0.6967004589714536, home='(lon:21.07 lat:47.51)', travail='(lon:38.74 lat:36.47)', sportif=False, casseur=False, statut='éboueur', salaire=16908.18063899964, sexe='F', age=78, sportivite=1.3934009179429072, velo_perf_minimale=0.4),\n",
       " Row(id=6050, vitesse_a_pied=1.075855603292265, vitesse_a_velo=2.6896390082306625, home='(lon:39.77 lat:34.38)', travail='(lon:13.34 lat:21.93)', sportif=False, casseur=False, statut='employe', salaire=19708.73958575785, sexe='F', age=44, sportivite=5.379278016461325, velo_perf_minimale=0.4),\n",
       " Row(id=6052, vitesse_a_pied=0.98002346132978, vitesse_a_velo=2.45005865332445, home='(lon:15.54 lat:21.13)', travail='(lon:27.02 lat:21.06)', sportif=False, casseur=False, statut='reserviste', salaire=31675.98740333361, sexe='F', age=83, sportivite=4.9001173066489, velo_perf_minimale=0.4),\n",
       " Row(id=6053, vitesse_a_pied=0.02, vitesse_a_velo=0.05, home='(lon:26.44 lat:40.79)', travail='(lon:19.16 lat:7.79)', sportif=False, casseur=False, statut='technicien_de_surface', salaire=17415.338176918296, sexe='F', age=50, sportivite=0.1, velo_perf_minimale=0.4),\n",
       " Row(id=6055, vitesse_a_pied=0.02, vitesse_a_velo=0.05, home='(lon:26.16 lat:38.29)', travail='(lon:41.23 lat:40.94)', sportif=False, casseur=False, statut='professeur', salaire=27973.45925285144, sexe='F', age=33, sportivite=0.1, velo_perf_minimale=0.4),\n",
       " Row(id=6056, vitesse_a_pied=0.17589217225059542, vitesse_a_velo=0.43973043062648853, home='(lon:2.87 lat:40.08)', travail='(lon:1.28 lat:29.95)', sportif=False, casseur=False, statut='reserviste', salaire=30667.115554111588, sexe='F', age=29, sportivite=0.8794608612529771, velo_perf_minimale=0.4),\n",
       " Row(id=6057, vitesse_a_pied=0.02, vitesse_a_velo=0.05, home='(lon:39.71 lat:8.55)', travail='(lon:15.34 lat:14.22)', sportif=False, casseur=True, statut='cadre', salaire=20311.03575966934, sexe='F', age=75, sportivite=0.1, velo_perf_minimale=0.4),\n",
       " Row(id=6060, vitesse_a_pied=0.02, vitesse_a_velo=0.05, home='(lon:35.96 lat:21.71)', travail='(lon:41.97 lat:46.95)', sportif=False, casseur=False, statut='employe', salaire=20097.33721374812, sexe='F', age=25, sportivite=0.1, velo_perf_minimale=0.4),\n",
       " Row(id=6064, vitesse_a_pied=0.5112782122248591, vitesse_a_velo=1.278195530562148, home='(lon:48.79 lat:15.94)', travail='(lon:13.49 lat:2.54)', sportif=False, casseur=False, statut='reserviste', salaire=24008.27136174167, sexe='F', age=27, sportivite=2.556391061124296, velo_perf_minimale=0.4),\n",
       " Row(id=6065, vitesse_a_pied=0.04906225935996793, vitesse_a_velo=0.12265564839991983, home='(lon:12.29 lat:17.63)', travail='(lon:41.49 lat:30.73)', sportif=False, casseur=False, statut='employe', salaire=26283.259603510134, sexe='F', age=35, sportivite=0.24531129679983965, velo_perf_minimale=0.4),\n",
       " Row(id=6068, vitesse_a_pied=0.02, vitesse_a_velo=0.05, home='(lon:45.83 lat:20.37)', travail='(lon:34.20 lat:12.85)', sportif=False, casseur=False, statut='professeur', salaire=18057.039261548936, sexe='F', age=39, sportivite=0.1, velo_perf_minimale=0.4),\n",
       " Row(id=6071, vitesse_a_pied=0.20663045165857358, vitesse_a_velo=0.5165761291464339, home='(lon:13.96 lat:3.41)', travail='(lon:4.34 lat:11.33)', sportif=False, casseur=False, statut='éboueur', salaire=13422.220184336678, sexe='F', age=45, sportivite=1.0331522582928678, velo_perf_minimale=0.4),\n",
       " Row(id=6074, vitesse_a_pied=0.5329910711246603, vitesse_a_velo=1.3324776778116507, home='(lon:16.14 lat:8.39)', travail='(lon:34.44 lat:23.62)', sportif=False, casseur=False, statut='éboueur', salaire=16448.13161368381, sexe='F', age=84, sportivite=2.6649553556233014, velo_perf_minimale=0.4),\n",
       " Row(id=6075, vitesse_a_pied=0.30347136737356223, vitesse_a_velo=0.7586784184339056, home='(lon:6.89 lat:23.13)', travail='(lon:19.21 lat:44.25)', sportif=False, casseur=False, statut='éboueur', salaire=11912.611662589805, sexe='F', age=83, sportivite=1.5173568368678112, velo_perf_minimale=0.4),\n",
       " Row(id=6077, vitesse_a_pied=0.7496808566283655, vitesse_a_velo=1.8742021415709136, home='(lon:3.72 lat:43.06)', travail='(lon:41.54 lat:42.50)', sportif=False, casseur=False, statut='éboueur', salaire=18285.35224046542, sexe='F', age=35, sportivite=3.748404283141827, velo_perf_minimale=0.4),\n",
       " Row(id=6080, vitesse_a_pied=0.7426557888770842, vitesse_a_velo=1.8566394721927104, home='(lon:10.10 lat:44.21)', travail='(lon:41.66 lat:7.04)', sportif=False, casseur=False, statut='reserviste', salaire=34953.017856675666, sexe='F', age=65, sportivite=3.713278944385421, velo_perf_minimale=0.4),\n",
       " Row(id=6081, vitesse_a_pied=0.27191306770809937, vitesse_a_velo=0.6797826692702484, home='(lon:4.95 lat:17.18)', travail='(lon:42.51 lat:21.84)', sportif=False, casseur=False, statut='technicien_de_surface', salaire=12488.602159236489, sexe='F', age=44, sportivite=1.3595653385404969, velo_perf_minimale=0.4),\n",
       " Row(id=6084, vitesse_a_pied=0.41504964139658657, vitesse_a_velo=1.0376241034914664, home='(lon:34.39 lat:19.97)', travail='(lon:19.06 lat:48.23)', sportif=False, casseur=False, statut='professeur', salaire=30774.936098611874, sexe='F', age=60, sportivite=2.0752482069829328, velo_perf_minimale=0.4),\n",
       " Row(id=6085, vitesse_a_pied=0.8946627558688703, vitesse_a_velo=2.236656889672176, home='(lon:11.44 lat:42.45)', travail='(lon:7.68 lat:37.21)', sportif=False, casseur=False, statut='professeur', salaire=28458.234669559453, sexe='F', age=83, sportivite=4.473313779344352, velo_perf_minimale=0.4),\n",
       " Row(id=6087, vitesse_a_pied=0.7290289001291823, vitesse_a_velo=1.8225722503229558, home='(lon:37.65 lat:10.54)', travail='(lon:36.25 lat:2.85)', sportif=False, casseur=False, statut='technicien_de_surface', salaire=14972.391139698528, sexe='F', age=36, sportivite=3.6451445006459116, velo_perf_minimale=0.4),\n",
       " Row(id=6089, vitesse_a_pied=0.19655678950657834, vitesse_a_velo=0.49139197376644583, home='(lon:41.01 lat:18.66)', travail='(lon:0.32 lat:16.14)', sportif=False, casseur=False, statut='professeur', salaire=25089.106872597735, sexe='F', age=39, sportivite=0.9827839475328917, velo_perf_minimale=0.4),\n",
       " Row(id=6090, vitesse_a_pied=0.36362187863495177, vitesse_a_velo=0.9090546965873794, home='(lon:11.04 lat:43.81)', travail='(lon:23.10 lat:29.94)', sportif=False, casseur=False, statut='éboueur', salaire=19711.98220963338, sexe='F', age=72, sportivite=1.8181093931747587, velo_perf_minimale=0.4),\n",
       " Row(id=6092, vitesse_a_pied=0.3707092956938147, vitesse_a_velo=0.9267732392345367, home='(lon:48.14 lat:28.89)', travail='(lon:46.36 lat:38.62)', sportif=False, casseur=False, statut='employe', salaire=17611.875968143966, sexe='F', age=20, sportivite=1.8535464784690736, velo_perf_minimale=0.4),\n",
       " Row(id=6093, vitesse_a_pied=0.15774008606945059, vitesse_a_velo=0.39435021517362645, home='(lon:37.64 lat:15.70)', travail='(lon:10.96 lat:42.51)', sportif=False, casseur=False, statut='technicien_de_surface', salaire=18188.679096234468, sexe='F', age=56, sportivite=0.7887004303472529, velo_perf_minimale=0.4),\n",
       " Row(id=6094, vitesse_a_pied=0.9372733872735232, vitesse_a_velo=2.343183468183808, home='(lon:13.59 lat:1.55)', travail='(lon:40.64 lat:36.56)', sportif=False, casseur=False, statut='éboueur', salaire=23164.87118261679, sexe='F', age=76, sportivite=4.686366936367616, velo_perf_minimale=0.4),\n",
       " Row(id=6095, vitesse_a_pied=0.02, vitesse_a_velo=0.05, home='(lon:35.72 lat:39.97)', travail='(lon:10.08 lat:30.43)', sportif=False, casseur=False, statut='cadre', salaire=33157.621300022, sexe='F', age=18, sportivite=0.1, velo_perf_minimale=0.4),\n",
       " Row(id=6099, vitesse_a_pied=0.19870379677580088, vitesse_a_velo=0.49675949193950225, home='(lon:46.17 lat:27.01)', travail='(lon:11.98 lat:1.65)', sportif=False, casseur=False, statut='reserviste', salaire=42820.50005201614, sexe='F', age=63, sportivite=0.9935189838790044, velo_perf_minimale=0.4),\n",
       " Row(id=6101, vitesse_a_pied=0.3068070065355305, vitesse_a_velo=0.7670175163388262, home='(lon:23.47 lat:24.54)', travail='(lon:11.79 lat:42.25)', sportif=False, casseur=False, statut='professeur', salaire=20428.909237737123, sexe='F', age=74, sportivite=1.5340350326776524, velo_perf_minimale=0.4),\n",
       " Row(id=6103, vitesse_a_pied=0.8055825340094882, vitesse_a_velo=2.0139563350237206, home='(lon:3.57 lat:44.30)', travail='(lon:31.65 lat:13.42)', sportif=False, casseur=False, statut='éboueur', salaire=11413.990214609878, sexe='F', age=84, sportivite=4.027912670047441, velo_perf_minimale=0.4),\n",
       " Row(id=6110, vitesse_a_pied=0.3920214678867266, vitesse_a_velo=0.9800536697168166, home='(lon:4.17 lat:5.49)', travail='(lon:39.55 lat:44.07)', sportif=False, casseur=True, statut='éboueur', salaire=19372.06951607552, sexe='F', age=45, sportivite=1.960107339433633, velo_perf_minimale=0.4),\n",
       " Row(id=6112, vitesse_a_pied=0.02, vitesse_a_velo=0.05, home='(lon:18.67 lat:36.91)', travail='(lon:45.23 lat:6.07)', sportif=False, casseur=False, statut='professeur', salaire=17627.336599775383, sexe='F', age=28, sportivite=0.1, velo_perf_minimale=0.4),\n",
       " Row(id=6113, vitesse_a_pied=0.16246333473669855, vitesse_a_velo=0.4061583368417464, home='(lon:13.33 lat:7.57)', travail='(lon:26.45 lat:39.90)', sportif=False, casseur=False, statut='technicien_de_surface', salaire=22752.6321014341, sexe='F', age=29, sportivite=0.8123166736834928, velo_perf_minimale=0.4),\n",
       " Row(id=6115, vitesse_a_pied=0.5810204426653062, vitesse_a_velo=1.4525511066632655, home='(lon:45.52 lat:1.91)', travail='(lon:43.05 lat:45.58)', sportif=False, casseur=False, statut='professeur', salaire=30257.275909993936, sexe='F', age=83, sportivite=2.905102213326531, velo_perf_minimale=0.4),\n",
       " Row(id=6117, vitesse_a_pied=0.8905828131043554, vitesse_a_velo=2.2264570327608886, home='(lon:17.35 lat:30.76)', travail='(lon:21.68 lat:2.71)', sportif=False, casseur=False, statut='employe', salaire=20765.550981789474, sexe='F', age=80, sportivite=4.452914065521777, velo_perf_minimale=0.4),\n",
       " Row(id=6118, vitesse_a_pied=0.02, vitesse_a_velo=0.05, home='(lon:18.73 lat:7.81)', travail='(lon:46.55 lat:18.64)', sportif=False, casseur=False, statut='reserviste', salaire=27859.591778075286, sexe='F', age=46, sportivite=0.1, velo_perf_minimale=0.4),\n",
       " Row(id=6120, vitesse_a_pied=0.7093076252540771, vitesse_a_velo=1.7732690631351926, home='(lon:28.00 lat:23.50)', travail='(lon:19.77 lat:28.29)', sportif=False, casseur=False, statut='professeur', salaire=21421.154893808634, sexe='F', age=24, sportivite=3.5465381262703852, velo_perf_minimale=0.4),\n",
       " Row(id=6122, vitesse_a_pied=0.9434795287484864, vitesse_a_velo=2.358698821871216, home='(lon:14.52 lat:25.40)', travail='(lon:31.04 lat:2.16)', sportif=False, casseur=False, statut='cadre', salaire=29841.241849213206, sexe='F', age=58, sportivite=4.717397643742432, velo_perf_minimale=0.4),\n",
       " Row(id=6123, vitesse_a_pied=0.16587610462754862, vitesse_a_velo=0.41469026156887157, home='(lon:27.58 lat:26.02)', travail='(lon:45.96 lat:41.82)', sportif=False, casseur=False, statut='cadre', salaire=32468.58142990196, sexe='F', age=39, sportivite=0.8293805231377431, velo_perf_minimale=0.4),\n",
       " Row(id=6124, vitesse_a_pied=2.0006216969981, vitesse_a_velo=5.001554242495248, home='(lon:43.47 lat:44.52)', travail='(lon:37.09 lat:3.26)', sportif=True, casseur=False, statut='reserviste', salaire=27163.609858895103, sexe='F', age=83, sportivite=3.3343694949968326, velo_perf_minimale=3.7343694949968325),\n",
       " Row(id=6125, vitesse_a_pied=0.6945016511384148, vitesse_a_velo=1.736254127846037, home='(lon:21.13 lat:44.95)', travail='(lon:30.13 lat:41.97)', sportif=False, casseur=False, statut='cadre', salaire=19857.612333723748, sexe='F', age=50, sportivite=3.472508255692074, velo_perf_minimale=0.4),\n",
       " Row(id=6126, vitesse_a_pied=0.3260352980696933, vitesse_a_velo=0.8150882451742332, home='(lon:34.49 lat:43.88)', travail='(lon:17.27 lat:8.69)', sportif=False, casseur=False, statut='cadre', salaire=20926.24128269851, sexe='F', age=17, sportivite=1.6301764903484663, velo_perf_minimale=0.4),\n",
       " Row(id=6127, vitesse_a_pied=0.979217313632225, vitesse_a_velo=2.4480432840805624, home='(lon:8.67 lat:9.19)', travail='(lon:30.21 lat:17.03)', sportif=False, casseur=False, statut='éboueur', salaire=17015.85729936808, sexe='F', age=50, sportivite=4.896086568161125, velo_perf_minimale=0.4),\n",
       " Row(id=6134, vitesse_a_pied=0.10959610944347573, vitesse_a_velo=0.2739902736086893, home='(lon:24.13 lat:5.65)', travail='(lon:4.51 lat:18.11)', sportif=False, casseur=False, statut='reserviste', salaire=35285.49064727013, sexe='F', age=38, sportivite=0.5479805472173787, velo_perf_minimale=0.4),\n",
       " Row(id=6136, vitesse_a_pied=0.6428731641034935, vitesse_a_velo=1.6071829102587336, home='(lon:45.41 lat:21.96)', travail='(lon:34.13 lat:41.23)', sportif=False, casseur=False, statut='employe', salaire=22306.026830056035, sexe='F', age=18, sportivite=3.214365820517467, velo_perf_minimale=0.4),\n",
       " Row(id=6140, vitesse_a_pied=1.7028578509647923, vitesse_a_velo=4.25714462741198, home='(lon:16.31 lat:22.22)', travail='(lon:37.69 lat:17.39)', sportif=True, casseur=False, statut='éboueur', salaire=18144.90263133753, sexe='F', age=60, sportivite=2.8380964182746538, velo_perf_minimale=3.2380964182746537),\n",
       " Row(id=6144, vitesse_a_pied=0.6929711309456731, vitesse_a_velo=1.7324278273641827, home='(lon:0.45 lat:21.71)', travail='(lon:19.66 lat:43.83)', sportif=False, casseur=False, statut='employe', salaire=24280.654011079918, sexe='F', age=37, sportivite=3.4648556547283653, velo_perf_minimale=0.4),\n",
       " Row(id=6148, vitesse_a_pied=0.31585915330873754, vitesse_a_velo=0.7896478832718439, home='(lon:14.32 lat:14.07)', travail='(lon:40.90 lat:8.16)', sportif=False, casseur=False, statut='employe', salaire=20864.3128453234, sexe='F', age=79, sportivite=1.5792957665436878, velo_perf_minimale=0.4),\n",
       " Row(id=6150, vitesse_a_pied=0.6154016363239302, vitesse_a_velo=1.5385040908098255, home='(lon:30.57 lat:31.69)', travail='(lon:7.69 lat:4.44)', sportif=False, casseur=False, statut='employe', salaire=15097.239988702102, sexe='F', age=30, sportivite=3.077008181619651, velo_perf_minimale=0.4),\n",
       " Row(id=6152, vitesse_a_pied=0.02, vitesse_a_velo=0.05, home='(lon:29.50 lat:0.98)', travail='(lon:20.51 lat:46.66)', sportif=False, casseur=False, statut='reserviste', salaire=26782.791713274695, sexe='F', age=29, sportivite=0.1, velo_perf_minimale=0.4),\n",
       " Row(id=6153, vitesse_a_pied=0.16147867807602415, vitesse_a_velo=0.40369669519006035, home='(lon:0.72 lat:23.90)', travail='(lon:26.76 lat:27.41)', sportif=False, casseur=False, statut='employe', salaire=26168.556136139545, sexe='F', age=23, sportivite=0.8073933903801207, velo_perf_minimale=0.4),\n",
       " Row(id=6154, vitesse_a_pied=0.31460956073988305, vitesse_a_velo=0.7865239018497077, home='(lon:11.22 lat:40.74)', travail='(lon:34.84 lat:34.96)', sportif=False, casseur=False, statut='technicien_de_surface', salaire=20090.949603137713, sexe='F', age=24, sportivite=1.5730478036994153, velo_perf_minimale=0.4),\n",
       " Row(id=6158, vitesse_a_pied=0.6646253893160086, vitesse_a_velo=1.661563473290021, home='(lon:9.65 lat:29.52)', travail='(lon:47.57 lat:39.16)', sportif=False, casseur=False, statut='cadre', salaire=31714.788643970485, sexe='F', age=71, sportivite=3.3231269465800426, velo_perf_minimale=0.4),\n",
       " Row(id=6159, vitesse_a_pied=0.02, vitesse_a_velo=0.05, home='(lon:26.37 lat:37.15)', travail='(lon:17.90 lat:15.32)', sportif=False, casseur=False, statut='cadre', salaire=30427.540165921753, sexe='F', age=32, sportivite=0.1, velo_perf_minimale=0.4),\n",
       " Row(id=6160, vitesse_a_pied=0.166112572169783, vitesse_a_velo=0.41528143042445753, home='(lon:3.26 lat:16.33)', travail='(lon:48.25 lat:12.74)', sportif=False, casseur=False, statut='cadre', salaire=19774.286980162422, sexe='F', age=75, sportivite=0.8305628608489151, velo_perf_minimale=0.4),\n",
       " Row(id=6161, vitesse_a_pied=0.7454657990692691, vitesse_a_velo=1.863664497673173, home='(lon:6.34 lat:18.90)', travail='(lon:21.07 lat:8.50)', sportif=False, casseur=False, statut='professeur', salaire=31734.104636210952, sexe='F', age=25, sportivite=3.7273289953463458, velo_perf_minimale=0.4),\n",
       " Row(id=6165, vitesse_a_pied=0.5723187881342116, vitesse_a_velo=1.4307969703355288, home='(lon:19.86 lat:15.58)', travail='(lon:22.16 lat:39.62)', sportif=False, casseur=True, statut='technicien_de_surface', salaire=20923.33796526012, sexe='F', age=37, sportivite=2.8615939406710575, velo_perf_minimale=0.4),\n",
       " Row(id=6167, vitesse_a_pied=0.02, vitesse_a_velo=0.05, home='(lon:39.21 lat:29.45)', travail='(lon:39.79 lat:20.56)', sportif=False, casseur=False, statut='professeur', salaire=21706.370784336697, sexe='F', age=20, sportivite=0.1, velo_perf_minimale=0.4),\n",
       " Row(id=6169, vitesse_a_pied=0.12188568768236471, vitesse_a_velo=0.3047142192059118, home='(lon:2.88 lat:35.93)', travail='(lon:6.21 lat:19.55)', sportif=False, casseur=False, statut='éboueur', salaire=26338.84337156246, sexe='F', age=32, sportivite=0.6094284384118236, velo_perf_minimale=0.4),\n",
       " Row(id=6170, vitesse_a_pied=0.02, vitesse_a_velo=0.05, home='(lon:41.36 lat:20.25)', travail='(lon:13.17 lat:48.75)', sportif=False, casseur=False, statut='employe', salaire=25632.812482072764, sexe='F', age=47, sportivite=0.1, velo_perf_minimale=0.4),\n",
       " Row(id=6183, vitesse_a_pied=0.18016198617382825, vitesse_a_velo=0.45040496543457065, home='(lon:32.16 lat:7.04)', travail='(lon:5.21 lat:35.45)', sportif=False, casseur=False, statut='éboueur', salaire=20198.74051901945, sexe='F', age=62, sportivite=0.9008099308691413, velo_perf_minimale=0.4),\n",
       " Row(id=6184, vitesse_a_pied=0.25751169186273176, vitesse_a_velo=0.6437792296568294, home='(lon:4.54 lat:10.69)', travail='(lon:17.10 lat:2.84)', sportif=False, casseur=False, statut='employe', salaire=17108.59805727426, sexe='F', age=28, sportivite=1.2875584593136589, velo_perf_minimale=0.4),\n",
       " Row(id=6185, vitesse_a_pied=0.03272761721919846, vitesse_a_velo=0.08181904304799614, home='(lon:7.75 lat:47.23)', travail='(lon:30.46 lat:20.91)', sportif=False, casseur=False, statut='technicien_de_surface', salaire=15686.525383988685, sexe='F', age=36, sportivite=0.16363808609599229, velo_perf_minimale=0.4),\n",
       " Row(id=6187, vitesse_a_pied=0.02, vitesse_a_velo=0.05, home='(lon:15.81 lat:4.79)', travail='(lon:40.27 lat:6.45)', sportif=False, casseur=False, statut='reserviste', salaire=41695.64720003373, sexe='F', age=30, sportivite=0.1, velo_perf_minimale=0.4),\n",
       " Row(id=6188, vitesse_a_pied=0.02, vitesse_a_velo=0.05, home='(lon:32.66 lat:25.50)', travail='(lon:17.72 lat:30.46)', sportif=False, casseur=False, statut='cadre', salaire=18793.844867733726, sexe='F', age=81, sportivite=0.1, velo_perf_minimale=0.4),\n",
       " Row(id=6189, vitesse_a_pied=0.05433093047263941, vitesse_a_velo=0.13582732618159854, home='(lon:30.51 lat:23.36)', travail='(lon:38.40 lat:20.37)', sportif=False, casseur=False, statut='professeur', salaire=22756.913591049342, sexe='F', age=31, sportivite=0.2716546523631971, velo_perf_minimale=0.4),\n",
       " Row(id=6190, vitesse_a_pied=0.6572376634908883, vitesse_a_velo=1.6430941587272208, home='(lon:33.25 lat:41.59)', travail='(lon:12.00 lat:46.06)', sportif=False, casseur=False, statut='technicien_de_surface', salaire=20604.67653519226, sexe='F', age=47, sportivite=3.2861883174544415, velo_perf_minimale=0.4),\n",
       " Row(id=6192, vitesse_a_pied=0.3568906084798609, vitesse_a_velo=0.8922265211996523, home='(lon:0.37 lat:28.20)', travail='(lon:19.92 lat:4.49)', sportif=False, casseur=False, statut='reserviste', salaire=31522.451437945947, sexe='F', age=40, sportivite=1.7844530423993046, velo_perf_minimale=0.4),\n",
       " Row(id=6193, vitesse_a_pied=0.02, vitesse_a_velo=0.05, home='(lon:31.83 lat:13.04)', travail='(lon:48.14 lat:12.28)', sportif=False, casseur=False, statut='cadre', salaire=31469.11505987816, sexe='F', age=30, sportivite=0.1, velo_perf_minimale=0.4),\n",
       " Row(id=6195, vitesse_a_pied=0.9365846517193976, vitesse_a_velo=2.341461629298494, home='(lon:1.71 lat:0.93)', travail='(lon:9.55 lat:27.87)', sportif=False, casseur=False, statut='éboueur', salaire=20974.88225508655, sexe='F', age=53, sportivite=4.682923258596988, velo_perf_minimale=0.4),\n",
       " Row(id=6196, vitesse_a_pied=0.02, vitesse_a_velo=0.05, home='(lon:41.22 lat:0.72)', travail='(lon:41.17 lat:34.89)', sportif=False, casseur=False, statut='employe', salaire=15208.335234611572, sexe='F', age=28, sportivite=0.1, velo_perf_minimale=0.4),\n",
       " Row(id=6201, vitesse_a_pied=0.7408840776442893, vitesse_a_velo=1.8522101941107234, home='(lon:31.83 lat:6.67)', travail='(lon:5.65 lat:38.13)', sportif=False, casseur=False, statut='éboueur', salaire=12877.707615156709, sexe='F', age=52, sportivite=3.704420388221447, velo_perf_minimale=0.4),\n",
       " Row(id=6203, vitesse_a_pied=0.6708234792620917, vitesse_a_velo=1.6770586981552291, home='(lon:43.56 lat:32.91)', travail='(lon:21.75 lat:36.06)', sportif=False, casseur=False, statut='éboueur', salaire=16670.529412429227, sexe='F', age=16, sportivite=3.3541173963104587, velo_perf_minimale=0.4),\n",
       " Row(id=6204, vitesse_a_pied=0.18836042472363754, vitesse_a_velo=0.47090106180909386, home='(lon:28.07 lat:42.90)', travail='(lon:8.09 lat:34.83)', sportif=False, casseur=False, statut='reserviste', salaire=30962.51180268268, sexe='F', age=75, sportivite=0.9418021236181877, velo_perf_minimale=0.4),\n",
       " Row(id=6205, vitesse_a_pied=0.5086910171982891, vitesse_a_velo=1.2717275429957229, home='(lon:47.65 lat:47.36)', travail='(lon:33.89 lat:48.56)', sportif=False, casseur=False, statut='employe', salaire=20989.581219404623, sexe='F', age=32, sportivite=2.5434550859914458, velo_perf_minimale=0.4),\n",
       " Row(id=6207, vitesse_a_pied=0.5139264732970514, vitesse_a_velo=1.2848161832426286, home='(lon:27.57 lat:28.30)', travail='(lon:15.49 lat:4.02)', sportif=False, casseur=False, statut='professeur', salaire=13527.301655982681, sexe='F', age=65, sportivite=2.569632366485257, velo_perf_minimale=0.4),\n",
       " Row(id=6208, vitesse_a_pied=0.6084732575293436, vitesse_a_velo=1.521183143823359, home='(lon:40.04 lat:4.29)', travail='(lon:46.86 lat:4.36)', sportif=False, casseur=False, statut='employe', salaire=23663.95718279925, sexe='F', age=41, sportivite=3.042366287646718, velo_perf_minimale=0.4),\n",
       " Row(id=6210, vitesse_a_pied=0.21664311189593882, vitesse_a_velo=0.5416077797398471, home='(lon:27.53 lat:5.53)', travail='(lon:18.28 lat:44.86)', sportif=False, casseur=False, statut='professeur', salaire=27597.227642650712, sexe='F', age=36, sportivite=1.0832155594796942, velo_perf_minimale=0.4),\n",
       " Row(id=6212, vitesse_a_pied=0.2910390268644839, vitesse_a_velo=0.7275975671612098, home='(lon:22.56 lat:15.44)', travail='(lon:25.47 lat:19.24)', sportif=False, casseur=False, statut='éboueur', salaire=22564.33511316486, sexe='F', age=32, sportivite=1.4551951343224196, velo_perf_minimale=0.4),\n",
       " Row(id=6213, vitesse_a_pied=0.02, vitesse_a_velo=0.05, home='(lon:14.63 lat:24.53)', travail='(lon:31.31 lat:31.88)', sportif=False, casseur=False, statut='cadre', salaire=30264.645646841145, sexe='F', age=40, sportivite=0.1, velo_perf_minimale=0.4),\n",
       " Row(id=6216, vitesse_a_pied=0.15731508875721376, vitesse_a_velo=0.3932877218930344, home='(lon:36.33 lat:14.18)', travail='(lon:26.95 lat:4.00)', sportif=False, casseur=False, statut='employe', salaire=18524.56389070761, sexe='F', age=57, sportivite=0.7865754437860688, velo_perf_minimale=0.4),\n",
       " Row(id=6218, vitesse_a_pied=0.02, vitesse_a_velo=0.05, home='(lon:25.03 lat:11.10)', travail='(lon:19.68 lat:11.59)', sportif=False, casseur=True, statut='technicien_de_surface', salaire=17259.352787737193, sexe='F', age=35, sportivite=0.1, velo_perf_minimale=0.4),\n",
       " Row(id=6221, vitesse_a_pied=0.02, vitesse_a_velo=0.05, home='(lon:10.29 lat:12.12)', travail='(lon:25.62 lat:6.51)', sportif=False, casseur=False, statut='technicien_de_surface', salaire=20183.193451625197, sexe='F', age=35, sportivite=0.1, velo_perf_minimale=0.4),\n",
       " Row(id=6222, vitesse_a_pied=0.711495217821345, vitesse_a_velo=1.778738044553362, home='(lon:31.90 lat:25.83)', travail='(lon:1.32 lat:34.27)', sportif=False, casseur=False, statut='technicien_de_surface', salaire=16741.18353902327, sexe='F', age=31, sportivite=3.5574760891067245, velo_perf_minimale=0.4),\n",
       " Row(id=6223, vitesse_a_pied=0.6717176697522713, vitesse_a_velo=1.6792941743806786, home='(lon:43.00 lat:30.43)', travail='(lon:19.55 lat:4.72)', sportif=False, casseur=False, statut='cadre', salaire=26756.80292184034, sexe='F', age=77, sportivite=3.358588348761357, velo_perf_minimale=0.4),\n",
       " Row(id=6224, vitesse_a_pied=0.36578237582573314, vitesse_a_velo=0.9144559395643329, home='(lon:5.79 lat:12.40)', travail='(lon:23.24 lat:39.82)', sportif=False, casseur=False, statut='professeur', salaire=26464.84750376662, sexe='F', age=69, sportivite=1.8289118791286658, velo_perf_minimale=0.4),\n",
       " Row(id=6225, vitesse_a_pied=0.8470572758256287, vitesse_a_velo=2.1176431895640717, home='(lon:32.29 lat:0.20)', travail='(lon:42.14 lat:8.44)', sportif=False, casseur=False, statut='technicien_de_surface', salaire=22708.904243238634, sexe='F', age=69, sportivite=4.235286379128143, velo_perf_minimale=0.4),\n",
       " Row(id=6226, vitesse_a_pied=0.22477335814287347, vitesse_a_velo=0.5619333953571837, home='(lon:14.22 lat:33.56)', travail='(lon:46.65 lat:15.16)', sportif=False, casseur=False, statut='employe', salaire=24547.895418016942, sexe='F', age=50, sportivite=1.1238667907143673, velo_perf_minimale=0.4),\n",
       " Row(id=6230, vitesse_a_pied=0.02, vitesse_a_velo=0.05, home='(lon:9.30 lat:31.47)', travail='(lon:37.51 lat:36.16)', sportif=False, casseur=False, statut='professeur', salaire=23995.485814816948, sexe='F', age=66, sportivite=0.1, velo_perf_minimale=0.4),\n",
       " Row(id=6231, vitesse_a_pied=0.0962787578926271, vitesse_a_velo=0.24069689473156775, home='(lon:13.74 lat:45.68)', travail='(lon:31.84 lat:16.02)', sportif=False, casseur=False, statut='technicien_de_surface', salaire=18334.373291616794, sexe='F', age=28, sportivite=0.4813937894631355, velo_perf_minimale=0.4),\n",
       " Row(id=6232, vitesse_a_pied=0.2944962799123898, vitesse_a_velo=0.7362406997809745, home='(lon:33.63 lat:45.35)', travail='(lon:24.14 lat:19.44)', sportif=False, casseur=False, statut='cadre', salaire=37486.95494726738, sexe='F', age=68, sportivite=1.472481399561949, velo_perf_minimale=0.4),\n",
       " Row(id=6236, vitesse_a_pied=0.4789484578913753, vitesse_a_velo=1.1973711447284383, home='(lon:28.13 lat:29.21)', travail='(lon:46.18 lat:32.99)', sportif=False, casseur=False, statut='éboueur', salaire=12144.666557857534, sexe='F', age=43, sportivite=2.3947422894568766, velo_perf_minimale=0.4),\n",
       " Row(id=6237, vitesse_a_pied=0.15545422031629683, vitesse_a_velo=0.3886355507907421, home='(lon:33.85 lat:34.67)', travail='(lon:26.95 lat:14.72)', sportif=False, casseur=False, statut='employe', salaire=25711.056017299583, sexe='F', age=73, sportivite=0.7772711015814842, velo_perf_minimale=0.4),\n",
       " Row(id=6238, vitesse_a_pied=0.27505884888770277, vitesse_a_velo=0.687647122219257, home='(lon:41.22 lat:25.62)', travail='(lon:43.56 lat:31.16)', sportif=False, casseur=False, statut='reserviste', salaire=30562.9465729912, sexe='F', age=66, sportivite=1.375294244438514, velo_perf_minimale=0.4),\n",
       " Row(id=6239, vitesse_a_pied=0.09967474923237032, vitesse_a_velo=0.24918687308092577, home='(lon:47.23 lat:7.08)', travail='(lon:40.39 lat:30.38)', sportif=False, casseur=False, statut='éboueur', salaire=23480.215412636502, sexe='F', age=49, sportivite=0.4983737461618516, velo_perf_minimale=0.4),\n",
       " Row(id=6240, vitesse_a_pied=0.02, vitesse_a_velo=0.05, home='(lon:37.76 lat:17.56)', travail='(lon:38.57 lat:42.00)', sportif=False, casseur=False, statut='cadre', salaire=24803.88783544179, sexe='F', age=25, sportivite=0.1, velo_perf_minimale=0.4),\n",
       " Row(id=6241, vitesse_a_pied=0.9179983812840984, vitesse_a_velo=2.294995953210246, home='(lon:29.99 lat:46.82)', travail='(lon:29.39 lat:46.36)', sportif=False, casseur=False, statut='éboueur', salaire=19159.536120546996, sexe='F', age=59, sportivite=4.589991906420492, velo_perf_minimale=0.4),\n",
       " Row(id=6244, vitesse_a_pied=0.6106596092528813, vitesse_a_velo=1.5266490231322034, home='(lon:2.53 lat:32.60)', travail='(lon:48.75 lat:12.99)', sportif=False, casseur=False, statut='professeur', salaire=27891.72966887604, sexe='F', age=31, sportivite=3.053298046264407, velo_perf_minimale=0.4),\n",
       " Row(id=6247, vitesse_a_pied=0.02, vitesse_a_velo=0.05, home='(lon:44.05 lat:30.66)', travail='(lon:15.43 lat:21.94)', sportif=False, casseur=False, statut='technicien_de_surface', salaire=14699.773381098075, sexe='F', age=15, sportivite=0.1, velo_perf_minimale=0.4),\n",
       " Row(id=6252, vitesse_a_pied=0.37977384061527564, vitesse_a_velo=0.9494346015381891, home='(lon:21.34 lat:21.09)', travail='(lon:31.00 lat:6.16)', sportif=False, casseur=False, statut='technicien_de_surface', salaire=18344.879718112134, sexe='F', age=70, sportivite=1.8988692030763783, velo_perf_minimale=0.4),\n",
       " Row(id=6255, vitesse_a_pied=0.1970868466189323, vitesse_a_velo=0.49271711654733075, home='(lon:0.59 lat:48.72)', travail='(lon:4.13 lat:1.63)', sportif=False, casseur=False, statut='éboueur', salaire=17572.990596273525, sexe='F', age=59, sportivite=0.9854342330946615, velo_perf_minimale=0.4),\n",
       " Row(id=6256, vitesse_a_pied=0.33737005469768994, vitesse_a_velo=0.8434251367442249, home='(lon:8.35 lat:33.56)', travail='(lon:44.07 lat:18.71)', sportif=False, casseur=False, statut='cadre', salaire=26491.497197317327, sexe='F', age=55, sportivite=1.6868502734884496, velo_perf_minimale=0.4),\n",
       " Row(id=6257, vitesse_a_pied=0.6381798006986206, vitesse_a_velo=1.5954495017465513, home='(lon:28.10 lat:9.62)', travail='(lon:15.39 lat:24.32)', sportif=False, casseur=False, statut='technicien_de_surface', salaire=15385.905313232399, sexe='F', age=41, sportivite=3.1908990034931026, velo_perf_minimale=0.4),\n",
       " Row(id=6258, vitesse_a_pied=0.49498901821956265, vitesse_a_velo=1.2374725455489066, home='(lon:24.93 lat:10.92)', travail='(lon:8.94 lat:20.44)', sportif=False, casseur=False, statut='éboueur', salaire=19117.70340259631, sexe='F', age=82, sportivite=2.4749450910978132, velo_perf_minimale=0.4),\n",
       " Row(id=6259, vitesse_a_pied=0.4699508213012981, vitesse_a_velo=1.1748770532532453, home='(lon:3.27 lat:40.00)', travail='(lon:43.05 lat:34.99)', sportif=False, casseur=False, statut='éboueur', salaire=26262.800353132385, sexe='F', age=83, sportivite=2.3497541065064906, velo_perf_minimale=0.4),\n",
       " Row(id=6261, vitesse_a_pied=0.07319876205461853, vitesse_a_velo=0.18299690513654632, home='(lon:16.19 lat:24.60)', travail='(lon:30.51 lat:43.24)', sportif=True, casseur=False, statut='technicien_de_surface', salaire=16916.328437723598, sexe='F', age=37, sportivite=0.12199793675769754, velo_perf_minimale=0.5219979367576976),\n",
       " Row(id=6263, vitesse_a_pied=0.39841429142908436, vitesse_a_velo=0.9960357285727109, home='(lon:42.92 lat:1.89)', travail='(lon:24.41 lat:38.09)', sportif=False, casseur=False, statut='reserviste', salaire=29540.832685557885, sexe='F', age=51, sportivite=1.9920714571454219, velo_perf_minimale=0.4),\n",
       " Row(id=6265, vitesse_a_pied=0.02, vitesse_a_velo=0.05, home='(lon:38.00 lat:27.32)', travail='(lon:25.75 lat:41.71)', sportif=False, casseur=False, statut='professeur', salaire=26051.86264389316, sexe='F', age=45, sportivite=0.1, velo_perf_minimale=0.4),\n",
       " Row(id=6266, vitesse_a_pied=0.02, vitesse_a_velo=0.05, home='(lon:41.46 lat:18.02)', travail='(lon:45.62 lat:5.74)', sportif=False, casseur=False, statut='technicien_de_surface', salaire=21275.190673244244, sexe='F', age=28, sportivite=0.1, velo_perf_minimale=0.4),\n",
       " Row(id=6267, vitesse_a_pied=0.1481782106816214, vitesse_a_velo=0.3704455267040535, home='(lon:38.76 lat:19.19)', travail='(lon:2.00 lat:9.08)', sportif=False, casseur=False, statut='reserviste', salaire=24588.241507996634, sexe='F', age=28, sportivite=0.740891053408107, velo_perf_minimale=0.4),\n",
       " Row(id=6271, vitesse_a_pied=0.233897268938326, vitesse_a_velo=0.584743172345815, home='(lon:38.99 lat:19.17)', travail='(lon:36.45 lat:39.66)', sportif=False, casseur=False, statut='éboueur', salaire=25180.936473449605, sexe='F', age=69, sportivite=1.16948634469163, velo_perf_minimale=0.4),\n",
       " Row(id=6272, vitesse_a_pied=1.0630230945197425, vitesse_a_velo=2.6575577362993563, home='(lon:20.81 lat:27.95)', travail='(lon:9.09 lat:3.38)', sportif=False, casseur=True, statut='cadre', salaire=31892.49276845471, sexe='F', age=42, sportivite=5.315115472598713, velo_perf_minimale=0.4),\n",
       " Row(id=6274, vitesse_a_pied=0.02, vitesse_a_velo=0.05, home='(lon:9.79 lat:18.65)', travail='(lon:12.30 lat:1.73)', sportif=False, casseur=False, statut='éboueur', salaire=18963.153775135783, sexe='F', age=52, sportivite=0.1, velo_perf_minimale=0.4),\n",
       " Row(id=6275, vitesse_a_pied=0.7265474500506224, vitesse_a_velo=1.816368625126556, home='(lon:16.18 lat:20.14)', travail='(lon:40.32 lat:25.05)', sportif=False, casseur=False, statut='employe', salaire=19764.306262880964, sexe='F', age=84, sportivite=3.632737250253112, velo_perf_minimale=0.4),\n",
       " Row(id=6276, vitesse_a_pied=1.5580380182161195, vitesse_a_velo=3.895095045540299, home='(lon:0.08 lat:12.90)', travail='(lon:20.02 lat:40.39)', sportif=False, casseur=False, statut='éboueur', salaire=23720.07990210406, sexe='F', age=16, sportivite=7.790190091080597, velo_perf_minimale=0.4),\n",
       " Row(id=6277, vitesse_a_pied=0.2096688867806943, vitesse_a_velo=0.5241722169517358, home='(lon:27.15 lat:4.37)', travail='(lon:12.12 lat:42.12)', sportif=False, casseur=False, statut='éboueur', salaire=16451.9125529611, sexe='F', age=21, sportivite=1.0483444339034715, velo_perf_minimale=0.4),\n",
       " Row(id=6278, vitesse_a_pied=0.02, vitesse_a_velo=0.05, home='(lon:0.45 lat:39.32)', travail='(lon:28.94 lat:20.50)', sportif=False, casseur=False, statut='éboueur', salaire=18271.726378657942, sexe='F', age=65, sportivite=0.1, velo_perf_minimale=0.4),\n",
       " Row(id=6279, vitesse_a_pied=0.6187885442922093, vitesse_a_velo=1.5469713607305233, home='(lon:20.30 lat:47.32)', travail='(lon:18.06 lat:39.84)', sportif=False, casseur=False, statut='cadre', salaire=31523.03973496465, sexe='F', age=19, sportivite=3.0939427214610467, velo_perf_minimale=0.4),\n",
       " Row(id=6280, vitesse_a_pied=0.02, vitesse_a_velo=0.05, home='(lon:4.65 lat:0.90)', travail='(lon:27.31 lat:40.04)', sportif=False, casseur=False, statut='éboueur', salaire=11360.191703607055, sexe='F', age=58, sportivite=0.1, velo_perf_minimale=0.4),\n",
       " Row(id=6281, vitesse_a_pied=0.6613533169890328, vitesse_a_velo=1.6533832924725822, home='(lon:21.39 lat:36.18)', travail='(lon:41.00 lat:25.50)', sportif=False, casseur=False, statut='employe', salaire=31331.017475203214, sexe='F', age=18, sportivite=3.306766584945164, velo_perf_minimale=0.4),\n",
       " Row(id=6284, vitesse_a_pied=0.49263289089209455, vitesse_a_velo=1.2315822272302364, home='(lon:37.67 lat:10.52)', travail='(lon:44.14 lat:33.83)', sportif=False, casseur=False, statut='reserviste', salaire=24968.929030530508, sexe='F', age=33, sportivite=2.4631644544604727, velo_perf_minimale=0.4),\n",
       " Row(id=6286, vitesse_a_pied=0.474851876807978, vitesse_a_velo=1.187129692019945, home='(lon:17.65 lat:15.31)', travail='(lon:7.30 lat:37.13)', sportif=False, casseur=False, statut='employe', salaire=22072.57839255818, sexe='F', age=32, sportivite=2.37425938403989, velo_perf_minimale=0.4),\n",
       " Row(id=6287, vitesse_a_pied=0.22879502703773183, vitesse_a_velo=0.5719875675943296, home='(lon:13.51 lat:17.26)', travail='(lon:18.38 lat:21.87)', sportif=False, casseur=False, statut='reserviste', salaire=31577.743786169944, sexe='F', age=49, sportivite=1.1439751351886591, velo_perf_minimale=0.4),\n",
       " Row(id=6289, vitesse_a_pied=1.237431912404152, vitesse_a_velo=3.09357978101038, home='(lon:11.28 lat:18.76)', travail='(lon:19.98 lat:37.55)', sportif=False, casseur=False, statut='technicien_de_surface', salaire=17376.6369512886, sexe='F', age=24, sportivite=6.18715956202076, velo_perf_minimale=0.4),\n",
       " Row(id=6291, vitesse_a_pied=1.0260274575125312, vitesse_a_velo=2.565068643781328, home='(lon:12.31 lat:36.68)', travail='(lon:32.78 lat:25.65)', sportif=False, casseur=False, statut='professeur', salaire=23354.954255696015, sexe='F', age=60, sportivite=5.130137287562656, velo_perf_minimale=0.4),\n",
       " Row(id=6293, vitesse_a_pied=0.2680599620912394, vitesse_a_velo=0.6701499052280985, home='(lon:0.61 lat:13.39)', travail='(lon:23.36 lat:29.29)', sportif=False, casseur=False, statut='éboueur', salaire=13398.141615833878, sexe='F', age=24, sportivite=1.340299810456197, velo_perf_minimale=0.4),\n",
       " Row(id=6295, vitesse_a_pied=0.28865369243789735, vitesse_a_velo=0.7216342310947433, home='(lon:8.32 lat:15.35)', travail='(lon:19.25 lat:33.57)', sportif=False, casseur=False, statut='technicien_de_surface', salaire=19583.840933233536, sexe='F', age=58, sportivite=1.4432684621894867, velo_perf_minimale=0.4),\n",
       " Row(id=6298, vitesse_a_pied=0.02, vitesse_a_velo=0.05, home='(lon:41.95 lat:31.27)', travail='(lon:41.83 lat:20.08)', sportif=False, casseur=False, statut='cadre', salaire=21946.466405882533, sexe='F', age=38, sportivite=0.1, velo_perf_minimale=0.4),\n",
       " Row(id=6299, vitesse_a_pied=0.02, vitesse_a_velo=0.05, home='(lon:39.98 lat:18.54)', travail='(lon:26.34 lat:43.45)', sportif=False, casseur=False, statut='employe', salaire=19846.388100988457, sexe='F', age=37, sportivite=0.1, velo_perf_minimale=0.4),\n",
       " Row(id=6302, vitesse_a_pied=0.7471181670239676, vitesse_a_velo=1.867795417559919, home='(lon:34.24 lat:16.61)', travail='(lon:20.02 lat:17.76)', sportif=False, casseur=False, statut='employe', salaire=16502.414504543434, sexe='F', age=48, sportivite=3.735590835119838, velo_perf_minimale=0.4),\n",
       " Row(id=6305, vitesse_a_pied=0.5766007466747558, vitesse_a_velo=1.4415018666868895, home='(lon:35.10 lat:30.02)', travail='(lon:21.75 lat:30.58)', sportif=False, casseur=False, statut='employe', salaire=16267.018140086397, sexe='F', age=31, sportivite=2.883003733373779, velo_perf_minimale=0.4),\n",
       " Row(id=6306, vitesse_a_pied=0.02, vitesse_a_velo=0.05, home='(lon:30.62 lat:17.93)', travail='(lon:1.51 lat:40.07)', sportif=False, casseur=False, statut='reserviste', salaire=33288.88178081218, sexe='F', age=43, sportivite=0.1, velo_perf_minimale=0.4),\n",
       " Row(id=6310, vitesse_a_pied=0.04116591835287688, vitesse_a_velo=0.10291479588219221, home='(lon:47.25 lat:10.57)', travail='(lon:26.77 lat:13.05)', sportif=False, casseur=False, statut='éboueur', salaire=21691.934371601812, sexe='F', age=59, sportivite=0.20582959176438442, velo_perf_minimale=0.4),\n",
       " Row(id=6311, vitesse_a_pied=0.4170804968985535, vitesse_a_velo=1.0427012422463837, home='(lon:9.89 lat:27.04)', travail='(lon:22.89 lat:27.03)', sportif=False, casseur=False, statut='cadre', salaire=49861.50851084385, sexe='F', age=82, sportivite=2.0854024844927674, velo_perf_minimale=0.4),\n",
       " Row(id=6314, vitesse_a_pied=1.556645781682406, vitesse_a_velo=3.891614454206015, home='(lon:1.46 lat:36.58)', travail='(lon:40.51 lat:38.29)', sportif=False, casseur=False, statut='technicien_de_surface', salaire=16031.818621320343, sexe='F', age=16, sportivite=7.78322890841203, velo_perf_minimale=0.4),\n",
       " Row(id=6319, vitesse_a_pied=0.510472884104772, vitesse_a_velo=1.27618221026193, home='(lon:16.62 lat:2.19)', travail='(lon:23.64 lat:36.79)', sportif=False, casseur=False, statut='éboueur', salaire=22744.175033116353, sexe='F', age=35, sportivite=2.55236442052386, velo_perf_minimale=0.4),\n",
       " Row(id=6321, vitesse_a_pied=0.6297489792386571, vitesse_a_velo=1.5743724480966428, home='(lon:42.35 lat:3.32)', travail='(lon:0.50 lat:15.39)', sportif=False, casseur=False, statut='éboueur', salaire=18303.53799607547, sexe='F', age=35, sportivite=3.1487448961932856, velo_perf_minimale=0.4),\n",
       " Row(id=6325, vitesse_a_pied=0.21052997329512238, vitesse_a_velo=0.5263249332378059, home='(lon:1.85 lat:3.82)', travail='(lon:11.74 lat:36.10)', sportif=False, casseur=False, statut='professeur', salaire=28979.048688513343, sexe='F', age=39, sportivite=1.0526498664756119, velo_perf_minimale=0.4),\n",
       " Row(id=6330, vitesse_a_pied=0.6385860467264908, vitesse_a_velo=1.596465116816227, home='(lon:40.20 lat:35.49)', travail='(lon:4.57 lat:33.56)', sportif=False, casseur=False, statut='employe', salaire=25444.083645236682, sexe='F', age=32, sportivite=3.192930233632454, velo_perf_minimale=0.4),\n",
       " Row(id=6331, vitesse_a_pied=0.02, vitesse_a_velo=0.05, home='(lon:39.05 lat:8.11)', travail='(lon:4.96 lat:31.38)', sportif=False, casseur=False, statut='professeur', salaire=21562.607343582167, sexe='F', age=42, sportivite=0.1, velo_perf_minimale=0.4),\n",
       " Row(id=6332, vitesse_a_pied=1.0539085016758885, vitesse_a_velo=2.634771254189721, home='(lon:19.96 lat:48.93)', travail='(lon:11.00 lat:25.00)', sportif=False, casseur=False, statut='technicien_de_surface', salaire=25732.07533294459, sexe='F', age=15, sportivite=5.269542508379442, velo_perf_minimale=0.4),\n",
       " Row(id=6333, vitesse_a_pied=0.5544289208991422, vitesse_a_velo=1.3860723022478556, home='(lon:16.42 lat:35.76)', travail='(lon:11.37 lat:35.28)', sportif=False, casseur=True, statut='professeur', salaire=31441.003425767318, sexe='F', age=45, sportivite=2.772144604495711, velo_perf_minimale=0.4)]"
      ]
     },
     "execution_count": 51,
     "metadata": {},
     "output_type": "execute_result"
    }
   ],
   "source": [
    "villes.filter(villes.sexe == 'F').collect()"
   ]
  },
  {
   "cell_type": "markdown",
   "metadata": {},
   "source": [
    "On peux aussi filtrer le df avec la méthode where(). Filtrez le df de la même façon que precedemment en utilisant cette méthode."
   ]
  },
  {
   "cell_type": "code",
   "execution_count": 52,
   "metadata": {},
   "outputs": [
    {
     "data": {
      "text/plain": [
       "[Row(id=5251, vitesse_a_pied=0.02, vitesse_a_velo=0.05, home='(lon:26.60 lat:28.13)', travail='(lon:21.08 lat:14.11)', sportif=False, casseur=False, statut='reserviste', salaire=29800.610034665042, sexe='F', age=18, sportivite=0.1, velo_perf_minimale=0.4),\n",
       " Row(id=5252, vitesse_a_pied=0.14974625830876215, vitesse_a_velo=0.37436564577190534, home='(lon:0.26 lat:42.61)', travail='(lon:36.35 lat:33.28)', sportif=False, casseur=False, statut='professeur', salaire=23595.44383981423, sexe='F', age=28, sportivite=0.7487312915438107, velo_perf_minimale=0.4),\n",
       " Row(id=5255, vitesse_a_pied=0.02, vitesse_a_velo=0.05, home='(lon:28.51 lat:41.70)', travail='(lon:17.67 lat:25.16)', sportif=False, casseur=False, statut='éboueur', salaire=23618.479750220806, sexe='F', age=50, sportivite=0.1, velo_perf_minimale=0.4),\n",
       " Row(id=5257, vitesse_a_pied=0.5879992290928728, vitesse_a_velo=1.4699980727321822, home='(lon:42.06 lat:43.69)', travail='(lon:0.51 lat:24.89)', sportif=False, casseur=False, statut='reserviste', salaire=21782.945135729053, sexe='F', age=75, sportivite=2.9399961454643644, velo_perf_minimale=0.4),\n",
       " Row(id=5262, vitesse_a_pied=0.02, vitesse_a_velo=0.05, home='(lon:43.40 lat:25.26)', travail='(lon:1.76 lat:18.95)', sportif=False, casseur=False, statut='employe', salaire=18155.392787144123, sexe='F', age=81, sportivite=0.1, velo_perf_minimale=0.4),\n",
       " Row(id=5264, vitesse_a_pied=0.6272243144514219, vitesse_a_velo=1.5680607861285547, home='(lon:14.36 lat:33.45)', travail='(lon:38.49 lat:41.39)', sportif=False, casseur=False, statut='éboueur', salaire=17894.342734488273, sexe='F', age=50, sportivite=3.1361215722571094, velo_perf_minimale=0.4),\n",
       " Row(id=5266, vitesse_a_pied=0.3167145553844886, vitesse_a_velo=0.7917863884612215, home='(lon:44.53 lat:46.61)', travail='(lon:31.66 lat:26.54)', sportif=False, casseur=False, statut='professeur', salaire=32340.37164134604, sexe='F', age=74, sportivite=1.583572776922443, velo_perf_minimale=0.4),\n",
       " Row(id=5271, vitesse_a_pied=1.0637049252038342, vitesse_a_velo=2.6592623130095854, home='(lon:7.35 lat:15.97)', travail='(lon:23.48 lat:16.90)', sportif=False, casseur=False, statut='cadre', salaire=40170.674584023254, sexe='F', age=44, sportivite=5.318524626019171, velo_perf_minimale=0.4),\n",
       " Row(id=5273, vitesse_a_pied=0.02, vitesse_a_velo=0.05, home='(lon:43.99 lat:14.05)', travail='(lon:0.71 lat:35.14)', sportif=False, casseur=False, statut='cadre', salaire=30516.740487109822, sexe='F', age=39, sportivite=0.1, velo_perf_minimale=0.4),\n",
       " Row(id=5276, vitesse_a_pied=0.02, vitesse_a_velo=0.05, home='(lon:35.60 lat:24.53)', travail='(lon:9.45 lat:2.69)', sportif=False, casseur=False, statut='éboueur', salaire=21737.026343329253, sexe='F', age=61, sportivite=0.1, velo_perf_minimale=0.4),\n",
       " Row(id=5277, vitesse_a_pied=0.33500607931826865, vitesse_a_velo=0.8375151982956716, home='(lon:8.24 lat:42.40)', travail='(lon:48.64 lat:32.85)', sportif=False, casseur=False, statut='éboueur', salaire=25013.554133869537, sexe='F', age=39, sportivite=1.6750303965913431, velo_perf_minimale=0.4),\n",
       " Row(id=5278, vitesse_a_pied=0.5612935671493225, vitesse_a_velo=1.4032339178733064, home='(lon:3.60 lat:46.81)', travail='(lon:0.23 lat:12.28)', sportif=False, casseur=False, statut='employe', salaire=18306.64291062094, sexe='F', age=50, sportivite=2.806467835746613, velo_perf_minimale=0.4),\n",
       " Row(id=5282, vitesse_a_pied=0.8083175494888819, vitesse_a_velo=2.0207938737222046, home='(lon:25.86 lat:5.51)', travail='(lon:8.71 lat:13.09)', sportif=False, casseur=False, statut='technicien_de_surface', salaire=18011.276236369988, sexe='F', age=19, sportivite=4.041587747444409, velo_perf_minimale=0.4),\n",
       " Row(id=5283, vitesse_a_pied=1.2832501378500005, vitesse_a_velo=3.2081253446250018, home='(lon:46.08 lat:3.40)', travail='(lon:27.09 lat:47.91)', sportif=False, casseur=False, statut='professeur', salaire=24156.157989107276, sexe='F', age=53, sportivite=6.416250689250003, velo_perf_minimale=0.4),\n",
       " Row(id=5284, vitesse_a_pied=1.0364869412773074, vitesse_a_velo=2.5912173531932687, home='(lon:30.00 lat:45.81)', travail='(lon:2.79 lat:41.57)', sportif=False, casseur=False, statut='technicien_de_surface', salaire=18739.963697232994, sexe='F', age=35, sportivite=5.1824347063865375, velo_perf_minimale=0.4),\n",
       " Row(id=5287, vitesse_a_pied=0.39938204132234967, vitesse_a_velo=0.9984551033058742, home='(lon:45.02 lat:36.50)', travail='(lon:33.44 lat:19.24)', sportif=False, casseur=False, statut='professeur', salaire=17011.719150211684, sexe='F', age=60, sportivite=1.9969102066117483, velo_perf_minimale=0.4),\n",
       " Row(id=5288, vitesse_a_pied=0.09886577398124681, vitesse_a_velo=0.24716443495311702, home='(lon:21.03 lat:37.19)', travail='(lon:33.67 lat:15.60)', sportif=False, casseur=False, statut='éboueur', salaire=26756.93457723109, sexe='F', age=28, sportivite=0.49432886990623404, velo_perf_minimale=0.4),\n",
       " Row(id=5290, vitesse_a_pied=0.44011923092468674, vitesse_a_velo=1.1002980773117168, home='(lon:5.70 lat:24.77)', travail='(lon:41.90 lat:37.90)', sportif=False, casseur=False, statut='éboueur', salaire=19038.02354817647, sexe='F', age=84, sportivite=2.2005961546234336, velo_perf_minimale=0.4),\n",
       " Row(id=5291, vitesse_a_pied=0.4525302271634198, vitesse_a_velo=1.1313255679085494, home='(lon:13.50 lat:11.80)', travail='(lon:35.01 lat:32.33)', sportif=False, casseur=False, statut='employe', salaire=16135.720678961883, sexe='F', age=46, sportivite=2.262651135817099, velo_perf_minimale=0.4),\n",
       " Row(id=5292, vitesse_a_pied=0.02, vitesse_a_velo=0.05, home='(lon:6.05 lat:1.69)', travail='(lon:34.49 lat:47.25)', sportif=False, casseur=False, statut='éboueur', salaire=25233.0748967296, sexe='F', age=66, sportivite=0.1, velo_perf_minimale=0.4),\n",
       " Row(id=5294, vitesse_a_pied=0.6227743474468624, vitesse_a_velo=1.5569358686171562, home='(lon:39.79 lat:31.86)', travail='(lon:41.82 lat:11.18)', sportif=False, casseur=False, statut='technicien_de_surface', salaire=23131.730785290576, sexe='F', age=50, sportivite=3.1138717372343123, velo_perf_minimale=0.4),\n",
       " Row(id=5298, vitesse_a_pied=0.39072908496076497, vitesse_a_velo=0.9768227124019123, home='(lon:8.20 lat:27.54)', travail='(lon:44.23 lat:5.04)', sportif=False, casseur=False, statut='éboueur', salaire=25809.34219182996, sexe='F', age=60, sportivite=1.9536454248038249, velo_perf_minimale=0.4),\n",
       " Row(id=5300, vitesse_a_pied=0.6779282049355532, vitesse_a_velo=1.6948205123388829, home='(lon:22.48 lat:43.02)', travail='(lon:19.61 lat:31.72)', sportif=False, casseur=False, statut='reserviste', salaire=34789.18377664252, sexe='F', age=37, sportivite=3.3896410246777657, velo_perf_minimale=0.4),\n",
       " Row(id=5303, vitesse_a_pied=0.4124087576331867, vitesse_a_velo=1.0310218940829667, home='(lon:0.33 lat:38.82)', travail='(lon:21.53 lat:12.15)', sportif=False, casseur=False, statut='employe', salaire=23152.09478808629, sexe='F', age=52, sportivite=2.0620437881659335, velo_perf_minimale=0.4),\n",
       " Row(id=5305, vitesse_a_pied=0.02, vitesse_a_velo=0.05, home='(lon:4.37 lat:45.93)', travail='(lon:16.52 lat:31.99)', sportif=False, casseur=False, statut='technicien_de_surface', salaire=17135.500466710448, sexe='F', age=16, sportivite=0.1, velo_perf_minimale=0.4),\n",
       " Row(id=5307, vitesse_a_pied=0.6599043764291127, vitesse_a_velo=1.6497609410727818, home='(lon:35.83 lat:20.57)', travail='(lon:37.86 lat:2.96)', sportif=False, casseur=False, statut='éboueur', salaire=15530.75692170556, sexe='F', age=78, sportivite=3.2995218821455636, velo_perf_minimale=0.4),\n",
       " Row(id=5309, vitesse_a_pied=0.02, vitesse_a_velo=0.05, home='(lon:25.68 lat:18.41)', travail='(lon:25.12 lat:8.26)', sportif=False, casseur=False, statut='professeur', salaire=23839.49585192835, sexe='F', age=59, sportivite=0.1, velo_perf_minimale=0.4),\n",
       " Row(id=5311, vitesse_a_pied=0.1959579823379091, vitesse_a_velo=0.4898949558447727, home='(lon:32.56 lat:33.88)', travail='(lon:36.49 lat:15.95)', sportif=False, casseur=True, statut='professeur', salaire=30458.543549269176, sexe='F', age=16, sportivite=0.9797899116895454, velo_perf_minimale=0.4),\n",
       " Row(id=5314, vitesse_a_pied=0.2813734031112626, vitesse_a_velo=0.7034335077781565, home='(lon:4.13 lat:10.48)', travail='(lon:43.51 lat:41.81)', sportif=False, casseur=False, statut='cadre', salaire=25639.610284245176, sexe='F', age=42, sportivite=1.406867015556313, velo_perf_minimale=0.4),\n",
       " Row(id=5320, vitesse_a_pied=0.24186420397998135, vitesse_a_velo=0.6046605099499534, home='(lon:11.76 lat:14.85)', travail='(lon:7.43 lat:2.55)', sportif=False, casseur=False, statut='employe', salaire=17150.55381916245, sexe='F', age=41, sportivite=1.2093210198999067, velo_perf_minimale=0.4),\n",
       " Row(id=5321, vitesse_a_pied=0.7211172017956888, vitesse_a_velo=1.8027930044892222, home='(lon:28.72 lat:8.26)', travail='(lon:2.83 lat:31.15)', sportif=False, casseur=False, statut='technicien_de_surface', salaire=20667.21122220718, sexe='F', age=59, sportivite=3.6055860089784444, velo_perf_minimale=0.4),\n",
       " Row(id=5322, vitesse_a_pied=0.02, vitesse_a_velo=0.05, home='(lon:15.16 lat:21.32)', travail='(lon:42.14 lat:37.17)', sportif=False, casseur=False, statut='reserviste', salaire=28884.558347582384, sexe='F', age=82, sportivite=0.1, velo_perf_minimale=0.4),\n",
       " Row(id=5323, vitesse_a_pied=0.027612568402530215, vitesse_a_velo=0.06903142100632553, home='(lon:9.32 lat:5.75)', travail='(lon:1.20 lat:20.71)', sportif=False, casseur=False, statut='reserviste', salaire=29961.344510274015, sexe='F', age=81, sportivite=0.13806284201265107, velo_perf_minimale=0.4),\n",
       " Row(id=5324, vitesse_a_pied=0.27163145403111666, vitesse_a_velo=0.6790786350777916, home='(lon:45.58 lat:13.19)', travail='(lon:43.36 lat:19.48)', sportif=False, casseur=False, statut='technicien_de_surface', salaire=16412.940927925953, sexe='F', age=62, sportivite=1.3581572701555833, velo_perf_minimale=0.4),\n",
       " Row(id=5327, vitesse_a_pied=1.172795198780688, vitesse_a_velo=2.9319879969517197, home='(lon:15.46 lat:0.02)', travail='(lon:14.60 lat:16.42)', sportif=False, casseur=False, statut='reserviste', salaire=18677.16468761641, sexe='F', age=80, sportivite=5.8639759939034395, velo_perf_minimale=0.4),\n",
       " Row(id=5330, vitesse_a_pied=0.49033450127802747, vitesse_a_velo=1.2258362531950686, home='(lon:6.57 lat:28.97)', travail='(lon:31.16 lat:31.27)', sportif=False, casseur=False, statut='reserviste', salaire=34890.91439200515, sexe='F', age=22, sportivite=2.4516725063901372, velo_perf_minimale=0.4),\n",
       " Row(id=5336, vitesse_a_pied=0.6722849882171437, vitesse_a_velo=1.680712470542859, home='(lon:19.11 lat:23.08)', travail='(lon:38.66 lat:48.91)', sportif=False, casseur=False, statut='employe', salaire=11038.406651160396, sexe='F', age=38, sportivite=3.361424941085718, velo_perf_minimale=0.4),\n",
       " Row(id=5339, vitesse_a_pied=1.6482340643954163, vitesse_a_velo=4.120585160988541, home='(lon:41.81 lat:19.85)', travail='(lon:19.58 lat:31.52)', sportif=False, casseur=False, statut='professeur', salaire=15751.079515413576, sexe='F', age=41, sportivite=8.241170321977082, velo_perf_minimale=0.4),\n",
       " Row(id=5343, vitesse_a_pied=0.02, vitesse_a_velo=0.05, home='(lon:29.83 lat:12.25)', travail='(lon:35.81 lat:9.19)', sportif=False, casseur=False, statut='cadre', salaire=35397.36509779448, sexe='F', age=46, sportivite=0.1, velo_perf_minimale=0.4),\n",
       " Row(id=5345, vitesse_a_pied=0.7500235923279777, vitesse_a_velo=1.875058980819944, home='(lon:37.85 lat:6.00)', travail='(lon:47.46 lat:3.57)', sportif=False, casseur=False, statut='reserviste', salaire=24723.034855015037, sexe='F', age=54, sportivite=3.750117961639888, velo_perf_minimale=0.4),\n",
       " Row(id=5348, vitesse_a_pied=0.19282663858595855, vitesse_a_velo=0.48206659646489636, home='(lon:44.80 lat:45.62)', travail='(lon:24.19 lat:7.12)', sportif=False, casseur=False, statut='professeur', salaire=20543.54828361411, sexe='F', age=37, sportivite=0.9641331929297927, velo_perf_minimale=0.4),\n",
       " Row(id=5349, vitesse_a_pied=0.8077024638485352, vitesse_a_velo=2.019256159621338, home='(lon:0.87 lat:32.17)', travail='(lon:11.07 lat:6.29)', sportif=False, casseur=False, statut='professeur', salaire=18038.273397605615, sexe='F', age=76, sportivite=4.038512319242676, velo_perf_minimale=0.4),\n",
       " Row(id=5353, vitesse_a_pied=0.02, vitesse_a_velo=0.05, home='(lon:26.42 lat:32.33)', travail='(lon:19.54 lat:39.22)', sportif=False, casseur=False, statut='professeur', salaire=20347.1772832737, sexe='F', age=64, sportivite=0.1, velo_perf_minimale=0.4),\n",
       " Row(id=5355, vitesse_a_pied=0.02, vitesse_a_velo=0.05, home='(lon:37.28 lat:12.44)', travail='(lon:35.40 lat:48.97)', sportif=False, casseur=False, statut='reserviste', salaire=32193.70196212845, sexe='F', age=35, sportivite=0.1, velo_perf_minimale=0.4),\n",
       " Row(id=5356, vitesse_a_pied=0.8229504935790384, vitesse_a_velo=2.057376233947596, home='(lon:29.10 lat:42.74)', travail='(lon:3.95 lat:36.98)', sportif=False, casseur=False, statut='technicien_de_surface', salaire=12731.09329130641, sexe='F', age=59, sportivite=4.114752467895192, velo_perf_minimale=0.4),\n",
       " Row(id=5357, vitesse_a_pied=0.8402035616244857, vitesse_a_velo=2.1005089040612144, home='(lon:44.22 lat:24.30)', travail='(lon:40.36 lat:35.15)', sportif=False, casseur=False, statut='cadre', salaire=36423.57373188558, sexe='F', age=71, sportivite=4.201017808122429, velo_perf_minimale=0.4),\n",
       " Row(id=5359, vitesse_a_pied=0.6501076779747892, vitesse_a_velo=1.625269194936973, home='(lon:35.98 lat:42.84)', travail='(lon:8.53 lat:12.57)', sportif=False, casseur=False, statut='employe', salaire=16802.193549927644, sexe='F', age=31, sportivite=3.250538389873946, velo_perf_minimale=0.4),\n",
       " Row(id=5360, vitesse_a_pied=0.6544358281807489, vitesse_a_velo=1.636089570451872, home='(lon:8.21 lat:45.45)', travail='(lon:21.13 lat:20.98)', sportif=False, casseur=False, statut='éboueur', salaire=16271.211115183232, sexe='F', age=32, sportivite=3.272179140903744, velo_perf_minimale=0.4),\n",
       " Row(id=5361, vitesse_a_pied=1.3529357191512241, vitesse_a_velo=3.3823392978780604, home='(lon:15.35 lat:15.35)', travail='(lon:8.99 lat:20.53)', sportif=False, casseur=False, statut='technicien_de_surface', salaire=18988.240182633494, sexe='F', age=45, sportivite=6.764678595756121, velo_perf_minimale=0.4),\n",
       " Row(id=5364, vitesse_a_pied=0.17692633583165457, vitesse_a_velo=0.4423158395791365, home='(lon:0.65 lat:39.67)', travail='(lon:36.01 lat:7.16)', sportif=False, casseur=False, statut='technicien_de_surface', salaire=14497.262614583748, sexe='F', age=57, sportivite=0.8846316791582729, velo_perf_minimale=0.4),\n",
       " Row(id=5365, vitesse_a_pied=0.02, vitesse_a_velo=0.05, home='(lon:12.60 lat:5.28)', travail='(lon:15.10 lat:45.75)', sportif=False, casseur=False, statut='professeur', salaire=30493.20160902877, sexe='F', age=28, sportivite=0.1, velo_perf_minimale=0.4),\n",
       " Row(id=5367, vitesse_a_pied=0.4611452899948808, vitesse_a_velo=1.152863224987202, home='(lon:33.09 lat:8.56)', travail='(lon:23.27 lat:43.30)', sportif=False, casseur=False, statut='employe', salaire=21357.936702385912, sexe='F', age=34, sportivite=2.305726449974404, velo_perf_minimale=0.4),\n",
       " Row(id=5368, vitesse_a_pied=0.1851575115182178, vitesse_a_velo=0.46289377879554455, home='(lon:8.47 lat:38.78)', travail='(lon:18.86 lat:44.11)', sportif=False, casseur=False, statut='technicien_de_surface', salaire=17672.21198849053, sexe='F', age=33, sportivite=0.925787557591089, velo_perf_minimale=0.4),\n",
       " Row(id=5369, vitesse_a_pied=0.6088693184977101, vitesse_a_velo=1.5221732962442753, home='(lon:32.13 lat:14.82)', travail='(lon:16.86 lat:34.57)', sportif=False, casseur=False, statut='reserviste', salaire=23852.59150461343, sexe='F', age=45, sportivite=3.0443465924885507, velo_perf_minimale=0.4),\n",
       " Row(id=5371, vitesse_a_pied=0.39706349701774196, vitesse_a_velo=0.992658742544355, home='(lon:28.50 lat:6.52)', travail='(lon:15.72 lat:25.07)', sportif=False, casseur=False, statut='éboueur', salaire=10604.232237156044, sexe='F', age=74, sportivite=1.9853174850887099, velo_perf_minimale=0.4),\n",
       " Row(id=5372, vitesse_a_pied=0.4595170279562081, vitesse_a_velo=1.1487925698905201, home='(lon:38.24 lat:42.68)', travail='(lon:42.24 lat:41.65)', sportif=False, casseur=True, statut='technicien_de_surface', salaire=14871.130410232308, sexe='F', age=62, sportivite=2.2975851397810403, velo_perf_minimale=0.4),\n",
       " Row(id=5374, vitesse_a_pied=0.952442028729665, vitesse_a_velo=2.3811050718241624, home='(lon:8.98 lat:18.62)', travail='(lon:30.05 lat:11.12)', sportif=False, casseur=False, statut='technicien_de_surface', salaire=23589.70322366109, sexe='F', age=44, sportivite=4.762210143648325, velo_perf_minimale=0.4),\n",
       " Row(id=5375, vitesse_a_pied=0.02, vitesse_a_velo=0.05, home='(lon:26.11 lat:3.34)', travail='(lon:25.13 lat:7.51)', sportif=False, casseur=False, statut='employe', salaire=7392.30996558039, sexe='F', age=55, sportivite=0.1, velo_perf_minimale=0.4),\n",
       " Row(id=5376, vitesse_a_pied=0.4925382594419304, vitesse_a_velo=1.231345648604826, home='(lon:21.67 lat:19.83)', travail='(lon:38.19 lat:0.05)', sportif=False, casseur=False, statut='éboueur', salaire=12385.337512068425, sexe='F', age=22, sportivite=2.462691297209652, velo_perf_minimale=0.4),\n",
       " Row(id=5378, vitesse_a_pied=0.23807815436420654, vitesse_a_velo=0.5951953859105164, home='(lon:13.37 lat:19.49)', travail='(lon:40.72 lat:29.31)', sportif=False, casseur=False, statut='professeur', salaire=17036.86200522063, sexe='F', age=48, sportivite=1.1903907718210327, velo_perf_minimale=0.4),\n",
       " Row(id=5379, vitesse_a_pied=0.27570500964679023, vitesse_a_velo=0.6892625241169756, home='(lon:25.82 lat:15.01)', travail='(lon:45.91 lat:21.95)', sportif=False, casseur=False, statut='reserviste', salaire=19638.49312078225, sexe='F', age=23, sportivite=1.3785250482339513, velo_perf_minimale=0.4),\n",
       " Row(id=5380, vitesse_a_pied=0.4378232133855457, vitesse_a_velo=1.0945580334638643, home='(lon:41.65 lat:8.65)', travail='(lon:31.00 lat:42.91)', sportif=False, casseur=False, statut='reserviste', salaire=29809.13262734557, sexe='F', age=83, sportivite=2.1891160669277285, velo_perf_minimale=0.4),\n",
       " Row(id=5382, vitesse_a_pied=0.7050616684736413, vitesse_a_velo=1.7626541711841033, home='(lon:1.39 lat:25.90)', travail='(lon:20.65 lat:8.98)', sportif=False, casseur=False, statut='technicien_de_surface', salaire=20314.90829539416, sexe='F', age=70, sportivite=3.5253083423682066, velo_perf_minimale=0.4),\n",
       " Row(id=5384, vitesse_a_pied=0.5582531785540263, vitesse_a_velo=1.3956329463850659, home='(lon:24.67 lat:32.24)', travail='(lon:38.71 lat:25.81)', sportif=False, casseur=False, statut='employe', salaire=20019.192839985488, sexe='F', age=72, sportivite=2.7912658927701317, velo_perf_minimale=0.4),\n",
       " Row(id=5385, vitesse_a_pied=0.6263027461763985, vitesse_a_velo=1.5657568654409961, home='(lon:13.17 lat:16.57)', travail='(lon:11.38 lat:17.21)', sportif=False, casseur=False, statut='cadre', salaire=23965.205800803626, sexe='F', age=26, sportivite=3.1315137308819923, velo_perf_minimale=0.4),\n",
       " Row(id=5386, vitesse_a_pied=0.35119764879796167, vitesse_a_velo=0.8779941219949043, home='(lon:48.70 lat:42.80)', travail='(lon:11.05 lat:30.03)', sportif=False, casseur=False, statut='cadre', salaire=24404.132500845186, sexe='F', age=74, sportivite=1.7559882439898085, velo_perf_minimale=0.4),\n",
       " Row(id=5388, vitesse_a_pied=0.10858180299458389, vitesse_a_velo=0.2714545074864597, home='(lon:48.97 lat:23.74)', travail='(lon:21.87 lat:41.14)', sportif=False, casseur=False, statut='reserviste', salaire=30539.95440510227, sexe='F', age=38, sportivite=0.5429090149729194, velo_perf_minimale=0.4),\n",
       " Row(id=5389, vitesse_a_pied=0.02, vitesse_a_velo=0.05, home='(lon:35.09 lat:7.40)', travail='(lon:8.84 lat:9.07)', sportif=False, casseur=False, statut='technicien_de_surface', salaire=17385.834624114275, sexe='F', age=62, sportivite=0.1, velo_perf_minimale=0.4),\n",
       " Row(id=5392, vitesse_a_pied=0.47161609300008156, vitesse_a_velo=1.1790402325002038, home='(lon:14.78 lat:44.72)', travail='(lon:16.75 lat:18.21)', sportif=False, casseur=False, statut='reserviste', salaire=30064.516501336773, sexe='F', age=26, sportivite=2.3580804650004077, velo_perf_minimale=0.4),\n",
       " Row(id=5393, vitesse_a_pied=0.5148204386267363, vitesse_a_velo=1.287051096566841, home='(lon:36.73 lat:36.48)', travail='(lon:16.17 lat:34.72)', sportif=False, casseur=False, statut='professeur', salaire=25106.836851840435, sexe='F', age=71, sportivite=2.574102193133682, velo_perf_minimale=0.4),\n",
       " Row(id=5395, vitesse_a_pied=0.2680739136487739, vitesse_a_velo=0.6701847841219348, home='(lon:38.56 lat:29.16)', travail='(lon:5.41 lat:25.86)', sportif=False, casseur=False, statut='éboueur', salaire=13419.457174691388, sexe='F', age=71, sportivite=1.3403695682438697, velo_perf_minimale=0.4),\n",
       " Row(id=5397, vitesse_a_pied=0.02, vitesse_a_velo=0.05, home='(lon:0.61 lat:16.35)', travail='(lon:5.71 lat:39.34)', sportif=False, casseur=False, statut='employe', salaire=21798.699982144637, sexe='F', age=41, sportivite=0.1, velo_perf_minimale=0.4),\n",
       " Row(id=5399, vitesse_a_pied=0.457173365975152, vitesse_a_velo=1.14293341493788, home='(lon:27.67 lat:41.67)', travail='(lon:32.57 lat:44.24)', sportif=False, casseur=False, statut='cadre', salaire=23133.004809996622, sexe='F', age=42, sportivite=2.28586682987576, velo_perf_minimale=0.4),\n",
       " Row(id=5400, vitesse_a_pied=0.49293144881525536, vitesse_a_velo=1.2323286220381384, home='(lon:0.83 lat:21.14)', travail='(lon:2.56 lat:14.70)', sportif=False, casseur=False, statut='éboueur', salaire=18421.9995609945, sexe='F', age=22, sportivite=2.464657244076277, velo_perf_minimale=0.4),\n",
       " Row(id=5405, vitesse_a_pied=0.7979629641298359, vitesse_a_velo=1.9949074103245898, home='(lon:13.57 lat:46.85)', travail='(lon:4.41 lat:5.07)', sportif=False, casseur=False, statut='éboueur', salaire=23464.768649641115, sexe='F', age=37, sportivite=3.9898148206491797, velo_perf_minimale=0.4),\n",
       " Row(id=5406, vitesse_a_pied=0.3433528493199157, vitesse_a_velo=0.8583821232997891, home='(lon:17.48 lat:3.75)', travail='(lon:9.89 lat:41.82)', sportif=False, casseur=False, statut='cadre', salaire=32980.631319201166, sexe='F', age=55, sportivite=1.7167642465995785, velo_perf_minimale=0.4),\n",
       " Row(id=5408, vitesse_a_pied=0.02, vitesse_a_velo=0.05, home='(lon:36.02 lat:5.03)', travail='(lon:45.62 lat:31.13)', sportif=False, casseur=False, statut='professeur', salaire=24753.303657946813, sexe='F', age=73, sportivite=0.1, velo_perf_minimale=0.4),\n",
       " Row(id=5409, vitesse_a_pied=0.02, vitesse_a_velo=0.05, home='(lon:13.71 lat:18.48)', travail='(lon:46.66 lat:1.63)', sportif=False, casseur=False, statut='employe', salaire=21356.13467352727, sexe='F', age=75, sportivite=0.1, velo_perf_minimale=0.4),\n",
       " Row(id=5411, vitesse_a_pied=0.6436271571858242, vitesse_a_velo=1.6090678929645605, home='(lon:44.76 lat:1.18)', travail='(lon:18.59 lat:10.73)', sportif=False, casseur=False, statut='employe', salaire=22341.700105574266, sexe='F', age=59, sportivite=3.218135785929121, velo_perf_minimale=0.4),\n",
       " Row(id=5412, vitesse_a_pied=0.14847830838412265, vitesse_a_velo=0.37119577096030665, home='(lon:23.77 lat:38.02)', travail='(lon:3.84 lat:0.05)', sportif=False, casseur=False, statut='cadre', salaire=28712.689626774747, sexe='F', age=69, sportivite=0.7423915419206133, velo_perf_minimale=0.4),\n",
       " Row(id=5414, vitesse_a_pied=0.5908742785544581, vitesse_a_velo=1.4771856963861452, home='(lon:12.52 lat:13.86)', travail='(lon:8.69 lat:13.14)', sportif=False, casseur=False, statut='employe', salaire=16297.81293250145, sexe='F', age=83, sportivite=2.9543713927722903, velo_perf_minimale=0.4),\n",
       " Row(id=5418, vitesse_a_pied=0.12229346839305215, vitesse_a_velo=0.3057336709826304, home='(lon:40.08 lat:4.63)', travail='(lon:22.76 lat:44.35)', sportif=False, casseur=False, statut='professeur', salaire=20506.771270582794, sexe='F', age=32, sportivite=0.6114673419652608, velo_perf_minimale=0.4),\n",
       " Row(id=5420, vitesse_a_pied=0.9075087187965568, vitesse_a_velo=2.268771796991392, home='(lon:18.39 lat:6.49)', travail='(lon:48.41 lat:46.48)', sportif=False, casseur=False, statut='technicien_de_surface', salaire=17958.085356597978, sexe='F', age=26, sportivite=4.537543593982784, velo_perf_minimale=0.4),\n",
       " Row(id=5423, vitesse_a_pied=0.707712687680994, vitesse_a_velo=1.769281719202485, home='(lon:13.23 lat:14.43)', travail='(lon:36.81 lat:27.40)', sportif=False, casseur=False, statut='professeur', salaire=26674.788325505753, sexe='F', age=35, sportivite=3.53856343840497, velo_perf_minimale=0.4),\n",
       " Row(id=5425, vitesse_a_pied=0.02, vitesse_a_velo=0.05, home='(lon:40.13 lat:14.71)', travail='(lon:3.71 lat:36.16)', sportif=False, casseur=False, statut='reserviste', salaire=29220.08490169486, sexe='F', age=29, sportivite=0.1, velo_perf_minimale=0.4),\n",
       " Row(id=5429, vitesse_a_pied=0.2424320255196199, vitesse_a_velo=0.6060800637990498, home='(lon:2.73 lat:0.15)', travail='(lon:10.20 lat:39.03)', sportif=False, casseur=False, statut='éboueur', salaire=18291.48717734394, sexe='F', age=50, sportivite=1.2121601275980995, velo_perf_minimale=0.4),\n",
       " Row(id=5433, vitesse_a_pied=0.8321465646274234, vitesse_a_velo=2.0803664115685585, home='(lon:42.00 lat:35.45)', travail='(lon:11.53 lat:13.05)', sportif=False, casseur=False, statut='professeur', salaire=16978.046379323936, sexe='F', age=66, sportivite=4.160732823137117, velo_perf_minimale=0.4),\n",
       " Row(id=5434, vitesse_a_pied=0.02, vitesse_a_velo=0.05, home='(lon:4.94 lat:24.18)', travail='(lon:32.11 lat:20.15)', sportif=False, casseur=False, statut='cadre', salaire=31706.164844611383, sexe='F', age=37, sportivite=0.1, velo_perf_minimale=0.4),\n",
       " Row(id=5437, vitesse_a_pied=0.8150277640656768, vitesse_a_velo=2.037569410164192, home='(lon:44.35 lat:4.46)', travail='(lon:46.08 lat:39.96)', sportif=False, casseur=False, statut='cadre', salaire=22597.614668605394, sexe='F', age=62, sportivite=4.075138820328384, velo_perf_minimale=0.4),\n",
       " Row(id=5438, vitesse_a_pied=0.4813725049725126, vitesse_a_velo=1.2034312624312815, home='(lon:47.92 lat:15.14)', travail='(lon:10.32 lat:6.10)', sportif=False, casseur=False, statut='reserviste', salaire=31007.57319561756, sexe='F', age=37, sportivite=2.406862524862563, velo_perf_minimale=0.4),\n",
       " Row(id=5443, vitesse_a_pied=0.02, vitesse_a_velo=0.05, home='(lon:42.00 lat:14.70)', travail='(lon:29.98 lat:39.44)', sportif=False, casseur=False, statut='reserviste', salaire=29351.04808881825, sexe='F', age=36, sportivite=0.1, velo_perf_minimale=0.4),\n",
       " Row(id=5447, vitesse_a_pied=0.9202640327899486, vitesse_a_velo=2.3006600819748715, home='(lon:18.53 lat:17.26)', travail='(lon:12.23 lat:31.10)', sportif=False, casseur=False, statut='employe', salaire=16693.64593365834, sexe='F', age=17, sportivite=4.601320163949743, velo_perf_minimale=0.4),\n",
       " Row(id=5451, vitesse_a_pied=0.5729828485590749, vitesse_a_velo=1.4324571213976873, home='(lon:46.52 lat:40.71)', travail='(lon:18.63 lat:40.38)', sportif=False, casseur=False, statut='cadre', salaire=26591.189399423896, sexe='F', age=57, sportivite=2.8649142427953747, velo_perf_minimale=0.4),\n",
       " Row(id=5452, vitesse_a_pied=0.07345944492561665, vitesse_a_velo=0.18364861231404161, home='(lon:2.58 lat:0.47)', travail='(lon:39.17 lat:21.61)', sportif=False, casseur=False, statut='technicien_de_surface', salaire=12753.46309190842, sexe='F', age=65, sportivite=0.36729722462808323, velo_perf_minimale=0.4),\n",
       " Row(id=5453, vitesse_a_pied=0.40673336208805244, vitesse_a_velo=1.016833405220131, home='(lon:32.58 lat:13.18)', travail='(lon:19.53 lat:33.00)', sportif=False, casseur=False, statut='éboueur', salaire=17953.001466903268, sexe='F', age=53, sportivite=2.033666810440262, velo_perf_minimale=0.4),\n",
       " Row(id=5454, vitesse_a_pied=0.36353891656246473, vitesse_a_velo=0.9088472914061618, home='(lon:17.86 lat:38.63)', travail='(lon:30.85 lat:32.09)', sportif=False, casseur=False, statut='professeur', salaire=20096.163370153357, sexe='F', age=77, sportivite=1.8176945828123237, velo_perf_minimale=0.4),\n",
       " Row(id=5455, vitesse_a_pied=0.7092051371347676, vitesse_a_velo=1.7730128428369192, home='(lon:30.01 lat:32.12)', travail='(lon:29.27 lat:34.22)', sportif=False, casseur=False, statut='technicien_de_surface', salaire=16342.474286353388, sexe='F', age=22, sportivite=3.5460256856738384, velo_perf_minimale=0.4),\n",
       " Row(id=5456, vitesse_a_pied=0.02, vitesse_a_velo=0.05, home='(lon:39.27 lat:9.95)', travail='(lon:14.74 lat:10.76)', sportif=False, casseur=False, statut='technicien_de_surface', salaire=17720.040995902975, sexe='F', age=16, sportivite=0.1, velo_perf_minimale=0.4),\n",
       " Row(id=5457, vitesse_a_pied=0.02, vitesse_a_velo=0.05, home='(lon:45.27 lat:11.83)', travail='(lon:26.73 lat:10.57)', sportif=False, casseur=False, statut='technicien_de_surface', salaire=20591.515493230632, sexe='F', age=18, sportivite=0.1, velo_perf_minimale=0.4),\n",
       " Row(id=5463, vitesse_a_pied=0.1829401127173647, vitesse_a_velo=0.45735028179341175, home='(lon:24.67 lat:0.53)', travail='(lon:43.05 lat:45.69)', sportif=False, casseur=False, statut='professeur', salaire=27080.659921160935, sexe='F', age=26, sportivite=0.9147005635868235, velo_perf_minimale=0.4),\n",
       " Row(id=5467, vitesse_a_pied=0.2541905177615016, vitesse_a_velo=0.635476294403754, home='(lon:32.80 lat:13.37)', travail='(lon:41.35 lat:36.95)', sportif=False, casseur=False, statut='cadre', salaire=32808.255724702496, sexe='F', age=29, sportivite=1.270952588807508, velo_perf_minimale=0.4),\n",
       " Row(id=5470, vitesse_a_pied=0.5413609781049356, vitesse_a_velo=1.3534024452623388, home='(lon:35.51 lat:27.69)', travail='(lon:5.58 lat:43.41)', sportif=False, casseur=False, statut='éboueur', salaire=13025.684366143987, sexe='F', age=34, sportivite=2.7068048905246775, velo_perf_minimale=0.4),\n",
       " Row(id=5471, vitesse_a_pied=0.3468373085656181, vitesse_a_velo=0.8670932714140454, home='(lon:47.94 lat:21.72)', travail='(lon:21.11 lat:10.39)', sportif=False, casseur=False, statut='cadre', salaire=24961.983187515347, sexe='F', age=20, sportivite=1.7341865428280907, velo_perf_minimale=0.4),\n",
       " Row(id=5472, vitesse_a_pied=0.9193247115658136, vitesse_a_velo=2.298311778914534, home='(lon:34.95 lat:41.79)', travail='(lon:32.86 lat:3.41)', sportif=False, casseur=False, statut='reserviste', salaire=29144.787987489075, sexe='F', age=31, sportivite=4.596623557829068, velo_perf_minimale=0.4),\n",
       " Row(id=5474, vitesse_a_pied=1.0549993188453546, vitesse_a_velo=2.6374982971133867, home='(lon:28.85 lat:5.61)', travail='(lon:42.81 lat:44.05)', sportif=False, casseur=False, statut='technicien_de_surface', salaire=23224.53630730813, sexe='F', age=80, sportivite=5.274996594226773, velo_perf_minimale=0.4),\n",
       " Row(id=5477, vitesse_a_pied=0.4678667859443658, vitesse_a_velo=1.1696669648609146, home='(lon:47.26 lat:38.62)', travail='(lon:7.78 lat:3.48)', sportif=False, casseur=False, statut='cadre', salaire=22043.138867904046, sexe='F', age=23, sportivite=2.339333929721829, velo_perf_minimale=0.4),\n",
       " Row(id=5478, vitesse_a_pied=1.0873576281094421, vitesse_a_velo=2.718394070273605, home='(lon:17.92 lat:29.39)', travail='(lon:10.40 lat:8.59)', sportif=False, casseur=False, statut='reserviste', salaire=39497.12164906396, sexe='F', age=28, sportivite=5.43678814054721, velo_perf_minimale=0.4),\n",
       " Row(id=5482, vitesse_a_pied=0.2085893418990346, vitesse_a_velo=0.5214733547475865, home='(lon:35.55 lat:45.76)', travail='(lon:22.42 lat:24.02)', sportif=False, casseur=False, statut='éboueur', salaire=14667.18382583275, sexe='F', age=67, sportivite=1.042946709495173, velo_perf_minimale=0.4),\n",
       " Row(id=5484, vitesse_a_pied=0.1389936736745702, vitesse_a_velo=0.34748418418642546, home='(lon:10.20 lat:20.75)', travail='(lon:45.31 lat:30.19)', sportif=False, casseur=True, statut='reserviste', salaire=33248.635521200755, sexe='F', age=52, sportivite=0.6949683683728509, velo_perf_minimale=0.4),\n",
       " Row(id=5494, vitesse_a_pied=0.2826770498518348, vitesse_a_velo=0.7066926246295869, home='(lon:27.46 lat:38.80)', travail='(lon:11.63 lat:3.83)', sportif=False, casseur=False, statut='employe', salaire=25683.30071774452, sexe='F', age=70, sportivite=1.4133852492591739, velo_perf_minimale=0.4),\n",
       " Row(id=5498, vitesse_a_pied=0.7184711344773183, vitesse_a_velo=1.7961778361932956, home='(lon:43.00 lat:13.23)', travail='(lon:46.86 lat:16.82)', sportif=False, casseur=False, statut='cadre', salaire=23137.0734536483, sexe='F', age=69, sportivite=3.5923556723865913, velo_perf_minimale=0.4),\n",
       " Row(id=5499, vitesse_a_pied=0.02, vitesse_a_velo=0.05, home='(lon:21.39 lat:24.19)', travail='(lon:40.58 lat:23.19)', sportif=False, casseur=False, statut='cadre', salaire=33136.49995192427, sexe='F', age=15, sportivite=0.1, velo_perf_minimale=0.4),\n",
       " Row(id=5500, vitesse_a_pied=0.590263753044179, vitesse_a_velo=1.4756593826104474, home='(lon:26.96 lat:6.46)', travail='(lon:40.98 lat:41.42)', sportif=False, casseur=False, statut='cadre', salaire=38818.41846770658, sexe='F', age=55, sportivite=2.9513187652208948, velo_perf_minimale=0.4),\n",
       " Row(id=5501, vitesse_a_pied=0.9744607175990738, vitesse_a_velo=2.4361517939976847, home='(lon:24.28 lat:16.89)', travail='(lon:38.68 lat:28.97)', sportif=False, casseur=False, statut='technicien_de_surface', salaire=13682.437032397842, sexe='F', age=84, sportivite=4.872303587995369, velo_perf_minimale=0.4),\n",
       " Row(id=5502, vitesse_a_pied=0.6907825448897998, vitesse_a_velo=1.7269563622244994, home='(lon:37.49 lat:16.72)', travail='(lon:32.41 lat:14.29)', sportif=False, casseur=False, statut='cadre', salaire=27054.063042397458, sexe='F', age=47, sportivite=3.4539127244489993, velo_perf_minimale=0.4),\n",
       " Row(id=5503, vitesse_a_pied=0.3842578568229912, vitesse_a_velo=0.9606446420574779, home='(lon:11.56 lat:20.46)', travail='(lon:1.06 lat:45.50)', sportif=False, casseur=False, statut='reserviste', salaire=30253.654118937313, sexe='F', age=80, sportivite=1.9212892841149558, velo_perf_minimale=0.4),\n",
       " Row(id=5504, vitesse_a_pied=1.1283485400445892, vitesse_a_velo=2.820871350111473, home='(lon:5.92 lat:46.58)', travail='(lon:43.42 lat:10.56)', sportif=False, casseur=False, statut='reserviste', salaire=38719.26415650466, sexe='F', age=70, sportivite=5.641742700222946, velo_perf_minimale=0.4),\n",
       " Row(id=5506, vitesse_a_pied=0.5031744681305405, vitesse_a_velo=1.2579361703263512, home='(lon:7.84 lat:42.54)', travail='(lon:24.66 lat:28.07)', sportif=False, casseur=False, statut='professeur', salaire=24276.861701004524, sexe='F', age=64, sportivite=2.5158723406527024, velo_perf_minimale=0.4),\n",
       " Row(id=5508, vitesse_a_pied=0.8372110370105392, vitesse_a_velo=2.093027592526348, home='(lon:45.27 lat:37.00)', travail='(lon:16.08 lat:43.48)', sportif=False, casseur=False, statut='technicien_de_surface', salaire=13998.246353495051, sexe='F', age=79, sportivite=4.186055185052696, velo_perf_minimale=0.4),\n",
       " Row(id=5511, vitesse_a_pied=0.02, vitesse_a_velo=0.05, home='(lon:12.25 lat:40.76)', travail='(lon:17.59 lat:24.14)', sportif=False, casseur=False, statut='cadre', salaire=59021.64461176796, sexe='F', age=26, sportivite=0.1, velo_perf_minimale=0.4),\n",
       " Row(id=5513, vitesse_a_pied=0.6999955348842934, vitesse_a_velo=1.7499888372107335, home='(lon:36.11 lat:7.08)', travail='(lon:48.86 lat:33.16)', sportif=False, casseur=False, statut='éboueur', salaire=22176.92537725766, sexe='F', age=84, sportivite=3.4999776744214675, velo_perf_minimale=0.4),\n",
       " Row(id=5514, vitesse_a_pied=0.46943315642811384, vitesse_a_velo=1.1735828910702846, home='(lon:29.65 lat:41.66)', travail='(lon:9.89 lat:34.60)', sportif=False, casseur=False, statut='reserviste', salaire=23502.2450417172, sexe='F', age=23, sportivite=2.347165782140569, velo_perf_minimale=0.4),\n",
       " Row(id=5517, vitesse_a_pied=0.8741308462921275, vitesse_a_velo=2.1853271157303187, home='(lon:3.19 lat:18.57)', travail='(lon:6.86 lat:20.62)', sportif=False, casseur=False, statut='employe', salaire=23627.989625574464, sexe='F', age=17, sportivite=4.370654231460637, velo_perf_minimale=0.4),\n",
       " Row(id=5518, vitesse_a_pied=0.6407180946604238, vitesse_a_velo=1.6017952366510595, home='(lon:46.13 lat:42.05)', travail='(lon:7.32 lat:2.63)', sportif=False, casseur=False, statut='employe', salaire=18621.47635733263, sexe='F', age=80, sportivite=3.203590473302119, velo_perf_minimale=0.4),\n",
       " Row(id=5520, vitesse_a_pied=0.3852748768993885, vitesse_a_velo=0.9631871922484713, home='(lon:45.25 lat:48.98)', travail='(lon:17.87 lat:16.47)', sportif=False, casseur=False, statut='technicien_de_surface', salaire=26418.61185084846, sexe='F', age=45, sportivite=1.9263743844969425, velo_perf_minimale=0.4),\n",
       " Row(id=5523, vitesse_a_pied=0.11424150479850592, vitesse_a_velo=0.2856037619962648, home='(lon:39.08 lat:6.24)', travail='(lon:29.70 lat:7.97)', sportif=False, casseur=False, statut='professeur', salaire=23281.9594630305, sexe='F', age=67, sportivite=0.5712075239925296, velo_perf_minimale=0.4),\n",
       " Row(id=5524, vitesse_a_pied=0.02, vitesse_a_velo=0.05, home='(lon:26.79 lat:39.91)', travail='(lon:24.30 lat:41.40)', sportif=False, casseur=False, statut='reserviste', salaire=22262.491316583106, sexe='F', age=45, sportivite=0.1, velo_perf_minimale=0.4),\n",
       " Row(id=5526, vitesse_a_pied=0.3823374859143536, vitesse_a_velo=0.9558437147858839, home='(lon:19.47 lat:2.86)', travail='(lon:45.77 lat:22.40)', sportif=False, casseur=False, statut='technicien_de_surface', salaire=21816.903238862305, sexe='F', age=65, sportivite=1.911687429571768, velo_perf_minimale=0.4),\n",
       " Row(id=5527, vitesse_a_pied=0.4652515885667131, vitesse_a_velo=1.1631289714167827, home='(lon:4.16 lat:7.72)', travail='(lon:38.34 lat:19.54)', sportif=False, casseur=False, statut='employe', salaire=30150.508859958125, sexe='F', age=16, sportivite=2.3262579428335655, velo_perf_minimale=0.4),\n",
       " Row(id=5529, vitesse_a_pied=0.11505351669224999, vitesse_a_velo=0.287633791730625, home='(lon:18.07 lat:39.87)', travail='(lon:11.94 lat:48.25)', sportif=False, casseur=False, statut='employe', salaire=21493.44711983126, sexe='F', age=44, sportivite=0.57526758346125, velo_perf_minimale=0.4),\n",
       " Row(id=5530, vitesse_a_pied=0.7307355485721506, vitesse_a_velo=1.8268388714303765, home='(lon:35.90 lat:28.41)', travail='(lon:33.98 lat:9.67)', sportif=False, casseur=False, statut='professeur', salaire=21341.23300824164, sexe='F', age=68, sportivite=3.653677742860753, velo_perf_minimale=0.4),\n",
       " Row(id=5531, vitesse_a_pied=1.1454157062319443, vitesse_a_velo=2.8635392655798606, home='(lon:13.76 lat:34.06)', travail='(lon:17.96 lat:24.54)', sportif=False, casseur=False, statut='employe', salaire=18470.43468278106, sexe='F', age=33, sportivite=5.727078531159721, velo_perf_minimale=0.4),\n",
       " Row(id=5532, vitesse_a_pied=0.11436362573694994, vitesse_a_velo=0.28590906434237484, home='(lon:31.74 lat:35.79)', travail='(lon:35.94 lat:13.67)', sportif=False, casseur=False, statut='professeur', salaire=27368.46275731034, sexe='F', age=17, sportivite=0.5718181286847497, velo_perf_minimale=0.4),\n",
       " Row(id=5533, vitesse_a_pied=1.1841168611269182, vitesse_a_velo=2.9602921528172956, home='(lon:10.11 lat:28.47)', travail='(lon:45.47 lat:37.80)', sportif=False, casseur=False, statut='professeur', salaire=28753.823367968438, sexe='F', age=46, sportivite=5.920584305634591, velo_perf_minimale=0.4),\n",
       " Row(id=5534, vitesse_a_pied=0.4372009047992174, vitesse_a_velo=1.0930022619980435, home='(lon:16.40 lat:24.01)', travail='(lon:7.49 lat:27.24)', sportif=False, casseur=False, statut='reserviste', salaire=32778.23312674623, sexe='F', age=51, sportivite=2.186004523996087, velo_perf_minimale=0.4),\n",
       " Row(id=5536, vitesse_a_pied=0.5102795734371228, vitesse_a_velo=1.275698933592807, home='(lon:5.04 lat:27.02)', travail='(lon:2.57 lat:12.45)', sportif=False, casseur=False, statut='cadre', salaire=44181.50851133359, sexe='F', age=51, sportivite=2.551397867185614, velo_perf_minimale=0.4),\n",
       " Row(id=5542, vitesse_a_pied=0.4984199968888535, vitesse_a_velo=1.2460499922221338, home='(lon:24.86 lat:38.22)', travail='(lon:48.47 lat:36.68)', sportif=False, casseur=False, statut='employe', salaire=21043.46554656485, sexe='F', age=77, sportivite=2.4920999844442675, velo_perf_minimale=0.4),\n",
       " Row(id=5545, vitesse_a_pied=0.34001657976843047, vitesse_a_velo=0.8500414494210762, home='(lon:47.47 lat:10.28)', travail='(lon:0.46 lat:37.01)', sportif=False, casseur=False, statut='professeur', salaire=29302.01520743528, sexe='F', age=20, sportivite=1.7000828988421524, velo_perf_minimale=0.4),\n",
       " Row(id=5546, vitesse_a_pied=0.7437598586857233, vitesse_a_velo=1.8593996467143081, home='(lon:40.28 lat:47.35)', travail='(lon:35.82 lat:5.68)', sportif=False, casseur=False, statut='technicien_de_surface', salaire=21002.444796187683, sexe='F', age=39, sportivite=3.7187992934286163, velo_perf_minimale=0.4),\n",
       " Row(id=5547, vitesse_a_pied=1.555806785697804, vitesse_a_velo=3.8895169642445095, home='(lon:39.25 lat:5.34)', travail='(lon:38.80 lat:31.86)', sportif=False, casseur=False, statut='cadre', salaire=23749.778742973795, sexe='F', age=84, sportivite=7.77903392848902, velo_perf_minimale=0.4),\n",
       " Row(id=5551, vitesse_a_pied=0.4277777880753323, vitesse_a_velo=1.0694444701883308, home='(lon:9.26 lat:40.29)', travail='(lon:3.91 lat:12.55)', sportif=False, casseur=False, statut='éboueur', salaire=13441.939568620479, sexe='F', age=64, sportivite=2.1388889403766616, velo_perf_minimale=0.4),\n",
       " Row(id=5552, vitesse_a_pied=1.0480612220702894, vitesse_a_velo=2.6201530551757237, home='(lon:38.49 lat:47.91)', travail='(lon:41.06 lat:19.05)', sportif=False, casseur=False, statut='cadre', salaire=21121.79066536916, sexe='F', age=34, sportivite=5.240306110351447, velo_perf_minimale=0.4),\n",
       " Row(id=5554, vitesse_a_pied=0.22681137024036468, vitesse_a_velo=0.5670284256009117, home='(lon:16.46 lat:9.44)', travail='(lon:20.43 lat:13.04)', sportif=False, casseur=False, statut='éboueur', salaire=21256.821855302547, sexe='F', age=15, sportivite=1.1340568512018234, velo_perf_minimale=0.4),\n",
       " Row(id=5555, vitesse_a_pied=0.5745623804092388, vitesse_a_velo=1.436405951023097, home='(lon:36.25 lat:26.34)', travail='(lon:17.92 lat:15.19)', sportif=False, casseur=False, statut='cadre', salaire=24651.112006480023, sexe='F', age=84, sportivite=2.872811902046194, velo_perf_minimale=0.4),\n",
       " Row(id=5558, vitesse_a_pied=1.2135987324903148, vitesse_a_velo=3.033996831225787, home='(lon:6.87 lat:43.02)', travail='(lon:43.23 lat:5.16)', sportif=False, casseur=False, statut='professeur', salaire=21831.918692891904, sexe='F', age=74, sportivite=6.067993662451574, velo_perf_minimale=0.4),\n",
       " Row(id=5560, vitesse_a_pied=0.5836929742371041, vitesse_a_velo=1.4592324355927602, home='(lon:7.45 lat:24.80)', travail='(lon:21.68 lat:39.69)', sportif=False, casseur=False, statut='cadre', salaire=27820.03072283903, sexe='F', age=81, sportivite=2.9184648711855203, velo_perf_minimale=0.4),\n",
       " Row(id=5563, vitesse_a_pied=0.4795496379476979, vitesse_a_velo=1.1988740948692447, home='(lon:1.81 lat:2.68)', travail='(lon:31.83 lat:44.92)', sportif=False, casseur=False, statut='reserviste', salaire=37603.632648896324, sexe='F', age=28, sportivite=2.3977481897384894, velo_perf_minimale=0.4),\n",
       " Row(id=5564, vitesse_a_pied=0.6101188975111445, vitesse_a_velo=1.5252972437778611, home='(lon:15.27 lat:31.72)', travail='(lon:15.48 lat:10.43)', sportif=False, casseur=False, statut='cadre', salaire=29106.449431203368, sexe='F', age=27, sportivite=3.0505944875557223, velo_perf_minimale=0.4),\n",
       " Row(id=5570, vitesse_a_pied=1.0581578184886165, vitesse_a_velo=2.6453945462215414, home='(lon:21.43 lat:38.33)', travail='(lon:48.04 lat:0.27)', sportif=False, casseur=False, statut='employe', salaire=14285.453293314411, sexe='F', age=39, sportivite=5.290789092443083, velo_perf_minimale=0.4),\n",
       " Row(id=5571, vitesse_a_pied=0.5235679465423569, vitesse_a_velo=1.3089198663558923, home='(lon:14.75 lat:41.34)', travail='(lon:36.48 lat:40.95)', sportif=False, casseur=False, statut='éboueur', salaire=21096.47754404932, sexe='F', age=41, sportivite=2.6178397327117846, velo_perf_minimale=0.4),\n",
       " Row(id=5575, vitesse_a_pied=0.42282515971656476, vitesse_a_velo=1.057062899291412, home='(lon:48.43 lat:29.14)', travail='(lon:13.05 lat:25.41)', sportif=False, casseur=False, statut='cadre', salaire=26135.743366938386, sexe='F', age=42, sportivite=2.114125798582824, velo_perf_minimale=0.4),\n",
       " Row(id=5576, vitesse_a_pied=0.06673679017440537, vitesse_a_velo=0.16684197543601342, home='(lon:4.95 lat:47.59)', travail='(lon:7.88 lat:42.54)', sportif=False, casseur=False, statut='technicien_de_surface', salaire=18307.777417947746, sexe='F', age=45, sportivite=0.33368395087202685, velo_perf_minimale=0.4),\n",
       " Row(id=5579, vitesse_a_pied=0.7797878751174292, vitesse_a_velo=1.949469687793573, home='(lon:36.06 lat:13.73)', travail='(lon:1.19 lat:31.73)', sportif=False, casseur=False, statut='reserviste', salaire=35096.5366337986, sexe='F', age=62, sportivite=3.898939375587146, velo_perf_minimale=0.4),\n",
       " Row(id=5581, vitesse_a_pied=0.5366359127443354, vitesse_a_velo=1.3415897818608387, home='(lon:41.31 lat:5.81)', travail='(lon:9.55 lat:48.79)', sportif=False, casseur=False, statut='technicien_de_surface', salaire=11287.789719823171, sexe='F', age=78, sportivite=2.6831795637216773, velo_perf_minimale=0.4),\n",
       " Row(id=5586, vitesse_a_pied=0.3615980311120377, vitesse_a_velo=0.9039950777800942, home='(lon:28.31 lat:30.48)', travail='(lon:29.86 lat:9.84)', sportif=False, casseur=False, statut='professeur', salaire=15207.534336911149, sexe='F', age=45, sportivite=1.8079901555601885, velo_perf_minimale=0.4),\n",
       " Row(id=5587, vitesse_a_pied=0.464236011395528, vitesse_a_velo=1.16059002848882, home='(lon:1.72 lat:36.58)', travail='(lon:12.08 lat:19.40)', sportif=False, casseur=False, statut='cadre', salaire=25644.485751035787, sexe='F', age=39, sportivite=2.32118005697764, velo_perf_minimale=0.4),\n",
       " Row(id=5589, vitesse_a_pied=0.3506549327963314, vitesse_a_velo=0.8766373319908285, home='(lon:29.67 lat:13.70)', travail='(lon:26.21 lat:35.72)', sportif=False, casseur=True, statut='employe', salaire=24625.644327287097, sexe='F', age=80, sportivite=1.753274663981657, velo_perf_minimale=0.4),\n",
       " Row(id=5592, vitesse_a_pied=0.4782134320839166, vitesse_a_velo=1.1955335802097915, home='(lon:3.04 lat:9.80)', travail='(lon:14.72 lat:22.60)', sportif=False, casseur=False, statut='technicien_de_surface', salaire=11489.653241242995, sexe='F', age=51, sportivite=2.391067160419583, velo_perf_minimale=0.4),\n",
       " Row(id=5594, vitesse_a_pied=0.8227882960256508, vitesse_a_velo=2.056970740064127, home='(lon:19.95 lat:44.11)', travail='(lon:31.19 lat:30.19)', sportif=False, casseur=False, statut='professeur', salaire=27328.470352744112, sexe='F', age=77, sportivite=4.113941480128254, velo_perf_minimale=0.4),\n",
       " Row(id=5596, vitesse_a_pied=0.2699345201491331, vitesse_a_velo=0.6748363003728328, home='(lon:20.89 lat:48.14)', travail='(lon:28.56 lat:8.56)', sportif=False, casseur=False, statut='reserviste', salaire=24266.708780385474, sexe='F', age=45, sportivite=1.3496726007456656, velo_perf_minimale=0.4),\n",
       " Row(id=5597, vitesse_a_pied=0.6758598548527319, vitesse_a_velo=1.6896496371318297, home='(lon:34.12 lat:12.94)', travail='(lon:2.25 lat:36.66)', sportif=False, casseur=False, statut='éboueur', salaire=12408.241500839771, sexe='F', age=27, sportivite=3.3792992742636594, velo_perf_minimale=0.4),\n",
       " Row(id=5598, vitesse_a_pied=0.02, vitesse_a_velo=0.05, home='(lon:38.37 lat:19.81)', travail='(lon:34.48 lat:25.03)', sportif=False, casseur=False, statut='cadre', salaire=22475.047814349084, sexe='F', age=21, sportivite=0.1, velo_perf_minimale=0.4),\n",
       " Row(id=5600, vitesse_a_pied=0.02, vitesse_a_velo=0.05, home='(lon:12.35 lat:34.23)', travail='(lon:38.77 lat:8.82)', sportif=False, casseur=False, statut='employe', salaire=23843.812442226837, sexe='F', age=62, sportivite=0.1, velo_perf_minimale=0.4),\n",
       " Row(id=5602, vitesse_a_pied=0.3625321470536648, vitesse_a_velo=0.9063303676341621, home='(lon:15.48 lat:33.69)', travail='(lon:2.57 lat:6.16)', sportif=False, casseur=False, statut='cadre', salaire=27715.188375114787, sexe='F', age=63, sportivite=1.8126607352683242, velo_perf_minimale=0.4),\n",
       " Row(id=5604, vitesse_a_pied=0.3476513021031222, vitesse_a_velo=0.8691282552578056, home='(lon:5.44 lat:30.88)', travail='(lon:30.10 lat:48.19)', sportif=False, casseur=False, statut='cadre', salaire=22198.482331580664, sexe='F', age=16, sportivite=1.738256510515611, velo_perf_minimale=0.4),\n",
       " Row(id=5606, vitesse_a_pied=0.3919525609635188, vitesse_a_velo=0.9798814024087971, home='(lon:35.02 lat:30.38)', travail='(lon:32.99 lat:18.50)', sportif=False, casseur=False, statut='technicien_de_surface', salaire=21067.371967561478, sexe='F', age=31, sportivite=1.9597628048175941, velo_perf_minimale=0.4),\n",
       " Row(id=5614, vitesse_a_pied=0.6735018706606567, vitesse_a_velo=1.6837546766516418, home='(lon:16.80 lat:40.52)', travail='(lon:0.53 lat:6.12)', sportif=False, casseur=False, statut='technicien_de_surface', salaire=21441.815980675303, sexe='F', age=20, sportivite=3.3675093533032836, velo_perf_minimale=0.4),\n",
       " Row(id=5615, vitesse_a_pied=0.21783678823636848, vitesse_a_velo=0.5445919705909212, home='(lon:43.52 lat:23.32)', travail='(lon:2.18 lat:13.61)', sportif=False, casseur=False, statut='technicien_de_surface', salaire=18784.82411937633, sexe='F', age=65, sportivite=1.0891839411818425, velo_perf_minimale=0.4),\n",
       " Row(id=5616, vitesse_a_pied=0.5473342073256345, vitesse_a_velo=1.3683355183140864, home='(lon:6.53 lat:34.81)', travail='(lon:0.48 lat:17.24)', sportif=False, casseur=False, statut='éboueur', salaire=20820.177608181573, sexe='F', age=33, sportivite=2.736671036628173, velo_perf_minimale=0.4),\n",
       " Row(id=5617, vitesse_a_pied=0.36794233622957556, vitesse_a_velo=0.9198558405739389, home='(lon:33.71 lat:8.13)', travail='(lon:5.54 lat:41.89)', sportif=False, casseur=False, statut='reserviste', salaire=31664.506278859, sexe='F', age=53, sportivite=1.8397116811478778, velo_perf_minimale=0.4),\n",
       " Row(id=5618, vitesse_a_pied=0.5011380901533282, vitesse_a_velo=1.2528452253833204, home='(lon:40.68 lat:2.42)', travail='(lon:28.27 lat:33.33)', sportif=False, casseur=False, statut='éboueur', salaire=15739.989880092204, sexe='F', age=36, sportivite=2.505690450766641, velo_perf_minimale=0.4),\n",
       " Row(id=5620, vitesse_a_pied=0.5260816743261071, vitesse_a_velo=1.3152041858152677, home='(lon:14.05 lat:17.77)', travail='(lon:28.57 lat:23.91)', sportif=False, casseur=False, statut='reserviste', salaire=23771.354003328215, sexe='F', age=35, sportivite=2.6304083716305353, velo_perf_minimale=0.4),\n",
       " Row(id=5621, vitesse_a_pied=0.5351071722197742, vitesse_a_velo=1.3377679305494357, home='(lon:6.01 lat:22.06)', travail='(lon:14.13 lat:48.38)', sportif=False, casseur=False, statut='technicien_de_surface', salaire=20407.36581098978, sexe='F', age=31, sportivite=2.6755358610988713, velo_perf_minimale=0.4),\n",
       " Row(id=5623, vitesse_a_pied=0.02, vitesse_a_velo=0.05, home='(lon:21.31 lat:4.37)', travail='(lon:29.23 lat:7.42)', sportif=False, casseur=False, statut='employe', salaire=19806.020756860285, sexe='F', age=60, sportivite=0.1, velo_perf_minimale=0.4),\n",
       " Row(id=5630, vitesse_a_pied=0.02, vitesse_a_velo=0.05, home='(lon:15.11 lat:10.59)', travail='(lon:15.97 lat:32.56)', sportif=False, casseur=False, statut='employe', salaire=12045.894063416205, sexe='F', age=83, sportivite=0.1, velo_perf_minimale=0.4),\n",
       " Row(id=5631, vitesse_a_pied=0.02, vitesse_a_velo=0.05, home='(lon:4.56 lat:6.70)', travail='(lon:28.46 lat:32.95)', sportif=False, casseur=False, statut='cadre', salaire=27590.713658384204, sexe='F', age=53, sportivite=0.1, velo_perf_minimale=0.4),\n",
       " Row(id=5633, vitesse_a_pied=0.1798288152161985, vitesse_a_velo=0.4495720380404963, home='(lon:48.43 lat:23.60)', travail='(lon:0.35 lat:38.11)', sportif=False, casseur=False, statut='professeur', salaire=18977.306370517406, sexe='F', age=79, sportivite=0.8991440760809926, velo_perf_minimale=0.4),\n",
       " Row(id=5637, vitesse_a_pied=0.02, vitesse_a_velo=0.05, home='(lon:1.26 lat:30.47)', travail='(lon:42.92 lat:40.64)', sportif=False, casseur=False, statut='cadre', salaire=19395.345169564316, sexe='F', age=65, sportivite=0.1, velo_perf_minimale=0.4),\n",
       " Row(id=5638, vitesse_a_pied=0.8322423599264844, vitesse_a_velo=2.080605899816211, home='(lon:41.15 lat:39.02)', travail='(lon:10.17 lat:20.58)', sportif=False, casseur=False, statut='cadre', salaire=39986.858730102555, sexe='F', age=30, sportivite=4.161211799632422, velo_perf_minimale=0.4),\n",
       " Row(id=5639, vitesse_a_pied=1.125223565120354, vitesse_a_velo=2.813058912800885, home='(lon:25.41 lat:30.39)', travail='(lon:24.96 lat:42.09)', sportif=False, casseur=False, statut='reserviste', salaire=25095.024799504805, sexe='F', age=79, sportivite=5.62611782560177, velo_perf_minimale=0.4),\n",
       " Row(id=5643, vitesse_a_pied=0.2652073839265886, vitesse_a_velo=0.6630184598164715, home='(lon:2.54 lat:19.83)', travail='(lon:0.12 lat:11.39)', sportif=False, casseur=False, statut='employe', salaire=17148.991899604534, sexe='F', age=67, sportivite=1.326036919632943, velo_perf_minimale=0.4),\n",
       " Row(id=5644, vitesse_a_pied=0.6072252688106692, vitesse_a_velo=1.518063172026673, home='(lon:13.61 lat:1.00)', travail='(lon:34.48 lat:46.31)', sportif=False, casseur=True, statut='éboueur', salaire=12567.37617457591, sexe='F', age=28, sportivite=3.036126344053346, velo_perf_minimale=0.4),\n",
       " Row(id=5645, vitesse_a_pied=0.7170334241299345, vitesse_a_velo=1.7925835603248363, home='(lon:24.49 lat:22.05)', travail='(lon:48.55 lat:31.49)', sportif=False, casseur=True, statut='cadre', salaire=15864.939683997693, sexe='F', age=84, sportivite=3.5851671206496727, velo_perf_minimale=0.4),\n",
       " Row(id=5647, vitesse_a_pied=0.9457271083361887, vitesse_a_velo=2.3643177708404717, home='(lon:9.69 lat:0.54)', travail='(lon:15.75 lat:17.03)', sportif=False, casseur=False, statut='technicien_de_surface', salaire=22048.733766872672, sexe='F', age=35, sportivite=4.728635541680943, velo_perf_minimale=0.4),\n",
       " Row(id=5650, vitesse_a_pied=0.23023081950082122, vitesse_a_velo=0.5755770487520531, home='(lon:19.97 lat:8.14)', travail='(lon:18.55 lat:8.96)', sportif=False, casseur=False, statut='technicien_de_surface', salaire=22445.162346547197, sexe='F', age=79, sportivite=1.1511540975041061, velo_perf_minimale=0.4),\n",
       " Row(id=5651, vitesse_a_pied=0.20168667090654568, vitesse_a_velo=0.5042166772663642, home='(lon:21.18 lat:47.24)', travail='(lon:0.70 lat:38.56)', sportif=False, casseur=False, statut='employe', salaire=28084.485592012657, sexe='F', age=53, sportivite=1.0084333545327284, velo_perf_minimale=0.4),\n",
       " Row(id=5654, vitesse_a_pied=0.7649304679665047, vitesse_a_velo=1.912326169916262, home='(lon:0.64 lat:39.01)', travail='(lon:31.02 lat:13.92)', sportif=False, casseur=False, statut='éboueur', salaire=21698.090135865114, sexe='F', age=55, sportivite=3.8246523398325234, velo_perf_minimale=0.4),\n",
       " Row(id=5656, vitesse_a_pied=0.02, vitesse_a_velo=0.05, home='(lon:6.69 lat:47.98)', travail='(lon:33.27 lat:19.93)', sportif=False, casseur=False, statut='reserviste', salaire=29699.871584670556, sexe='F', age=63, sportivite=0.1, velo_perf_minimale=0.4),\n",
       " Row(id=5661, vitesse_a_pied=0.02, vitesse_a_velo=0.05, home='(lon:15.70 lat:43.67)', travail='(lon:20.25 lat:0.18)', sportif=False, casseur=False, statut='technicien_de_surface', salaire=11309.67559224571, sexe='F', age=52, sportivite=0.1, velo_perf_minimale=0.4),\n",
       " Row(id=5664, vitesse_a_pied=0.3727520088823853, vitesse_a_velo=0.9318800222059632, home='(lon:42.76 lat:39.60)', travail='(lon:34.63 lat:48.40)', sportif=False, casseur=False, statut='éboueur', salaire=18073.18850274231, sexe='F', age=71, sportivite=1.8637600444119264, velo_perf_minimale=0.4),\n",
       " Row(id=5665, vitesse_a_pied=0.02, vitesse_a_velo=0.05, home='(lon:1.34 lat:23.26)', travail='(lon:8.39 lat:17.55)', sportif=False, casseur=False, statut='reserviste', salaire=22981.293559545273, sexe='F', age=18, sportivite=0.1, velo_perf_minimale=0.4),\n",
       " Row(id=5666, vitesse_a_pied=0.7354177928614474, vitesse_a_velo=1.8385444821536185, home='(lon:25.82 lat:44.95)', travail='(lon:22.39 lat:5.07)', sportif=False, casseur=False, statut='professeur', salaire=18605.713365822194, sexe='F', age=43, sportivite=3.677088964307237, velo_perf_minimale=0.4),\n",
       " Row(id=5667, vitesse_a_pied=0.7765651781562661, vitesse_a_velo=1.9414129453906654, home='(lon:27.29 lat:24.29)', travail='(lon:47.46 lat:40.57)', sportif=False, casseur=False, statut='reserviste', salaire=41132.24856284279, sexe='F', age=56, sportivite=3.882825890781331, velo_perf_minimale=0.4),\n",
       " Row(id=5668, vitesse_a_pied=0.5871392360585685, vitesse_a_velo=1.4678480901464213, home='(lon:2.26 lat:32.09)', travail='(lon:37.57 lat:3.79)', sportif=False, casseur=False, statut='cadre', salaire=36063.126300161966, sexe='F', age=75, sportivite=2.9356961802928425, velo_perf_minimale=0.4),\n",
       " Row(id=5669, vitesse_a_pied=0.7589101702383875, vitesse_a_velo=1.8972754255959685, home='(lon:9.60 lat:39.29)', travail='(lon:9.12 lat:20.14)', sportif=False, casseur=False, statut='professeur', salaire=27366.094864685652, sexe='F', age=37, sportivite=3.7945508511919375, velo_perf_minimale=0.4),\n",
       " Row(id=5670, vitesse_a_pied=0.26683243408717217, vitesse_a_velo=0.6670810852179304, home='(lon:38.33 lat:7.55)', travail='(lon:9.33 lat:4.22)', sportif=False, casseur=False, statut='éboueur', salaire=21296.96410223492, sexe='F', age=33, sportivite=1.3341621704358608, velo_perf_minimale=0.4),\n",
       " Row(id=5673, vitesse_a_pied=0.02, vitesse_a_velo=0.05, home='(lon:36.62 lat:22.76)', travail='(lon:35.06 lat:19.96)', sportif=False, casseur=False, statut='éboueur', salaire=20033.88258332259, sexe='F', age=54, sportivite=0.1, velo_perf_minimale=0.4),\n",
       " Row(id=5674, vitesse_a_pied=0.7796591090613868, vitesse_a_velo=1.949147772653467, home='(lon:34.39 lat:29.17)', travail='(lon:11.41 lat:17.36)', sportif=False, casseur=False, statut='employe', salaire=17892.95329230286, sexe='F', age=78, sportivite=3.898295545306934, velo_perf_minimale=0.4),\n",
       " Row(id=5675, vitesse_a_pied=0.44668454829103527, vitesse_a_velo=1.1167113707275882, home='(lon:17.53 lat:2.02)', travail='(lon:2.06 lat:26.23)', sportif=False, casseur=False, statut='reserviste', salaire=31282.211180708393, sexe='F', age=64, sportivite=2.2334227414551764, velo_perf_minimale=0.4),\n",
       " Row(id=5677, vitesse_a_pied=0.45644370828407965, vitesse_a_velo=1.141109270710199, home='(lon:18.97 lat:26.16)', travail='(lon:1.84 lat:24.22)', sportif=False, casseur=False, statut='technicien_de_surface', salaire=15807.385715666385, sexe='F', age=50, sportivite=2.282218541420398, velo_perf_minimale=0.4),\n",
       " Row(id=5679, vitesse_a_pied=0.5031683941157687, vitesse_a_velo=1.2579209852894218, home='(lon:15.43 lat:13.73)', travail='(lon:25.03 lat:42.95)', sportif=False, casseur=False, statut='reserviste', salaire=30247.13263314953, sexe='F', age=43, sportivite=2.5158419705788435, velo_perf_minimale=0.4),\n",
       " Row(id=5680, vitesse_a_pied=0.02, vitesse_a_velo=0.05, home='(lon:47.81 lat:26.88)', travail='(lon:48.01 lat:1.97)', sportif=False, casseur=False, statut='cadre', salaire=26111.208914890147, sexe='F', age=73, sportivite=0.1, velo_perf_minimale=0.4),\n",
       " Row(id=5682, vitesse_a_pied=0.7551762918675833, vitesse_a_velo=1.887940729668958, home='(lon:14.76 lat:30.79)', travail='(lon:27.22 lat:46.20)', sportif=False, casseur=False, statut='reserviste', salaire=33873.462321304956, sexe='F', age=64, sportivite=3.775881459337916, velo_perf_minimale=0.4),\n",
       " Row(id=5685, vitesse_a_pied=0.08011947378264077, vitesse_a_velo=0.20029868445660193, home='(lon:13.34 lat:35.73)', travail='(lon:44.05 lat:31.08)', sportif=False, casseur=False, statut='reserviste', salaire=34886.056415268984, sexe='F', age=47, sportivite=0.40059736891320386, velo_perf_minimale=0.4),\n",
       " Row(id=5688, vitesse_a_pied=0.6345995944920342, vitesse_a_velo=1.5864989862300856, home='(lon:10.65 lat:19.08)', travail='(lon:37.95 lat:37.75)', sportif=False, casseur=False, statut='technicien_de_surface', salaire=17684.647896414685, sexe='F', age=44, sportivite=3.172997972460171, velo_perf_minimale=0.4),\n",
       " Row(id=5691, vitesse_a_pied=0.8082270135003862, vitesse_a_velo=2.0205675337509654, home='(lon:42.94 lat:10.99)', travail='(lon:14.75 lat:36.37)', sportif=False, casseur=False, statut='technicien_de_surface', salaire=14089.34792089161, sexe='F', age=62, sportivite=4.041135067501931, velo_perf_minimale=0.4),\n",
       " Row(id=5693, vitesse_a_pied=0.4593984879230601, vitesse_a_velo=1.1484962198076503, home='(lon:44.60 lat:1.08)', travail='(lon:31.02 lat:47.60)', sportif=False, casseur=False, statut='technicien_de_surface', salaire=19340.27781152483, sexe='F', age=68, sportivite=2.2969924396153005, velo_perf_minimale=0.4),\n",
       " Row(id=5695, vitesse_a_pied=0.027991390202503918, vitesse_a_velo=0.0699784755062598, home='(lon:17.77 lat:33.57)', travail='(lon:3.13 lat:36.99)', sportif=False, casseur=False, statut='employe', salaire=32557.964856926144, sexe='F', age=62, sportivite=0.1399569510125196, velo_perf_minimale=0.4),\n",
       " Row(id=5697, vitesse_a_pied=0.9291665079325655, vitesse_a_velo=2.322916269831414, home='(lon:26.66 lat:14.39)', travail='(lon:42.85 lat:20.28)', sportif=False, casseur=False, statut='éboueur', salaire=17932.054277614643, sexe='F', age=69, sportivite=4.645832539662828, velo_perf_minimale=0.4),\n",
       " Row(id=5701, vitesse_a_pied=0.3689934087658156, vitesse_a_velo=0.9224835219145391, home='(lon:36.21 lat:31.00)', travail='(lon:26.54 lat:22.32)', sportif=False, casseur=False, statut='éboueur', salaire=12582.616652331768, sexe='F', age=76, sportivite=1.844967043829078, velo_perf_minimale=0.4),\n",
       " Row(id=5703, vitesse_a_pied=0.04402447333277637, vitesse_a_velo=0.11006118333194093, home='(lon:32.00 lat:45.51)', travail='(lon:26.72 lat:7.37)', sportif=False, casseur=False, statut='reserviste', salaire=31015.1642365126, sexe='F', age=84, sportivite=0.22012236666388185, velo_perf_minimale=0.4),\n",
       " Row(id=5704, vitesse_a_pied=0.02, vitesse_a_velo=0.05, home='(lon:31.00 lat:36.55)', travail='(lon:32.28 lat:18.58)', sportif=False, casseur=True, statut='cadre', salaire=37630.67734736526, sexe='F', age=48, sportivite=0.1, velo_perf_minimale=0.4),\n",
       " Row(id=5706, vitesse_a_pied=0.5126762435735506, vitesse_a_velo=1.2816906089338764, home='(lon:16.85 lat:45.70)', travail='(lon:11.01 lat:30.51)', sportif=False, casseur=False, statut='éboueur', salaire=16504.690019076137, sexe='F', age=25, sportivite=2.563381217867753, velo_perf_minimale=0.4),\n",
       " Row(id=5707, vitesse_a_pied=0.02, vitesse_a_velo=0.05, home='(lon:11.39 lat:37.57)', travail='(lon:23.85 lat:22.95)', sportif=False, casseur=False, statut='reserviste', salaire=22949.317580170253, sexe='F', age=84, sportivite=0.1, velo_perf_minimale=0.4),\n",
       " Row(id=5710, vitesse_a_pied=0.24563567856504614, vitesse_a_velo=0.6140891964126154, home='(lon:10.20 lat:23.00)', travail='(lon:18.95 lat:35.42)', sportif=False, casseur=False, statut='cadre', salaire=40791.28478110689, sexe='F', age=84, sportivite=1.2281783928252308, velo_perf_minimale=0.4),\n",
       " Row(id=5715, vitesse_a_pied=0.8644597340437574, vitesse_a_velo=2.1611493351093936, home='(lon:9.27 lat:41.75)', travail='(lon:42.88 lat:11.22)', sportif=False, casseur=False, statut='professeur', salaire=20463.593770964475, sexe='F', age=58, sportivite=4.322298670218787, velo_perf_minimale=0.4),\n",
       " Row(id=5716, vitesse_a_pied=0.9060081975000112, vitesse_a_velo=2.265020493750028, home='(lon:34.61 lat:45.39)', travail='(lon:16.76 lat:1.90)', sportif=False, casseur=False, statut='employe', salaire=25532.404223270976, sexe='F', age=54, sportivite=4.530040987500056, velo_perf_minimale=0.4),\n",
       " Row(id=5717, vitesse_a_pied=0.11467544064796789, vitesse_a_velo=0.2866886016199197, home='(lon:25.27 lat:26.30)', travail='(lon:31.80 lat:48.21)', sportif=False, casseur=False, statut='professeur', salaire=24036.785616569316, sexe='F', age=43, sportivite=0.5733772032398394, velo_perf_minimale=0.4),\n",
       " Row(id=5718, vitesse_a_pied=0.17996248122437222, vitesse_a_velo=0.44990620306093054, home='(lon:0.07 lat:26.71)', travail='(lon:29.68 lat:7.97)', sportif=False, casseur=False, statut='technicien_de_surface', salaire=18484.374167528338, sexe='F', age=65, sportivite=0.8998124061218611, velo_perf_minimale=0.4),\n",
       " Row(id=5719, vitesse_a_pied=0.5345476885617901, vitesse_a_velo=1.3363692214044753, home='(lon:36.45 lat:5.39)', travail='(lon:38.90 lat:21.70)', sportif=False, casseur=False, statut='reserviste', salaire=39781.251634001055, sexe='F', age=58, sportivite=2.6727384428089507, velo_perf_minimale=0.4),\n",
       " Row(id=5720, vitesse_a_pied=0.30226050443361846, vitesse_a_velo=0.7556512610840461, home='(lon:17.58 lat:21.69)', travail='(lon:22.21 lat:18.10)', sportif=False, casseur=False, statut='technicien_de_surface', salaire=17231.216926648092, sexe='F', age=60, sportivite=1.5113025221680922, velo_perf_minimale=0.4),\n",
       " Row(id=5721, vitesse_a_pied=0.4232863785717673, vitesse_a_velo=1.0582159464294183, home='(lon:37.29 lat:32.42)', travail='(lon:23.40 lat:4.82)', sportif=False, casseur=False, statut='professeur', salaire=13034.530513050857, sexe='F', age=72, sportivite=2.1164318928588366, velo_perf_minimale=0.4),\n",
       " Row(id=5723, vitesse_a_pied=0.2821179301315467, vitesse_a_velo=0.7052948253288667, home='(lon:17.37 lat:43.98)', travail='(lon:4.35 lat:9.08)', sportif=False, casseur=False, statut='technicien_de_surface', salaire=22745.84092068776, sexe='F', age=84, sportivite=1.4105896506577333, velo_perf_minimale=0.4),\n",
       " Row(id=5724, vitesse_a_pied=0.3966579986224211, vitesse_a_velo=0.9916449965560528, home='(lon:8.26 lat:48.52)', travail='(lon:46.09 lat:45.90)', sportif=False, casseur=False, statut='reserviste', salaire=39317.533163250424, sexe='F', age=49, sportivite=1.9832899931121055, velo_perf_minimale=0.4),\n",
       " Row(id=5725, vitesse_a_pied=0.9040958916672203, vitesse_a_velo=2.2602397291680507, home='(lon:11.68 lat:47.91)', travail='(lon:35.25 lat:12.82)', sportif=False, casseur=False, statut='cadre', salaire=39042.07165562923, sexe='F', age=22, sportivite=4.520479458336101, velo_perf_minimale=0.4),\n",
       " Row(id=5726, vitesse_a_pied=0.7074275244621115, vitesse_a_velo=1.7685688111552789, home='(lon:1.48 lat:24.68)', travail='(lon:39.20 lat:9.65)', sportif=False, casseur=False, statut='reserviste', salaire=32064.653550439936, sexe='F', age=50, sportivite=3.5371376223105577, velo_perf_minimale=0.4),\n",
       " Row(id=5727, vitesse_a_pied=1.000818086104657, vitesse_a_velo=2.502045215261642, home='(lon:47.20 lat:44.69)', travail='(lon:20.37 lat:46.66)', sportif=False, casseur=False, statut='cadre', salaire=32893.926762053125, sexe='F', age=29, sportivite=5.004090430523284, velo_perf_minimale=0.4),\n",
       " Row(id=5728, vitesse_a_pied=0.6179314447213716, vitesse_a_velo=1.5448286118034291, home='(lon:39.63 lat:11.21)', travail='(lon:24.55 lat:28.43)', sportif=False, casseur=False, statut='professeur', salaire=24624.631949247378, sexe='F', age=28, sportivite=3.0896572236068582, velo_perf_minimale=0.4),\n",
       " Row(id=5730, vitesse_a_pied=0.9124440746468212, vitesse_a_velo=2.281110186617053, home='(lon:24.27 lat:47.73)', travail='(lon:25.40 lat:5.39)', sportif=False, casseur=False, statut='reserviste', salaire=21677.78644625172, sexe='F', age=20, sportivite=4.562220373234106, velo_perf_minimale=0.4),\n",
       " Row(id=5732, vitesse_a_pied=1.0884309199884328, vitesse_a_velo=2.721077299971082, home='(lon:41.13 lat:9.98)', travail='(lon:27.05 lat:1.25)', sportif=False, casseur=False, statut='employe', salaire=27736.3168599567, sexe='F', age=69, sportivite=5.442154599942164, velo_perf_minimale=0.4),\n",
       " Row(id=5735, vitesse_a_pied=0.22862299482797938, vitesse_a_velo=0.5715574870699485, home='(lon:27.64 lat:39.73)', travail='(lon:7.83 lat:34.68)', sportif=False, casseur=False, statut='employe', salaire=14663.89192406506, sexe='F', age=84, sportivite=1.143114974139897, velo_perf_minimale=0.4),\n",
       " Row(id=5737, vitesse_a_pied=0.5021120979214344, vitesse_a_velo=1.255280244803586, home='(lon:23.25 lat:17.14)', travail='(lon:34.34 lat:37.88)', sportif=False, casseur=False, statut='cadre', salaire=31429.168123679992, sexe='F', age=41, sportivite=2.510560489607172, velo_perf_minimale=0.4),\n",
       " Row(id=5740, vitesse_a_pied=0.24606067900891734, vitesse_a_velo=0.6151516975222934, home='(lon:14.79 lat:19.04)', travail='(lon:19.50 lat:4.25)', sportif=False, casseur=False, statut='éboueur', salaire=18001.46181215169, sexe='F', age=54, sportivite=1.2303033950445867, velo_perf_minimale=0.4),\n",
       " Row(id=5741, vitesse_a_pied=1.025418427702408, vitesse_a_velo=2.56354606925602, home='(lon:10.48 lat:10.84)', travail='(lon:4.22 lat:47.74)', sportif=False, casseur=False, statut='éboueur', salaire=22299.610295164497, sexe='F', age=47, sportivite=5.12709213851204, velo_perf_minimale=0.4),\n",
       " Row(id=5743, vitesse_a_pied=0.02, vitesse_a_velo=0.05, home='(lon:10.59 lat:48.56)', travail='(lon:9.15 lat:6.50)', sportif=False, casseur=False, statut='technicien_de_surface', salaire=25478.446272398192, sexe='F', age=63, sportivite=0.1, velo_perf_minimale=0.4),\n",
       " Row(id=5744, vitesse_a_pied=0.12440220623007062, vitesse_a_velo=0.3110055155751765, home='(lon:14.47 lat:28.34)', travail='(lon:1.93 lat:21.11)', sportif=False, casseur=False, statut='employe', salaire=25524.62006998167, sexe='F', age=61, sportivite=0.622011031150353, velo_perf_minimale=0.4),\n",
       " Row(id=5747, vitesse_a_pied=0.34528583404346325, vitesse_a_velo=0.863214585108658, home='(lon:3.70 lat:16.72)', travail='(lon:13.55 lat:5.94)', sportif=False, casseur=False, statut='éboueur', salaire=12915.611710868608, sexe='F', age=79, sportivite=1.7264291702173162, velo_perf_minimale=0.4),\n",
       " Row(id=5749, vitesse_a_pied=0.471060151458569, vitesse_a_velo=1.1776503786464225, home='(lon:35.72 lat:43.83)', travail='(lon:32.41 lat:28.44)', sportif=False, casseur=False, statut='professeur', salaire=26255.30156024432, sexe='F', age=18, sportivite=2.355300757292845, velo_perf_minimale=0.4),\n",
       " Row(id=5753, vitesse_a_pied=0.24482068957085618, vitesse_a_velo=0.6120517239271405, home='(lon:22.68 lat:32.78)', travail='(lon:2.07 lat:7.03)', sportif=False, casseur=False, statut='professeur', salaire=12248.809191554772, sexe='F', age=41, sportivite=1.224103447854281, velo_perf_minimale=0.4),\n",
       " Row(id=5758, vitesse_a_pied=0.2960464413923528, vitesse_a_velo=0.7401161034808821, home='(lon:31.76 lat:12.24)', travail='(lon:43.29 lat:21.12)', sportif=False, casseur=False, statut='professeur', salaire=29904.490646435508, sexe='F', age=80, sportivite=1.4802322069617642, velo_perf_minimale=0.4),\n",
       " Row(id=5759, vitesse_a_pied=0.2604159417922512, vitesse_a_velo=0.651039854480628, home='(lon:44.42 lat:36.57)', travail='(lon:0.34 lat:17.60)', sportif=False, casseur=False, statut='éboueur', salaire=22071.027249514926, sexe='F', age=82, sportivite=1.302079708961256, velo_perf_minimale=0.4),\n",
       " Row(id=5760, vitesse_a_pied=0.20643872526718415, vitesse_a_velo=0.5160968131679604, home='(lon:37.15 lat:46.64)', travail='(lon:15.62 lat:11.10)', sportif=False, casseur=False, statut='employe', salaire=27834.756657372804, sexe='F', age=46, sportivite=1.0321936263359208, velo_perf_minimale=0.4),\n",
       " Row(id=5763, vitesse_a_pied=0.1960522039335646, vitesse_a_velo=0.49013050983391154, home='(lon:24.84 lat:2.75)', travail='(lon:44.92 lat:7.19)', sportif=False, casseur=False, statut='reserviste', salaire=26520.894020976986, sexe='F', age=58, sportivite=0.980261019667823, velo_perf_minimale=0.4),\n",
       " Row(id=5764, vitesse_a_pied=0.2804189608340654, vitesse_a_velo=0.7010474020851636, home='(lon:28.20 lat:4.43)', travail='(lon:46.11 lat:28.59)', sportif=False, casseur=False, statut='professeur', salaire=18986.037995545856, sexe='F', age=45, sportivite=1.4020948041703272, velo_perf_minimale=0.4),\n",
       " Row(id=5765, vitesse_a_pied=0.7138712591737498, vitesse_a_velo=1.7846781479343747, home='(lon:7.85 lat:31.18)', travail='(lon:38.58 lat:6.75)', sportif=False, casseur=True, statut='professeur', salaire=21119.72802927799, sexe='F', age=52, sportivite=3.569356295868749, velo_perf_minimale=0.4),\n",
       " Row(id=5774, vitesse_a_pied=0.7983589774384319, vitesse_a_velo=1.9958974435960797, home='(lon:24.12 lat:0.55)', travail='(lon:12.95 lat:40.21)', sportif=False, casseur=False, statut='professeur', salaire=20329.625969107703, sexe='F', age=31, sportivite=3.9917948871921594, velo_perf_minimale=0.4),\n",
       " Row(id=5776, vitesse_a_pied=0.07723542289297299, vitesse_a_velo=0.19308855723243246, home='(lon:30.23 lat:5.39)', travail='(lon:12.74 lat:34.83)', sportif=False, casseur=False, statut='cadre', salaire=28090.61658865556, sexe='F', age=26, sportivite=0.3861771144648649, velo_perf_minimale=0.4),\n",
       " Row(id=5778, vitesse_a_pied=0.9603087654280745, vitesse_a_velo=2.4007719135701864, home='(lon:24.02 lat:36.73)', travail='(lon:41.29 lat:40.02)', sportif=False, casseur=False, statut='reserviste', salaire=30238.21644283179, sexe='F', age=61, sportivite=4.801543827140373, velo_perf_minimale=0.4),\n",
       " Row(id=5779, vitesse_a_pied=0.29985048775364065, vitesse_a_velo=0.7496262193841017, home='(lon:24.80 lat:41.44)', travail='(lon:34.61 lat:13.30)', sportif=False, casseur=False, statut='cadre', salaire=33325.54292128016, sexe='F', age=54, sportivite=1.4992524387682034, velo_perf_minimale=0.4),\n",
       " Row(id=5780, vitesse_a_pied=0.325212886409265, vitesse_a_velo=0.8130322160231624, home='(lon:45.71 lat:12.25)', travail='(lon:12.75 lat:4.15)', sportif=False, casseur=False, statut='éboueur', salaire=22082.57730031482, sexe='F', age=37, sportivite=1.626064432046325, velo_perf_minimale=0.4),\n",
       " Row(id=5782, vitesse_a_pied=1.1285020902518046, vitesse_a_velo=2.8212552256295114, home='(lon:47.12 lat:32.42)', travail='(lon:42.89 lat:27.16)', sportif=False, casseur=False, statut='technicien_de_surface', salaire=15511.964327672118, sexe='F', age=38, sportivite=5.642510451259023, velo_perf_minimale=0.4),\n",
       " Row(id=5787, vitesse_a_pied=0.02, vitesse_a_velo=0.05, home='(lon:20.93 lat:17.38)', travail='(lon:24.50 lat:45.71)', sportif=False, casseur=False, statut='éboueur', salaire=24492.929294180813, sexe='F', age=17, sportivite=0.1, velo_perf_minimale=0.4),\n",
       " Row(id=5788, vitesse_a_pied=1.229124785492192, vitesse_a_velo=3.07281196373048, home='(lon:17.52 lat:22.39)', travail='(lon:9.66 lat:1.44)', sportif=False, casseur=False, statut='employe', salaire=21544.47685158256, sexe='F', age=54, sportivite=6.14562392746096, velo_perf_minimale=0.4),\n",
       " Row(id=5791, vitesse_a_pied=0.601709689531562, vitesse_a_velo=1.504274223828905, home='(lon:24.29 lat:25.99)', travail='(lon:47.29 lat:31.03)', sportif=False, casseur=False, statut='employe', salaire=24814.376867731997, sexe='F', age=40, sportivite=3.00854844765781, velo_perf_minimale=0.4),\n",
       " Row(id=5792, vitesse_a_pied=0.6176507551141992, vitesse_a_velo=1.5441268877854981, home='(lon:6.41 lat:12.10)', travail='(lon:29.30 lat:2.39)', sportif=False, casseur=False, statut='cadre', salaire=38798.762580581555, sexe='F', age=42, sportivite=3.0882537755709962, velo_perf_minimale=0.4),\n",
       " Row(id=5794, vitesse_a_pied=0.7440875155822673, vitesse_a_velo=1.860218788955668, home='(lon:19.20 lat:7.22)', travail='(lon:17.67 lat:39.57)', sportif=False, casseur=False, statut='cadre', salaire=16826.10804510672, sexe='F', age=44, sportivite=3.720437577911336, velo_perf_minimale=0.4),\n",
       " Row(id=5796, vitesse_a_pied=0.29713802615785456, vitesse_a_velo=0.7428450653946364, home='(lon:13.03 lat:2.06)', travail='(lon:38.73 lat:6.41)', sportif=False, casseur=False, statut='professeur', salaire=21167.503107422166, sexe='F', age=77, sportivite=1.4856901307892727, velo_perf_minimale=0.4),\n",
       " Row(id=5799, vitesse_a_pied=0.8534527611234963, vitesse_a_velo=2.133631902808741, home='(lon:44.67 lat:2.98)', travail='(lon:14.57 lat:43.13)', sportif=False, casseur=False, statut='reserviste', salaire=28187.507643931778, sexe='F', age=77, sportivite=4.267263805617482, velo_perf_minimale=0.4),\n",
       " Row(id=5806, vitesse_a_pied=0.9226044843428383, vitesse_a_velo=2.3065112108570958, home='(lon:4.23 lat:5.41)', travail='(lon:7.22 lat:23.43)', sportif=False, casseur=False, statut='cadre', salaire=31968.695225760384, sexe='F', age=56, sportivite=4.6130224217141915, velo_perf_minimale=0.4),\n",
       " Row(id=5807, vitesse_a_pied=0.02, vitesse_a_velo=0.05, home='(lon:48.42 lat:10.81)', travail='(lon:28.83 lat:10.07)', sportif=False, casseur=False, statut='technicien_de_surface', salaire=13043.372488021916, sexe='F', age=81, sportivite=0.1, velo_perf_minimale=0.4),\n",
       " Row(id=5810, vitesse_a_pied=1.7367145413390783, vitesse_a_velo=4.341786353347696, home='(lon:0.47 lat:1.04)', travail='(lon:9.67 lat:48.35)', sportif=False, casseur=False, statut='technicien_de_surface', salaire=18290.354293186196, sexe='F', age=28, sportivite=8.683572706695392, velo_perf_minimale=0.4),\n",
       " Row(id=5812, vitesse_a_pied=0.6267189705621833, vitesse_a_velo=1.5667974264054583, home='(lon:4.06 lat:14.82)', travail='(lon:31.77 lat:33.79)', sportif=False, casseur=False, statut='professeur', salaire=21529.480909504444, sexe='F', age=55, sportivite=3.1335948528109165, velo_perf_minimale=0.4),\n",
       " Row(id=5813, vitesse_a_pied=0.6382690237180995, vitesse_a_velo=1.5956725592952488, home='(lon:30.17 lat:2.74)', travail='(lon:37.56 lat:22.82)', sportif=False, casseur=False, statut='cadre', salaire=26155.1596784927, sexe='F', age=68, sportivite=3.1913451185904975, velo_perf_minimale=0.4),\n",
       " Row(id=5814, vitesse_a_pied=0.7571349480650029, vitesse_a_velo=1.8928373701625074, home='(lon:7.73 lat:33.43)', travail='(lon:7.71 lat:2.57)', sportif=False, casseur=False, statut='professeur', salaire=22692.06664303308, sexe='F', age=68, sportivite=3.7856747403250144, velo_perf_minimale=0.4),\n",
       " Row(id=5815, vitesse_a_pied=0.14653134035123255, vitesse_a_velo=0.36632835087808135, home='(lon:11.51 lat:11.41)', travail='(lon:16.58 lat:10.17)', sportif=False, casseur=False, statut='professeur', salaire=25837.203844124775, sexe='F', age=44, sportivite=0.7326567017561627, velo_perf_minimale=0.4),\n",
       " Row(id=5817, vitesse_a_pied=0.8383862769558276, vitesse_a_velo=2.095965692389569, home='(lon:20.33 lat:38.97)', travail='(lon:36.38 lat:5.50)', sportif=False, casseur=False, statut='éboueur', salaire=22833.769295433507, sexe='F', age=63, sportivite=4.191931384779138, velo_perf_minimale=0.4),\n",
       " Row(id=5818, vitesse_a_pied=1.2444959117395582, vitesse_a_velo=3.1112397793488955, home='(lon:14.70 lat:16.57)', travail='(lon:22.28 lat:13.64)', sportif=False, casseur=False, statut='cadre', salaire=35464.295942801065, sexe='F', age=59, sportivite=6.222479558697791, velo_perf_minimale=0.4),\n",
       " Row(id=5819, vitesse_a_pied=0.38480605821836183, vitesse_a_velo=0.9620151455459046, home='(lon:10.89 lat:37.68)', travail='(lon:26.28 lat:12.18)', sportif=False, casseur=False, statut='professeur', salaire=23036.123633112766, sexe='F', age=51, sportivite=1.9240302910918092, velo_perf_minimale=0.4),\n",
       " Row(id=5827, vitesse_a_pied=0.5241970230678855, vitesse_a_velo=1.3104925576697137, home='(lon:24.77 lat:42.35)', travail='(lon:21.31 lat:21.67)', sportif=False, casseur=False, statut='cadre', salaire=34486.31166698678, sexe='F', age=53, sportivite=2.6209851153394275, velo_perf_minimale=0.4),\n",
       " Row(id=5828, vitesse_a_pied=0.07164273972612598, vitesse_a_velo=0.17910684931531495, home='(lon:29.55 lat:14.54)', travail='(lon:33.35 lat:4.81)', sportif=False, casseur=False, statut='éboueur', salaire=15017.526025650324, sexe='F', age=44, sportivite=0.3582136986306299, velo_perf_minimale=0.4),\n",
       " Row(id=5830, vitesse_a_pied=0.4790520659019607, vitesse_a_velo=1.1976301647549017, home='(lon:43.10 lat:4.18)', travail='(lon:46.93 lat:27.65)', sportif=False, casseur=False, statut='reserviste', salaire=26990.388445878703, sexe='F', age=75, sportivite=2.3952603295098034, velo_perf_minimale=0.4),\n",
       " Row(id=5835, vitesse_a_pied=0.6371104069346138, vitesse_a_velo=1.5927760173365346, home='(lon:39.34 lat:37.12)', travail='(lon:9.05 lat:10.81)', sportif=False, casseur=False, statut='cadre', salaire=27231.97681963231, sexe='F', age=74, sportivite=3.1855520346730692, velo_perf_minimale=0.4),\n",
       " Row(id=5839, vitesse_a_pied=1.2107635116330635, vitesse_a_velo=3.026908779082659, home='(lon:1.60 lat:27.22)', travail='(lon:19.66 lat:31.23)', sportif=False, casseur=False, statut='technicien_de_surface', salaire=19621.183192120643, sexe='F', age=64, sportivite=6.053817558165318, velo_perf_minimale=0.4),\n",
       " Row(id=5840, vitesse_a_pied=0.02, vitesse_a_velo=0.05, home='(lon:31.56 lat:37.44)', travail='(lon:17.34 lat:40.42)', sportif=False, casseur=False, statut='cadre', salaire=25006.78509274169, sexe='F', age=60, sportivite=0.1, velo_perf_minimale=0.4),\n",
       " Row(id=5843, vitesse_a_pied=0.22343461636586853, vitesse_a_velo=0.5585865409146713, home='(lon:25.75 lat:9.39)', travail='(lon:4.14 lat:44.74)', sportif=False, casseur=False, statut='professeur', salaire=18901.485204111686, sexe='F', age=67, sportivite=1.1171730818293426, velo_perf_minimale=0.4),\n",
       " Row(id=5846, vitesse_a_pied=0.6995472421715798, vitesse_a_velo=1.7488681054289494, home='(lon:25.49 lat:10.31)', travail='(lon:40.70 lat:40.13)', sportif=False, casseur=False, statut='employe', salaire=21086.719584683557, sexe='F', age=32, sportivite=3.497736210857899, velo_perf_minimale=0.4),\n",
       " Row(id=5849, vitesse_a_pied=0.9239620898447483, vitesse_a_velo=2.3099052246118705, home='(lon:5.91 lat:32.42)', travail='(lon:13.33 lat:30.15)', sportif=False, casseur=False, statut='employe', salaire=24668.653220208507, sexe='F', age=82, sportivite=4.619810449223741, velo_perf_minimale=0.4),\n",
       " Row(id=5850, vitesse_a_pied=0.06068211761651741, vitesse_a_velo=0.15170529404129351, home='(lon:39.71 lat:24.92)', travail='(lon:17.28 lat:28.79)', sportif=False, casseur=False, statut='reserviste', salaire=25076.301267081188, sexe='F', age=70, sportivite=0.30341058808258703, velo_perf_minimale=0.4),\n",
       " Row(id=5851, vitesse_a_pied=0.2409227330438008, vitesse_a_velo=0.602306832609502, home='(lon:41.98 lat:28.47)', travail='(lon:1.91 lat:6.46)', sportif=False, casseur=False, statut='technicien_de_surface', salaire=18430.489622458306, sexe='F', age=71, sportivite=1.204613665219004, velo_perf_minimale=0.4),\n",
       " Row(id=5852, vitesse_a_pied=0.02, vitesse_a_velo=0.05, home='(lon:14.22 lat:21.80)', travail='(lon:8.59 lat:45.12)', sportif=False, casseur=False, statut='technicien_de_surface', salaire=16616.662714142156, sexe='F', age=17, sportivite=0.1, velo_perf_minimale=0.4),\n",
       " Row(id=5855, vitesse_a_pied=1.4035763435457864, vitesse_a_velo=3.5089408588644657, home='(lon:33.80 lat:9.19)', travail='(lon:7.54 lat:22.29)', sportif=False, casseur=False, statut='employe', salaire=21579.02659934946, sexe='F', age=23, sportivite=7.017881717728932, velo_perf_minimale=0.4),\n",
       " Row(id=5857, vitesse_a_pied=0.1520567533058271, vitesse_a_velo=0.38014188326456777, home='(lon:23.15 lat:13.90)', travail='(lon:30.54 lat:28.73)', sportif=False, casseur=False, statut='technicien_de_surface', salaire=25092.869990972617, sexe='F', age=44, sportivite=0.7602837665291355, velo_perf_minimale=0.4),\n",
       " Row(id=5859, vitesse_a_pied=0.1596258045467517, vitesse_a_velo=0.39906451136687926, home='(lon:4.29 lat:24.02)', travail='(lon:38.92 lat:8.29)', sportif=False, casseur=False, statut='cadre', salaire=42347.95887243344, sexe='F', age=84, sportivite=0.7981290227337585, velo_perf_minimale=0.4),\n",
       " Row(id=5860, vitesse_a_pied=0.44957521751805674, vitesse_a_velo=1.1239380437951418, home='(lon:0.09 lat:0.29)', travail='(lon:19.71 lat:44.52)', sportif=False, casseur=False, statut='employe', salaire=24214.423369877484, sexe='F', age=49, sportivite=2.2478760875902837, velo_perf_minimale=0.4),\n",
       " Row(id=5863, vitesse_a_pied=0.6703579256171377, vitesse_a_velo=1.6758948140428445, home='(lon:48.58 lat:29.12)', travail='(lon:12.36 lat:36.75)', sportif=False, casseur=False, statut='reserviste', salaire=20224.51237039082, sexe='F', age=52, sportivite=3.3517896280856885, velo_perf_minimale=0.4),\n",
       " Row(id=5864, vitesse_a_pied=0.44712721088592283, vitesse_a_velo=1.117818027214807, home='(lon:8.59 lat:34.27)', travail='(lon:45.00 lat:31.51)', sportif=False, casseur=False, statut='technicien_de_surface', salaire=15766.680811301118, sexe='F', age=55, sportivite=2.235636054429614, velo_perf_minimale=0.4),\n",
       " Row(id=5869, vitesse_a_pied=0.5646422219375551, vitesse_a_velo=1.4116055548438877, home='(lon:41.78 lat:4.55)', travail='(lon:37.59 lat:0.64)', sportif=False, casseur=False, statut='cadre', salaire=38873.896983295155, sexe='F', age=41, sportivite=2.8232111096877754, velo_perf_minimale=0.4),\n",
       " Row(id=5870, vitesse_a_pied=0.02, vitesse_a_velo=0.05, home='(lon:33.28 lat:7.88)', travail='(lon:42.00 lat:18.02)', sportif=False, casseur=False, statut='employe', salaire=13824.66277263129, sexe='F', age=32, sportivite=0.1, velo_perf_minimale=0.4),\n",
       " Row(id=5873, vitesse_a_pied=0.8815450048746364, vitesse_a_velo=2.203862512186591, home='(lon:33.37 lat:28.74)', travail='(lon:38.56 lat:3.21)', sportif=False, casseur=False, statut='technicien_de_surface', salaire=25079.713851890152, sexe='F', age=46, sportivite=4.407725024373182, velo_perf_minimale=0.4),\n",
       " Row(id=5874, vitesse_a_pied=0.5591788829410075, vitesse_a_velo=1.3979472073525188, home='(lon:7.57 lat:0.98)', travail='(lon:19.45 lat:27.22)', sportif=False, casseur=False, statut='technicien_de_surface', salaire=15761.846194105658, sexe='F', age=67, sportivite=2.7958944147050375, velo_perf_minimale=0.4),\n",
       " Row(id=5876, vitesse_a_pied=1.1071081199174018, vitesse_a_velo=2.7677702997935043, home='(lon:46.03 lat:23.66)', travail='(lon:29.66 lat:6.27)', sportif=False, casseur=False, statut='professeur', salaire=15086.383866696213, sexe='F', age=29, sportivite=5.535540599587009, velo_perf_minimale=0.4),\n",
       " Row(id=5877, vitesse_a_pied=0.06614102707950162, vitesse_a_velo=0.16535256769875406, home='(lon:34.31 lat:38.72)', travail='(lon:47.70 lat:7.88)', sportif=False, casseur=False, statut='technicien_de_surface', salaire=18553.292569786936, sexe='F', age=32, sportivite=0.3307051353975081, velo_perf_minimale=0.4),\n",
       " Row(id=5879, vitesse_a_pied=0.02, vitesse_a_velo=0.05, home='(lon:26.06 lat:3.24)', travail='(lon:25.85 lat:20.72)', sportif=False, casseur=False, statut='cadre', salaire=53000.61637725879, sexe='F', age=73, sportivite=0.1, velo_perf_minimale=0.4),\n",
       " Row(id=5881, vitesse_a_pied=0.02, vitesse_a_velo=0.05, home='(lon:26.58 lat:42.09)', travail='(lon:42.54 lat:0.68)', sportif=False, casseur=False, statut='reserviste', salaire=24873.566837154016, sexe='F', age=16, sportivite=0.1, velo_perf_minimale=0.4),\n",
       " Row(id=5882, vitesse_a_pied=0.70630199413039, vitesse_a_velo=1.7657549853259749, home='(lon:20.65 lat:8.79)', travail='(lon:33.20 lat:46.37)', sportif=False, casseur=False, statut='employe', salaire=16787.601556728583, sexe='F', age=23, sportivite=3.5315099706519497, velo_perf_minimale=0.4),\n",
       " Row(id=5884, vitesse_a_pied=0.5780092145933617, vitesse_a_velo=1.4450230364834045, home='(lon:17.26 lat:8.87)', travail='(lon:7.02 lat:20.13)', sportif=False, casseur=False, statut='technicien_de_surface', salaire=17512.800116215523, sexe='F', age=56, sportivite=2.890046072966809, velo_perf_minimale=0.4),\n",
       " Row(id=5885, vitesse_a_pied=1.106068100758831, vitesse_a_velo=2.7651702518970778, home='(lon:14.34 lat:11.52)', travail='(lon:27.66 lat:41.63)', sportif=False, casseur=False, statut='éboueur', salaire=20444.415055805453, sexe='F', age=82, sportivite=5.5303405037941555, velo_perf_minimale=0.4),\n",
       " Row(id=5886, vitesse_a_pied=0.26957560371467, vitesse_a_velo=0.6739390092866749, home='(lon:6.17 lat:4.49)', travail='(lon:25.58 lat:24.72)', sportif=False, casseur=True, statut='cadre', salaire=45866.84243437149, sexe='F', age=30, sportivite=1.3478780185733499, velo_perf_minimale=0.4),\n",
       " Row(id=5890, vitesse_a_pied=0.22502482102844304, vitesse_a_velo=0.5625620525711076, home='(lon:14.05 lat:17.02)', travail='(lon:48.16 lat:23.46)', sportif=False, casseur=False, statut='cadre', salaire=40920.32962753142, sexe='F', age=58, sportivite=1.1251241051422152, velo_perf_minimale=0.4),\n",
       " Row(id=5894, vitesse_a_pied=0.06000000000000001, vitesse_a_velo=0.15, home='(lon:13.22 lat:17.53)', travail='(lon:47.61 lat:8.21)', sportif=True, casseur=False, statut='technicien_de_surface', salaire=21473.43925002607, sexe='F', age=52, sportivite=0.1, velo_perf_minimale=0.5),\n",
       " Row(id=5896, vitesse_a_pied=0.08519833376090657, vitesse_a_velo=0.21299583440226644, home='(lon:39.64 lat:15.24)', travail='(lon:43.15 lat:17.26)', sportif=False, casseur=False, statut='technicien_de_surface', salaire=17044.218872799942, sexe='F', age=72, sportivite=0.4259916688045329, velo_perf_minimale=0.4),\n",
       " Row(id=5897, vitesse_a_pied=0.5069367083369329, vitesse_a_velo=1.2673417708423322, home='(lon:35.80 lat:23.62)', travail='(lon:24.16 lat:5.81)', sportif=False, casseur=False, statut='cadre', salaire=21879.33296512394, sexe='F', age=48, sportivite=2.5346835416846645, velo_perf_minimale=0.4),\n",
       " Row(id=5899, vitesse_a_pied=0.49562572276258043, vitesse_a_velo=1.239064306906451, home='(lon:0.88 lat:22.59)', travail='(lon:35.93 lat:26.84)', sportif=False, casseur=False, statut='technicien_de_surface', salaire=17972.1601902556, sexe='F', age=37, sportivite=2.478128613812902, velo_perf_minimale=0.4),\n",
       " Row(id=5900, vitesse_a_pied=0.6560756325204876, vitesse_a_velo=1.640189081301219, home='(lon:3.78 lat:1.79)', travail='(lon:41.06 lat:43.64)', sportif=False, casseur=False, statut='professeur', salaire=27357.112265218544, sexe='F', age=73, sportivite=3.280378162602438, velo_perf_minimale=0.4),\n",
       " Row(id=5902, vitesse_a_pied=0.7026836128329077, vitesse_a_velo=1.7567090320822694, home='(lon:43.55 lat:6.74)', travail='(lon:32.91 lat:39.08)', sportif=False, casseur=False, statut='reserviste', salaire=38310.07874211327, sexe='F', age=39, sportivite=3.5134180641645383, velo_perf_minimale=0.4),\n",
       " Row(id=5905, vitesse_a_pied=0.7235663533000921, vitesse_a_velo=1.8089158832502303, home='(lon:23.16 lat:9.37)', travail='(lon:42.05 lat:2.25)', sportif=False, casseur=False, statut='cadre', salaire=24524.915499337356, sexe='F', age=60, sportivite=3.6178317665004607, velo_perf_minimale=0.4),\n",
       " Row(id=5906, vitesse_a_pied=0.7573298126615654, vitesse_a_velo=1.8933245316539136, home='(lon:15.15 lat:36.94)', travail='(lon:42.77 lat:28.73)', sportif=False, casseur=False, statut='cadre', salaire=42883.94054635448, sexe='F', age=40, sportivite=3.786649063307827, velo_perf_minimale=0.4),\n",
       " Row(id=5908, vitesse_a_pied=0.41125010247958355, vitesse_a_velo=1.028125256198959, home='(lon:19.64 lat:40.75)', travail='(lon:13.00 lat:20.25)', sportif=False, casseur=False, statut='employe', salaire=26525.46658524621, sexe='F', age=22, sportivite=2.056250512397918, velo_perf_minimale=0.4),\n",
       " Row(id=5910, vitesse_a_pied=0.02, vitesse_a_velo=0.05, home='(lon:39.88 lat:31.05)', travail='(lon:17.22 lat:13.11)', sportif=False, casseur=False, statut='professeur', salaire=21773.43828524802, sexe='F', age=79, sportivite=0.1, velo_perf_minimale=0.4),\n",
       " Row(id=5911, vitesse_a_pied=0.3162163844069937, vitesse_a_velo=0.7905409610174842, home='(lon:33.23 lat:7.90)', travail='(lon:8.08 lat:5.23)', sportif=False, casseur=False, statut='cadre', salaire=42952.75857544373, sexe='F', age=33, sportivite=1.5810819220349683, velo_perf_minimale=0.4),\n",
       " Row(id=5912, vitesse_a_pied=0.02, vitesse_a_velo=0.05, home='(lon:47.93 lat:18.28)', travail='(lon:13.28 lat:47.23)', sportif=False, casseur=False, statut='professeur', salaire=22413.603786241143, sexe='F', age=56, sportivite=0.1, velo_perf_minimale=0.4),\n",
       " Row(id=5914, vitesse_a_pied=0.02, vitesse_a_velo=0.05, home='(lon:7.43 lat:9.90)', travail='(lon:27.85 lat:20.46)', sportif=False, casseur=False, statut='éboueur', salaire=13171.835179049001, sexe='F', age=56, sportivite=0.1, velo_perf_minimale=0.4),\n",
       " Row(id=5917, vitesse_a_pied=0.02, vitesse_a_velo=0.05, home='(lon:19.95 lat:15.07)', travail='(lon:23.01 lat:34.05)', sportif=False, casseur=False, statut='éboueur', salaire=19005.99171183386, sexe='F', age=50, sportivite=0.1, velo_perf_minimale=0.4),\n",
       " Row(id=5919, vitesse_a_pied=0.7088559188261847, vitesse_a_velo=1.7721397970654618, home='(lon:16.31 lat:18.13)', travail='(lon:37.39 lat:27.07)', sportif=False, casseur=False, statut='professeur', salaire=14157.306981781341, sexe='F', age=26, sportivite=3.5442795941309235, velo_perf_minimale=0.4),\n",
       " Row(id=5920, vitesse_a_pied=0.02, vitesse_a_velo=0.05, home='(lon:48.20 lat:23.55)', travail='(lon:21.85 lat:2.94)', sportif=False, casseur=False, statut='éboueur', salaire=21036.02781850448, sexe='F', age=56, sportivite=0.1, velo_perf_minimale=0.4),\n",
       " Row(id=5921, vitesse_a_pied=0.07640308770171518, vitesse_a_velo=0.19100771925428794, home='(lon:32.78 lat:25.30)', travail='(lon:19.65 lat:20.35)', sportif=False, casseur=False, statut='professeur', salaire=18455.9845082819, sexe='F', age=43, sportivite=0.3820154385085759, velo_perf_minimale=0.4),\n",
       " Row(id=5922, vitesse_a_pied=0.3069263330590912, vitesse_a_velo=0.7673158326477281, home='(lon:9.82 lat:42.44)', travail='(lon:15.04 lat:21.95)', sportif=False, casseur=False, statut='éboueur', salaire=14671.377347225434, sexe='F', age=78, sportivite=1.5346316652954561, velo_perf_minimale=0.4),\n",
       " Row(id=5923, vitesse_a_pied=0.08297638134257061, vitesse_a_velo=0.20744095335642654, home='(lon:13.99 lat:22.86)', travail='(lon:2.67 lat:12.58)', sportif=False, casseur=False, statut='cadre', salaire=24107.2860847828, sexe='F', age=35, sportivite=0.4148819067128531, velo_perf_minimale=0.4),\n",
       " Row(id=5924, vitesse_a_pied=0.643793853597799, vitesse_a_velo=1.6094846339944975, home='(lon:23.28 lat:40.21)', travail='(lon:44.98 lat:47.35)', sportif=False, casseur=False, statut='professeur', salaire=23793.582216417868, sexe='F', age=47, sportivite=3.218969267988995, velo_perf_minimale=0.4),\n",
       " Row(id=5926, vitesse_a_pied=0.12666119367360418, vitesse_a_velo=0.31665298418401044, home='(lon:7.07 lat:0.61)', travail='(lon:8.72 lat:41.55)', sportif=False, casseur=False, statut='éboueur', salaire=17267.150561354905, sexe='F', age=68, sportivite=0.6333059683680209, velo_perf_minimale=0.4),\n",
       " Row(id=5928, vitesse_a_pied=0.6398060252839304, vitesse_a_velo=1.599515063209826, home='(lon:41.18 lat:18.24)', travail='(lon:29.27 lat:0.21)', sportif=False, casseur=False, statut='professeur', salaire=26188.626569315486, sexe='F', age=83, sportivite=3.199030126419652, velo_perf_minimale=0.4),\n",
       " Row(id=5930, vitesse_a_pied=0.02, vitesse_a_velo=0.05, home='(lon:48.13 lat:7.94)', travail='(lon:32.51 lat:21.83)', sportif=False, casseur=False, statut='reserviste', salaire=39774.38265806412, sexe='F', age=80, sportivite=0.1, velo_perf_minimale=0.4),\n",
       " Row(id=5931, vitesse_a_pied=0.31566103810391244, vitesse_a_velo=0.7891525952597811, home='(lon:36.49 lat:29.75)', travail='(lon:31.43 lat:34.09)', sportif=False, casseur=False, statut='employe', salaire=16493.010161321952, sexe='F', age=28, sportivite=1.5783051905195622, velo_perf_minimale=0.4),\n",
       " Row(id=5934, vitesse_a_pied=0.7589683405957232, vitesse_a_velo=1.8974208514893078, home='(lon:39.07 lat:7.42)', travail='(lon:15.34 lat:32.33)', sportif=False, casseur=False, statut='éboueur', salaire=14513.99968848394, sexe='F', age=53, sportivite=3.7948417029786157, velo_perf_minimale=0.4),\n",
       " Row(id=5936, vitesse_a_pied=0.02, vitesse_a_velo=0.05, home='(lon:8.15 lat:35.07)', travail='(lon:1.58 lat:3.36)', sportif=False, casseur=False, statut='employe', salaire=27241.16398981463, sexe='F', age=30, sportivite=0.1, velo_perf_minimale=0.4),\n",
       " Row(id=5941, vitesse_a_pied=0.02, vitesse_a_velo=0.05, home='(lon:35.40 lat:43.62)', travail='(lon:28.74 lat:40.69)', sportif=False, casseur=False, statut='employe', salaire=22996.55512730984, sexe='F', age=67, sportivite=0.1, velo_perf_minimale=0.4),\n",
       " Row(id=5942, vitesse_a_pied=0.37565244504095696, vitesse_a_velo=0.9391311126023926, home='(lon:3.97 lat:6.21)', travail='(lon:23.63 lat:1.91)', sportif=False, casseur=False, statut='reserviste', salaire=30386.43285291214, sexe='F', age=51, sportivite=1.878262225204785, velo_perf_minimale=0.4),\n",
       " Row(id=5944, vitesse_a_pied=0.4679741225266801, vitesse_a_velo=1.1699353063167002, home='(lon:4.55 lat:39.24)', travail='(lon:23.21 lat:34.87)', sportif=False, casseur=True, statut='technicien_de_surface', salaire=21349.976113752018, sexe='F', age=38, sportivite=2.3398706126334003, velo_perf_minimale=0.4),\n",
       " Row(id=5947, vitesse_a_pied=0.22507325879753276, vitesse_a_velo=0.5626831469938319, home='(lon:24.96 lat:39.82)', travail='(lon:26.19 lat:39.85)', sportif=False, casseur=False, statut='cadre', salaire=33837.79448871193, sexe='F', age=62, sportivite=1.1253662939876639, velo_perf_minimale=0.4),\n",
       " Row(id=5948, vitesse_a_pied=0.02, vitesse_a_velo=0.05, home='(lon:19.93 lat:46.27)', travail='(lon:26.74 lat:11.99)', sportif=False, casseur=False, statut='reserviste', salaire=32642.901368034505, sexe='F', age=79, sportivite=0.1, velo_perf_minimale=0.4),\n",
       " Row(id=5950, vitesse_a_pied=1.084814761296524, vitesse_a_velo=2.71203690324131, home='(lon:42.60 lat:17.34)', travail='(lon:31.38 lat:20.60)', sportif=False, casseur=False, statut='employe', salaire=16851.841885506066, sexe='F', age=22, sportivite=5.42407380648262, velo_perf_minimale=0.4),\n",
       " Row(id=5951, vitesse_a_pied=1.2726237118096533, vitesse_a_velo=3.181559279524133, home='(lon:1.27 lat:27.38)', travail='(lon:1.49 lat:24.67)', sportif=False, casseur=False, statut='technicien_de_surface', salaire=18598.16313187511, sexe='F', age=49, sportivite=6.363118559048266, velo_perf_minimale=0.4),\n",
       " Row(id=5952, vitesse_a_pied=0.4893183012907095, vitesse_a_velo=1.2232957532267739, home='(lon:24.28 lat:19.21)', travail='(lon:33.56 lat:2.47)', sportif=False, casseur=False, statut='éboueur', salaire=20972.273656498524, sexe='F', age=65, sportivite=2.4465915064535477, velo_perf_minimale=0.4),\n",
       " Row(id=5953, vitesse_a_pied=0.02, vitesse_a_velo=0.05, home='(lon:47.76 lat:29.82)', travail='(lon:19.75 lat:20.12)', sportif=False, casseur=False, statut='reserviste', salaire=39943.50257594889, sexe='F', age=54, sportivite=0.1, velo_perf_minimale=0.4),\n",
       " Row(id=5954, vitesse_a_pied=0.02370815369912993, vitesse_a_velo=0.059270384247824826, home='(lon:24.53 lat:42.56)', travail='(lon:24.81 lat:45.15)', sportif=False, casseur=False, statut='reserviste', salaire=19088.882487325507, sexe='F', age=67, sportivite=0.11854076849564965, velo_perf_minimale=0.4),\n",
       " Row(id=5956, vitesse_a_pied=1.10093715813622, vitesse_a_velo=2.7523428953405498, home='(lon:34.67 lat:21.39)', travail='(lon:12.04 lat:24.70)', sportif=False, casseur=False, statut='cadre', salaire=33579.490138271285, sexe='F', age=65, sportivite=5.5046857906810995, velo_perf_minimale=0.4),\n",
       " Row(id=5958, vitesse_a_pied=0.30400784305190737, vitesse_a_velo=0.7600196076297684, home='(lon:3.99 lat:45.62)', travail='(lon:16.87 lat:11.63)', sportif=False, casseur=False, statut='éboueur', salaire=17520.554787570403, sexe='F', age=36, sportivite=1.5200392152595368, velo_perf_minimale=0.4),\n",
       " Row(id=5964, vitesse_a_pied=0.12334529364918682, vitesse_a_velo=0.30836323412296707, home='(lon:38.31 lat:25.44)', travail='(lon:21.49 lat:48.57)', sportif=False, casseur=False, statut='technicien_de_surface', salaire=23576.263959111147, sexe='F', age=65, sportivite=0.6167264682459341, velo_perf_minimale=0.4),\n",
       " Row(id=5965, vitesse_a_pied=0.20548006072243824, vitesse_a_velo=0.5137001518060956, home='(lon:35.80 lat:35.18)', travail='(lon:14.04 lat:0.77)', sportif=False, casseur=False, statut='cadre', salaire=12759.782090419985, sexe='F', age=56, sportivite=1.0274003036121913, velo_perf_minimale=0.4),\n",
       " Row(id=5970, vitesse_a_pied=0.7251636736163921, vitesse_a_velo=1.8129091840409803, home='(lon:30.04 lat:8.63)', travail='(lon:39.14 lat:37.08)', sportif=False, casseur=False, statut='reserviste', salaire=22511.05294666574, sexe='F', age=71, sportivite=3.6258183680819607, velo_perf_minimale=0.4),\n",
       " Row(id=5972, vitesse_a_pied=0.02, vitesse_a_velo=0.05, home='(lon:41.07 lat:39.89)', travail='(lon:9.52 lat:47.67)', sportif=False, casseur=False, statut='reserviste', salaire=37407.913039968495, sexe='F', age=77, sportivite=0.1, velo_perf_minimale=0.4),\n",
       " Row(id=5973, vitesse_a_pied=1.0227922410816792, vitesse_a_velo=2.556980602704198, home='(lon:37.91 lat:3.09)', travail='(lon:17.98 lat:47.98)', sportif=False, casseur=False, statut='professeur', salaire=20353.593671446113, sexe='F', age=82, sportivite=5.113961205408396, velo_perf_minimale=0.4),\n",
       " Row(id=5976, vitesse_a_pied=0.02, vitesse_a_velo=0.05, home='(lon:7.28 lat:46.35)', travail='(lon:40.06 lat:43.13)', sportif=False, casseur=False, statut='employe', salaire=13423.13509515201, sexe='F', age=38, sportivite=0.1, velo_perf_minimale=0.4),\n",
       " Row(id=5977, vitesse_a_pied=0.18257275913875418, vitesse_a_velo=0.4564318978468854, home='(lon:37.27 lat:42.83)', travail='(lon:38.07 lat:11.86)', sportif=False, casseur=False, statut='cadre', salaire=24586.49548896134, sexe='F', age=52, sportivite=0.9128637956937709, velo_perf_minimale=0.4),\n",
       " Row(id=5982, vitesse_a_pied=0.9040040566134607, vitesse_a_velo=2.2600101415336518, home='(lon:33.36 lat:1.63)', travail='(lon:3.91 lat:12.59)', sportif=False, casseur=False, statut='employe', salaire=22925.398654759185, sexe='F', age=43, sportivite=4.5200202830673035, velo_perf_minimale=0.4),\n",
       " Row(id=5984, vitesse_a_pied=0.02, vitesse_a_velo=0.05, home='(lon:41.11 lat:26.65)', travail='(lon:38.09 lat:5.63)', sportif=False, casseur=False, statut='technicien_de_surface', salaire=25372.926577413622, sexe='F', age=33, sportivite=0.1, velo_perf_minimale=0.4),\n",
       " Row(id=5985, vitesse_a_pied=0.25051561901368596, vitesse_a_velo=0.6262890475342149, home='(lon:13.72 lat:43.76)', travail='(lon:22.04 lat:36.82)', sportif=False, casseur=False, statut='reserviste', salaire=29111.84744607227, sexe='F', age=57, sportivite=1.2525780950684298, velo_perf_minimale=0.4),\n",
       " Row(id=5988, vitesse_a_pied=0.17350738784421119, vitesse_a_velo=0.43376846961052795, home='(lon:21.59 lat:42.93)', travail='(lon:14.54 lat:10.60)', sportif=False, casseur=False, statut='reserviste', salaire=33758.09302405525, sexe='F', age=18, sportivite=0.8675369392210559, velo_perf_minimale=0.4),\n",
       " Row(id=5990, vitesse_a_pied=0.3766483123290513, vitesse_a_velo=0.9416207808226285, home='(lon:43.77 lat:12.37)', travail='(lon:14.84 lat:42.63)', sportif=False, casseur=False, statut='professeur', salaire=20046.749063125266, sexe='F', age=73, sportivite=1.8832415616452567, velo_perf_minimale=0.4),\n",
       " Row(id=5991, vitesse_a_pied=0.3668379691073435, vitesse_a_velo=0.9170949227683588, home='(lon:41.00 lat:4.89)', travail='(lon:4.26 lat:7.72)', sportif=False, casseur=False, statut='technicien_de_surface', salaire=16983.363248022393, sexe='F', age=48, sportivite=1.8341898455367176, velo_perf_minimale=0.4),\n",
       " Row(id=5992, vitesse_a_pied=0.7637377511276492, vitesse_a_velo=1.909344377819123, home='(lon:10.03 lat:16.62)', travail='(lon:21.72 lat:6.29)', sportif=False, casseur=False, statut='employe', salaire=23306.395772866814, sexe='F', age=57, sportivite=3.818688755638246, velo_perf_minimale=0.4),\n",
       " Row(id=5996, vitesse_a_pied=0.41455908018250576, vitesse_a_velo=1.0363977004562643, home='(lon:4.99 lat:8.85)', travail='(lon:3.04 lat:40.51)', sportif=False, casseur=False, statut='technicien_de_surface', salaire=18580.725224832437, sexe='F', age=35, sportivite=2.0727954009125287, velo_perf_minimale=0.4),\n",
       " Row(id=5999, vitesse_a_pied=0.7161845786736464, vitesse_a_velo=1.790461446684116, home='(lon:38.82 lat:0.45)', travail='(lon:24.14 lat:26.26)', sportif=False, casseur=False, statut='cadre', salaire=64837.42616881575, sexe='F', age=82, sportivite=3.580922893368232, velo_perf_minimale=0.4),\n",
       " Row(id=6003, vitesse_a_pied=0.4093950756194153, vitesse_a_velo=1.0234876890485383, home='(lon:19.32 lat:16.15)', travail='(lon:1.95 lat:8.33)', sportif=False, casseur=False, statut='reserviste', salaire=34166.29389072286, sexe='F', age=59, sportivite=2.0469753780970765, velo_perf_minimale=0.4),\n",
       " Row(id=6005, vitesse_a_pied=0.20028112372605653, vitesse_a_velo=0.5007028093151413, home='(lon:44.29 lat:26.30)', travail='(lon:11.58 lat:1.16)', sportif=False, casseur=True, statut='reserviste', salaire=25943.30025712192, sexe='F', age=60, sportivite=1.0014056186302827, velo_perf_minimale=0.4),\n",
       " Row(id=6006, vitesse_a_pied=0.46044458615178635, vitesse_a_velo=1.1511114653794658, home='(lon:48.36 lat:47.33)', travail='(lon:36.16 lat:19.86)', sportif=False, casseur=False, statut='professeur', salaire=15876.006297584709, sexe='F', age=65, sportivite=2.3022229307589317, velo_perf_minimale=0.4),\n",
       " Row(id=6008, vitesse_a_pied=0.30914807605475525, vitesse_a_velo=0.7728701901368882, home='(lon:0.49 lat:41.45)', travail='(lon:6.55 lat:29.90)', sportif=False, casseur=False, statut='éboueur', salaire=11628.218620655482, sexe='F', age=47, sportivite=1.5457403802737764, velo_perf_minimale=0.4),\n",
       " Row(id=6009, vitesse_a_pied=0.5489825473988988, vitesse_a_velo=1.372456368497247, home='(lon:8.39 lat:39.27)', travail='(lon:24.69 lat:3.42)', sportif=False, casseur=False, statut='technicien_de_surface', salaire=18393.902050841723, sexe='F', age=52, sportivite=2.744912736994494, velo_perf_minimale=0.4),\n",
       " Row(id=6010, vitesse_a_pied=0.4924708227231306, vitesse_a_velo=1.2311770568078264, home='(lon:12.71 lat:3.91)', travail='(lon:34.19 lat:39.61)', sportif=False, casseur=False, statut='cadre', salaire=38664.37322168374, sexe='F', age=23, sportivite=2.462354113615653, velo_perf_minimale=0.4),\n",
       " Row(id=6011, vitesse_a_pied=0.6953453209071592, vitesse_a_velo=1.738363302267898, home='(lon:29.97 lat:7.52)', travail='(lon:0.79 lat:19.68)', sportif=False, casseur=False, statut='employe', salaire=20897.66653544601, sexe='F', age=41, sportivite=3.476726604535796, velo_perf_minimale=0.4),\n",
       " Row(id=6013, vitesse_a_pied=0.506566454296827, vitesse_a_velo=1.2664161357420676, home='(lon:29.67 lat:48.44)', travail='(lon:5.45 lat:2.87)', sportif=False, casseur=False, statut='technicien_de_surface', salaire=24024.972464598806, sexe='F', age=25, sportivite=2.532832271484135, velo_perf_minimale=0.4),\n",
       " Row(id=6015, vitesse_a_pied=0.6433472666582922, vitesse_a_velo=1.6083681666457306, home='(lon:14.43 lat:8.18)', travail='(lon:12.47 lat:9.96)', sportif=False, casseur=False, statut='éboueur', salaire=17270.769543428083, sexe='F', age=74, sportivite=3.216736333291461, velo_perf_minimale=0.4),\n",
       " Row(id=6017, vitesse_a_pied=0.32530770858672653, vitesse_a_velo=0.8132692714668164, home='(lon:41.49 lat:19.42)', travail='(lon:15.46 lat:47.56)', sportif=False, casseur=False, statut='technicien_de_surface', salaire=14558.102612593959, sexe='F', age=55, sportivite=1.6265385429336328, velo_perf_minimale=0.4),\n",
       " Row(id=6018, vitesse_a_pied=0.02, vitesse_a_velo=0.05, home='(lon:28.11 lat:16.34)', travail='(lon:25.50 lat:23.41)', sportif=False, casseur=False, statut='cadre', salaire=42281.88165871752, sexe='F', age=24, sportivite=0.1, velo_perf_minimale=0.4),\n",
       " Row(id=6019, vitesse_a_pied=0.27388457060878824, vitesse_a_velo=0.6847114265219706, home='(lon:29.83 lat:42.32)', travail='(lon:45.27 lat:1.53)', sportif=False, casseur=False, statut='reserviste', salaire=28430.023531256822, sexe='F', age=70, sportivite=1.3694228530439412, velo_perf_minimale=0.4),\n",
       " Row(id=6020, vitesse_a_pied=0.5579291674816165, vitesse_a_velo=1.3948229187040413, home='(lon:42.86 lat:38.53)', travail='(lon:12.76 lat:38.10)', sportif=False, casseur=False, statut='éboueur', salaire=13207.33564505833, sexe='F', age=17, sportivite=2.7896458374080826, velo_perf_minimale=0.4),\n",
       " Row(id=6021, vitesse_a_pied=0.43466273211226075, vitesse_a_velo=1.0866568302806519, home='(lon:36.47 lat:36.45)', travail='(lon:25.95 lat:45.25)', sportif=False, casseur=False, statut='éboueur', salaire=14194.670903033826, sexe='F', age=84, sportivite=2.1733136605613037, velo_perf_minimale=0.4),\n",
       " Row(id=6022, vitesse_a_pied=0.14182523477269354, vitesse_a_velo=0.3545630869317339, home='(lon:35.31 lat:12.75)', travail='(lon:18.50 lat:30.47)', sportif=False, casseur=False, statut='reserviste', salaire=16237.869638503733, sexe='F', age=77, sportivite=0.7091261738634678, velo_perf_minimale=0.4),\n",
       " Row(id=6024, vitesse_a_pied=0.49675116796847857, vitesse_a_velo=1.2418779199211964, home='(lon:32.97 lat:43.99)', travail='(lon:18.78 lat:26.50)', sportif=False, casseur=False, statut='technicien_de_surface', salaire=17197.252546723517, sexe='F', age=72, sportivite=2.483755839842393, velo_perf_minimale=0.4),\n",
       " Row(id=6026, vitesse_a_pied=0.8918391816782048, vitesse_a_velo=2.229597954195512, home='(lon:47.82 lat:2.93)', travail='(lon:9.35 lat:33.26)', sportif=False, casseur=False, statut='reserviste', salaire=33141.69721518098, sexe='F', age=26, sportivite=4.459195908391024, velo_perf_minimale=0.4),\n",
       " Row(id=6028, vitesse_a_pied=0.5167307434059112, vitesse_a_velo=1.2918268585147779, home='(lon:46.23 lat:1.86)', travail='(lon:5.63 lat:33.35)', sportif=False, casseur=False, statut='technicien_de_surface', salaire=21750.51249518781, sexe='F', age=35, sportivite=2.5836537170295557, velo_perf_minimale=0.4),\n",
       " Row(id=6029, vitesse_a_pied=0.7070226116150307, vitesse_a_velo=1.7675565290375768, home='(lon:46.58 lat:22.35)', travail='(lon:3.23 lat:20.86)', sportif=False, casseur=False, statut='employe', salaire=16295.625282675566, sexe='F', age=37, sportivite=3.5351130580751535, velo_perf_minimale=0.4),\n",
       " Row(id=6031, vitesse_a_pied=0.08328838658186277, vitesse_a_velo=0.20822096645465696, home='(lon:19.32 lat:8.60)', travail='(lon:37.95 lat:25.31)', sportif=False, casseur=False, statut='technicien_de_surface', salaire=8652.515667996415, sexe='F', age=25, sportivite=0.41644193290931386, velo_perf_minimale=0.4),\n",
       " Row(id=6033, vitesse_a_pied=0.03423513398489879, vitesse_a_velo=0.08558783496224698, home='(lon:36.81 lat:11.98)', travail='(lon:34.05 lat:20.19)', sportif=False, casseur=False, statut='technicien_de_surface', salaire=18871.050042490097, sexe='F', age=31, sportivite=0.17117566992449396, velo_perf_minimale=0.4),\n",
       " Row(id=6034, vitesse_a_pied=0.19872619503062094, vitesse_a_velo=0.49681548757655236, home='(lon:24.85 lat:14.35)', travail='(lon:4.78 lat:36.43)', sportif=False, casseur=False, statut='cadre', salaire=29595.226211208257, sexe='F', age=53, sportivite=0.9936309751531047, velo_perf_minimale=0.4),\n",
       " Row(id=6038, vitesse_a_pied=0.38400967266317565, vitesse_a_velo=0.9600241816579391, home='(lon:43.86 lat:33.18)', travail='(lon:16.35 lat:13.44)', sportif=False, casseur=False, statut='technicien_de_surface', salaire=16723.479475266668, sexe='F', age=20, sportivite=1.9200483633158782, velo_perf_minimale=0.4),\n",
       " Row(id=6039, vitesse_a_pied=0.5810378643200782, vitesse_a_velo=1.4525946608001956, home='(lon:39.57 lat:15.07)', travail='(lon:46.25 lat:4.86)', sportif=False, casseur=False, statut='éboueur', salaire=20699.418002926242, sexe='F', age=72, sportivite=2.9051893216003912, velo_perf_minimale=0.4),\n",
       " Row(id=6040, vitesse_a_pied=0.5738712240995087, vitesse_a_velo=1.4346780602487719, home='(lon:39.33 lat:33.22)', travail='(lon:31.21 lat:1.78)', sportif=False, casseur=False, statut='technicien_de_surface', salaire=13992.418835484761, sexe='F', age=16, sportivite=2.8693561204975437, velo_perf_minimale=0.4),\n",
       " Row(id=6041, vitesse_a_pied=0.7027447737532306, vitesse_a_velo=1.7568619343830765, home='(lon:9.36 lat:48.62)', travail='(lon:7.71 lat:9.11)', sportif=False, casseur=False, statut='cadre', salaire=21381.97885963411, sexe='F', age=46, sportivite=3.513723868766153, velo_perf_minimale=0.4),\n",
       " Row(id=6042, vitesse_a_pied=0.11724054615046882, vitesse_a_velo=0.29310136537617204, home='(lon:4.90 lat:16.08)', travail='(lon:25.02 lat:9.73)', sportif=False, casseur=False, statut='reserviste', salaire=28508.41457041502, sexe='F', age=65, sportivite=0.5862027307523441, velo_perf_minimale=0.4),\n",
       " Row(id=6044, vitesse_a_pied=0.5662243494207182, vitesse_a_velo=1.4155608735517955, home='(lon:31.95 lat:19.48)', travail='(lon:19.98 lat:33.32)', sportif=False, casseur=False, statut='technicien_de_surface', salaire=23182.29483875742, sexe='F', age=20, sportivite=2.831121747103591, velo_perf_minimale=0.4),\n",
       " Row(id=6046, vitesse_a_pied=0.78352682339361, vitesse_a_velo=1.958817058484025, home='(lon:2.30 lat:20.77)', travail='(lon:24.55 lat:29.72)', sportif=False, casseur=False, statut='éboueur', salaire=21115.977945082963, sexe='F', age=27, sportivite=3.91763411696805, velo_perf_minimale=0.4),\n",
       " Row(id=6048, vitesse_a_pied=0.27868018358858143, vitesse_a_velo=0.6967004589714536, home='(lon:21.07 lat:47.51)', travail='(lon:38.74 lat:36.47)', sportif=False, casseur=False, statut='éboueur', salaire=16908.18063899964, sexe='F', age=78, sportivite=1.3934009179429072, velo_perf_minimale=0.4),\n",
       " Row(id=6050, vitesse_a_pied=1.075855603292265, vitesse_a_velo=2.6896390082306625, home='(lon:39.77 lat:34.38)', travail='(lon:13.34 lat:21.93)', sportif=False, casseur=False, statut='employe', salaire=19708.73958575785, sexe='F', age=44, sportivite=5.379278016461325, velo_perf_minimale=0.4),\n",
       " Row(id=6052, vitesse_a_pied=0.98002346132978, vitesse_a_velo=2.45005865332445, home='(lon:15.54 lat:21.13)', travail='(lon:27.02 lat:21.06)', sportif=False, casseur=False, statut='reserviste', salaire=31675.98740333361, sexe='F', age=83, sportivite=4.9001173066489, velo_perf_minimale=0.4),\n",
       " Row(id=6053, vitesse_a_pied=0.02, vitesse_a_velo=0.05, home='(lon:26.44 lat:40.79)', travail='(lon:19.16 lat:7.79)', sportif=False, casseur=False, statut='technicien_de_surface', salaire=17415.338176918296, sexe='F', age=50, sportivite=0.1, velo_perf_minimale=0.4),\n",
       " Row(id=6055, vitesse_a_pied=0.02, vitesse_a_velo=0.05, home='(lon:26.16 lat:38.29)', travail='(lon:41.23 lat:40.94)', sportif=False, casseur=False, statut='professeur', salaire=27973.45925285144, sexe='F', age=33, sportivite=0.1, velo_perf_minimale=0.4),\n",
       " Row(id=6056, vitesse_a_pied=0.17589217225059542, vitesse_a_velo=0.43973043062648853, home='(lon:2.87 lat:40.08)', travail='(lon:1.28 lat:29.95)', sportif=False, casseur=False, statut='reserviste', salaire=30667.115554111588, sexe='F', age=29, sportivite=0.8794608612529771, velo_perf_minimale=0.4),\n",
       " Row(id=6057, vitesse_a_pied=0.02, vitesse_a_velo=0.05, home='(lon:39.71 lat:8.55)', travail='(lon:15.34 lat:14.22)', sportif=False, casseur=True, statut='cadre', salaire=20311.03575966934, sexe='F', age=75, sportivite=0.1, velo_perf_minimale=0.4),\n",
       " Row(id=6060, vitesse_a_pied=0.02, vitesse_a_velo=0.05, home='(lon:35.96 lat:21.71)', travail='(lon:41.97 lat:46.95)', sportif=False, casseur=False, statut='employe', salaire=20097.33721374812, sexe='F', age=25, sportivite=0.1, velo_perf_minimale=0.4),\n",
       " Row(id=6064, vitesse_a_pied=0.5112782122248591, vitesse_a_velo=1.278195530562148, home='(lon:48.79 lat:15.94)', travail='(lon:13.49 lat:2.54)', sportif=False, casseur=False, statut='reserviste', salaire=24008.27136174167, sexe='F', age=27, sportivite=2.556391061124296, velo_perf_minimale=0.4),\n",
       " Row(id=6065, vitesse_a_pied=0.04906225935996793, vitesse_a_velo=0.12265564839991983, home='(lon:12.29 lat:17.63)', travail='(lon:41.49 lat:30.73)', sportif=False, casseur=False, statut='employe', salaire=26283.259603510134, sexe='F', age=35, sportivite=0.24531129679983965, velo_perf_minimale=0.4),\n",
       " Row(id=6068, vitesse_a_pied=0.02, vitesse_a_velo=0.05, home='(lon:45.83 lat:20.37)', travail='(lon:34.20 lat:12.85)', sportif=False, casseur=False, statut='professeur', salaire=18057.039261548936, sexe='F', age=39, sportivite=0.1, velo_perf_minimale=0.4),\n",
       " Row(id=6071, vitesse_a_pied=0.20663045165857358, vitesse_a_velo=0.5165761291464339, home='(lon:13.96 lat:3.41)', travail='(lon:4.34 lat:11.33)', sportif=False, casseur=False, statut='éboueur', salaire=13422.220184336678, sexe='F', age=45, sportivite=1.0331522582928678, velo_perf_minimale=0.4),\n",
       " Row(id=6074, vitesse_a_pied=0.5329910711246603, vitesse_a_velo=1.3324776778116507, home='(lon:16.14 lat:8.39)', travail='(lon:34.44 lat:23.62)', sportif=False, casseur=False, statut='éboueur', salaire=16448.13161368381, sexe='F', age=84, sportivite=2.6649553556233014, velo_perf_minimale=0.4),\n",
       " Row(id=6075, vitesse_a_pied=0.30347136737356223, vitesse_a_velo=0.7586784184339056, home='(lon:6.89 lat:23.13)', travail='(lon:19.21 lat:44.25)', sportif=False, casseur=False, statut='éboueur', salaire=11912.611662589805, sexe='F', age=83, sportivite=1.5173568368678112, velo_perf_minimale=0.4),\n",
       " Row(id=6077, vitesse_a_pied=0.7496808566283655, vitesse_a_velo=1.8742021415709136, home='(lon:3.72 lat:43.06)', travail='(lon:41.54 lat:42.50)', sportif=False, casseur=False, statut='éboueur', salaire=18285.35224046542, sexe='F', age=35, sportivite=3.748404283141827, velo_perf_minimale=0.4),\n",
       " Row(id=6080, vitesse_a_pied=0.7426557888770842, vitesse_a_velo=1.8566394721927104, home='(lon:10.10 lat:44.21)', travail='(lon:41.66 lat:7.04)', sportif=False, casseur=False, statut='reserviste', salaire=34953.017856675666, sexe='F', age=65, sportivite=3.713278944385421, velo_perf_minimale=0.4),\n",
       " Row(id=6081, vitesse_a_pied=0.27191306770809937, vitesse_a_velo=0.6797826692702484, home='(lon:4.95 lat:17.18)', travail='(lon:42.51 lat:21.84)', sportif=False, casseur=False, statut='technicien_de_surface', salaire=12488.602159236489, sexe='F', age=44, sportivite=1.3595653385404969, velo_perf_minimale=0.4),\n",
       " Row(id=6084, vitesse_a_pied=0.41504964139658657, vitesse_a_velo=1.0376241034914664, home='(lon:34.39 lat:19.97)', travail='(lon:19.06 lat:48.23)', sportif=False, casseur=False, statut='professeur', salaire=30774.936098611874, sexe='F', age=60, sportivite=2.0752482069829328, velo_perf_minimale=0.4),\n",
       " Row(id=6085, vitesse_a_pied=0.8946627558688703, vitesse_a_velo=2.236656889672176, home='(lon:11.44 lat:42.45)', travail='(lon:7.68 lat:37.21)', sportif=False, casseur=False, statut='professeur', salaire=28458.234669559453, sexe='F', age=83, sportivite=4.473313779344352, velo_perf_minimale=0.4),\n",
       " Row(id=6087, vitesse_a_pied=0.7290289001291823, vitesse_a_velo=1.8225722503229558, home='(lon:37.65 lat:10.54)', travail='(lon:36.25 lat:2.85)', sportif=False, casseur=False, statut='technicien_de_surface', salaire=14972.391139698528, sexe='F', age=36, sportivite=3.6451445006459116, velo_perf_minimale=0.4),\n",
       " Row(id=6089, vitesse_a_pied=0.19655678950657834, vitesse_a_velo=0.49139197376644583, home='(lon:41.01 lat:18.66)', travail='(lon:0.32 lat:16.14)', sportif=False, casseur=False, statut='professeur', salaire=25089.106872597735, sexe='F', age=39, sportivite=0.9827839475328917, velo_perf_minimale=0.4),\n",
       " Row(id=6090, vitesse_a_pied=0.36362187863495177, vitesse_a_velo=0.9090546965873794, home='(lon:11.04 lat:43.81)', travail='(lon:23.10 lat:29.94)', sportif=False, casseur=False, statut='éboueur', salaire=19711.98220963338, sexe='F', age=72, sportivite=1.8181093931747587, velo_perf_minimale=0.4),\n",
       " Row(id=6092, vitesse_a_pied=0.3707092956938147, vitesse_a_velo=0.9267732392345367, home='(lon:48.14 lat:28.89)', travail='(lon:46.36 lat:38.62)', sportif=False, casseur=False, statut='employe', salaire=17611.875968143966, sexe='F', age=20, sportivite=1.8535464784690736, velo_perf_minimale=0.4),\n",
       " Row(id=6093, vitesse_a_pied=0.15774008606945059, vitesse_a_velo=0.39435021517362645, home='(lon:37.64 lat:15.70)', travail='(lon:10.96 lat:42.51)', sportif=False, casseur=False, statut='technicien_de_surface', salaire=18188.679096234468, sexe='F', age=56, sportivite=0.7887004303472529, velo_perf_minimale=0.4),\n",
       " Row(id=6094, vitesse_a_pied=0.9372733872735232, vitesse_a_velo=2.343183468183808, home='(lon:13.59 lat:1.55)', travail='(lon:40.64 lat:36.56)', sportif=False, casseur=False, statut='éboueur', salaire=23164.87118261679, sexe='F', age=76, sportivite=4.686366936367616, velo_perf_minimale=0.4),\n",
       " Row(id=6095, vitesse_a_pied=0.02, vitesse_a_velo=0.05, home='(lon:35.72 lat:39.97)', travail='(lon:10.08 lat:30.43)', sportif=False, casseur=False, statut='cadre', salaire=33157.621300022, sexe='F', age=18, sportivite=0.1, velo_perf_minimale=0.4),\n",
       " Row(id=6099, vitesse_a_pied=0.19870379677580088, vitesse_a_velo=0.49675949193950225, home='(lon:46.17 lat:27.01)', travail='(lon:11.98 lat:1.65)', sportif=False, casseur=False, statut='reserviste', salaire=42820.50005201614, sexe='F', age=63, sportivite=0.9935189838790044, velo_perf_minimale=0.4),\n",
       " Row(id=6101, vitesse_a_pied=0.3068070065355305, vitesse_a_velo=0.7670175163388262, home='(lon:23.47 lat:24.54)', travail='(lon:11.79 lat:42.25)', sportif=False, casseur=False, statut='professeur', salaire=20428.909237737123, sexe='F', age=74, sportivite=1.5340350326776524, velo_perf_minimale=0.4),\n",
       " Row(id=6103, vitesse_a_pied=0.8055825340094882, vitesse_a_velo=2.0139563350237206, home='(lon:3.57 lat:44.30)', travail='(lon:31.65 lat:13.42)', sportif=False, casseur=False, statut='éboueur', salaire=11413.990214609878, sexe='F', age=84, sportivite=4.027912670047441, velo_perf_minimale=0.4),\n",
       " Row(id=6110, vitesse_a_pied=0.3920214678867266, vitesse_a_velo=0.9800536697168166, home='(lon:4.17 lat:5.49)', travail='(lon:39.55 lat:44.07)', sportif=False, casseur=True, statut='éboueur', salaire=19372.06951607552, sexe='F', age=45, sportivite=1.960107339433633, velo_perf_minimale=0.4),\n",
       " Row(id=6112, vitesse_a_pied=0.02, vitesse_a_velo=0.05, home='(lon:18.67 lat:36.91)', travail='(lon:45.23 lat:6.07)', sportif=False, casseur=False, statut='professeur', salaire=17627.336599775383, sexe='F', age=28, sportivite=0.1, velo_perf_minimale=0.4),\n",
       " Row(id=6113, vitesse_a_pied=0.16246333473669855, vitesse_a_velo=0.4061583368417464, home='(lon:13.33 lat:7.57)', travail='(lon:26.45 lat:39.90)', sportif=False, casseur=False, statut='technicien_de_surface', salaire=22752.6321014341, sexe='F', age=29, sportivite=0.8123166736834928, velo_perf_minimale=0.4),\n",
       " Row(id=6115, vitesse_a_pied=0.5810204426653062, vitesse_a_velo=1.4525511066632655, home='(lon:45.52 lat:1.91)', travail='(lon:43.05 lat:45.58)', sportif=False, casseur=False, statut='professeur', salaire=30257.275909993936, sexe='F', age=83, sportivite=2.905102213326531, velo_perf_minimale=0.4),\n",
       " Row(id=6117, vitesse_a_pied=0.8905828131043554, vitesse_a_velo=2.2264570327608886, home='(lon:17.35 lat:30.76)', travail='(lon:21.68 lat:2.71)', sportif=False, casseur=False, statut='employe', salaire=20765.550981789474, sexe='F', age=80, sportivite=4.452914065521777, velo_perf_minimale=0.4),\n",
       " Row(id=6118, vitesse_a_pied=0.02, vitesse_a_velo=0.05, home='(lon:18.73 lat:7.81)', travail='(lon:46.55 lat:18.64)', sportif=False, casseur=False, statut='reserviste', salaire=27859.591778075286, sexe='F', age=46, sportivite=0.1, velo_perf_minimale=0.4),\n",
       " Row(id=6120, vitesse_a_pied=0.7093076252540771, vitesse_a_velo=1.7732690631351926, home='(lon:28.00 lat:23.50)', travail='(lon:19.77 lat:28.29)', sportif=False, casseur=False, statut='professeur', salaire=21421.154893808634, sexe='F', age=24, sportivite=3.5465381262703852, velo_perf_minimale=0.4),\n",
       " Row(id=6122, vitesse_a_pied=0.9434795287484864, vitesse_a_velo=2.358698821871216, home='(lon:14.52 lat:25.40)', travail='(lon:31.04 lat:2.16)', sportif=False, casseur=False, statut='cadre', salaire=29841.241849213206, sexe='F', age=58, sportivite=4.717397643742432, velo_perf_minimale=0.4),\n",
       " Row(id=6123, vitesse_a_pied=0.16587610462754862, vitesse_a_velo=0.41469026156887157, home='(lon:27.58 lat:26.02)', travail='(lon:45.96 lat:41.82)', sportif=False, casseur=False, statut='cadre', salaire=32468.58142990196, sexe='F', age=39, sportivite=0.8293805231377431, velo_perf_minimale=0.4),\n",
       " Row(id=6124, vitesse_a_pied=2.0006216969981, vitesse_a_velo=5.001554242495248, home='(lon:43.47 lat:44.52)', travail='(lon:37.09 lat:3.26)', sportif=True, casseur=False, statut='reserviste', salaire=27163.609858895103, sexe='F', age=83, sportivite=3.3343694949968326, velo_perf_minimale=3.7343694949968325),\n",
       " Row(id=6125, vitesse_a_pied=0.6945016511384148, vitesse_a_velo=1.736254127846037, home='(lon:21.13 lat:44.95)', travail='(lon:30.13 lat:41.97)', sportif=False, casseur=False, statut='cadre', salaire=19857.612333723748, sexe='F', age=50, sportivite=3.472508255692074, velo_perf_minimale=0.4),\n",
       " Row(id=6126, vitesse_a_pied=0.3260352980696933, vitesse_a_velo=0.8150882451742332, home='(lon:34.49 lat:43.88)', travail='(lon:17.27 lat:8.69)', sportif=False, casseur=False, statut='cadre', salaire=20926.24128269851, sexe='F', age=17, sportivite=1.6301764903484663, velo_perf_minimale=0.4),\n",
       " Row(id=6127, vitesse_a_pied=0.979217313632225, vitesse_a_velo=2.4480432840805624, home='(lon:8.67 lat:9.19)', travail='(lon:30.21 lat:17.03)', sportif=False, casseur=False, statut='éboueur', salaire=17015.85729936808, sexe='F', age=50, sportivite=4.896086568161125, velo_perf_minimale=0.4),\n",
       " Row(id=6134, vitesse_a_pied=0.10959610944347573, vitesse_a_velo=0.2739902736086893, home='(lon:24.13 lat:5.65)', travail='(lon:4.51 lat:18.11)', sportif=False, casseur=False, statut='reserviste', salaire=35285.49064727013, sexe='F', age=38, sportivite=0.5479805472173787, velo_perf_minimale=0.4),\n",
       " Row(id=6136, vitesse_a_pied=0.6428731641034935, vitesse_a_velo=1.6071829102587336, home='(lon:45.41 lat:21.96)', travail='(lon:34.13 lat:41.23)', sportif=False, casseur=False, statut='employe', salaire=22306.026830056035, sexe='F', age=18, sportivite=3.214365820517467, velo_perf_minimale=0.4),\n",
       " Row(id=6140, vitesse_a_pied=1.7028578509647923, vitesse_a_velo=4.25714462741198, home='(lon:16.31 lat:22.22)', travail='(lon:37.69 lat:17.39)', sportif=True, casseur=False, statut='éboueur', salaire=18144.90263133753, sexe='F', age=60, sportivite=2.8380964182746538, velo_perf_minimale=3.2380964182746537),\n",
       " Row(id=6144, vitesse_a_pied=0.6929711309456731, vitesse_a_velo=1.7324278273641827, home='(lon:0.45 lat:21.71)', travail='(lon:19.66 lat:43.83)', sportif=False, casseur=False, statut='employe', salaire=24280.654011079918, sexe='F', age=37, sportivite=3.4648556547283653, velo_perf_minimale=0.4),\n",
       " Row(id=6148, vitesse_a_pied=0.31585915330873754, vitesse_a_velo=0.7896478832718439, home='(lon:14.32 lat:14.07)', travail='(lon:40.90 lat:8.16)', sportif=False, casseur=False, statut='employe', salaire=20864.3128453234, sexe='F', age=79, sportivite=1.5792957665436878, velo_perf_minimale=0.4),\n",
       " Row(id=6150, vitesse_a_pied=0.6154016363239302, vitesse_a_velo=1.5385040908098255, home='(lon:30.57 lat:31.69)', travail='(lon:7.69 lat:4.44)', sportif=False, casseur=False, statut='employe', salaire=15097.239988702102, sexe='F', age=30, sportivite=3.077008181619651, velo_perf_minimale=0.4),\n",
       " Row(id=6152, vitesse_a_pied=0.02, vitesse_a_velo=0.05, home='(lon:29.50 lat:0.98)', travail='(lon:20.51 lat:46.66)', sportif=False, casseur=False, statut='reserviste', salaire=26782.791713274695, sexe='F', age=29, sportivite=0.1, velo_perf_minimale=0.4),\n",
       " Row(id=6153, vitesse_a_pied=0.16147867807602415, vitesse_a_velo=0.40369669519006035, home='(lon:0.72 lat:23.90)', travail='(lon:26.76 lat:27.41)', sportif=False, casseur=False, statut='employe', salaire=26168.556136139545, sexe='F', age=23, sportivite=0.8073933903801207, velo_perf_minimale=0.4),\n",
       " Row(id=6154, vitesse_a_pied=0.31460956073988305, vitesse_a_velo=0.7865239018497077, home='(lon:11.22 lat:40.74)', travail='(lon:34.84 lat:34.96)', sportif=False, casseur=False, statut='technicien_de_surface', salaire=20090.949603137713, sexe='F', age=24, sportivite=1.5730478036994153, velo_perf_minimale=0.4),\n",
       " Row(id=6158, vitesse_a_pied=0.6646253893160086, vitesse_a_velo=1.661563473290021, home='(lon:9.65 lat:29.52)', travail='(lon:47.57 lat:39.16)', sportif=False, casseur=False, statut='cadre', salaire=31714.788643970485, sexe='F', age=71, sportivite=3.3231269465800426, velo_perf_minimale=0.4),\n",
       " Row(id=6159, vitesse_a_pied=0.02, vitesse_a_velo=0.05, home='(lon:26.37 lat:37.15)', travail='(lon:17.90 lat:15.32)', sportif=False, casseur=False, statut='cadre', salaire=30427.540165921753, sexe='F', age=32, sportivite=0.1, velo_perf_minimale=0.4),\n",
       " Row(id=6160, vitesse_a_pied=0.166112572169783, vitesse_a_velo=0.41528143042445753, home='(lon:3.26 lat:16.33)', travail='(lon:48.25 lat:12.74)', sportif=False, casseur=False, statut='cadre', salaire=19774.286980162422, sexe='F', age=75, sportivite=0.8305628608489151, velo_perf_minimale=0.4),\n",
       " Row(id=6161, vitesse_a_pied=0.7454657990692691, vitesse_a_velo=1.863664497673173, home='(lon:6.34 lat:18.90)', travail='(lon:21.07 lat:8.50)', sportif=False, casseur=False, statut='professeur', salaire=31734.104636210952, sexe='F', age=25, sportivite=3.7273289953463458, velo_perf_minimale=0.4),\n",
       " Row(id=6165, vitesse_a_pied=0.5723187881342116, vitesse_a_velo=1.4307969703355288, home='(lon:19.86 lat:15.58)', travail='(lon:22.16 lat:39.62)', sportif=False, casseur=True, statut='technicien_de_surface', salaire=20923.33796526012, sexe='F', age=37, sportivite=2.8615939406710575, velo_perf_minimale=0.4),\n",
       " Row(id=6167, vitesse_a_pied=0.02, vitesse_a_velo=0.05, home='(lon:39.21 lat:29.45)', travail='(lon:39.79 lat:20.56)', sportif=False, casseur=False, statut='professeur', salaire=21706.370784336697, sexe='F', age=20, sportivite=0.1, velo_perf_minimale=0.4),\n",
       " Row(id=6169, vitesse_a_pied=0.12188568768236471, vitesse_a_velo=0.3047142192059118, home='(lon:2.88 lat:35.93)', travail='(lon:6.21 lat:19.55)', sportif=False, casseur=False, statut='éboueur', salaire=26338.84337156246, sexe='F', age=32, sportivite=0.6094284384118236, velo_perf_minimale=0.4),\n",
       " Row(id=6170, vitesse_a_pied=0.02, vitesse_a_velo=0.05, home='(lon:41.36 lat:20.25)', travail='(lon:13.17 lat:48.75)', sportif=False, casseur=False, statut='employe', salaire=25632.812482072764, sexe='F', age=47, sportivite=0.1, velo_perf_minimale=0.4),\n",
       " Row(id=6183, vitesse_a_pied=0.18016198617382825, vitesse_a_velo=0.45040496543457065, home='(lon:32.16 lat:7.04)', travail='(lon:5.21 lat:35.45)', sportif=False, casseur=False, statut='éboueur', salaire=20198.74051901945, sexe='F', age=62, sportivite=0.9008099308691413, velo_perf_minimale=0.4),\n",
       " Row(id=6184, vitesse_a_pied=0.25751169186273176, vitesse_a_velo=0.6437792296568294, home='(lon:4.54 lat:10.69)', travail='(lon:17.10 lat:2.84)', sportif=False, casseur=False, statut='employe', salaire=17108.59805727426, sexe='F', age=28, sportivite=1.2875584593136589, velo_perf_minimale=0.4),\n",
       " Row(id=6185, vitesse_a_pied=0.03272761721919846, vitesse_a_velo=0.08181904304799614, home='(lon:7.75 lat:47.23)', travail='(lon:30.46 lat:20.91)', sportif=False, casseur=False, statut='technicien_de_surface', salaire=15686.525383988685, sexe='F', age=36, sportivite=0.16363808609599229, velo_perf_minimale=0.4),\n",
       " Row(id=6187, vitesse_a_pied=0.02, vitesse_a_velo=0.05, home='(lon:15.81 lat:4.79)', travail='(lon:40.27 lat:6.45)', sportif=False, casseur=False, statut='reserviste', salaire=41695.64720003373, sexe='F', age=30, sportivite=0.1, velo_perf_minimale=0.4),\n",
       " Row(id=6188, vitesse_a_pied=0.02, vitesse_a_velo=0.05, home='(lon:32.66 lat:25.50)', travail='(lon:17.72 lat:30.46)', sportif=False, casseur=False, statut='cadre', salaire=18793.844867733726, sexe='F', age=81, sportivite=0.1, velo_perf_minimale=0.4),\n",
       " Row(id=6189, vitesse_a_pied=0.05433093047263941, vitesse_a_velo=0.13582732618159854, home='(lon:30.51 lat:23.36)', travail='(lon:38.40 lat:20.37)', sportif=False, casseur=False, statut='professeur', salaire=22756.913591049342, sexe='F', age=31, sportivite=0.2716546523631971, velo_perf_minimale=0.4),\n",
       " Row(id=6190, vitesse_a_pied=0.6572376634908883, vitesse_a_velo=1.6430941587272208, home='(lon:33.25 lat:41.59)', travail='(lon:12.00 lat:46.06)', sportif=False, casseur=False, statut='technicien_de_surface', salaire=20604.67653519226, sexe='F', age=47, sportivite=3.2861883174544415, velo_perf_minimale=0.4),\n",
       " Row(id=6192, vitesse_a_pied=0.3568906084798609, vitesse_a_velo=0.8922265211996523, home='(lon:0.37 lat:28.20)', travail='(lon:19.92 lat:4.49)', sportif=False, casseur=False, statut='reserviste', salaire=31522.451437945947, sexe='F', age=40, sportivite=1.7844530423993046, velo_perf_minimale=0.4),\n",
       " Row(id=6193, vitesse_a_pied=0.02, vitesse_a_velo=0.05, home='(lon:31.83 lat:13.04)', travail='(lon:48.14 lat:12.28)', sportif=False, casseur=False, statut='cadre', salaire=31469.11505987816, sexe='F', age=30, sportivite=0.1, velo_perf_minimale=0.4),\n",
       " Row(id=6195, vitesse_a_pied=0.9365846517193976, vitesse_a_velo=2.341461629298494, home='(lon:1.71 lat:0.93)', travail='(lon:9.55 lat:27.87)', sportif=False, casseur=False, statut='éboueur', salaire=20974.88225508655, sexe='F', age=53, sportivite=4.682923258596988, velo_perf_minimale=0.4),\n",
       " Row(id=6196, vitesse_a_pied=0.02, vitesse_a_velo=0.05, home='(lon:41.22 lat:0.72)', travail='(lon:41.17 lat:34.89)', sportif=False, casseur=False, statut='employe', salaire=15208.335234611572, sexe='F', age=28, sportivite=0.1, velo_perf_minimale=0.4),\n",
       " Row(id=6201, vitesse_a_pied=0.7408840776442893, vitesse_a_velo=1.8522101941107234, home='(lon:31.83 lat:6.67)', travail='(lon:5.65 lat:38.13)', sportif=False, casseur=False, statut='éboueur', salaire=12877.707615156709, sexe='F', age=52, sportivite=3.704420388221447, velo_perf_minimale=0.4),\n",
       " Row(id=6203, vitesse_a_pied=0.6708234792620917, vitesse_a_velo=1.6770586981552291, home='(lon:43.56 lat:32.91)', travail='(lon:21.75 lat:36.06)', sportif=False, casseur=False, statut='éboueur', salaire=16670.529412429227, sexe='F', age=16, sportivite=3.3541173963104587, velo_perf_minimale=0.4),\n",
       " Row(id=6204, vitesse_a_pied=0.18836042472363754, vitesse_a_velo=0.47090106180909386, home='(lon:28.07 lat:42.90)', travail='(lon:8.09 lat:34.83)', sportif=False, casseur=False, statut='reserviste', salaire=30962.51180268268, sexe='F', age=75, sportivite=0.9418021236181877, velo_perf_minimale=0.4),\n",
       " Row(id=6205, vitesse_a_pied=0.5086910171982891, vitesse_a_velo=1.2717275429957229, home='(lon:47.65 lat:47.36)', travail='(lon:33.89 lat:48.56)', sportif=False, casseur=False, statut='employe', salaire=20989.581219404623, sexe='F', age=32, sportivite=2.5434550859914458, velo_perf_minimale=0.4),\n",
       " Row(id=6207, vitesse_a_pied=0.5139264732970514, vitesse_a_velo=1.2848161832426286, home='(lon:27.57 lat:28.30)', travail='(lon:15.49 lat:4.02)', sportif=False, casseur=False, statut='professeur', salaire=13527.301655982681, sexe='F', age=65, sportivite=2.569632366485257, velo_perf_minimale=0.4),\n",
       " Row(id=6208, vitesse_a_pied=0.6084732575293436, vitesse_a_velo=1.521183143823359, home='(lon:40.04 lat:4.29)', travail='(lon:46.86 lat:4.36)', sportif=False, casseur=False, statut='employe', salaire=23663.95718279925, sexe='F', age=41, sportivite=3.042366287646718, velo_perf_minimale=0.4),\n",
       " Row(id=6210, vitesse_a_pied=0.21664311189593882, vitesse_a_velo=0.5416077797398471, home='(lon:27.53 lat:5.53)', travail='(lon:18.28 lat:44.86)', sportif=False, casseur=False, statut='professeur', salaire=27597.227642650712, sexe='F', age=36, sportivite=1.0832155594796942, velo_perf_minimale=0.4),\n",
       " Row(id=6212, vitesse_a_pied=0.2910390268644839, vitesse_a_velo=0.7275975671612098, home='(lon:22.56 lat:15.44)', travail='(lon:25.47 lat:19.24)', sportif=False, casseur=False, statut='éboueur', salaire=22564.33511316486, sexe='F', age=32, sportivite=1.4551951343224196, velo_perf_minimale=0.4),\n",
       " Row(id=6213, vitesse_a_pied=0.02, vitesse_a_velo=0.05, home='(lon:14.63 lat:24.53)', travail='(lon:31.31 lat:31.88)', sportif=False, casseur=False, statut='cadre', salaire=30264.645646841145, sexe='F', age=40, sportivite=0.1, velo_perf_minimale=0.4),\n",
       " Row(id=6216, vitesse_a_pied=0.15731508875721376, vitesse_a_velo=0.3932877218930344, home='(lon:36.33 lat:14.18)', travail='(lon:26.95 lat:4.00)', sportif=False, casseur=False, statut='employe', salaire=18524.56389070761, sexe='F', age=57, sportivite=0.7865754437860688, velo_perf_minimale=0.4),\n",
       " Row(id=6218, vitesse_a_pied=0.02, vitesse_a_velo=0.05, home='(lon:25.03 lat:11.10)', travail='(lon:19.68 lat:11.59)', sportif=False, casseur=True, statut='technicien_de_surface', salaire=17259.352787737193, sexe='F', age=35, sportivite=0.1, velo_perf_minimale=0.4),\n",
       " Row(id=6221, vitesse_a_pied=0.02, vitesse_a_velo=0.05, home='(lon:10.29 lat:12.12)', travail='(lon:25.62 lat:6.51)', sportif=False, casseur=False, statut='technicien_de_surface', salaire=20183.193451625197, sexe='F', age=35, sportivite=0.1, velo_perf_minimale=0.4),\n",
       " Row(id=6222, vitesse_a_pied=0.711495217821345, vitesse_a_velo=1.778738044553362, home='(lon:31.90 lat:25.83)', travail='(lon:1.32 lat:34.27)', sportif=False, casseur=False, statut='technicien_de_surface', salaire=16741.18353902327, sexe='F', age=31, sportivite=3.5574760891067245, velo_perf_minimale=0.4),\n",
       " Row(id=6223, vitesse_a_pied=0.6717176697522713, vitesse_a_velo=1.6792941743806786, home='(lon:43.00 lat:30.43)', travail='(lon:19.55 lat:4.72)', sportif=False, casseur=False, statut='cadre', salaire=26756.80292184034, sexe='F', age=77, sportivite=3.358588348761357, velo_perf_minimale=0.4),\n",
       " Row(id=6224, vitesse_a_pied=0.36578237582573314, vitesse_a_velo=0.9144559395643329, home='(lon:5.79 lat:12.40)', travail='(lon:23.24 lat:39.82)', sportif=False, casseur=False, statut='professeur', salaire=26464.84750376662, sexe='F', age=69, sportivite=1.8289118791286658, velo_perf_minimale=0.4),\n",
       " Row(id=6225, vitesse_a_pied=0.8470572758256287, vitesse_a_velo=2.1176431895640717, home='(lon:32.29 lat:0.20)', travail='(lon:42.14 lat:8.44)', sportif=False, casseur=False, statut='technicien_de_surface', salaire=22708.904243238634, sexe='F', age=69, sportivite=4.235286379128143, velo_perf_minimale=0.4),\n",
       " Row(id=6226, vitesse_a_pied=0.22477335814287347, vitesse_a_velo=0.5619333953571837, home='(lon:14.22 lat:33.56)', travail='(lon:46.65 lat:15.16)', sportif=False, casseur=False, statut='employe', salaire=24547.895418016942, sexe='F', age=50, sportivite=1.1238667907143673, velo_perf_minimale=0.4),\n",
       " Row(id=6230, vitesse_a_pied=0.02, vitesse_a_velo=0.05, home='(lon:9.30 lat:31.47)', travail='(lon:37.51 lat:36.16)', sportif=False, casseur=False, statut='professeur', salaire=23995.485814816948, sexe='F', age=66, sportivite=0.1, velo_perf_minimale=0.4),\n",
       " Row(id=6231, vitesse_a_pied=0.0962787578926271, vitesse_a_velo=0.24069689473156775, home='(lon:13.74 lat:45.68)', travail='(lon:31.84 lat:16.02)', sportif=False, casseur=False, statut='technicien_de_surface', salaire=18334.373291616794, sexe='F', age=28, sportivite=0.4813937894631355, velo_perf_minimale=0.4),\n",
       " Row(id=6232, vitesse_a_pied=0.2944962799123898, vitesse_a_velo=0.7362406997809745, home='(lon:33.63 lat:45.35)', travail='(lon:24.14 lat:19.44)', sportif=False, casseur=False, statut='cadre', salaire=37486.95494726738, sexe='F', age=68, sportivite=1.472481399561949, velo_perf_minimale=0.4),\n",
       " Row(id=6236, vitesse_a_pied=0.4789484578913753, vitesse_a_velo=1.1973711447284383, home='(lon:28.13 lat:29.21)', travail='(lon:46.18 lat:32.99)', sportif=False, casseur=False, statut='éboueur', salaire=12144.666557857534, sexe='F', age=43, sportivite=2.3947422894568766, velo_perf_minimale=0.4),\n",
       " Row(id=6237, vitesse_a_pied=0.15545422031629683, vitesse_a_velo=0.3886355507907421, home='(lon:33.85 lat:34.67)', travail='(lon:26.95 lat:14.72)', sportif=False, casseur=False, statut='employe', salaire=25711.056017299583, sexe='F', age=73, sportivite=0.7772711015814842, velo_perf_minimale=0.4),\n",
       " Row(id=6238, vitesse_a_pied=0.27505884888770277, vitesse_a_velo=0.687647122219257, home='(lon:41.22 lat:25.62)', travail='(lon:43.56 lat:31.16)', sportif=False, casseur=False, statut='reserviste', salaire=30562.9465729912, sexe='F', age=66, sportivite=1.375294244438514, velo_perf_minimale=0.4),\n",
       " Row(id=6239, vitesse_a_pied=0.09967474923237032, vitesse_a_velo=0.24918687308092577, home='(lon:47.23 lat:7.08)', travail='(lon:40.39 lat:30.38)', sportif=False, casseur=False, statut='éboueur', salaire=23480.215412636502, sexe='F', age=49, sportivite=0.4983737461618516, velo_perf_minimale=0.4),\n",
       " Row(id=6240, vitesse_a_pied=0.02, vitesse_a_velo=0.05, home='(lon:37.76 lat:17.56)', travail='(lon:38.57 lat:42.00)', sportif=False, casseur=False, statut='cadre', salaire=24803.88783544179, sexe='F', age=25, sportivite=0.1, velo_perf_minimale=0.4),\n",
       " Row(id=6241, vitesse_a_pied=0.9179983812840984, vitesse_a_velo=2.294995953210246, home='(lon:29.99 lat:46.82)', travail='(lon:29.39 lat:46.36)', sportif=False, casseur=False, statut='éboueur', salaire=19159.536120546996, sexe='F', age=59, sportivite=4.589991906420492, velo_perf_minimale=0.4),\n",
       " Row(id=6244, vitesse_a_pied=0.6106596092528813, vitesse_a_velo=1.5266490231322034, home='(lon:2.53 lat:32.60)', travail='(lon:48.75 lat:12.99)', sportif=False, casseur=False, statut='professeur', salaire=27891.72966887604, sexe='F', age=31, sportivite=3.053298046264407, velo_perf_minimale=0.4),\n",
       " Row(id=6247, vitesse_a_pied=0.02, vitesse_a_velo=0.05, home='(lon:44.05 lat:30.66)', travail='(lon:15.43 lat:21.94)', sportif=False, casseur=False, statut='technicien_de_surface', salaire=14699.773381098075, sexe='F', age=15, sportivite=0.1, velo_perf_minimale=0.4),\n",
       " Row(id=6252, vitesse_a_pied=0.37977384061527564, vitesse_a_velo=0.9494346015381891, home='(lon:21.34 lat:21.09)', travail='(lon:31.00 lat:6.16)', sportif=False, casseur=False, statut='technicien_de_surface', salaire=18344.879718112134, sexe='F', age=70, sportivite=1.8988692030763783, velo_perf_minimale=0.4),\n",
       " Row(id=6255, vitesse_a_pied=0.1970868466189323, vitesse_a_velo=0.49271711654733075, home='(lon:0.59 lat:48.72)', travail='(lon:4.13 lat:1.63)', sportif=False, casseur=False, statut='éboueur', salaire=17572.990596273525, sexe='F', age=59, sportivite=0.9854342330946615, velo_perf_minimale=0.4),\n",
       " Row(id=6256, vitesse_a_pied=0.33737005469768994, vitesse_a_velo=0.8434251367442249, home='(lon:8.35 lat:33.56)', travail='(lon:44.07 lat:18.71)', sportif=False, casseur=False, statut='cadre', salaire=26491.497197317327, sexe='F', age=55, sportivite=1.6868502734884496, velo_perf_minimale=0.4),\n",
       " Row(id=6257, vitesse_a_pied=0.6381798006986206, vitesse_a_velo=1.5954495017465513, home='(lon:28.10 lat:9.62)', travail='(lon:15.39 lat:24.32)', sportif=False, casseur=False, statut='technicien_de_surface', salaire=15385.905313232399, sexe='F', age=41, sportivite=3.1908990034931026, velo_perf_minimale=0.4),\n",
       " Row(id=6258, vitesse_a_pied=0.49498901821956265, vitesse_a_velo=1.2374725455489066, home='(lon:24.93 lat:10.92)', travail='(lon:8.94 lat:20.44)', sportif=False, casseur=False, statut='éboueur', salaire=19117.70340259631, sexe='F', age=82, sportivite=2.4749450910978132, velo_perf_minimale=0.4),\n",
       " Row(id=6259, vitesse_a_pied=0.4699508213012981, vitesse_a_velo=1.1748770532532453, home='(lon:3.27 lat:40.00)', travail='(lon:43.05 lat:34.99)', sportif=False, casseur=False, statut='éboueur', salaire=26262.800353132385, sexe='F', age=83, sportivite=2.3497541065064906, velo_perf_minimale=0.4),\n",
       " Row(id=6261, vitesse_a_pied=0.07319876205461853, vitesse_a_velo=0.18299690513654632, home='(lon:16.19 lat:24.60)', travail='(lon:30.51 lat:43.24)', sportif=True, casseur=False, statut='technicien_de_surface', salaire=16916.328437723598, sexe='F', age=37, sportivite=0.12199793675769754, velo_perf_minimale=0.5219979367576976),\n",
       " Row(id=6263, vitesse_a_pied=0.39841429142908436, vitesse_a_velo=0.9960357285727109, home='(lon:42.92 lat:1.89)', travail='(lon:24.41 lat:38.09)', sportif=False, casseur=False, statut='reserviste', salaire=29540.832685557885, sexe='F', age=51, sportivite=1.9920714571454219, velo_perf_minimale=0.4),\n",
       " Row(id=6265, vitesse_a_pied=0.02, vitesse_a_velo=0.05, home='(lon:38.00 lat:27.32)', travail='(lon:25.75 lat:41.71)', sportif=False, casseur=False, statut='professeur', salaire=26051.86264389316, sexe='F', age=45, sportivite=0.1, velo_perf_minimale=0.4),\n",
       " Row(id=6266, vitesse_a_pied=0.02, vitesse_a_velo=0.05, home='(lon:41.46 lat:18.02)', travail='(lon:45.62 lat:5.74)', sportif=False, casseur=False, statut='technicien_de_surface', salaire=21275.190673244244, sexe='F', age=28, sportivite=0.1, velo_perf_minimale=0.4),\n",
       " Row(id=6267, vitesse_a_pied=0.1481782106816214, vitesse_a_velo=0.3704455267040535, home='(lon:38.76 lat:19.19)', travail='(lon:2.00 lat:9.08)', sportif=False, casseur=False, statut='reserviste', salaire=24588.241507996634, sexe='F', age=28, sportivite=0.740891053408107, velo_perf_minimale=0.4),\n",
       " Row(id=6271, vitesse_a_pied=0.233897268938326, vitesse_a_velo=0.584743172345815, home='(lon:38.99 lat:19.17)', travail='(lon:36.45 lat:39.66)', sportif=False, casseur=False, statut='éboueur', salaire=25180.936473449605, sexe='F', age=69, sportivite=1.16948634469163, velo_perf_minimale=0.4),\n",
       " Row(id=6272, vitesse_a_pied=1.0630230945197425, vitesse_a_velo=2.6575577362993563, home='(lon:20.81 lat:27.95)', travail='(lon:9.09 lat:3.38)', sportif=False, casseur=True, statut='cadre', salaire=31892.49276845471, sexe='F', age=42, sportivite=5.315115472598713, velo_perf_minimale=0.4),\n",
       " Row(id=6274, vitesse_a_pied=0.02, vitesse_a_velo=0.05, home='(lon:9.79 lat:18.65)', travail='(lon:12.30 lat:1.73)', sportif=False, casseur=False, statut='éboueur', salaire=18963.153775135783, sexe='F', age=52, sportivite=0.1, velo_perf_minimale=0.4),\n",
       " Row(id=6275, vitesse_a_pied=0.7265474500506224, vitesse_a_velo=1.816368625126556, home='(lon:16.18 lat:20.14)', travail='(lon:40.32 lat:25.05)', sportif=False, casseur=False, statut='employe', salaire=19764.306262880964, sexe='F', age=84, sportivite=3.632737250253112, velo_perf_minimale=0.4),\n",
       " Row(id=6276, vitesse_a_pied=1.5580380182161195, vitesse_a_velo=3.895095045540299, home='(lon:0.08 lat:12.90)', travail='(lon:20.02 lat:40.39)', sportif=False, casseur=False, statut='éboueur', salaire=23720.07990210406, sexe='F', age=16, sportivite=7.790190091080597, velo_perf_minimale=0.4),\n",
       " Row(id=6277, vitesse_a_pied=0.2096688867806943, vitesse_a_velo=0.5241722169517358, home='(lon:27.15 lat:4.37)', travail='(lon:12.12 lat:42.12)', sportif=False, casseur=False, statut='éboueur', salaire=16451.9125529611, sexe='F', age=21, sportivite=1.0483444339034715, velo_perf_minimale=0.4),\n",
       " Row(id=6278, vitesse_a_pied=0.02, vitesse_a_velo=0.05, home='(lon:0.45 lat:39.32)', travail='(lon:28.94 lat:20.50)', sportif=False, casseur=False, statut='éboueur', salaire=18271.726378657942, sexe='F', age=65, sportivite=0.1, velo_perf_minimale=0.4),\n",
       " Row(id=6279, vitesse_a_pied=0.6187885442922093, vitesse_a_velo=1.5469713607305233, home='(lon:20.30 lat:47.32)', travail='(lon:18.06 lat:39.84)', sportif=False, casseur=False, statut='cadre', salaire=31523.03973496465, sexe='F', age=19, sportivite=3.0939427214610467, velo_perf_minimale=0.4),\n",
       " Row(id=6280, vitesse_a_pied=0.02, vitesse_a_velo=0.05, home='(lon:4.65 lat:0.90)', travail='(lon:27.31 lat:40.04)', sportif=False, casseur=False, statut='éboueur', salaire=11360.191703607055, sexe='F', age=58, sportivite=0.1, velo_perf_minimale=0.4),\n",
       " Row(id=6281, vitesse_a_pied=0.6613533169890328, vitesse_a_velo=1.6533832924725822, home='(lon:21.39 lat:36.18)', travail='(lon:41.00 lat:25.50)', sportif=False, casseur=False, statut='employe', salaire=31331.017475203214, sexe='F', age=18, sportivite=3.306766584945164, velo_perf_minimale=0.4),\n",
       " Row(id=6284, vitesse_a_pied=0.49263289089209455, vitesse_a_velo=1.2315822272302364, home='(lon:37.67 lat:10.52)', travail='(lon:44.14 lat:33.83)', sportif=False, casseur=False, statut='reserviste', salaire=24968.929030530508, sexe='F', age=33, sportivite=2.4631644544604727, velo_perf_minimale=0.4),\n",
       " Row(id=6286, vitesse_a_pied=0.474851876807978, vitesse_a_velo=1.187129692019945, home='(lon:17.65 lat:15.31)', travail='(lon:7.30 lat:37.13)', sportif=False, casseur=False, statut='employe', salaire=22072.57839255818, sexe='F', age=32, sportivite=2.37425938403989, velo_perf_minimale=0.4),\n",
       " Row(id=6287, vitesse_a_pied=0.22879502703773183, vitesse_a_velo=0.5719875675943296, home='(lon:13.51 lat:17.26)', travail='(lon:18.38 lat:21.87)', sportif=False, casseur=False, statut='reserviste', salaire=31577.743786169944, sexe='F', age=49, sportivite=1.1439751351886591, velo_perf_minimale=0.4),\n",
       " Row(id=6289, vitesse_a_pied=1.237431912404152, vitesse_a_velo=3.09357978101038, home='(lon:11.28 lat:18.76)', travail='(lon:19.98 lat:37.55)', sportif=False, casseur=False, statut='technicien_de_surface', salaire=17376.6369512886, sexe='F', age=24, sportivite=6.18715956202076, velo_perf_minimale=0.4),\n",
       " Row(id=6291, vitesse_a_pied=1.0260274575125312, vitesse_a_velo=2.565068643781328, home='(lon:12.31 lat:36.68)', travail='(lon:32.78 lat:25.65)', sportif=False, casseur=False, statut='professeur', salaire=23354.954255696015, sexe='F', age=60, sportivite=5.130137287562656, velo_perf_minimale=0.4),\n",
       " Row(id=6293, vitesse_a_pied=0.2680599620912394, vitesse_a_velo=0.6701499052280985, home='(lon:0.61 lat:13.39)', travail='(lon:23.36 lat:29.29)', sportif=False, casseur=False, statut='éboueur', salaire=13398.141615833878, sexe='F', age=24, sportivite=1.340299810456197, velo_perf_minimale=0.4),\n",
       " Row(id=6295, vitesse_a_pied=0.28865369243789735, vitesse_a_velo=0.7216342310947433, home='(lon:8.32 lat:15.35)', travail='(lon:19.25 lat:33.57)', sportif=False, casseur=False, statut='technicien_de_surface', salaire=19583.840933233536, sexe='F', age=58, sportivite=1.4432684621894867, velo_perf_minimale=0.4),\n",
       " Row(id=6298, vitesse_a_pied=0.02, vitesse_a_velo=0.05, home='(lon:41.95 lat:31.27)', travail='(lon:41.83 lat:20.08)', sportif=False, casseur=False, statut='cadre', salaire=21946.466405882533, sexe='F', age=38, sportivite=0.1, velo_perf_minimale=0.4),\n",
       " Row(id=6299, vitesse_a_pied=0.02, vitesse_a_velo=0.05, home='(lon:39.98 lat:18.54)', travail='(lon:26.34 lat:43.45)', sportif=False, casseur=False, statut='employe', salaire=19846.388100988457, sexe='F', age=37, sportivite=0.1, velo_perf_minimale=0.4),\n",
       " Row(id=6302, vitesse_a_pied=0.7471181670239676, vitesse_a_velo=1.867795417559919, home='(lon:34.24 lat:16.61)', travail='(lon:20.02 lat:17.76)', sportif=False, casseur=False, statut='employe', salaire=16502.414504543434, sexe='F', age=48, sportivite=3.735590835119838, velo_perf_minimale=0.4),\n",
       " Row(id=6305, vitesse_a_pied=0.5766007466747558, vitesse_a_velo=1.4415018666868895, home='(lon:35.10 lat:30.02)', travail='(lon:21.75 lat:30.58)', sportif=False, casseur=False, statut='employe', salaire=16267.018140086397, sexe='F', age=31, sportivite=2.883003733373779, velo_perf_minimale=0.4),\n",
       " Row(id=6306, vitesse_a_pied=0.02, vitesse_a_velo=0.05, home='(lon:30.62 lat:17.93)', travail='(lon:1.51 lat:40.07)', sportif=False, casseur=False, statut='reserviste', salaire=33288.88178081218, sexe='F', age=43, sportivite=0.1, velo_perf_minimale=0.4),\n",
       " Row(id=6310, vitesse_a_pied=0.04116591835287688, vitesse_a_velo=0.10291479588219221, home='(lon:47.25 lat:10.57)', travail='(lon:26.77 lat:13.05)', sportif=False, casseur=False, statut='éboueur', salaire=21691.934371601812, sexe='F', age=59, sportivite=0.20582959176438442, velo_perf_minimale=0.4),\n",
       " Row(id=6311, vitesse_a_pied=0.4170804968985535, vitesse_a_velo=1.0427012422463837, home='(lon:9.89 lat:27.04)', travail='(lon:22.89 lat:27.03)', sportif=False, casseur=False, statut='cadre', salaire=49861.50851084385, sexe='F', age=82, sportivite=2.0854024844927674, velo_perf_minimale=0.4),\n",
       " Row(id=6314, vitesse_a_pied=1.556645781682406, vitesse_a_velo=3.891614454206015, home='(lon:1.46 lat:36.58)', travail='(lon:40.51 lat:38.29)', sportif=False, casseur=False, statut='technicien_de_surface', salaire=16031.818621320343, sexe='F', age=16, sportivite=7.78322890841203, velo_perf_minimale=0.4),\n",
       " Row(id=6319, vitesse_a_pied=0.510472884104772, vitesse_a_velo=1.27618221026193, home='(lon:16.62 lat:2.19)', travail='(lon:23.64 lat:36.79)', sportif=False, casseur=False, statut='éboueur', salaire=22744.175033116353, sexe='F', age=35, sportivite=2.55236442052386, velo_perf_minimale=0.4),\n",
       " Row(id=6321, vitesse_a_pied=0.6297489792386571, vitesse_a_velo=1.5743724480966428, home='(lon:42.35 lat:3.32)', travail='(lon:0.50 lat:15.39)', sportif=False, casseur=False, statut='éboueur', salaire=18303.53799607547, sexe='F', age=35, sportivite=3.1487448961932856, velo_perf_minimale=0.4),\n",
       " Row(id=6325, vitesse_a_pied=0.21052997329512238, vitesse_a_velo=0.5263249332378059, home='(lon:1.85 lat:3.82)', travail='(lon:11.74 lat:36.10)', sportif=False, casseur=False, statut='professeur', salaire=28979.048688513343, sexe='F', age=39, sportivite=1.0526498664756119, velo_perf_minimale=0.4),\n",
       " Row(id=6330, vitesse_a_pied=0.6385860467264908, vitesse_a_velo=1.596465116816227, home='(lon:40.20 lat:35.49)', travail='(lon:4.57 lat:33.56)', sportif=False, casseur=False, statut='employe', salaire=25444.083645236682, sexe='F', age=32, sportivite=3.192930233632454, velo_perf_minimale=0.4),\n",
       " Row(id=6331, vitesse_a_pied=0.02, vitesse_a_velo=0.05, home='(lon:39.05 lat:8.11)', travail='(lon:4.96 lat:31.38)', sportif=False, casseur=False, statut='professeur', salaire=21562.607343582167, sexe='F', age=42, sportivite=0.1, velo_perf_minimale=0.4),\n",
       " Row(id=6332, vitesse_a_pied=1.0539085016758885, vitesse_a_velo=2.634771254189721, home='(lon:19.96 lat:48.93)', travail='(lon:11.00 lat:25.00)', sportif=False, casseur=False, statut='technicien_de_surface', salaire=25732.07533294459, sexe='F', age=15, sportivite=5.269542508379442, velo_perf_minimale=0.4),\n",
       " Row(id=6333, vitesse_a_pied=0.5544289208991422, vitesse_a_velo=1.3860723022478556, home='(lon:16.42 lat:35.76)', travail='(lon:11.37 lat:35.28)', sportif=False, casseur=True, statut='professeur', salaire=31441.003425767318, sexe='F', age=45, sportivite=2.772144604495711, velo_perf_minimale=0.4)]"
      ]
     },
     "execution_count": 52,
     "metadata": {},
     "output_type": "execute_result"
    }
   ],
   "source": [
    "villes.where(villes.sexe == 'F').collect()"
   ]
  },
  {
   "cell_type": "markdown",
   "metadata": {},
   "source": [
    "# 4) Transformer la données : les transformations!"
   ]
  },
  {
   "cell_type": "markdown",
   "metadata": {},
   "source": [
    "## Transformations : demandent à être suivi par un collect ou une action (count par exemple)"
   ]
  },
  {
   "cell_type": "markdown",
   "metadata": {},
   "source": [
    "## 4.1) Obtenir des statistiques sur les colonnes numériques\n",
    "\n",
    "La méthode describe() permet de calculer les statistiques récapitulatives d'une ou plusieurs colonnes numériques dans un df. Si le nom des colonnes n'est pas spécifié, la méthode calculera des statistiques récapitulatives pour toutes les colonnes numériques présentes dans le df.\n",
    "\n",
    "Afficher les statistiques de la colonne age."
   ]
  },
  {
   "cell_type": "code",
   "execution_count": 53,
   "metadata": {
    "scrolled": false
   },
   "outputs": [
    {
     "name": "stdout",
     "output_type": "stream",
     "text": [
      "+-------+------------------+\n",
      "|summary|               age|\n",
      "+-------+------------------+\n",
      "|  count|              1083|\n",
      "|   mean| 49.30655586334257|\n",
      "| stddev|20.009984186582763|\n",
      "|    min|                15|\n",
      "|    max|                84|\n",
      "+-------+------------------+\n",
      "\n"
     ]
    }
   ],
   "source": [
    "villes.describe(['age']).show()"
   ]
  },
  {
   "cell_type": "markdown",
   "metadata": {},
   "source": [
    "## 4.2) groupby\n",
    "\n",
    "La méthode groupBy() suivie de la methode agg() permet de grouper le df selon les catgories d'une ou plusieurs colonnes pour faire des calculs sur ces catégories.\n",
    "\n",
    "Calculez la moyenne de la colonnes sportivité selon le sexe des personnes."
   ]
  },
  {
   "cell_type": "code",
   "execution_count": 8,
   "metadata": {},
   "outputs": [
    {
     "name": "stdout",
     "output_type": "stream",
     "text": [
      "+----+-----------------+\n",
      "|sexe|  avg(sportivite)|\n",
      "+----+-----------------+\n",
      "|   F|2.201847229112897|\n",
      "|   H|2.161359149481709|\n",
      "+----+-----------------+\n",
      "\n"
     ]
    }
   ],
   "source": [
    "villes.groupBy(\"sexe\").agg({\"sportivite\": \"avg\"}).show()"
   ]
  },
  {
   "cell_type": "markdown",
   "metadata": {},
   "source": [
    "Calculez la moyenne de la colonne age et la valeur max de la colonne sportivité par sexe."
   ]
  },
  {
   "cell_type": "code",
   "execution_count": 7,
   "metadata": {},
   "outputs": [
    {
     "name": "stdout",
     "output_type": "stream",
     "text": [
      "+----+-----------------+------------------+\n",
      "|sexe|  max(sportivite)|          avg(age)|\n",
      "+----+-----------------+------------------+\n",
      "|   F|8.683572706695392|49.847036328871894|\n",
      "|   H|8.663362507588833|48.801785714285714|\n",
      "+----+-----------------+------------------+\n",
      "\n"
     ]
    }
   ],
   "source": [
    "villes.groupBy(\"sexe\").agg({\"age\": \"avg\", \"sportivite\": \"max\"}).show()"
   ]
  },
  {
   "cell_type": "markdown",
   "metadata": {},
   "source": [
    "Calculez la moyenne des colonnes vitesse_a_pied et vitesse_a_velo par sexe."
   ]
  },
  {
   "cell_type": "code",
   "execution_count": 56,
   "metadata": {
    "scrolled": true
   },
   "outputs": [
    {
     "name": "stdout",
     "output_type": "stream",
     "text": [
      "+----+-------------------+-------------------+\n",
      "|sexe|avg(vitesse_a_velo)|avg(vitesse_a_pied)|\n",
      "+----+-------------------+-------------------+\n",
      "|   F| 1.1131501228739036|  0.445260049149563|\n",
      "|   H| 1.8020997668473537| 0.6757874125677557|\n",
      "+----+-------------------+-------------------+\n",
      "\n"
     ]
    }
   ],
   "source": [
    "villes.groupBy(\"sexe\").agg({\"vitesse_a_pied\": \"avg\", \"vitesse_a_velo\": \"avg\"}).show()"
   ]
  },
  {
   "cell_type": "markdown",
   "metadata": {},
   "source": [
    "## 4.3) summary\n",
    "\n",
    "La méthode summary() permet des faire des calculs statistiques de base sur toutes les colonnes du df.\n",
    "\n",
    "Appliquez un count et un max sur toutes les colonnes du df et afficher les résultats."
   ]
  },
  {
   "cell_type": "code",
   "execution_count": 57,
   "metadata": {},
   "outputs": [
    {
     "name": "stdout",
     "output_type": "stream",
     "text": [
      "+-------+----+------------------+-----------------+--------------------+-------------------+-------+-----------------+----+----+-----------------+------------------+\n",
      "|summary|  id|    vitesse_a_pied|   vitesse_a_velo|                home|            travail| statut|          salaire|sexe| age|       sportivite|velo_perf_minimale|\n",
      "+-------+----+------------------+-----------------+--------------------+-------------------+-------+-----------------+----+----+-----------------+------------------+\n",
      "|  count|1083|              1083|             1083|                1083|               1083|   1083|             1083|1083|1083|             1083|              1083|\n",
      "|    max|6333|3.7766588011416977|10.07109013637786|(lon:9.99 lat:17.81)|(lon:9.90 lat:0.36)|éboueur|80017.45851327667|   H|  84|8.683572706695392| 4.596287556824109|\n",
      "+-------+----+------------------+-----------------+--------------------+-------------------+-------+-----------------+----+----+-----------------+------------------+\n",
      "\n"
     ]
    }
   ],
   "source": [
    "villes.summary(\"count\", \"max\").show()"
   ]
  },
  {
   "cell_type": "markdown",
   "metadata": {},
   "source": [
    "## 4.4) Union de dataframe"
   ]
  },
  {
   "cell_type": "markdown",
   "metadata": {},
   "source": [
    "#### Ajouter les colonnes les unes à côté des autres : join"
   ]
  },
  {
   "cell_type": "code",
   "execution_count": 58,
   "metadata": {
    "scrolled": false
   },
   "outputs": [
    {
     "name": "stdout",
     "output_type": "stream",
     "text": [
      "root\n",
      " |-- id: integer (nullable = true)\n",
      " |-- vitesse_a_pied: double (nullable = true)\n",
      " |-- vitesse_a_velo: double (nullable = true)\n",
      " |-- home: string (nullable = true)\n",
      " |-- travail: string (nullable = true)\n",
      " |-- sportif: boolean (nullable = true)\n",
      " |-- casseur: boolean (nullable = true)\n",
      " |-- statut: string (nullable = true)\n",
      " |-- salaire: double (nullable = true)\n",
      " |-- sexe: string (nullable = true)\n",
      " |-- age: integer (nullable = true)\n",
      " |-- sportivite: double (nullable = true)\n",
      " |-- velo_perf_minimale: double (nullable = true)\n",
      " |-- vitesse_a_pied: double (nullable = true)\n",
      " |-- vitesse_a_velo: double (nullable = true)\n",
      " |-- home: string (nullable = true)\n",
      " |-- travail: string (nullable = true)\n",
      " |-- sportif: boolean (nullable = true)\n",
      " |-- casseur: boolean (nullable = true)\n",
      " |-- statut: string (nullable = true)\n",
      " |-- salaire: double (nullable = true)\n",
      " |-- sexe: string (nullable = true)\n",
      " |-- age: integer (nullable = true)\n",
      " |-- sportivite: double (nullable = true)\n",
      " |-- velo_perf_minimale: double (nullable = true)\n",
      "\n"
     ]
    }
   ],
   "source": [
    "villes.join(villes, on=\"id\").printSchema()"
   ]
  },
  {
   "cell_type": "markdown",
   "metadata": {},
   "source": [
    "#### Ajouter les lignes les unes sous les autres : union"
   ]
  },
  {
   "cell_type": "code",
   "execution_count": 59,
   "metadata": {
    "scrolled": true
   },
   "outputs": [
    {
     "data": {
      "text/plain": [
       "2166"
      ]
     },
     "execution_count": 59,
     "metadata": {},
     "output_type": "execute_result"
    }
   ],
   "source": [
    "villes.unionByName(villes).count()"
   ]
  },
  {
   "cell_type": "markdown",
   "metadata": {},
   "source": [
    "## 4.6) Concaténation de colonne : F.concat"
   ]
  },
  {
   "cell_type": "code",
   "execution_count": 60,
   "metadata": {},
   "outputs": [],
   "source": [
    "from pyspark.sql.types import *\n",
    "from pyspark.sql import functions as F"
   ]
  },
  {
   "cell_type": "markdown",
   "metadata": {},
   "source": [
    "Nous allons ici reprendre le df cyclistes.\n",
    "\n",
    "Utiliser les méthodes withColumn() et F.concat() pour ajouter une colonne au df qui contiendra la concatenation des valeurs des colonnes id et sur_velo. "
   ]
  },
  {
   "cell_type": "code",
   "execution_count": 61,
   "metadata": {
    "scrolled": true
   },
   "outputs": [
    {
     "data": {
      "text/plain": [
       "4868396"
      ]
     },
     "execution_count": 61,
     "metadata": {},
     "output_type": "execute_result"
    }
   ],
   "source": [
    "path = \"./data/Cyclistes/*.csv\" \n",
    "cyclistes = spark.read.format(\"csv\").option(\"header\", \"true\").load(path, inferSchema=True)\n",
    "cyclistes.count()"
   ]
  },
  {
   "cell_type": "code",
   "execution_count": 62,
   "metadata": {
    "scrolled": true
   },
   "outputs": [
    {
     "name": "stdout",
     "output_type": "stream",
     "text": [
      "root\n",
      " |-- id: integer (nullable = true)\n",
      " |-- timestamp: string (nullable = true)\n",
      " |-- sur_velo: boolean (nullable = true)\n",
      " |-- velo: string (nullable = true)\n",
      " |-- vitesse: double (nullable = true)\n",
      " |-- position: string (nullable = true)\n",
      " |-- destination_finale: string (nullable = true)\n",
      "\n"
     ]
    }
   ],
   "source": [
    "cyclistes.printSchema()"
   ]
  },
  {
   "cell_type": "code",
   "execution_count": 41,
   "metadata": {},
   "outputs": [
    {
     "name": "stdout",
     "output_type": "stream",
     "text": [
      "+---+-------------------+--------+-----+-------+--------------------+------------------+----------------+\n",
      "| id|          timestamp|sur_velo| velo|vitesse|            position|destination_finale|concatWithColumn|\n",
      "+---+-------------------+--------+-----+-------+--------------------+------------------+----------------+\n",
      "|246|2018-01-01 00:01:00|   false|False|   0.02|(lon:22.62 lat:9.63)|             False|        246false|\n",
      "|246|2018-01-01 00:02:00|   false|False|   0.02|(lon:22.62 lat:9.63)|             False|        246false|\n",
      "|246|2018-01-01 00:03:00|   false|False|   0.02|(lon:22.62 lat:9.63)|             False|        246false|\n",
      "|246|2018-01-01 00:04:00|   false|False|   0.02|(lon:22.62 lat:9.63)|             False|        246false|\n",
      "|246|2018-01-01 00:05:00|   false|False|   0.02|(lon:22.62 lat:9.63)|             False|        246false|\n",
      "|246|2018-01-01 00:06:00|   false|False|   0.02|(lon:22.62 lat:9.63)|             False|        246false|\n",
      "|246|2018-01-01 00:07:00|   false|False|   0.02|(lon:22.62 lat:9.63)|             False|        246false|\n",
      "|246|2018-01-01 00:08:00|   false|False|   0.02|(lon:22.62 lat:9.63)|             False|        246false|\n",
      "|246|2018-01-01 00:09:00|   false|False|   0.02|(lon:22.62 lat:9.63)|             False|        246false|\n",
      "|246|2018-01-01 00:10:00|   false|False|   0.02|(lon:22.62 lat:9.63)|             False|        246false|\n",
      "+---+-------------------+--------+-----+-------+--------------------+------------------+----------------+\n",
      "only showing top 10 rows\n",
      "\n"
     ]
    }
   ],
   "source": [
    "cyclistes.withColumn(\"concatWithColumn\", F.concat(cyclistes.id, cyclistes.sur_velo)).show(10)"
   ]
  },
  {
   "cell_type": "markdown",
   "metadata": {},
   "source": [
    "# 5) Fonctions udf \n",
    "Il est possible d'enregistrer des fonctions python que l'on écrit nous même pour les appliquer sur une colonne d'une dataframe, c'est ce qu'on appelle les udf, pour User Defined Functions.\n",
    "\n",
    "Voici une fonction qui prend en argument une colonne et calcule le carré des valeurs de cette colonne.\n",
    "Appliquez cette fonction sur la colonne salaire de votre df. Affichez le résultat."
   ]
  },
  {
   "cell_type": "code",
   "execution_count": 9,
   "metadata": {},
   "outputs": [],
   "source": [
    "from pyspark.sql.types import *\n",
    "from pyspark.sql.functions import udf\n",
    "\n",
    "@udf(returnType = FloatType())\n",
    "def cube(colonne):\n",
    "    return colonne*colonne"
   ]
  },
  {
   "cell_type": "code",
   "execution_count": 65,
   "metadata": {},
   "outputs": [
    {
     "name": "stdout",
     "output_type": "stream",
     "text": [
      "+-------------+\n",
      "|cube(salaire)|\n",
      "+-------------+\n",
      "|  8.8807635E8|\n",
      "|  5.5674496E8|\n",
      "| 3.43366368E8|\n",
      "| 3.60908928E8|\n",
      "|  5.5783258E8|\n",
      "| 3.64134528E8|\n",
      "| 4.74496704E8|\n",
      "| 1.71820787E9|\n",
      "|  4.8510816E8|\n",
      "| 1.46008538E9|\n",
      "+-------------+\n",
      "only showing top 10 rows\n",
      "\n"
     ]
    }
   ],
   "source": [
    "villes.select(cube(villes.salaire)).show(10)"
   ]
  },
  {
   "cell_type": "markdown",
   "metadata": {},
   "source": [
    "# 6)\tEtude de cas : analyse des fichiers de logs des cyclistes"
   ]
  },
  {
   "cell_type": "code",
   "execution_count": 26,
   "metadata": {},
   "outputs": [],
   "source": [
    "from pyspark.sql.types import *\n",
    "from pyspark.sql import functions as F\n",
    "from pyspark.sql.types import *\n",
    "from pyspark.sql.functions import udf\n",
    "from pyspark.sql.functions import countDistinct"
   ]
  },
  {
   "cell_type": "code",
   "execution_count": 22,
   "metadata": {},
   "outputs": [],
   "source": [
    "from pyspark.sql import SparkSession\n",
    "spark = SparkSession.builder.getOrCreate()"
   ]
  },
  {
   "cell_type": "markdown",
   "metadata": {},
   "source": [
    "## 6.1)  Charger la donnée"
   ]
  },
  {
   "cell_type": "code",
   "execution_count": 75,
   "metadata": {},
   "outputs": [
    {
     "data": {
      "text/plain": [
       "4868396"
      ]
     },
     "execution_count": 75,
     "metadata": {},
     "output_type": "execute_result"
    }
   ],
   "source": [
    "path = \"./data/Cyclistes/*.csv\" \n",
    "cyclistes = spark.read.format(\"csv\").option(\"header\", \"true\").load(path, inferSchema=True)\n",
    "cyclistes.count()"
   ]
  },
  {
   "cell_type": "code",
   "execution_count": 42,
   "metadata": {},
   "outputs": [
    {
     "name": "stdout",
     "output_type": "stream",
     "text": [
      "root\n",
      " |-- id: integer (nullable = true)\n",
      " |-- timestamp: string (nullable = true)\n",
      " |-- sur_velo: boolean (nullable = true)\n",
      " |-- velo: string (nullable = true)\n",
      " |-- vitesse: double (nullable = true)\n",
      " |-- position: string (nullable = true)\n",
      " |-- destination_finale: string (nullable = true)\n",
      "\n"
     ]
    }
   ],
   "source": [
    "cyclistes.printSchema()"
   ]
  },
  {
   "cell_type": "markdown",
   "metadata": {},
   "source": [
    "## 6.2) vérifier le nombre de cycles\n",
    "\n",
    "Comptez le nombre d'id uniques."
   ]
  },
  {
   "cell_type": "code",
   "execution_count": 27,
   "metadata": {},
   "outputs": [
    {
     "name": "stdout",
     "output_type": "stream",
     "text": [
      "+---------+\n",
      "|count(id)|\n",
      "+---------+\n",
      "|      251|\n",
      "+---------+\n",
      "\n"
     ]
    }
   ],
   "source": [
    "cyclistes.agg(countDistinct(\"id\")).show()"
   ]
  },
  {
   "cell_type": "code",
   "execution_count": 66,
   "metadata": {},
   "outputs": [
    {
     "data": {
      "text/plain": [
       "251"
      ]
     },
     "execution_count": 66,
     "metadata": {},
     "output_type": "execute_result"
    }
   ],
   "source": [
    "ids = cyclistes.select(\"id\").drop_duplicates()\n",
    "ids.count()"
   ]
  },
  {
   "cell_type": "markdown",
   "metadata": {},
   "source": [
    "## 6.3) transformer les timestamp en date\n",
    "\n",
    "Voici une fonction qui permert de récuperer la date sous forme de chaîne de caractère dans la colonne timestamps pour la transformer en date exploitable en tant que telle.\n",
    "\n",
    "Créez une nouvelle colonne dans votre df stockant le résultat de cette fonction."
   ]
  },
  {
   "cell_type": "code",
   "execution_count": 28,
   "metadata": {},
   "outputs": [],
   "source": [
    "from pyspark.sql.types import TimestampType\n",
    "\n",
    "@udf(returnType = TimestampType())\n",
    "def transform_timestamp_in_date(timestamp):\n",
    "    from datetime import datetime\n",
    "    return datetime.strptime(timestamp, \"%Y-%m-%d %H:%M:%S\")"
   ]
  },
  {
   "cell_type": "code",
   "execution_count": 76,
   "metadata": {},
   "outputs": [
    {
     "name": "stdout",
     "output_type": "stream",
     "text": [
      "+---+-------------------+--------+-----+-------+--------------------+------------------+-------------------+\n",
      "| id|          timestamp|sur_velo| velo|vitesse|            position|destination_finale|       time_to_date|\n",
      "+---+-------------------+--------+-----+-------+--------------------+------------------+-------------------+\n",
      "|246|2018-01-01 00:01:00|   false|False|   0.02|(lon:22.62 lat:9.63)|             False|2018-01-01 00:01:00|\n",
      "|246|2018-01-01 00:02:00|   false|False|   0.02|(lon:22.62 lat:9.63)|             False|2018-01-01 00:02:00|\n",
      "|246|2018-01-01 00:03:00|   false|False|   0.02|(lon:22.62 lat:9.63)|             False|2018-01-01 00:03:00|\n",
      "|246|2018-01-01 00:04:00|   false|False|   0.02|(lon:22.62 lat:9.63)|             False|2018-01-01 00:04:00|\n",
      "|246|2018-01-01 00:05:00|   false|False|   0.02|(lon:22.62 lat:9.63)|             False|2018-01-01 00:05:00|\n",
      "+---+-------------------+--------+-----+-------+--------------------+------------------+-------------------+\n",
      "only showing top 5 rows\n",
      "\n"
     ]
    }
   ],
   "source": [
    "cyclistes = cyclistes.withColumn(\"time_to_date\", transform_timestamp_in_date(\"timestamp\"))\n",
    "cyclistes.show(5)"
   ]
  },
  {
   "cell_type": "code",
   "execution_count": 77,
   "metadata": {},
   "outputs": [
    {
     "name": "stdout",
     "output_type": "stream",
     "text": [
      "root\n",
      " |-- id: integer (nullable = true)\n",
      " |-- timestamp: string (nullable = true)\n",
      " |-- sur_velo: boolean (nullable = true)\n",
      " |-- velo: string (nullable = true)\n",
      " |-- vitesse: double (nullable = true)\n",
      " |-- position: string (nullable = true)\n",
      " |-- destination_finale: string (nullable = true)\n",
      " |-- time_to_date: timestamp (nullable = true)\n",
      "\n"
     ]
    }
   ],
   "source": [
    "cyclistes.printSchema()"
   ]
  },
  {
   "cell_type": "markdown",
   "metadata": {},
   "source": [
    "## 6.4) Durée des trajets par id.\n",
    "\n",
    "A partir d'ici, il s'agit de traiter votre donnée pour récupérer la durée de chaque trajet effectué par chaque id.\n",
    "\n",
    "1) trouvez les dates min/max par état de sur_velo, puis par id ET par état de sur_velo."
   ]
  },
  {
   "cell_type": "code",
   "execution_count": 78,
   "metadata": {},
   "outputs": [
    {
     "name": "stdout",
     "output_type": "stream",
     "text": [
      "+--------+-------------------+-------------------+\n",
      "|sur_velo|  max(time_to_date)|  min(time_to_date)|\n",
      "+--------+-------------------+-------------------+\n",
      "|    true|2018-01-14 11:16:00|2018-01-01 00:15:00|\n",
      "|   false|2018-01-14 11:16:00|2018-01-01 00:01:00|\n",
      "+--------+-------------------+-------------------+\n",
      "\n"
     ]
    }
   ],
   "source": [
    "res = cyclistes.groupBy(\"sur_velo\").agg(F.max(cyclistes.time_to_date), F.min(cyclistes.time_to_date))\n",
    "res.show(10)"
   ]
  },
  {
   "cell_type": "code",
   "execution_count": 82,
   "metadata": {},
   "outputs": [
    {
     "name": "stdout",
     "output_type": "stream",
     "text": [
      "+---+--------+-------------------+-------------------+\n",
      "| id|sur_velo|  max(time_to_date)|  min(time_to_date)|\n",
      "+---+--------+-------------------+-------------------+\n",
      "|  1|   false|2018-01-14 11:16:00|2018-01-01 00:01:00|\n",
      "|  1|    true|2018-01-14 05:51:00|2018-01-06 01:51:00|\n",
      "|  2|   false|2018-01-14 11:16:00|2018-01-01 00:01:00|\n",
      "|  2|    true|2018-01-11 20:51:00|2018-01-01 06:27:00|\n",
      "|  3|    true|2018-01-10 11:36:00|2018-01-01 08:08:00|\n",
      "+---+--------+-------------------+-------------------+\n",
      "only showing top 5 rows\n",
      "\n"
     ]
    }
   ],
   "source": [
    "res = cyclistes.sort([\"id\",\"time_to_date\"]).groupBy([\"id\",\"sur_velo\"]).agg(F.max(cyclistes.time_to_date), F.min(cyclistes.time_to_date)).sort(\"id\")\n",
    "res.show(5)"
   ]
  },
  {
   "cell_type": "markdown",
   "metadata": {},
   "source": [
    "2) Le résultat n'est pas trés pertinent, il faudrait plutôt le début et la fin de chaque trajet par id. Pour cela, il faudrait détecter les changements d'états \"sur_vélo\".\n",
    "Utilisez la classe Window() et la fonction F.lag() pour créer une nouvelle colonne que vous appellerez changement, contenant un 0 si l'état précedent de sur_velo est le même et un 1 si l'état vient de changer (fonction changement() ci-dessous) pour chaque id."
   ]
  },
  {
   "cell_type": "code",
   "execution_count": 69,
   "metadata": {},
   "outputs": [],
   "source": [
    "from pyspark.sql.functions import udf"
   ]
  },
  {
   "cell_type": "code",
   "execution_count": 70,
   "metadata": {},
   "outputs": [],
   "source": [
    "@udf(returnType = IntegerType())\n",
    "def changement(etat_actuel, etat_precedent):\n",
    "    \"\"\"\n",
    "    Détecte si les deux états sont différent.\n",
    "    \n",
    "    Parametres :\n",
    "        etat_actuel : valeur sur la ligne courante\n",
    "                      renvoyée par F.lag (0)\n",
    "        etat_precedent : valeur sur la ligne précédente\n",
    "                      renvoyée par F.lag(1)\n",
    "    Return: 0 s'ils sont égaux, 1 s'il y a une différence\n",
    "    \"\"\"\n",
    "    if etat_precedent == None:\n",
    "        return 0\n",
    "    if etat_precedent == etat_actuel:\n",
    "        return 0\n",
    "    if etat_actuel != etat_precedent:\n",
    "        return 1"
   ]
  },
  {
   "cell_type": "code",
   "execution_count": 71,
   "metadata": {},
   "outputs": [],
   "source": [
    "from pyspark.sql.window import Window"
   ]
  },
  {
   "cell_type": "code",
   "execution_count": null,
   "metadata": {},
   "outputs": [],
   "source": [
    "win = "
   ]
  },
  {
   "cell_type": "code",
   "execution_count": null,
   "metadata": {},
   "outputs": [],
   "source": []
  },
  {
   "cell_type": "markdown",
   "metadata": {},
   "source": [
    "3) Grâce à la fonction window appliquez la fonction somme() sur la colonne changement pour numeroter les trajets pour chaque id et stocker les résulats dans une nouvelle colonne appelée numero_de_trajet."
   ]
  },
  {
   "cell_type": "code",
   "execution_count": 72,
   "metadata": {},
   "outputs": [],
   "source": [
    "@udf(returnType = IntegerType())\n",
    "def somme(indice_actuel, indice_precedent):\n",
    "    if indice_precedent == None:\n",
    "        return 0\n",
    "    return indice_actuel + indice_precedent"
   ]
  },
  {
   "cell_type": "code",
   "execution_count": null,
   "metadata": {},
   "outputs": [],
   "source": []
  },
  {
   "cell_type": "code",
   "execution_count": null,
   "metadata": {},
   "outputs": [],
   "source": []
  },
  {
   "cell_type": "markdown",
   "metadata": {},
   "source": [
    "4) Il suffit maintenant de repêter la première étape, c'est a dire récupérer la début et la fin de chaque trajet pour chaque id. Puis calculer la durée des trajets."
   ]
  },
  {
   "cell_type": "code",
   "execution_count": null,
   "metadata": {},
   "outputs": [],
   "source": []
  },
  {
   "cell_type": "code",
   "execution_count": null,
   "metadata": {},
   "outputs": [],
   "source": []
  },
  {
   "cell_type": "markdown",
   "metadata": {},
   "source": [
    "# 7) Datavisualisation\n",
    "\n",
    "Convertissez votre dataframe pyspark en dataframe pandas."
   ]
  },
  {
   "cell_type": "code",
   "execution_count": 48,
   "metadata": {},
   "outputs": [],
   "source": [
    "import seaborn as sns\n",
    "%matplotlib inline"
   ]
  },
  {
   "cell_type": "code",
   "execution_count": 51,
   "metadata": {},
   "outputs": [],
   "source": [
    "pdff = cyclistes.sample(fraction=0.01, seed=0).toPandas()"
   ]
  },
  {
   "cell_type": "markdown",
   "metadata": {},
   "source": [
    "A l'aide de la librairie seaborn, réalisez un graphique en barre montrant la durée de tout les trajets."
   ]
  },
  {
   "cell_type": "code",
   "execution_count": 52,
   "metadata": {},
   "outputs": [
    {
     "data": {
      "text/html": [
       "<div>\n",
       "<style scoped>\n",
       "    .dataframe tbody tr th:only-of-type {\n",
       "        vertical-align: middle;\n",
       "    }\n",
       "\n",
       "    .dataframe tbody tr th {\n",
       "        vertical-align: top;\n",
       "    }\n",
       "\n",
       "    .dataframe thead th {\n",
       "        text-align: right;\n",
       "    }\n",
       "</style>\n",
       "<table border=\"1\" class=\"dataframe\">\n",
       "  <thead>\n",
       "    <tr style=\"text-align: right;\">\n",
       "      <th></th>\n",
       "      <th>id</th>\n",
       "      <th>timestamp</th>\n",
       "      <th>sur_velo</th>\n",
       "      <th>velo</th>\n",
       "      <th>vitesse</th>\n",
       "      <th>position</th>\n",
       "      <th>destination_finale</th>\n",
       "    </tr>\n",
       "  </thead>\n",
       "  <tbody>\n",
       "    <tr>\n",
       "      <th>0</th>\n",
       "      <td>246</td>\n",
       "      <td>2018-01-01 00:10:00</td>\n",
       "      <td>False</td>\n",
       "      <td>False</td>\n",
       "      <td>0.0200</td>\n",
       "      <td>(lon:22.62 lat:9.63)</td>\n",
       "      <td>False</td>\n",
       "    </tr>\n",
       "    <tr>\n",
       "      <th>1</th>\n",
       "      <td>246</td>\n",
       "      <td>2018-01-01 02:51:00</td>\n",
       "      <td>False</td>\n",
       "      <td>False</td>\n",
       "      <td>0.0200</td>\n",
       "      <td>(lon:22.62 lat:9.63)</td>\n",
       "      <td>False</td>\n",
       "    </tr>\n",
       "    <tr>\n",
       "      <th>2</th>\n",
       "      <td>246</td>\n",
       "      <td>2018-01-01 04:12:00</td>\n",
       "      <td>False</td>\n",
       "      <td>False</td>\n",
       "      <td>0.0200</td>\n",
       "      <td>(lon:22.89 lat:9.89)</td>\n",
       "      <td>(lon:10.97 lat:33.30)</td>\n",
       "    </tr>\n",
       "    <tr>\n",
       "      <th>3</th>\n",
       "      <td>246</td>\n",
       "      <td>2018-01-01 06:50:00</td>\n",
       "      <td>True</td>\n",
       "      <td>velo_velo_15385_performance_0.85</td>\n",
       "      <td>0.0425</td>\n",
       "      <td>(lon:19.99 lat:15.77)</td>\n",
       "      <td>(lon:10.97 lat:33.30)</td>\n",
       "    </tr>\n",
       "    <tr>\n",
       "      <th>4</th>\n",
       "      <td>246</td>\n",
       "      <td>2018-01-01 07:02:00</td>\n",
       "      <td>True</td>\n",
       "      <td>velo_velo_15385_performance_0.85</td>\n",
       "      <td>0.0425</td>\n",
       "      <td>(lon:19.76 lat:16.22)</td>\n",
       "      <td>(lon:10.97 lat:33.30)</td>\n",
       "    </tr>\n",
       "    <tr>\n",
       "      <th>...</th>\n",
       "      <td>...</td>\n",
       "      <td>...</td>\n",
       "      <td>...</td>\n",
       "      <td>...</td>\n",
       "      <td>...</td>\n",
       "      <td>...</td>\n",
       "      <td>...</td>\n",
       "    </tr>\n",
       "    <tr>\n",
       "      <th>48473</th>\n",
       "      <td>13</td>\n",
       "      <td>2018-01-14 04:44:00</td>\n",
       "      <td>False</td>\n",
       "      <td>False</td>\n",
       "      <td>0.0200</td>\n",
       "      <td>(lon:15.00 lat:31.26)</td>\n",
       "      <td>(lon:38.47 lat:45.48)</td>\n",
       "    </tr>\n",
       "    <tr>\n",
       "      <th>48474</th>\n",
       "      <td>13</td>\n",
       "      <td>2018-01-14 06:08:00</td>\n",
       "      <td>False</td>\n",
       "      <td>False</td>\n",
       "      <td>0.0200</td>\n",
       "      <td>(lon:15.00 lat:33.04)</td>\n",
       "      <td>(lon:38.47 lat:45.48)</td>\n",
       "    </tr>\n",
       "    <tr>\n",
       "      <th>48475</th>\n",
       "      <td>13</td>\n",
       "      <td>2018-01-14 09:32:00</td>\n",
       "      <td>False</td>\n",
       "      <td>False</td>\n",
       "      <td>0.0200</td>\n",
       "      <td>(lon:15.00 lat:37.36)</td>\n",
       "      <td>(lon:38.47 lat:45.48)</td>\n",
       "    </tr>\n",
       "    <tr>\n",
       "      <th>48476</th>\n",
       "      <td>13</td>\n",
       "      <td>2018-01-14 10:08:00</td>\n",
       "      <td>False</td>\n",
       "      <td>False</td>\n",
       "      <td>0.0200</td>\n",
       "      <td>(lon:15.00 lat:38.14)</td>\n",
       "      <td>(lon:38.47 lat:45.48)</td>\n",
       "    </tr>\n",
       "    <tr>\n",
       "      <th>48477</th>\n",
       "      <td>13</td>\n",
       "      <td>2018-01-14 10:45:00</td>\n",
       "      <td>False</td>\n",
       "      <td>False</td>\n",
       "      <td>0.0200</td>\n",
       "      <td>(lon:15.00 lat:38.88)</td>\n",
       "      <td>(lon:38.47 lat:45.48)</td>\n",
       "    </tr>\n",
       "  </tbody>\n",
       "</table>\n",
       "<p>48478 rows × 7 columns</p>\n",
       "</div>"
      ],
      "text/plain": [
       "        id            timestamp  sur_velo                              velo  \\\n",
       "0      246  2018-01-01 00:10:00     False                             False   \n",
       "1      246  2018-01-01 02:51:00     False                             False   \n",
       "2      246  2018-01-01 04:12:00     False                             False   \n",
       "3      246  2018-01-01 06:50:00      True  velo_velo_15385_performance_0.85   \n",
       "4      246  2018-01-01 07:02:00      True  velo_velo_15385_performance_0.85   \n",
       "...    ...                  ...       ...                               ...   \n",
       "48473   13  2018-01-14 04:44:00     False                             False   \n",
       "48474   13  2018-01-14 06:08:00     False                             False   \n",
       "48475   13  2018-01-14 09:32:00     False                             False   \n",
       "48476   13  2018-01-14 10:08:00     False                             False   \n",
       "48477   13  2018-01-14 10:45:00     False                             False   \n",
       "\n",
       "       vitesse               position     destination_finale  \n",
       "0       0.0200   (lon:22.62 lat:9.63)                  False  \n",
       "1       0.0200   (lon:22.62 lat:9.63)                  False  \n",
       "2       0.0200   (lon:22.89 lat:9.89)  (lon:10.97 lat:33.30)  \n",
       "3       0.0425  (lon:19.99 lat:15.77)  (lon:10.97 lat:33.30)  \n",
       "4       0.0425  (lon:19.76 lat:16.22)  (lon:10.97 lat:33.30)  \n",
       "...        ...                    ...                    ...  \n",
       "48473   0.0200  (lon:15.00 lat:31.26)  (lon:38.47 lat:45.48)  \n",
       "48474   0.0200  (lon:15.00 lat:33.04)  (lon:38.47 lat:45.48)  \n",
       "48475   0.0200  (lon:15.00 lat:37.36)  (lon:38.47 lat:45.48)  \n",
       "48476   0.0200  (lon:15.00 lat:38.14)  (lon:38.47 lat:45.48)  \n",
       "48477   0.0200  (lon:15.00 lat:38.88)  (lon:38.47 lat:45.48)  \n",
       "\n",
       "[48478 rows x 7 columns]"
      ]
     },
     "execution_count": 52,
     "metadata": {},
     "output_type": "execute_result"
    }
   ],
   "source": [
    "pdff"
   ]
  },
  {
   "cell_type": "markdown",
   "metadata": {},
   "source": [
    "Faire le même graphique mais cette fois-ci, faire en sorte qu'on puisse choisir un id et afficher seulement les trajets de cet id."
   ]
  },
  {
   "cell_type": "code",
   "execution_count": null,
   "metadata": {},
   "outputs": [],
   "source": []
  },
  {
   "cell_type": "markdown",
   "metadata": {},
   "source": [
    "Sauvegardez votre dataset trajets au format csv dans le dossier data."
   ]
  },
  {
   "cell_type": "code",
   "execution_count": null,
   "metadata": {
    "scrolled": true
   },
   "outputs": [],
   "source": []
  }
 ],
 "metadata": {
  "kernelspec": {
   "display_name": "Python 3",
   "language": "python",
   "name": "python3"
  }
 },
 "nbformat": 4,
 "nbformat_minor": 2
}
